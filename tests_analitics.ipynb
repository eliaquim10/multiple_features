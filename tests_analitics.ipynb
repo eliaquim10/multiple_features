{
 "cells": [
  {
   "cell_type": "code",
   "execution_count": 203,
   "metadata": {},
   "outputs": [
    {
     "name": "stdout",
     "output_type": "stream",
     "text": [
      "name: projeto_ml\n",
      "channels:\n",
      "  - conda-forge\n",
      "  - anaconda\n",
      "  - defaults\n",
      "dependencies:\n",
      "  - backcall=0.2.0=pyhd3eb1b0_0\n",
      "  - blas=1.0=mkl\n",
      "  - certifi=2021.5.30=py36haa95532_0\n",
      "  - daal4py=2021.3.0=py36h757b272_0\n",
      "  - dal=2021.3.0=haa95532_564\n",
      "  - entrypoints=0.3=py36_0\n",
      "  - icc_rt=2022.1.0=h6049295_2\n",
      "  - intel-openmp=2023.1.0=h59b6b97_46319\n",
      "  - ipykernel=5.3.4=py36h5ca1d4c_0\n",
      "  - ipython=7.16.1=py36h5ca1d4c_0\n",
      "  - ipython_genutils=0.2.0=pyhd3eb1b0_1\n",
      "  - jedi=0.17.0=py36_0\n",
      "  - joblib=1.0.1=pyhd3eb1b0_0\n",
      "  - jupyter_client=7.1.2=pyhd3eb1b0_0\n",
      "  - jupyter_core=4.8.1=py36haa95532_0\n",
      "  - mkl=2019.4=245\n",
      "  - mkl-service=2.3.0=py36h196d8e1_0\n",
      "  - mkl_fft=1.3.0=py36h46781fe_0\n",
      "  - mkl_random=1.1.0=py36h675688f_0\n",
      "  - nest-asyncio=1.5.1=pyhd3eb1b0_0\n",
      "  - numpy-base=1.19.2=py36ha3acd2a_0\n",
      "  - parso=0.8.3=pyhd3eb1b0_0\n",
      "  - pickleshare=0.7.5=pyhd3eb1b0_1003\n",
      "  - pip=21.2.2=py36haa95532_0\n",
      "  - prompt-toolkit=3.0.20=pyhd3eb1b0_0\n",
      "  - pygments=2.11.2=pyhd3eb1b0_0\n",
      "  - python=3.6.13=h3758d61_0\n",
      "  - python-dateutil=2.8.2=pyhd3eb1b0_0\n",
      "  - python_abi=3.6=2_cp36m\n",
      "  - pywin32=228=py36hbaba5e8_1\n",
      "  - pyzmq=22.2.1=py36hd77b12b_1\n",
      "  - scikit-learn=0.24.2=py36hf11a4ad_1\n",
      "  - scikit-learn-intelex=2021.3.0=py36haa95532_0\n",
      "  - scipy=1.5.2=py36h9439919_0\n",
      "  - setuptools=58.0.4=py36haa95532_0\n",
      "  - six=1.16.0=pyhd3eb1b0_1\n",
      "  - sqlite=3.41.2=h2bbff1b_0\n",
      "  - tbb=2021.8.0=h59b6b97_0\n",
      "  - threadpoolctl=2.2.0=pyh0d69192_0\n",
      "  - tornado=6.1=py36h2bbff1b_0\n",
      "  - traitlets=4.3.3=py36haa95532_0\n",
      "  - vc=14.2=h21ff451_1\n",
      "  - vs2015_runtime=14.27.29016=h5e58377_2\n",
      "  - wcwidth=0.2.5=pyhd3eb1b0_0\n",
      "  - wheel=0.37.1=pyhd3eb1b0_0\n",
      "  - wincertstore=0.2=py36h7fe50ca_0\n",
      "  - pip:\n",
      "    - argon2-cffi==21.3.0\n",
      "    - argon2-cffi-bindings==21.2.0\n",
      "    - async-generator==1.10\n",
      "    - attrs==22.2.0\n",
      "    - bleach==4.1.0\n",
      "    - cached-property==1.5.2\n",
      "    - cffi==1.15.1\n",
      "    - charset-normalizer==2.0.12\n",
      "    - colorama==0.4.5\n",
      "    - comm==0.1.4\n",
      "    - cycler==0.11.0\n",
      "    - cython==0.29.32\n",
      "    - dataclasses==0.8\n",
      "    - decorator==4.4.2\n",
      "    - defusedxml==0.7.1\n",
      "    - h5py==3.1.0\n",
      "    - htmlmin==0.1.12\n",
      "    - idna==3.4\n",
      "    - imagehash==4.3.1\n",
      "    - importlib-metadata==4.8.3\n",
      "    - importlib-resources==5.4.0\n",
      "    - iprogress==0.4\n",
      "    - ipywidgets==7.8.1\n",
      "    - jinja2==3.0.3\n",
      "    - jsonschema==3.2.0\n",
      "    - jupyterlab-pygments==0.1.2\n",
      "    - jupyterlab-widgets==1.1.7\n",
      "    - kiwisolver==1.3.1\n",
      "    - markupsafe==2.0.1\n",
      "    - matplotlib==3.3.4\n",
      "    - missingno==0.5.2\n",
      "    - mistune==0.8.4\n",
      "    - multimethod==1.5\n",
      "    - nbclient==0.5.9\n",
      "    - nbconvert==6.0.7\n",
      "    - nbformat==5.1.3\n",
      "    - networkx==2.5.1\n",
      "    - nibabel==3.2.2\n",
      "    - notebook==6.4.10\n",
      "    - numpy==1.19.5\n",
      "    - opencv-python==4.6.0.66\n",
      "    - packaging==21.3\n",
      "    - pandas==1.1.5\n",
      "    - pandas-profiling==3.1.0\n",
      "    - pandocfilters==1.5.0\n",
      "    - patsy==0.5.3\n",
      "    - phik==0.12.0\n",
      "    - pillow==8.4.0\n",
      "    - prometheus-client==0.17.1\n",
      "    - pyasn1==0.5.0\n",
      "    - pycparser==2.21\n",
      "    - pydantic==1.9.2\n",
      "    - pyparsing==3.1.1\n",
      "    - pyrsistent==0.18.0\n",
      "    - pytz==2023.3.post1\n",
      "    - pywavelets==1.1.1\n",
      "    - pywinpty==1.1.6\n",
      "    - pyyaml==6.0.1\n",
      "    - requests==2.27.1\n",
      "    - rsa==4.9\n",
      "    - scikit-posthocs==0.8.0\n",
      "    - seaborn==0.11.2\n",
      "    - send2trash==1.8.2\n",
      "    - statsmodels==0.12.2\n",
      "    - tangled-up-in-unicode==0.1.0\n",
      "    - terminado==0.12.1\n",
      "    - testpath==0.6.0\n",
      "    - tqdm==4.64.1\n",
      "    - typing-extensions==4.1.1\n",
      "    - urllib3==1.26.18\n",
      "    - visions==0.7.4\n",
      "    - webencodings==0.5.1\n",
      "    - widgetsnbextension==3.6.6\n",
      "    - zipp==3.6.0\n",
      "prefix: C:\\Users\\Eliaquim\\anaconda3\\envs\\projeto_ml\n"
     ]
    }
   ],
   "source": [
    "!conda env export"
   ]
  },
  {
   "cell_type": "code",
   "execution_count": 204,
   "metadata": {},
   "outputs": [
    {
     "name": "stdout",
     "output_type": "stream",
     "text": [
      "Requirement already satisfied: scikit-posthocs in c:\\users\\eliaquim\\anaconda3\\envs\\projeto_ml\\lib\\site-packages (0.8.0)\n",
      "Requirement already satisfied: pandas>=0.20.0 in c:\\users\\eliaquim\\anaconda3\\envs\\projeto_ml\\lib\\site-packages (from scikit-posthocs) (1.1.5)\n",
      "Requirement already satisfied: numpy in c:\\users\\eliaquim\\anaconda3\\envs\\projeto_ml\\lib\\site-packages (from scikit-posthocs) (1.19.5)\n",
      "Requirement already satisfied: scipy in c:\\users\\eliaquim\\anaconda3\\envs\\projeto_ml\\lib\\site-packages (from scikit-posthocs) (1.5.2)\n",
      "Requirement already satisfied: seaborn in c:\\users\\eliaquim\\anaconda3\\envs\\projeto_ml\\lib\\site-packages (from scikit-posthocs) (0.11.2)\n",
      "Requirement already satisfied: matplotlib in c:\\users\\eliaquim\\anaconda3\\envs\\projeto_ml\\lib\\site-packages (from scikit-posthocs) (3.3.4)\n",
      "Requirement already satisfied: statsmodels in c:\\users\\eliaquim\\anaconda3\\envs\\projeto_ml\\lib\\site-packages (from scikit-posthocs) (0.12.2)\n",
      "Requirement already satisfied: pytz>=2017.2 in c:\\users\\eliaquim\\anaconda3\\envs\\projeto_ml\\lib\\site-packages (from pandas>=0.20.0->scikit-posthocs) (2023.3.post1)\n",
      "Requirement already satisfied: python-dateutil>=2.7.3 in c:\\users\\eliaquim\\anaconda3\\envs\\projeto_ml\\lib\\site-packages (from pandas>=0.20.0->scikit-posthocs) (2.8.2)\n",
      "Requirement already satisfied: six>=1.5 in c:\\users\\eliaquim\\anaconda3\\envs\\projeto_ml\\lib\\site-packages (from python-dateutil>=2.7.3->pandas>=0.20.0->scikit-posthocs) (1.16.0)\n",
      "Requirement already satisfied: pyparsing!=2.0.4,!=2.1.2,!=2.1.6,>=2.0.3 in c:\\users\\eliaquim\\anaconda3\\envs\\projeto_ml\\lib\\site-packages (from matplotlib->scikit-posthocs) (3.1.1)\n",
      "Requirement already satisfied: pillow>=6.2.0 in c:\\users\\eliaquim\\anaconda3\\envs\\projeto_ml\\lib\\site-packages (from matplotlib->scikit-posthocs) (8.4.0)\n",
      "Requirement already satisfied: kiwisolver>=1.0.1 in c:\\users\\eliaquim\\anaconda3\\envs\\projeto_ml\\lib\\site-packages (from matplotlib->scikit-posthocs) (1.3.1)\n",
      "Requirement already satisfied: cycler>=0.10 in c:\\users\\eliaquim\\anaconda3\\envs\\projeto_ml\\lib\\site-packages (from matplotlib->scikit-posthocs) (0.11.0)\n",
      "Requirement already satisfied: patsy>=0.5 in c:\\users\\eliaquim\\anaconda3\\envs\\projeto_ml\\lib\\site-packages (from statsmodels->scikit-posthocs) (0.5.3)\n"
     ]
    }
   ],
   "source": [
    "!pip install scikit-posthocs"
   ]
  },
  {
   "cell_type": "code",
   "execution_count": 205,
   "metadata": {},
   "outputs": [],
   "source": [
    "from scipy import stats\n",
    "import scikit_posthocs as sp\n",
    "import numpy as np"
   ]
  },
  {
   "cell_type": "code",
   "execution_count": 206,
   "metadata": {},
   "outputs": [],
   "source": [
    "# metrics = np.array([\n",
    "#   [.55, .57, .57, .54,.58 ],\n",
    "#   [.51, .57, .61, .40,.60 ],\n",
    "#   [.54, .52, .55, .31,.53 ],\n",
    "#   [.51, .51, .55, .33,.54 ],\n",
    "# ])\n",
    "\n",
    "# data = np.array([\n",
    "#   [4, 3, 2, 5, 1],\n",
    "#   [4, 3, 1, 5, 2],\n",
    "#   [2, 4, 1, 5, 3],\n",
    "#   [4, 3, 1, 5, 2],\n",
    "# ])"
   ]
  },
  {
   "cell_type": "code",
   "execution_count": 207,
   "metadata": {},
   "outputs": [],
   "source": [
    "# linhas taxa de erro, precisao, cobertura, f-measure  \n",
    "# colunas Bayesiano Gaussiano, K-NN, Parzen, Regressão Logística  \n",
    "metrics = np.array([\n",
    "  [19.38,  8.7 , 10.86,  7.32],\n",
    "  [79.62, 91.19, 89.05, 92.63],\n",
    "  [80.62, 91.3 , 89.14, 92.67],\n",
    "  [79.8 , 91.13, 89.01, 92.56]\n",
    "])\n",
    "\n",
    "data = np.array([\n",
    "  [4, 2, 3, 1],\n",
    "  [4, 2, 3, 1],\n",
    "  [4, 2, 3, 1],\n",
    "  [4, 2, 3, 1],\n",
    "])"
   ]
  },
  {
   "cell_type": "code",
   "execution_count": 208,
   "metadata": {},
   "outputs": [
    {
     "data": {
      "text/plain": [
       "array([4., 2., 3., 1.])"
      ]
     },
     "execution_count": 208,
     "metadata": {},
     "output_type": "execute_result"
    }
   ],
   "source": [
    "data_mean = np.mean(data, 0) # media do ranking de acordo com o modelo \n",
    "data_mean"
   ]
  },
  {
   "cell_type": "markdown",
   "metadata": {},
   "source": [
    "### Friedman test"
   ]
  },
  {
   "cell_type": "code",
   "execution_count": 209,
   "metadata": {},
   "outputs": [
    {
     "data": {
      "text/plain": [
       "12.0"
      ]
     },
     "execution_count": 209,
     "metadata": {},
     "output_type": "execute_result"
    }
   ],
   "source": [
    "# N = 4\n",
    "# k = 4\n",
    "N, k = data.shape\n",
    "\n",
    "X_F_square = (12*N/(k*(k+1)))*((np.sum(np.square(data_mean)) - (k*((k+1)**2)/4)))\n",
    "# X_F_square = np.abs(X_F_square)\n",
    "\n",
    "X_F_square"
   ]
  },
  {
   "cell_type": "code",
   "execution_count": 210,
   "metadata": {},
   "outputs": [
    {
     "name": "stderr",
     "output_type": "stream",
     "text": [
      "c:\\Users\\Eliaquim\\anaconda3\\envs\\projeto_ml\\lib\\site-packages\\ipykernel_launcher.py:1: RuntimeWarning: divide by zero encountered in double_scalars\n",
      "  \"\"\"Entry point for launching an IPython kernel.\n"
     ]
    },
    {
     "data": {
      "text/plain": [
       "inf"
      ]
     },
     "execution_count": 210,
     "metadata": {},
     "output_type": "execute_result"
    }
   ],
   "source": [
    "F_F = ((N-1)*X_F_square)/((N*(k-1) - X_F_square))\n",
    "F_F = np.abs(F_F)\n",
    "\n",
    "F_F"
   ]
  },
  {
   "cell_type": "markdown",
   "metadata": {},
   "source": [
    "### Nemenyi Test"
   ]
  },
  {
   "cell_type": "code",
   "execution_count": 211,
   "metadata": {},
   "outputs": [
    {
     "data": {
      "text/plain": [
       "(2.85, 2.601682148149539)"
      ]
     },
     "execution_count": 211,
     "metadata": {},
     "output_type": "execute_result"
    }
   ],
   "source": [
    "q_alfa = [1.96, 2.343, 2.569, 2.728, 2.85, 2.949, 3.031, 3.102, 3.164]\n",
    "\n",
    "CD = q_alfa[k]*np.sqrt(((k*(k+1))/(6*N)))\n",
    "q_alfa[k], CD"
   ]
  },
  {
   "cell_type": "code",
   "execution_count": 214,
   "metadata": {},
   "outputs": [],
   "source": [
    "# list(zip(X_F_square, stats.distributions.chi2.sf(X_F_square, k - 1)))"
   ]
  }
 ],
 "metadata": {
  "kernelspec": {
   "display_name": "projeto_ml",
   "language": "python",
   "name": "python3"
  },
  "language_info": {
   "codemirror_mode": {
    "name": "ipython",
    "version": 3
   },
   "file_extension": ".py",
   "mimetype": "text/x-python",
   "name": "python",
   "nbconvert_exporter": "python",
   "pygments_lexer": "ipython3",
   "version": "3.6.13"
  }
 },
 "nbformat": 4,
 "nbformat_minor": 2
}
