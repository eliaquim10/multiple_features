{
 "cells": [
  {
   "cell_type": "code",
   "execution_count": null,
   "id": "89a418ba-06e7-4914-b698-6f2e0353e949",
   "metadata": {},
   "outputs": [],
   "source": [
    "import random\n",
    "from collections import Counter\n",
    "import numpy as np\n",
    "import pandas as pd\n",
    "from sklearn.preprocessing import StandardScaler\n",
    "from sklearn.linear_model import LogisticRegression\n",
    "from sklearn.model_selection import train_test_split, GridSearchCV\n",
    "from sklearn.ensemble import VotingClassifier\n",
    "from sklearn.metrics import (\n",
    "    classification_report,\n",
    "    precision_score,\n",
    "    recall_score,\n",
    "    f1_score,\n",
    "    accuracy_score\n",
    ")\n",
    "from sklearn.pipeline import Pipeline\n",
    "from tqdm import tqdm\n",
    "from trainer.classifier_trainer import ClassifierTrainer"
   ]
  },
  {
   "cell_type": "code",
   "execution_count": null,
   "id": "9b9c1763-79e1-4fac-a0aa-2d592b3afc93",
   "metadata": {},
   "outputs": [],
   "source": [
    "df_fac = pd.read_csv('./dataset/mfeat-fac.csv', header=None, delim_whitespace=True)\n",
    "df_fou = pd.read_csv('./dataset/mfeat-fou.csv', header=None, delim_whitespace=True)\n",
    "df_zer = pd.read_csv('./dataset/mfeat-zer.csv', header=None, delim_whitespace=True)"
   ]
  },
  {
   "cell_type": "code",
   "execution_count": null,
   "id": "61309dfb-ce0d-46a0-8b9b-220376542b3c",
   "metadata": {
    "scrolled": true
   },
   "outputs": [],
   "source": [
    "print(df_fac.shape)\n",
    "df_fac.head()"
   ]
  },
  {
   "cell_type": "code",
   "execution_count": null,
   "id": "63ac2bc4-416c-4cbb-b491-eb0874ff0c13",
   "metadata": {
    "scrolled": true
   },
   "outputs": [],
   "source": [
    "print(df_fou.shape)\n",
    "df_fou.head()"
   ]
  },
  {
   "cell_type": "code",
   "execution_count": null,
   "id": "a792f488-28ae-4bd8-8a17-ea2455a18621",
   "metadata": {},
   "outputs": [],
   "source": [
    "print(df_zer.shape)\n",
    "df_zer.head()"
   ]
  },
  {
   "cell_type": "code",
   "execution_count": null,
   "id": "c2c4a9b4-be41-4ff2-952c-6f704486f612",
   "metadata": {
    "scrolled": true
   },
   "outputs": [],
   "source": [
    "def create_labels():\n",
    "    labels = []\n",
    "    for i in range(10):\n",
    "        labels.extend([i] * 200)\n",
    "    return labels"
   ]
  },
  {
   "cell_type": "code",
   "execution_count": null,
   "id": "938723b3-5088-428e-b9af-e18a30317b7a",
   "metadata": {},
   "outputs": [],
   "source": [
    "labels = create_labels()\n",
    "df_fac[\"label\"] = labels\n",
    "df_fou[\"label\"] = labels\n",
    "df_zer[\"label\"] = labels"
   ]
  },
  {
   "cell_type": "code",
   "execution_count": null,
   "metadata": {},
   "outputs": [],
   "source": [
    "from sklearn.base import BaseEstimator, TransformerMixin, ClassifierMixin\n",
    "\n",
    "class ParzenMulticlass(ClassifierMixin, BaseEstimator):\n",
    "  def __init__(self, n_class, bandwidth, **params):\n",
    "    super().__init__()\n",
    "    self.n_class = n_class\n",
    "    self.means = []\n",
    "    self.x_class = []\n",
    "    self.bandwidth = bandwidth \n",
    "\n",
    "  def fit(self, X: np.array, y=None):\n",
    "    \n",
    "    for c in range(self.n_class):\n",
    "      _X = X[y==c]\n",
    "      if _X.shape[0] > 0:\n",
    "        self.means.append(_X.mean(0))\n",
    "        self.x_class.append(_X)\n",
    "    return self\n",
    "\n",
    "\n",
    "  def windows_parzen(self, X, mean, h):\n",
    "    parzen = np.zeros(X.shape)\n",
    "    \n",
    "    dif = np.abs(X - mean)\n",
    "    parzen = dif\n",
    "\n",
    "    summaries_parzen = np.sum(parzen, 1)/(mean.shape[0]*h)\n",
    "    \n",
    "    #kernel gaussian\n",
    "    return np.exp(-.5*summaries_parzen**2)/((2*np.pi)**2)\n",
    "  \n",
    "  def prod_class(self, c, h):\n",
    "      def prod(X, ):\n",
    "        n, p = self.x_class[c].shape\n",
    "        dif = np.abs(X - self.x_class[c])/h\n",
    "        return np.sum(dif)/(n*(h**p))\n",
    "      return prod\n",
    "  def prod_windows_parzen(self, X, h):\n",
    "    summaries_parzen = np.array([np.apply_along_axis(self.prod_class(i, h), axis = 1, arr = X) for i in range(self.n_class)]).T\n",
    "    \n",
    "    return np.exp(-.5*(summaries_parzen**2))/((2*np.pi)**(1/2))\n",
    "  \n",
    "  def prod_score_samples(self, X):\n",
    "    return self.prod_windows_parzen(X, self.bandwidth)#.argmin(1)\n",
    "  def predict(self, X):\n",
    "    return self.prod_score_samples(X).argmax(1)\n",
    "  def sigma(self, X):\n",
    "    # mathematics great value\n",
    "    s = np.std(X, 0)\n",
    "    m_s = np.mean(s)\n",
    "    best_h = 1.06*m_s/(X.shape[0]**(1/5))\n",
    "    return best_h "
   ]
  },
  {
   "cell_type": "code",
   "execution_count": null,
   "id": "35b8c3d5-7868-4a72-aa0a-7d990691c3b9",
   "metadata": {
    "scrolled": true
   },
   "outputs": [],
   "source": [
    "datasets = [df_fac, df_fou, df_zer]\n",
    "\n",
    "trainer = ClassifierTrainer(datasets, \n",
    "                            model_create=ParzenMulticlass(n_class=10, bandwidth=1.),\n",
    "                            param_grid={\n",
    "                              \"clf__bandwidth\": np.arange(.99,1.1, .01),\n",
    "                            })\n",
    "trainer.train_classifiers_with_random_states(n_iterations=30)"
   ]
  }
 ],
 "metadata": {
  "kernelspec": {
   "display_name": "Python 3 (ipykernel)",
   "language": "python",
   "name": "python3"
  },
  "language_info": {
   "codemirror_mode": {
    "name": "ipython",
    "version": 3
   },
   "file_extension": ".py",
   "mimetype": "text/x-python",
   "name": "python",
   "nbconvert_exporter": "python",
   "pygments_lexer": "ipython3",
   "version": "3.6.13"
  }
 },
 "nbformat": 4,
 "nbformat_minor": 5
}
