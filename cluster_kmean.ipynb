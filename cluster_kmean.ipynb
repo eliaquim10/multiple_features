{
 "cells": [
  {
   "cell_type": "markdown",
   "metadata": {},
   "source": [
    "### Clustering with algoritm Gaussian kernel fuzzy c-means "
   ]
  },
  {
   "cell_type": "markdown",
   "metadata": {},
   "source": [
    "This is a implementation with dataset Multiple features in the repository (https://archive.ics.uci.edu/dataset/72/multiple+features)\n",
    "we apply with tree datasets (mfeat-fac, mfeat-fou, mfeat-kar) for each do it:\n",
    "  - 50 times, with c=10 for partation fuzzy\n",
    "  - compute Modified partition coefficient\n",
    "  - paraments $T = 100, \\epsilon=10^{-6}, m = {1.01, 1.1, 1.6}$\n",
    "\n",
    "  - show the bests with based in fuction cost:\n",
    "    - prototatipes ${g_{1},..., g_n}$\n",
    "    - widths ${s_1,..., s_n}$\n",
    "    - confusion matrix \n",
    "\n",
    "\n",
    "base article: Gaussian Kernel Fuzzy C-Means with Width Parameter Computation and Regularization.\n",
    "PATTERN RECOGNITION, v. 143, p. 109749, 2023, \n",
    "doi: https://doi.org/10.1016/j.patcog.2023.109749 "
   ]
  },
  {
   "cell_type": "markdown",
   "metadata": {},
   "source": [
    "***\n",
    "Gaussian kernel function\n",
    "***\n",
    "$$\n",
    "  K^{(s_i)}(x_l, x_k) = exp{\n",
    "    \\displaystyle \n",
    "    \\Bigg \\{\n",
    "      -\\frac{1}{2}\n",
    "      \\sum \\limits _{j=1}^p \n",
    "        \\frac{1}{{s^2}_{ij}}\n",
    "        (x_{lj} - x_{kj})^2\n",
    "    \\Bigg \\} \n",
    "    }\n",
    "$$"
   ]
  },
  {
   "cell_type": "markdown",
   "metadata": {},
   "source": [
    "***\n",
    "objective  function\n",
    "***\n",
    "\n",
    "$$\n",
    "  J_{KFCM-K-W.2} = \n",
    "    \\displaystyle \n",
    "      \\sum \\limits _{i=1}^c \n",
    "        \\sum \\limits _{k=1}^n \n",
    "          (u_{ki})^m\n",
    "          (2 - 2{K^{(s_i)}(x_k, g_i)})\n",
    "$$\n",
    "\n",
    "$\n",
    "  s.t. u_{ki} \\ge 0\n",
    "$ and \n",
    "$\n",
    "  \\sum \\limits _{i=1}^c \n",
    "    u_{ki} = 1\n",
    "$"
   ]
  },
  {
   "cell_type": "markdown",
   "metadata": {},
   "source": [
    "***\n",
    "width\n",
    "***\n",
    "\n",
    "$$\n",
    "\\frac{1}{s_{ij}} = \n",
    "  \\frac{\n",
    "    \\Bigg \\{\n",
    "      \\prod \\limits _{h=1}^p \n",
    "        \\sum \\limits _{k=1}^n \n",
    "          {(u_{ki})^m}\n",
    "          {K^{(s_i)}(x_k, g_i)}\n",
    "          {(x_{kh} - g_{ih})^2}\n",
    "    \\Bigg \\}^\n",
    "    {\n",
    "      \\frac{1}{p}\n",
    "    }\n",
    "  }{\n",
    "    \\sum \\limits _{k=1}^n \n",
    "      {(u_{ki})^m}\n",
    "      {K^{(s_i)}(x_k, g_i)}\n",
    "      {(x_{kj} - g_{ij})^2}\n",
    "  }\n",
    "$$\n",
    "$$\n",
    "  \\forall (1 \\le i \\le c),\n",
    "    \\prod \\limits _{h=1}^p \n",
    "      \\frac{1}{s_{ij}}\n",
    "    = 1\n",
    "$$"
   ]
  },
  {
   "cell_type": "markdown",
   "metadata": {},
   "source": [
    "***\n",
    "prototipes\n",
    "***\n",
    "\n",
    "$$\n",
    "g_i = \n",
    "  \\frac{\n",
    "    \\sum \\limits _{k=1}^n \n",
    "      {(u_{ki})^m}\n",
    "      {K^{(s_i)}(x_k, g_i)}\n",
    "      {x_k}\n",
    "\n",
    "  }{\n",
    "    \\sum \\limits _{k=1}^n \n",
    "      {(u_{ki})^m}\n",
    "      {K^{(s_i)}(x_k, g_i)}\n",
    "  } \n",
    "$$\n",
    "$$\n",
    "  \\forall (1 \\le i \\le c)\n",
    "$$"
   ]
  },
  {
   "cell_type": "markdown",
   "metadata": {},
   "source": [
    "***\n",
    "fuzzy matrix\n",
    "***\n",
    "\n",
    "$$\n",
    "  u_{ki} = \n",
    "    \\Bigg [ \n",
    "      \\sum \\limits _{h=1}^c \n",
    "        \\Bigg ( \n",
    "          \\frac{\n",
    "            2 - 2{K^{(s_i)}(x_k, g_i)}\n",
    "          }{\n",
    "            2 - 2{K^{(s_i)}(x_k, g_h)}\n",
    "          }\n",
    "        \\Bigg )^\n",
    "        {\n",
    "          \\frac{1}{m-1}\n",
    "        } \n",
    "    \\Bigg ] ^{-1}\n",
    "$$"
   ]
  },
  {
   "cell_type": "markdown",
   "metadata": {},
   "source": [
    "### Librarys"
   ]
  },
  {
   "cell_type": "code",
   "execution_count": 1,
   "metadata": {},
   "outputs": [],
   "source": [
    "import numpy as np \n",
    "import matplotlib.pyplot as plt\n",
    "import pandas as pd\n",
    "import json\n",
    "import os\n",
    "from sklearn.base import BaseEstimator, TransformerMixin\n",
    "from sklearn.preprocessing import Normalizer\n",
    "from sklearn.pipeline import Pipeline\n",
    "\n",
    "from sklearn.metrics.cluster import adjusted_rand_score\n",
    "from sklearn import datasets\n",
    "from sklearn.metrics import confusion_matrix, ConfusionMatrixDisplay\n"
   ]
  },
  {
   "cell_type": "markdown",
   "metadata": {},
   "source": [
    "### Data transform"
   ]
  },
  {
   "cell_type": "code",
   "execution_count": 2,
   "metadata": {},
   "outputs": [],
   "source": [
    "class Cleaner(BaseEstimator, TransformerMixin):\n",
    "  def __init__(self):\n",
    "    super()\n",
    "  \n",
    "  def read_dataset(self, filename):\n",
    "    X = pd.read_csv(filename, header=None, delim_whitespace=True)\n",
    "    y = pd.DataFrame({X.shape[1]: np.arange(0, X.shape[0])//200})\n",
    "    return X, y\n",
    "  def fit(self, X, y):\n",
    "    return self\n",
    "  \n",
    "  def transform(self, X: pd.DataFrame, y=pd.DataFrame):\n",
    "    y_lenth = len(y)\n",
    "    if y_lenth:\n",
    "      # key = \"class\"\n",
    "      # y = pd.DataFrame({key: y})\n",
    "      values = pd.concat([X, y], axis=1)\n",
    "    else:\n",
    "      values = X.copy()\n",
    "\n",
    "    values = values.dropna()\n",
    "    values = values.drop_duplicates()\n",
    "    if y_lenth:\n",
    "      return values[X.columns.values], values[values.columns.values[-1]]\n",
    "    return values\n",
    "  \n",
    "  def fit_transform(self, X, y=pd.DataFrame):\n",
    "      return self.fit(X, y).transform(X, y)\n",
    "  \n",
    "class Transformer(BaseEstimator, TransformerMixin):\n",
    "  def __init__(self):\n",
    "    super()\n",
    "  def fit(self, X, y=None):\n",
    "    return self\n",
    "  def transform(self, X, y=None):\n",
    "    if type(X) == np.ndarray:\n",
    "      return X\n",
    "    return X.values\n",
    "  def fit_transform(self, X, y=None):\n",
    "    return self.fit(X, y).transform(X, y)"
   ]
  },
  {
   "cell_type": "markdown",
   "metadata": {},
   "source": [
    "### Metrics"
   ]
  },
  {
   "cell_type": "code",
   "execution_count": 3,
   "metadata": {},
   "outputs": [],
   "source": [
    "class Gaussian:\n",
    "  def distance(self, g, x, sigma):\n",
    "    if x.shape[0] == 0 or sigma.shape[0] == 0:\n",
    "      raise Exception\n",
    "    distance = (x - g)**2\n",
    "    distance_sigma = distance / sigma\n",
    "    summatory_distance = (-1/2)*np.sum(distance_sigma, 1)\n",
    "    return np.exp(summatory_distance)\n",
    "\n",
    "class Metrics:\n",
    "  def mpc(u: np.array):\n",
    "    # modified partition coefficient\n",
    "    n, k = u.shape\n",
    "    f = np.trace(u.dot(u.T)) / n\n",
    "\n",
    "    mpc = 1 - (k/(k - 1))*(1 - f)\n",
    "    return mpc\n",
    "  def ars(y_true, y_pred):\n",
    "    # adjusted rand score\n",
    "    return adjusted_rand_score(y_true, y_pred)"
   ]
  },
  {
   "cell_type": "markdown",
   "metadata": {},
   "source": [
    "### Model"
   ]
  },
  {
   "cell_type": "code",
   "execution_count": 4,
   "metadata": {},
   "outputs": [],
   "source": [
    "# tá funcionando bonitinho\n",
    "class Shower():\n",
    "  def show_grafico(self, x):\n",
    "    _, axes = plt.subplots()\n",
    "    markers = ['^','x','+']\n",
    "    p = self.predict(self.G, x)\n",
    "    \n",
    "    for (c, (x_1, x_2)) in zip(p, x):\n",
    "      r, g, b, a = .9*((c+1)/self.num_class), .9*((c*1.1)/self.num_class), .9*((c*1.2)/self.num_class), 0.1\n",
    "      \n",
    "      axes.plot(x_1, x_2, \"ro\", marker=markers[c])\n",
    "        \n",
    "    raio = self.distance_classes() / 2\n",
    "    \n",
    "    for i, (x_1, x_2) in enumerate(self.G):\n",
    "        \n",
    "        plt.plot(x_1, x_2, \"go\", scalex=0.01,scaley=0.01)\n",
    "        r, g, b, a = .9*((i+1)/self.num_class), .9*((i*1.1)/self.num_class), .9*((i*1.2)/self.num_class), 0.9\n",
    "        c = plt.Circle((x_1, x_2), raio, color=(r, g, b, a), fill=False)\n",
    "\n",
    "        axes.set_aspect(aspect = 1, adjustable = \"datalim\", anchor=\"SW\")\n",
    "        axes.add_artist(c)\n",
    "    plt.show()\n",
    "\n",
    "  def show_function_objetive(self, data_f, params):\n",
    "    fig, axs = plt.subplots(nrows=1, ncols=1, figsize=(9, 4))\n",
    "\n",
    "    # plot box plot\n",
    "    axs[0].boxplot(data_f)\n",
    "    # axs[0].set_title('funcão objetivo e m ')\n",
    "    axs[0].yaxis.grid(True)\n",
    "    axs[0].set_xticks([y + 1 for y in range(len(data_f))],\n",
    "                  labels=params)\n",
    "    axs[0].set_xlabel('m')\n",
    "    axs[0].set_ylabel(\"f\")\n",
    "\n",
    "    plt.show()\n",
    "\n",
    "  def show_labels(self, x, filename):\n",
    "    # Data\n",
    "    k, n = x.shape\n",
    "    plt.figure(figsize=(20, 6))\n",
    "      \n",
    "    # Labels  \n",
    "    xlabs = np.arange(k)\n",
    "    ylabs = np.arange(n)\n",
    "            \n",
    "    # Heat map\n",
    "    _, ax = plt.subplots(constrained_layout=True)\n",
    "    \n",
    "    # ax.figure()\n",
    "    ax.set_axis_off() #= [0.1, 0.1, 0.8, 0.8] #.add_axes()\n",
    "    ax.imshow(x)\n",
    "    if n < 10:\n",
    "      # Add the labels\n",
    "      ax.set_xticks(ylabs)\n",
    "      ax.set_yticks(xlabs)\n",
    "\n",
    "      # Add the values to each cell\n",
    "      for i in range(len(xlabs)):\n",
    "          for j in range(len(ylabs)):\n",
    "              _ = ax.text(j, i , round(x[i, j], 1),\n",
    "                            ha = \"center\", va = \"center\", color = (0,0,0)) # \"w\"\n",
    "    if filename:\n",
    "      plt.savefig(filename, dpi=150)\n",
    "    plt.show()\n",
    "  \n",
    "  def show_G_S(self, folder):\n",
    "    # show the values of Gs and S(widths)\n",
    "    if not os.path.isdir(folder):\n",
    "      os.makedirs(folder) \n",
    "    print(\"Gs\")\n",
    "    self.show_labels(self.G, f\"{folder}/G\")\n",
    "    print(\"S2s\")\n",
    "    self.show_labels(self.sigma, f\"{folder}/sigma\")\n",
    "\n",
    "class Model():\n",
    "  def __init__(self, loss = Gaussian(), var_type=np.double) -> None:\n",
    "    # model base\n",
    "    self.loss = loss\n",
    "    self.var_type = var_type\n",
    "    \n",
    "  def predict(self, X, is_preprocessing=False, argmax=True):\n",
    "    # here we make predict in x\n",
    "    n = X.shape[0] \n",
    "    k = self.G.shape[0]\n",
    "\n",
    "    if is_preprocessing:\n",
    "      X = self.preprocesssing(X)\n",
    "    u = np.zeros((n, k), self.var_type)\n",
    "\n",
    "    distances = np.array([2 - 2*self.loss.distance(self.G[i], X, self.sigma[i]) for i in range(k)]).T\n",
    "\n",
    "    expoente = 1/(self.m - 1)\n",
    "\n",
    "    for i in range(n):\n",
    "      \n",
    "      ds = distances[i]==0\n",
    "      if (ds).any():\n",
    "        summation_c_i_1 = np.zeros((k))\n",
    "        summation_c_i_1[ds] = 1\n",
    "      else:\n",
    "        summation_c = np.array([((distances[i]/distances[i, h])**expoente) for h in range(k)])#.T \n",
    "        \n",
    "        summation_c_i = np.sum(summation_c, 0)\n",
    "        summation_c_i_1 = np.power(summation_c_i, -1)\n",
    "        \n",
    "      u[i] = summation_c_i_1.copy()\n",
    "    if argmax:\n",
    "      return u.argmax(1)\n",
    "    return u\n",
    "    # if argmax:\n",
    "    \n",
    "\n",
    "  def set_g(self, g):\n",
    "    self.G = g.copy()\n",
    "\n",
    "  def set_sigma(self, sigma):\n",
    "    self.sigma = sigma.copy()\n",
    "\n",
    "  def preprocesssing(self, X):\n",
    "    pipeline = Pipeline([(\"Normalizer\", Normalizer()), \n",
    "                     (\"Transformer\", Transformer()),])    \n",
    "    \n",
    "    return pipeline.transform(X)\n",
    "  \n",
    "  def save_model(self, filename):\n",
    "    # Save the model in json file\n",
    "    json_object = json.dumps({\n",
    "      \"G\": self.G.tolist(),\n",
    "      \"sigma\": self.sigma.tolist(),\n",
    "      \"m\": self.m\n",
    "    }, indent=2) #  \n",
    "    # Writing to sample.json\n",
    "    folder = \"/\".join(filename.split(\"/\")[:-1])\n",
    "    if not os.path.isdir(folder):\n",
    "      os.makedirs(folder) \n",
    "\n",
    "    with open(filename, \"w\") as outfile:\n",
    "        outfile.write(json_object)\n",
    "  \n",
    "  def load_model(self, filename):\n",
    "    # Reading from json file\n",
    "    with open(filename, 'r') as openfile:\n",
    "      json_object = json.load(openfile)\n",
    "      self.G = np.array(json_object[\"G\"])\n",
    "      self.sigma = np.array(json_object[\"sigma\"])\n",
    "      self.m = json_object[\"m\"]\n",
    "\n",
    "class FuzzyCMeansGaussianS2(Shower, Model):\n",
    "  def __init__(self, num_class, epochs, threshold, loss=Gaussian(),  m = 1.1, seeder=None, verbose = False) -> None:\n",
    "    # load the hiperparams\n",
    "    super().__init__(loss=loss, var_type = np.double)\n",
    "    self.num_class = num_class\n",
    "    self.m = m \n",
    "    self.verbose = verbose\n",
    "    self._only = True\n",
    "    if seeder:\n",
    "      self.seeder = seeder\n",
    "      np.random.seed(seeder)\n",
    "      \n",
    "    self.threshold = threshold\n",
    "    self.epochs = epochs \n",
    " \n",
    "  def init_g(self, x):\n",
    "    # here we get random prototipes to train\n",
    "    args = np.random.choice(x.shape[0], self.num_class, replace=False)\n",
    "    self.G = x[args].copy()\n",
    "\n",
    "  def init_u(self, x):\n",
    "    # we calcule initial matrix of membership\n",
    "    g = self.G.copy()\n",
    "    sigma = self.sigma.copy()\n",
    "    self.n = x.shape[0]\n",
    "    self.k = g.shape[0]\n",
    "    \n",
    "    self.U = np.zeros((self.n, self.k), self.var_type)\n",
    "\n",
    "    distances = np.array([2 - 2*self.loss.distance(g[i], x, sigma[i]) for i in range(self.k)]).T\n",
    "\n",
    "    expoente = 1/(self.m-1)\n",
    "\n",
    "    for i in range(self.n):\n",
    "      # summation_c = np.array([(distances[i, h] / distances[i])**expoente for h in range(self.k)]) \n",
    "      # np.divide\n",
    "      # summation_c = np.array([(distances[i] / distances[i, h])**expoente for h in range(self.k)]) #.T \n",
    "      ds = distances[i]==0\n",
    "      if (ds).any():\n",
    "        summation_c_i_1 = np.zeros((self.k))\n",
    "        summation_c_i_1[ds] = 1\n",
    "        self.U[i] = summation_c_i_1.copy()\n",
    "\n",
    "      else:\n",
    "        summation_c = np.array([((distances[i]/distances[i, h])**expoente) for h in range(self.k)])#.T \n",
    "        \n",
    "        summation_c_i = np.sum(summation_c, 0)\n",
    "        summation_c_i_1 = np.power(summation_c_i, -1)\n",
    "        \n",
    "        membership_is_nan = np.isnan(summation_c_i_1)\n",
    "        \n",
    "        summation_u = np.sum(summation_c_i_1, where=membership_is_nan==False)\n",
    "\n",
    "        summation_u_1 = 1 - summation_u\n",
    "        abs_summation_u_1 = np.abs(summation_u_1)\n",
    "        \n",
    "        if abs_summation_u_1 > .01:\n",
    "          arg = summation_c_i_1.argmax()\n",
    "          summation_c_i_1[arg] = summation_c_i_1[arg] + summation_u_1\n",
    "          \n",
    "          self.U[i] = summation_c_i_1.copy()\n",
    "        else:\n",
    "          self.U[i] = summation_c_i_1.copy() \n",
    "   \n",
    "  def init_sigma(self, x):\n",
    "    # we calcule initial matrix of widths each 1\n",
    "    self.p = x.shape[1]\n",
    "    self.k = self.G.shape[0]\n",
    "    self.sigma = np.ones((self.k, self.p), dtype=self.var_type)\n",
    "\n",
    "  # passo 1\n",
    "  def otm_prototivo(self, g, u, x, sigma):\n",
    "    new_g = g.copy()\n",
    "    u_i = u**self.m\n",
    "\n",
    "    for i in range(self.k):\n",
    "      n_g = self.loss.distance(g[i], x, sigma[i])\n",
    "      \n",
    "      u_m_g = (u_i[:,i]*n_g)#*\n",
    "      u_m_gx = ((x.T)*u_m_g).T\n",
    "\n",
    "      s_umg = np.sum(u_m_g)\n",
    "      s_umgx = np.sum(u_m_gx, 0)\n",
    "      \n",
    "      new_g[i] = s_umgx / s_umg \n",
    "    return new_g\n",
    "  \n",
    "  # passo 2\n",
    "  def otm_u(self, g, x, sigma):\n",
    "    new_u = np.zeros((self.n, self.k), dtype=self.var_type)  \n",
    "    \n",
    "    distances = np.array([2 - 2*self.loss.distance(g[i], x, sigma[i]) for i in range(self.k)]).T\n",
    "    \n",
    "    expoente = 1/(self.m-1)\n",
    "    for i in range(self.n):\n",
    "      \n",
    "      ds = distances[i]==0\n",
    "      if (ds).any():\n",
    "        summation_c_i_1 = np.zeros((self.k))\n",
    "        summation_c_i_1[ds] = 1\n",
    "        new_u[i] = summation_c_i_1.copy()\n",
    "        \n",
    "      else:\n",
    "        summation_c = np.array([((distances[i]/distances[i, h])**expoente) for h in range(self.k)])#.T \n",
    "        \n",
    "        summation_c_i = np.sum(summation_c, 0)\n",
    "\n",
    "        summation_c_i_1 = np.power(summation_c_i, -1)\n",
    "        \n",
    "        membership_is_nan = np.isnan(summation_c_i_1)\n",
    "        \n",
    "        summation_u = np.sum(summation_c_i_1, where=membership_is_nan==False)\n",
    "\n",
    "        summation_u_1 = 1 - summation_u\n",
    "        abs_summation_u_1 = np.abs(summation_u_1)\n",
    "        # if \n",
    "      \n",
    "        if summation_u == 0 or membership_is_nan.any():\n",
    "          count = np.sum(membership_is_nan) # total nan\n",
    "          new_u[i] = np.nan_to_num(summation_c_i_1, nan = summation_u_1/count)     \n",
    "        elif abs_summation_u_1 > .01:\n",
    "          arg = summation_c_i_1.argmax()\n",
    "          summation_c_i_1[arg] = summation_c_i_1[arg] + summation_u_1\n",
    "          \n",
    "          new_u[i] = summation_c_i_1.copy()\n",
    "        else:\n",
    "          new_u[i] = summation_c_i_1.copy()\n",
    "    return new_u\n",
    "\n",
    "  def otm_sigma(self, x, g, u):\n",
    "    s = self.sigma.copy()\n",
    "    \n",
    "    ui = (u**(self.m))\n",
    "    \n",
    "    for i in range(self.k):\n",
    "      g_i = g[i]\n",
    "      ui_per = ui[:,i]\n",
    "      \n",
    "\n",
    "      g_d = self.loss.distance(g_i, x, s[i]) \n",
    "      e_d = (x - g_i)**2 \n",
    "      \n",
    "      s_cn = e_d.T*(ui_per*g_d)\n",
    "      \n",
    "      if s_cn.shape[1] != 1:\n",
    "        ss_cn = np.sum(s_cn, 1).copy()\n",
    "      else:\n",
    "        ss_cn = np.squeeze(s_cn, 1).copy()\n",
    "        \n",
    "\n",
    "      s_p = np.prod(ss_cn)\n",
    "      s_p = s_p**(1/self.p)\n",
    "      \n",
    "      s_ij = s_p / ss_cn \n",
    "\n",
    "      r_r = s_ij[np.isnan(s_ij) == False]\n",
    "      p_r = np.prod(r_r)\n",
    "      \n",
    "      s_r = np.abs(1 - p_r)\n",
    "      \n",
    "              \n",
    "      # verificacao do produtorio para a classe que deve ser 1\n",
    "      if p_r == 0: \n",
    "        # quando os Si forem muito pequeno o produtorio dá zero por causa computacional\n",
    "        # sendo assim eu redistubuo a partir do inverso da media\n",
    "        # ss_cn => todos denominadores de Si\n",
    "        # [1/2, 1/2, 1/2] = [0.1/0.2 0.1/0.2 0.1/0.2] \n",
    "\n",
    "        # [S_i1, S_i2, S_i3] = [0.000398*0.0000038*0.000067/0.000398 \n",
    "        #                       0.000398*0.0000038*0.000067/0.0000038 \n",
    "        #                       0.000398*0.0000038*0.000067/0.000067]\n",
    "        #  [S_i1, S_i2, S_i3] = [2.5460e-10, 2.6666e-08, 1.5124e-09]\n",
    "\n",
    "        # -1 aqui faco a media dos denominadores dos si \n",
    "        # que no caso o resultado dos somatorios \n",
    "        teste = False\n",
    "\n",
    "        if teste:\n",
    "          m_s = np.sum(ss_cn)/(self.p) \n",
    "        # m_s = sum([0.2 0.2 0.2])/2\n",
    "\n",
    "        # p\n",
    "        # m_s = sum([0.000398 0.0000038 0.000067])/3\n",
    "        # m_s = 0.00015626666666666668\n",
    "        # p - 1\n",
    "        # m_s = sum([0.000398 0.0000038 0.000067])/2\n",
    "        # m_s = 0.0002344\n",
    "\n",
    "\n",
    "\n",
    "        # ss_cn = ss_cn*(1/m_s)\n",
    "        if teste:\n",
    "          im_s = 1/(m_s)\n",
    "          new_ss_cn = ss_cn*im_s\n",
    "        else:\n",
    "          new_ss_cn = (1 - ss_cn) #**(1/(self.p))\n",
    "        # new_ss_cn = [0.0033 0.0033 0.0033]/0.2\n",
    "\n",
    "\n",
    "        # p\n",
    "        # new_ss_cn = [0.000398 0.0000038 0.000067]/0.00015626666666666668\n",
    "        # new_ss_cn = [2.54692833 0.02431741 0.42875427]\n",
    "\n",
    "        # p - 1\n",
    "        # new_ss_cn = [0.000398 0.0000038 0.000067]/0.0002344\n",
    "        # new_ss_cn = [1.69795222 0.0162116 0.28583618]\n",
    "\n",
    "        new_s_p = np.prod(new_ss_cn)\n",
    "        # p\n",
    "        # prod(new_ss_cn) = 0.0265547628046677\n",
    "\n",
    "        # p -1\n",
    "        # prod(new_ss_cn) = 0.00786807786804969\n",
    "\n",
    "\n",
    "        new_s_p = new_s_p**(1/self.p)\n",
    "        # p\n",
    "        # new_s_p = 0.29834182508986407\n",
    "\n",
    "        # p -1\n",
    "        # new_s_p = 0.08870218637694163\n",
    "\n",
    "        \n",
    "        new_r = new_s_p / new_ss_cn \n",
    "\n",
    "        # p\n",
    "        # new_r = 0.0265547628046677/[2.54692833 0.02431741 0.42875427]\n",
    "        # new_r = [0.1171379 , 12.2686533 ,  0.69583407]\n",
    "        # prod(new_ss_cn) = 0.75\n",
    "\n",
    "        # p -1\n",
    "        # new_r = 0.4898979485566356/[1.69795222 0.0162116 0.28583618]\n",
    "        # new_r = [0.05224068, 5.47152434, 0.31032526 ]\n",
    "\n",
    "        prod = np.prod(new_r)\n",
    "        # p\n",
    "        # prod = 1\n",
    "        # p -1\n",
    "        # prod = 0.0887021863769416\n",
    "\n",
    "        if np.isnan(prod)==False:\n",
    "          s[i] = new_r.copy()\n",
    "        \n",
    "      elif s_r > .1:\n",
    "        # para quando o produtorio de Ss dá diferente de 1 \n",
    "        if r_r.shape[0] == s_ij.shape[0]:\n",
    "          s[i] = s_ij/(p_r**(1/s_ij.shape[0]))\n",
    "        else:\n",
    "          s_prod = (1/(p_r**(1/s_ij.shape[0])))\n",
    "          s[i] = np.nan_to_num(s_ij, copy=True, nan=s_prod)\n",
    "      else:\n",
    "        s[i] = s_ij.copy()\n",
    "          \n",
    "    return s\n",
    "\n",
    "  def funcao_objetivo(self, x, g, u, sigma):\n",
    "    # k = g.shape[0]\n",
    "    u_i = u**self.m\n",
    "    f = np.zeros(self.k, dtype=self.var_type)\n",
    "    \n",
    "    s_d = np.zeros(x.shape[0], dtype=self.var_type)\n",
    "    w = np.zeros(x.shape[0], dtype=self.var_type)\n",
    "    for i in range(self.k):\n",
    "      s_d = 2 - 2*self.loss.distance(g[i], x, sigma[i])\n",
    "      \n",
    "      w = s_d.T*(u_i[:, i])\n",
    "      f[i] = np.sum(w)\n",
    "      \n",
    "    return np.sum(f)\n",
    "\n",
    "  def atualiza_GUS2(self, g, u, sigma):\n",
    "    self.G = g\n",
    "    self.U = u\n",
    "    self.sigma = sigma\n",
    "\n",
    "  def fit(self, x, y, verbose = False):\n",
    "    self.redu = True\n",
    "    \n",
    "    self.init_g(x)\n",
    "    self.init_sigma(x)\n",
    "    self.init_u(x)\n",
    "\n",
    "    j = self.funcao_objetivo(x, self.G, self.U, self.sigma) \n",
    "    if self._only:\n",
    "      print(\"epoca:\", 0, \"funcão objetivo:\", j) #, new_f\n",
    "\n",
    "    \n",
    "    for epoch in range(self.epochs):\n",
    "      # \"passo 1\"\n",
    "      new_sigma = self.otm_sigma(x, self.G, self.U)\n",
    "\n",
    "      # \"passo 2\"\n",
    "      new_g = self.otm_prototivo(self.G, self.U, x, new_sigma)\n",
    "\n",
    "      # \"passo 3\"\n",
    "      new_u = self.otm_u(new_g, x, new_sigma)\n",
    "\n",
    "      new_j = self.funcao_objetivo(x, new_g, new_u, new_sigma)\n",
    "      if self._only:\n",
    "        print(f\"epoca: {epoch + 1} funcão objetivo: {new_j}\")# f,\n",
    "        print(f\"Modified partition coefficient  {Metrics.mpc(self.U)},  {Metrics.ars(y, self.U.argmax(1))}\")# f,\n",
    "      \n",
    "      # silhouette_score\n",
    "      if verbose:\n",
    "        self.show_grafico(x)\n",
    "      \n",
    "      \n",
    "      dif = np.abs(new_j - j)\n",
    "      # new_j > j\n",
    "      if (np.isnan(new_j)==True or dif < self.threshold):\n",
    "        return\n",
    "      else:\n",
    "        j = new_j\n",
    "        self.atualiza_GUS2(new_g, new_u, new_sigma)\n",
    "\n",
    "class Trainer(FuzzyCMeansGaussianS2):\n",
    "  def __init__(self, \n",
    "                num_class, \n",
    "                epochs, \n",
    "                threshold,\n",
    "                model_creator, \n",
    "                filename, \n",
    "                loss = Gaussian(), \n",
    "                m = 1.1, \n",
    "                verbose = False, \n",
    "                repeat = 1) -> None:\n",
    "    # load the hiperparams\n",
    "    super().__init__(num_class, epochs, threshold, loss=loss, m = m)\n",
    "    self.num_class = num_class\n",
    "    self.var_type = np.double\n",
    "    # self.var_type = np.float\n",
    "    self.verbose = verbose      \n",
    "    self.threshold = threshold\n",
    "    self.epochs = epochs \n",
    "    self.repeat = repeat\n",
    "    self.model_creator = model_creator\n",
    "    self.filename = filename\n",
    "    self.metrics = {\n",
    "      \"objetive_function\": [],\n",
    "      \"mpc\": [],\n",
    "      \"ars\": [],\n",
    "    }\n",
    "    \n",
    "  def fit(self, X, y):\n",
    "    j = np.inf\n",
    "    \n",
    "    for i in range(self.repeat):\n",
    "      model = self.model_creator(num_class=self.num_class, epochs=self.epochs, threshold=self.threshold, loss=self.loss, m=self.m, verbose=self.verbose)\n",
    "      model._only = False\n",
    "      model.fit(X, y)\n",
    "      new_j = model.funcao_objetivo(X, model.G, model.U, model.sigma)\n",
    "      new_mpc = Metrics.mpc(model.U)\n",
    "      new_ars = Metrics.ars(y, model.U.argmax(1))\n",
    "\n",
    "\n",
    "      print(f\"repeation: {i + 1} funcão objetivo: {new_j}\")\n",
    "      print(f\"Modified partition coefficient: {new_mpc},  adjusted rand score: {new_ars}\")\n",
    "\n",
    "      self.metrics[\"objetive_function\"].append(new_j)\n",
    "      self.metrics[\"mpc\"].append(new_mpc)\n",
    "      self.metrics[\"ars\"].append(new_ars)\n",
    "\n",
    "      if new_j < j:\n",
    "        self.G = model.G\n",
    "        self.U = model.U\n",
    "        self.sigma = model.sigma\n",
    "        j = new_j\n",
    "    \n",
    "    \n",
    "    self.save_model(f\"./model/{self.m}/{self.filename}\")\n",
    "    self.save(f\"./metrics/{self.m}/{self.filename}\")\n",
    "\n",
    "  def save(self, filename):\n",
    "    if not len(self.metrics[\"objetive_function\"]):\n",
    "      print(\"the models is not fit\")\n",
    "      return\n",
    "    # Save the model in json file\n",
    "    json_object = json.dumps(self.metrics, indent=2) #  \n",
    "    # Writing to sample.json\n",
    "    folder = \"/\".join(filename.split(\"/\")[:-1])\n",
    "    if not os.path.isdir(folder):\n",
    "      os.makedirs(folder) \n",
    "\n",
    "    with open(filename, \"w\") as outfile:\n",
    "        outfile.write(json_object)\n",
    "  \n"
   ]
  },
  {
   "cell_type": "markdown",
   "metadata": {},
   "source": [
    "## fit the model with datasets"
   ]
  },
  {
   "cell_type": "code",
   "execution_count": 9,
   "metadata": {},
   "outputs": [],
   "source": [
    "metrics = {1.1: {}, 1.6: {}}"
   ]
  },
  {
   "cell_type": "markdown",
   "metadata": {},
   "source": [
    "### m = 1.1"
   ]
  },
  {
   "cell_type": "markdown",
   "metadata": {},
   "source": [
    "#### set m expoent fuzzy"
   ]
  },
  {
   "cell_type": "code",
   "execution_count": 6,
   "metadata": {},
   "outputs": [],
   "source": [
    "m = 1.1"
   ]
  },
  {
   "cell_type": "markdown",
   "metadata": {},
   "source": [
    "#### datasets -> mfeat-fac"
   ]
  },
  {
   "cell_type": "code",
   "execution_count": 14,
   "metadata": {},
   "outputs": [
    {
     "name": "stdout",
     "output_type": "stream",
     "text": [
      "repeation: 1 funcão objetivo: 12.695396592612276\n",
      "Modified partition coefficient: 0.9196245699004217,  adjusted rand score: 0.49073624784389197\n",
      "repeation: 2 funcão objetivo: 12.8404760851869\n",
      "Modified partition coefficient: 0.9100984825398918,  adjusted rand score: 0.44396670712852265\n",
      "repeation: 3 funcão objetivo: 12.679782558771912\n",
      "Modified partition coefficient: 0.9155504728844238,  adjusted rand score: 0.43550359142651274\n",
      "repeation: 4 funcão objetivo: 12.63551420604752\n",
      "Modified partition coefficient: 0.9175824126728777,  adjusted rand score: 0.48846289250691377\n",
      "repeation: 5 funcão objetivo: 12.714638791208772\n",
      "Modified partition coefficient: 0.908580475785259,  adjusted rand score: 0.4356830598381332\n",
      "repeation: 6 funcão objetivo: 12.695395261733871\n",
      "Modified partition coefficient: 0.9196428949899331,  adjusted rand score: 0.49070122237756447\n",
      "repeation: 7 funcão objetivo: 12.691577813701443\n",
      "Modified partition coefficient: 0.9203581551637047,  adjusted rand score: 0.508337175932385\n",
      "repeation: 8 funcão objetivo: 12.978546176282334\n",
      "Modified partition coefficient: 0.90619234334531,  adjusted rand score: 0.4049268461553453\n",
      "repeation: 9 funcão objetivo: 12.840475114721507\n",
      "Modified partition coefficient: 0.91009847459972,  adjusted rand score: 0.44396670712852265\n",
      "repeation: 10 funcão objetivo: 12.888360517056407\n",
      "Modified partition coefficient: 0.9195165437622556,  adjusted rand score: 0.4103460282388982\n",
      "repeation: 11 funcão objetivo: 12.695129654346207\n",
      "Modified partition coefficient: 0.9215663422072242,  adjusted rand score: 0.4682927208082898\n",
      "repeation: 12 funcão objetivo: 12.635590148284711\n",
      "Modified partition coefficient: 0.9177040797874225,  adjusted rand score: 0.48743313975408264\n",
      "repeation: 13 funcão objetivo: 12.874888344801196\n",
      "Modified partition coefficient: 0.9066729411482467,  adjusted rand score: 0.472754630409064\n",
      "repeation: 14 funcão objetivo: 12.864909575178617\n",
      "Modified partition coefficient: 0.908715513337084,  adjusted rand score: 0.47593959922716844\n",
      "repeation: 15 funcão objetivo: 12.844872966147632\n",
      "Modified partition coefficient: 0.9183014111732173,  adjusted rand score: 0.4226046461598864\n",
      "repeation: 16 funcão objetivo: 12.840475684864934\n",
      "Modified partition coefficient: 0.9100988784698604,  adjusted rand score: 0.44396670712852265\n",
      "repeation: 17 funcão objetivo: 12.752260104535024\n",
      "Modified partition coefficient: 0.9178708271594395,  adjusted rand score: 0.49586621516639884\n",
      "repeation: 18 funcão objetivo: 12.624314873641861\n",
      "Modified partition coefficient: 0.9160773014894541,  adjusted rand score: 0.5083299450786316\n",
      "repeation: 19 funcão objetivo: 12.624315012099544\n",
      "Modified partition coefficient: 0.9160770220001795,  adjusted rand score: 0.5083299450786316\n",
      "repeation: 20 funcão objetivo: 12.864910703708672\n",
      "Modified partition coefficient: 0.9087094099995909,  adjusted rand score: 0.47593959922716844\n",
      "repeation: 21 funcão objetivo: 12.65014171685571\n",
      "Modified partition coefficient: 0.9152450016590533,  adjusted rand score: 0.5063952431562603\n",
      "repeation: 22 funcão objetivo: 12.708692282884446\n",
      "Modified partition coefficient: 0.9190968290178407,  adjusted rand score: 0.4878948644775748\n",
      "repeation: 23 funcão objetivo: 12.744178115566758\n",
      "Modified partition coefficient: 0.9125381396658422,  adjusted rand score: 0.4364887784691524\n",
      "repeation: 24 funcão objetivo: 12.874610493056142\n",
      "Modified partition coefficient: 0.9139195915426648,  adjusted rand score: 0.4653209601789348\n",
      "repeation: 25 funcão objetivo: 12.695378006591309\n",
      "Modified partition coefficient: 0.9197141742781043,  adjusted rand score: 0.4915189806182554\n",
      "repeation: 26 funcão objetivo: 12.8649074683744\n",
      "Modified partition coefficient: 0.9087484532834132,  adjusted rand score: 0.47593959922716844\n",
      "repeation: 27 funcão objetivo: 12.635695185259989\n",
      "Modified partition coefficient: 0.9178054186655432,  adjusted rand score: 0.4886619885274271\n",
      "repeation: 28 funcão objetivo: 12.880374327894087\n",
      "Modified partition coefficient: 0.9146880709494504,  adjusted rand score: 0.3921989947946178\n",
      "repeation: 29 funcão objetivo: 12.87362539899419\n",
      "Modified partition coefficient: 0.9042090508594817,  adjusted rand score: 0.44670898055683084\n",
      "repeation: 30 funcão objetivo: 12.87359309401085\n",
      "Modified partition coefficient: 0.9043525001345505,  adjusted rand score: 0.4454841295429624\n",
      "repeation: 31 funcão objetivo: 12.97854838794099\n",
      "Modified partition coefficient: 0.9062047654964026,  adjusted rand score: 0.4046271780825584\n",
      "repeation: 32 funcão objetivo: 12.840449400939981\n",
      "Modified partition coefficient: 0.910044425221607,  adjusted rand score: 0.44483278348689137\n",
      "repeation: 33 funcão objetivo: 12.695395968250898\n",
      "Modified partition coefficient: 0.9196273217461896,  adjusted rand score: 0.49073624784389197\n",
      "repeation: 34 funcão objetivo: 12.62431493064446\n",
      "Modified partition coefficient: 0.9160790854017512,  adjusted rand score: 0.5083299450786316\n",
      "repeation: 35 funcão objetivo: 12.624314786548169\n",
      "Modified partition coefficient: 0.9160761375395404,  adjusted rand score: 0.5083299450786316\n",
      "repeation: 36 funcão objetivo: 12.635502736917134\n",
      "Modified partition coefficient: 0.9174790096481168,  adjusted rand score: 0.48846289250691377\n",
      "repeation: 37 funcão objetivo: 12.69157831773381\n",
      "Modified partition coefficient: 0.9203551234603767,  adjusted rand score: 0.508337175932385\n",
      "repeation: 38 funcão objetivo: 12.624314888261837\n",
      "Modified partition coefficient: 0.9160772713140926,  adjusted rand score: 0.5083299450786316\n",
      "repeation: 39 funcão objetivo: 12.650906176858047\n",
      "Modified partition coefficient: 0.9155445355566275,  adjusted rand score: 0.5089773243296296\n",
      "repeation: 40 funcão objetivo: 12.635676396071721\n",
      "Modified partition coefficient: 0.9177894816161265,  adjusted rand score: 0.4886619885274271\n",
      "repeation: 41 funcão objetivo: 12.833514916263425\n",
      "Modified partition coefficient: 0.9165368620733652,  adjusted rand score: 0.47120710059543724\n",
      "repeation: 42 funcão objetivo: 12.87359273995779\n",
      "Modified partition coefficient: 0.9043423266708353,  adjusted rand score: 0.44602661676480987\n",
      "repeation: 43 funcão objetivo: 12.63550287651512\n",
      "Modified partition coefficient: 0.9174804941338238,  adjusted rand score: 0.48846289250691377\n",
      "repeation: 44 funcão objetivo: 12.714507181111358\n",
      "Modified partition coefficient: 0.9185600519485166,  adjusted rand score: 0.46381237802343545\n",
      "repeation: 45 funcão objetivo: 12.635501568781008\n",
      "Modified partition coefficient: 0.9174691323884119,  adjusted rand score: 0.48846289250691377\n",
      "repeation: 46 funcão objetivo: 12.624314668571156\n",
      "Modified partition coefficient: 0.916074956152016,  adjusted rand score: 0.5083299450786316\n",
      "repeation: 47 funcão objetivo: 12.888367545336138\n",
      "Modified partition coefficient: 0.9194538094256917,  adjusted rand score: 0.41115002130895123\n",
      "repeation: 48 funcão objetivo: 12.636532647110839\n",
      "Modified partition coefficient: 0.918174412885029,  adjusted rand score: 0.4915586274057925\n",
      "repeation: 49 funcão objetivo: 12.873704523969222\n",
      "Modified partition coefficient: 0.9041015586385726,  adjusted rand score: 0.44679547767832645\n",
      "repeation: 50 funcão objetivo: 12.833523171626135\n",
      "Modified partition coefficient: 0.9164710890933624,  adjusted rand score: 0.47050814662779916\n"
     ]
    }
   ],
   "source": [
    "cleaner = Cleaner()\n",
    "X, y = cleaner.read_dataset(\"datasets\\mfeat-fac\")\n",
    "X_clean, y_clean = cleaner.transform(X, y)\n",
    "\n",
    "model = Trainer(num_class = 10, \n",
    "                epochs = 100, \n",
    "                threshold = 1e-6, \n",
    "                model_creator=FuzzyCMeansGaussianS2, \n",
    "                m = m, \n",
    "                verbose = False, \n",
    "                repeat = 50,\n",
    "                filename=\"mfeat-fac/model.json\")\n",
    "\n",
    "pipeline = Pipeline([(\"Normalizer\", Normalizer()), \n",
    "                     (\"Transformer\", Transformer()),                      \n",
    "                    (\"Model\", model)])\n",
    "pipeline.fit(X_clean, y_clean)\n",
    "\n",
    "metrics[m][\"mfeat-fac\"] = model.metrics\n"
   ]
  },
  {
   "cell_type": "code",
   "execution_count": 15,
   "metadata": {},
   "outputs": [
    {
     "name": "stdout",
     "output_type": "stream",
     "text": [
      "Gs\n"
     ]
    },
    {
     "data": {
      "text/plain": [
       "<Figure size 1440x432 with 0 Axes>"
      ]
     },
     "metadata": {},
     "output_type": "display_data"
    },
    {
     "data": {
      "image/png": "[encoded data removed]",
      "text/plain": [
       "<Figure size 432x288 with 1 Axes>"
      ]
     },
     "metadata": {
      "needs_background": "light"
     },
     "output_type": "display_data"
    },
    {
     "name": "stdout",
     "output_type": "stream",
     "text": [
      "S2s\n"
     ]
    },
    {
     "data": {
      "text/plain": [
       "<Figure size 1440x432 with 0 Axes>"
      ]
     },
     "metadata": {},
     "output_type": "display_data"
    },
    {
     "data": {
      "image/png": "[encoded data removed]",
      "text/plain": [
       "<Figure size 432x288 with 1 Axes>"
      ]
     },
     "metadata": {
      "needs_background": "light"
     },
     "output_type": "display_data"
    }
   ],
   "source": [
    "model.show_G_S(f\"./figs/{m}/mfeat-fac\")"
   ]
  },
  {
   "cell_type": "code",
   "execution_count": 24,
   "metadata": {},
   "outputs": [
    {
     "name": "stdout",
     "output_type": "stream",
     "text": [
      "Modified partition coefficient:  {0: 0.9728910855056683, 1: 0.8569937701456476, 2: 0.9013082179076886, 3: 0.9163677324486326, 4: 0.9224263633115105, 5: 0.8958323540228667, 6: 0.9293828140786752, 7: 0.9083706753454242, 8: 0.9278985446084246, 9: 0.9313654505658271}\n",
      "Índice de Rand corrigido: 0.5079241260917384\n"
     ]
    },
    {
     "data": {
      "text/plain": [
       "<sklearn.metrics._plot.confusion_matrix.ConfusionMatrixDisplay at 0x14c55f10358>"
      ]
     },
     "execution_count": 24,
     "metadata": {},
     "output_type": "execute_result"
    },
    {
     "data": {
      "image/png": "[encoded data removed]",
      "text/plain": [
       "<Figure size 432x288 with 2 Axes>"
      ]
     },
     "metadata": {
      "needs_background": "light"
     },
     "output_type": "display_data"
    }
   ],
   "source": [
    "pertencify = pipeline.predict(X, is_preprocessing=True, argmax=False)\n",
    "y_predict = pertencify.argmax(1)\n",
    "\n",
    "mpcs = {i: Metrics.mpc(pertencify[y.values[:,0]==i]) for i in range(model.num_class)}\n",
    "\n",
    "print(f\"Modified partition coefficient:  {mpcs}\")# f,\n",
    "print(f\"Índice de Rand corrigido: {Metrics.ars(y.values[:,0], y_predict)}\")\n",
    "\n",
    "cm = confusion_matrix(y.values[:,0], y_predict)\n",
    "cmd = ConfusionMatrixDisplay(confusion_matrix=cm, display_labels=np.arange(model.num_class))\n",
    "cmd.plot()"
   ]
  },
  {
   "cell_type": "markdown",
   "metadata": {},
   "source": [
    "#### datasets -> mfeat-fou"
   ]
  },
  {
   "cell_type": "code",
   "execution_count": 25,
   "metadata": {},
   "outputs": [
    {
     "name": "stdout",
     "output_type": "stream",
     "text": [
      "repeation: 1 funcão objetivo: 333.23987136433743\n",
      "Modified partition coefficient: 0.8556777372536637,  adjusted rand score: 0.4517313224403207\n",
      "repeation: 2 funcão objetivo: 373.1657875078203\n",
      "Modified partition coefficient: 0.79720650138533,  adjusted rand score: 0.3430323628756038\n",
      "repeation: 3 funcão objetivo: 334.74083338699177\n",
      "Modified partition coefficient: 0.8734630204657172,  adjusted rand score: 0.4149872169345159\n",
      "repeation: 4 funcão objetivo: 354.3056706117417\n",
      "Modified partition coefficient: 0.8603932010285629,  adjusted rand score: 0.38630442629254363\n",
      "repeation: 5 funcão objetivo: 333.26493383412935\n",
      "Modified partition coefficient: 0.8538480528343041,  adjusted rand score: 0.4587246452322728\n",
      "repeation: 6 funcão objetivo: 343.0274510232078\n",
      "Modified partition coefficient: 0.8536912950120141,  adjusted rand score: 0.41418781717742353\n",
      "repeation: 7 funcão objetivo: 332.7034806074569\n",
      "Modified partition coefficient: 0.8431880876163171,  adjusted rand score: 0.4581021198063122\n",
      "repeation: 8 funcão objetivo: 333.2435061555135\n",
      "Modified partition coefficient: 0.8559997158063851,  adjusted rand score: 0.4503355771474026\n",
      "repeation: 9 funcão objetivo: 339.15140637745924\n",
      "Modified partition coefficient: 0.856445312939666,  adjusted rand score: 0.4356438415450864\n",
      "repeation: 10 funcão objetivo: 341.64970237234195\n",
      "Modified partition coefficient: 0.841163067612372,  adjusted rand score: 0.4217893002036455\n",
      "repeation: 11 funcão objetivo: 334.3738165941537\n",
      "Modified partition coefficient: 0.8660782339531841,  adjusted rand score: 0.44548394969882893\n",
      "repeation: 12 funcão objetivo: 341.9305899335098\n",
      "Modified partition coefficient: 0.8614437472726293,  adjusted rand score: 0.4367032613272338\n",
      "repeation: 13 funcão objetivo: 336.0704725609699\n",
      "Modified partition coefficient: 0.8466127257538334,  adjusted rand score: 0.40178838270654765\n",
      "repeation: 14 funcão objetivo: 340.5761231123655\n",
      "Modified partition coefficient: 0.8630566989198898,  adjusted rand score: 0.4616787817367601\n",
      "repeation: 15 funcão objetivo: 351.6212931726882\n",
      "Modified partition coefficient: 0.8785730327733015,  adjusted rand score: 0.42649253351199035\n",
      "repeation: 16 funcão objetivo: 329.74907933427176\n",
      "Modified partition coefficient: 0.8564347757144903,  adjusted rand score: 0.45975642290249974\n",
      "repeation: 17 funcão objetivo: 370.271149228856\n",
      "Modified partition coefficient: 0.8148778462742716,  adjusted rand score: 0.3319605344585705\n",
      "repeation: 18 funcão objetivo: 332.41272431953416\n",
      "Modified partition coefficient: 0.8483213574309629,  adjusted rand score: 0.46343633435703246\n",
      "repeation: 19 funcão objetivo: 353.5712577012059\n",
      "Modified partition coefficient: 0.8648787015932975,  adjusted rand score: 0.382253452305764\n",
      "repeation: 20 funcão objetivo: 334.6517414024225\n",
      "Modified partition coefficient: 0.8616046377958897,  adjusted rand score: 0.44479812574060745\n",
      "repeation: 21 funcão objetivo: 333.29594084415464\n",
      "Modified partition coefficient: 0.8519437988788146,  adjusted rand score: 0.42960747960982576\n",
      "repeation: 22 funcão objetivo: 352.30130810062474\n",
      "Modified partition coefficient: 0.8745268484177331,  adjusted rand score: 0.4267476720759163\n",
      "repeation: 23 funcão objetivo: 343.9261151942841\n",
      "Modified partition coefficient: 0.8467404630537724,  adjusted rand score: 0.42189322905998655\n",
      "repeation: 24 funcão objetivo: 342.14642986018214\n",
      "Modified partition coefficient: 0.8603436822472099,  adjusted rand score: 0.441087629276677\n",
      "repeation: 25 funcão objetivo: 340.994258545632\n",
      "Modified partition coefficient: 0.8455374053522844,  adjusted rand score: 0.4106228940461743\n",
      "repeation: 26 funcão objetivo: 332.41271213460607\n",
      "Modified partition coefficient: 0.8483221756215571,  adjusted rand score: 0.46343633435703246\n",
      "repeation: 27 funcão objetivo: 334.74135862147625\n",
      "Modified partition coefficient: 0.8734628434249143,  adjusted rand score: 0.4149872169345159\n",
      "repeation: 28 funcão objetivo: 333.2663457977929\n",
      "Modified partition coefficient: 0.8538598516034904,  adjusted rand score: 0.4587246452322728\n",
      "repeation: 29 funcão objetivo: 353.63799280825026\n",
      "Modified partition coefficient: 0.8726299248051814,  adjusted rand score: 0.38410920132226095\n",
      "repeation: 30 funcão objetivo: 386.44227804717303\n",
      "Modified partition coefficient: 0.821734334908254,  adjusted rand score: 0.4149704592333294\n",
      "repeation: 31 funcão objetivo: 335.1137269401655\n",
      "Modified partition coefficient: 0.8589120303934222,  adjusted rand score: 0.44927286581305353\n",
      "repeation: 32 funcão objetivo: 344.1980676037175\n",
      "Modified partition coefficient: 0.8728725846393537,  adjusted rand score: 0.3988260859922051\n",
      "repeation: 33 funcão objetivo: 333.2883009193689\n",
      "Modified partition coefficient: 0.8538097911332745,  adjusted rand score: 0.4587246452322728\n",
      "repeation: 34 funcão objetivo: 334.6761976246883\n",
      "Modified partition coefficient: 0.8614926773385754,  adjusted rand score: 0.44343695992295623\n",
      "repeation: 35 funcão objetivo: 344.33332179897\n",
      "Modified partition coefficient: 0.8721004855126336,  adjusted rand score: 0.39881558529557964\n",
      "repeation: 36 funcão objetivo: 334.3704194659923\n",
      "Modified partition coefficient: 0.8660872814649132,  adjusted rand score: 0.44548394969882893\n",
      "repeation: 37 funcão objetivo: 340.581154175014\n",
      "Modified partition coefficient: 0.8630877601116664,  adjusted rand score: 0.4609025305061336\n",
      "repeation: 38 funcão objetivo: 354.531774677291\n",
      "Modified partition coefficient: 0.8669494892615268,  adjusted rand score: 0.4138825422358328\n",
      "repeation: 39 funcão objetivo: 353.2802241337859\n",
      "Modified partition coefficient: 0.8676264927406113,  adjusted rand score: 0.4038849853291792\n",
      "repeation: 40 funcão objetivo: 332.70330034093934\n",
      "Modified partition coefficient: 0.8431941625836475,  adjusted rand score: 0.4581021198063122\n",
      "repeation: 41 funcão objetivo: 332.4127507735805\n",
      "Modified partition coefficient: 0.8483192332704086,  adjusted rand score: 0.46343633435703246\n",
      "repeation: 42 funcão objetivo: 342.13256556776025\n",
      "Modified partition coefficient: 0.8604312550447275,  adjusted rand score: 0.4403317127356443\n",
      "repeation: 43 funcão objetivo: 333.6589325455702\n",
      "Modified partition coefficient: 0.8476791965937819,  adjusted rand score: 0.42573622084544516\n",
      "repeation: 44 funcão objetivo: 373.1644662199841\n",
      "Modified partition coefficient: 0.7972101831620818,  adjusted rand score: 0.3430323628756038\n",
      "repeation: 45 funcão objetivo: 344.95363863070503\n",
      "Modified partition coefficient: 0.8676801900044429,  adjusted rand score: 0.3992326605578813\n",
      "repeation: 46 funcão objetivo: 330.208567745437\n",
      "Modified partition coefficient: 0.851796145643223,  adjusted rand score: 0.45770683037633425\n",
      "repeation: 47 funcão objetivo: 330.4227685302976\n",
      "Modified partition coefficient: 0.8547282378247313,  adjusted rand score: 0.4345123968575293\n",
      "repeation: 48 funcão objetivo: 329.81544336208447\n",
      "Modified partition coefficient: 0.8568064839256122,  adjusted rand score: 0.4593691573080957\n",
      "repeation: 49 funcão objetivo: 382.3052126295472\n",
      "Modified partition coefficient: 0.8092632326845963,  adjusted rand score: 0.3597630918710287\n",
      "repeation: 50 funcão objetivo: 338.84190022107026\n",
      "Modified partition coefficient: 0.83873062590978,  adjusted rand score: 0.42324184054267006\n"
     ]
    }
   ],
   "source": [
    "cleaner = Cleaner()\n",
    "X, y = cleaner.read_dataset(\"datasets\\mfeat-fou\")\n",
    "X_clean, y_clean = cleaner.transform(X, y)\n",
    "\n",
    "model = Trainer(num_class = 10, \n",
    "                epochs = 100, \n",
    "                threshold = 1e-6, \n",
    "                model_creator=FuzzyCMeansGaussianS2, \n",
    "                m = m, \n",
    "                verbose = False, \n",
    "                repeat = 50,\n",
    "                filename=\"mfeat-fou/model.json\")\n",
    "\n",
    "pipeline = Pipeline([(\"Normalizer\", Normalizer()), \n",
    "                     (\"Transformer\", Transformer()),                      \n",
    "                    (\"Model\", model)])\n",
    "pipeline.fit(X_clean, y_clean)\n",
    "\n",
    "metrics[m][\"mfeat-fou\"] = model.metrics"
   ]
  },
  {
   "cell_type": "code",
   "execution_count": 26,
   "metadata": {},
   "outputs": [
    {
     "name": "stdout",
     "output_type": "stream",
     "text": [
      "Gs\n"
     ]
    },
    {
     "data": {
      "text/plain": [
       "<Figure size 1440x432 with 0 Axes>"
      ]
     },
     "metadata": {},
     "output_type": "display_data"
    },
    {
     "data": {
      "image/png": "[encoded data removed]",
      "text/plain": [
       "<Figure size 432x288 with 1 Axes>"
      ]
     },
     "metadata": {
      "needs_background": "light"
     },
     "output_type": "display_data"
    },
    {
     "name": "stdout",
     "output_type": "stream",
     "text": [
      "S2s\n"
     ]
    },
    {
     "data": {
      "text/plain": [
       "<Figure size 1440x432 with 0 Axes>"
      ]
     },
     "metadata": {},
     "output_type": "display_data"
    },
    {
     "data": {
      "image/png": "[encoded data removed]",
      "text/plain": [
       "<Figure size 432x288 with 1 Axes>"
      ]
     },
     "metadata": {
      "needs_background": "light"
     },
     "output_type": "display_data"
    }
   ],
   "source": [
    "model.show_G_S(f\"./figs/{m}/mfeat-fou\")"
   ]
  },
  {
   "cell_type": "code",
   "execution_count": 27,
   "metadata": {},
   "outputs": [
    {
     "name": "stdout",
     "output_type": "stream",
     "text": [
      "Modified partition coefficient:  {0: 0.9911928430239498, 1: 0.6853637064625202, 2: 0.9231986614440137, 3: 0.8356306120332061, 4: 0.8277168130813162, 5: 0.778174275471682, 6: 0.9039019832717048, 7: 0.8907245366757349, 8: 0.8468562388043606, 9: 0.8843555378414631}\n",
      "Índice de Rand corrigido: 0.4602711858877749\n"
     ]
    },
    {
     "data": {
      "text/plain": [
       "<sklearn.metrics._plot.confusion_matrix.ConfusionMatrixDisplay at 0x14c5599aa20>"
      ]
     },
     "execution_count": 27,
     "metadata": {},
     "output_type": "execute_result"
    },
    {
     "data": {
      "image/png": "[encoded data removed]",
      "text/plain": [
       "<Figure size 432x288 with 2 Axes>"
      ]
     },
     "metadata": {
      "needs_background": "light"
     },
     "output_type": "display_data"
    }
   ],
   "source": [
    "pertencify = pipeline.predict(X, is_preprocessing=True, argmax=False)\n",
    "y_predict = pertencify.argmax(1)\n",
    "\n",
    "mpcs = {i: Metrics.mpc(pertencify[y.values[:,0]==i]) for i in range(model.num_class)}\n",
    "\n",
    "# model.init_u\n",
    "print(f\"Modified partition coefficient:  {mpcs}\")# f,\n",
    "print(f\"Índice de Rand corrigido: {Metrics.ars(y.values[:,0], y_predict)}\")# f,\n",
    "\n",
    "cm = confusion_matrix(y.values[:,0], y_predict)\n",
    "cmd = ConfusionMatrixDisplay(confusion_matrix=cm, display_labels=np.arange(model.num_class))\n",
    "cmd.plot()"
   ]
  },
  {
   "cell_type": "markdown",
   "metadata": {},
   "source": [
    "#### datasets -> mfeat-zer"
   ]
  },
  {
   "cell_type": "code",
   "execution_count": 10,
   "metadata": {},
   "outputs": [
    {
     "name": "stdout",
     "output_type": "stream",
     "text": [
      "repeation: 1 funcão objetivo: 1687.3432599081925\n",
      "Modified partition coefficient: 0.7308318498382255,  adjusted rand score: 0.3283838290659938\n",
      "repeation: 2 funcão objetivo: 1689.2272834441906\n",
      "Modified partition coefficient: 0.7345981246918798,  adjusted rand score: 0.3040765686931116\n",
      "repeation: 3 funcão objetivo: 1694.7743128984605\n",
      "Modified partition coefficient: 0.7327397203613301,  adjusted rand score: 0.30304223964151483\n",
      "repeation: 4 funcão objetivo: 1686.519279373414\n",
      "Modified partition coefficient: 0.7305148882186374,  adjusted rand score: 0.32947699187357377\n",
      "repeation: 5 funcão objetivo: 1686.5730951373646\n",
      "Modified partition coefficient: 0.7306084598720212,  adjusted rand score: 0.32942135337584466\n",
      "repeation: 6 funcão objetivo: 1686.171012142426\n",
      "Modified partition coefficient: 0.7305776028958852,  adjusted rand score: 0.3281166196280817\n",
      "repeation: 7 funcão objetivo: 1732.4240023035543\n",
      "Modified partition coefficient: 0.7277193040257038,  adjusted rand score: 0.2982760812135543\n",
      "repeation: 8 funcão objetivo: 1711.1239511987824\n",
      "Modified partition coefficient: 0.7404489838190054,  adjusted rand score: 0.3403985699304426\n",
      "repeation: 9 funcão objetivo: 1727.7128050654826\n",
      "Modified partition coefficient: 0.7286110385459658,  adjusted rand score: 0.31909379638697016\n",
      "repeation: 10 funcão objetivo: 1719.6274111519133\n",
      "Modified partition coefficient: 0.7380244660078727,  adjusted rand score: 0.29885414568772845\n",
      "repeation: 11 funcão objetivo: 1701.5022721941698\n",
      "Modified partition coefficient: 0.7251005911742416,  adjusted rand score: 0.33989601349010695\n",
      "repeation: 12 funcão objetivo: 1756.5821047026975\n",
      "Modified partition coefficient: 0.7316104470244227,  adjusted rand score: 0.2614402219463788\n",
      "repeation: 13 funcão objetivo: 1734.1366547955427\n",
      "Modified partition coefficient: 0.7156665503473365,  adjusted rand score: 0.33535144001015854\n",
      "repeation: 14 funcão objetivo: 1696.9506579608455\n",
      "Modified partition coefficient: 0.720868864070745,  adjusted rand score: 0.3055057356168338\n",
      "repeation: 15 funcão objetivo: 1713.8015738049353\n",
      "Modified partition coefficient: 0.7403574093196169,  adjusted rand score: 0.3434819682910961\n",
      "repeation: 16 funcão objetivo: 1706.769197356791\n",
      "Modified partition coefficient: 0.7305722868424047,  adjusted rand score: 0.35688366520883064\n",
      "repeation: 17 funcão objetivo: 1712.966637119042\n",
      "Modified partition coefficient: 0.7312159591875517,  adjusted rand score: 0.3137416201565789\n",
      "repeation: 18 funcão objetivo: 1686.438636447775\n",
      "Modified partition coefficient: 0.7306534908211069,  adjusted rand score: 0.328659621551476\n",
      "repeation: 19 funcão objetivo: 1697.4893245616986\n",
      "Modified partition coefficient: 0.7406523144042793,  adjusted rand score: 0.3035025179229544\n",
      "repeation: 20 funcão objetivo: 1703.434918617328\n",
      "Modified partition coefficient: 0.7365114362952996,  adjusted rand score: 0.30327712332443935\n",
      "repeation: 21 funcão objetivo: 1805.6478206400845\n",
      "Modified partition coefficient: 0.6581833566461603,  adjusted rand score: 0.2967568728749532\n",
      "repeation: 22 funcão objetivo: 1695.4041602203831\n",
      "Modified partition coefficient: 0.7390725817498404,  adjusted rand score: 0.29745896184865667\n",
      "repeation: 23 funcão objetivo: 1711.1129140457103\n",
      "Modified partition coefficient: 0.7404881744774257,  adjusted rand score: 0.34081995678965954\n",
      "repeation: 24 funcão objetivo: 1708.7808579511416\n",
      "Modified partition coefficient: 0.7299695049822678,  adjusted rand score: 0.3175139849210971\n",
      "repeation: 25 funcão objetivo: 1703.4257071042957\n",
      "Modified partition coefficient: 0.7365144490227639,  adjusted rand score: 0.3040322331682754\n",
      "repeation: 26 funcão objetivo: 1695.6382775259917\n",
      "Modified partition coefficient: 0.7218054583435963,  adjusted rand score: 0.3077433971518871\n",
      "repeation: 27 funcão objetivo: 1762.2835570710447\n",
      "Modified partition coefficient: 0.7323718840560617,  adjusted rand score: 0.264117909102709\n",
      "repeation: 28 funcão objetivo: 1706.246254640701\n",
      "Modified partition coefficient: 0.7288917890203777,  adjusted rand score: 0.30891232575602645\n",
      "repeation: 29 funcão objetivo: 1686.3067328329662\n",
      "Modified partition coefficient: 0.7306624812117805,  adjusted rand score: 0.3281166196280817\n",
      "repeation: 30 funcão objetivo: 1710.7903234694227\n",
      "Modified partition coefficient: 0.7338182662159534,  adjusted rand score: 0.3319758074526539\n",
      "repeation: 31 funcão objetivo: 1706.7948141525617\n",
      "Modified partition coefficient: 0.7305654316575428,  adjusted rand score: 0.3574613487156081\n",
      "repeation: 32 funcão objetivo: 1708.7807609068386\n",
      "Modified partition coefficient: 0.7299694535807941,  adjusted rand score: 0.3175139849210971\n",
      "repeation: 33 funcão objetivo: 1708.856534521394\n",
      "Modified partition coefficient: 0.7330392978833161,  adjusted rand score: 0.31288984048065865\n",
      "repeation: 34 funcão objetivo: 1703.4259630461395\n",
      "Modified partition coefficient: 0.7365141267146056,  adjusted rand score: 0.3040322331682754\n",
      "repeation: 35 funcão objetivo: 1703.4304943993711\n",
      "Modified partition coefficient: 0.7365113365825282,  adjusted rand score: 0.30362170415399087\n",
      "repeation: 36 funcão objetivo: 1706.2458229499953\n",
      "Modified partition coefficient: 0.7288918864749625,  adjusted rand score: 0.30891232575602645\n",
      "repeation: 37 funcão objetivo: 1703.4192225138563\n",
      "Modified partition coefficient: 0.7365145684962044,  adjusted rand score: 0.3040322331682754\n",
      "repeation: 38 funcão objetivo: 1709.605354592646\n",
      "Modified partition coefficient: 0.7391491320109296,  adjusted rand score: 0.3339550431772692\n",
      "repeation: 39 funcão objetivo: 1723.7938020882543\n",
      "Modified partition coefficient: 0.7281581229976398,  adjusted rand score: 0.33419511194156604\n",
      "repeation: 40 funcão objetivo: 1703.422389707138\n",
      "Modified partition coefficient: 0.7365207840252261,  adjusted rand score: 0.30327712332443935\n",
      "repeation: 41 funcão objetivo: 1695.1168418202542\n",
      "Modified partition coefficient: 0.7221961889970838,  adjusted rand score: 0.30831802872012837\n",
      "repeation: 42 funcão objetivo: 1697.5015728548174\n",
      "Modified partition coefficient: 0.7406478783011525,  adjusted rand score: 0.3035025179229544\n",
      "repeation: 43 funcão objetivo: 1697.4811433478635\n",
      "Modified partition coefficient: 0.740654892785341,  adjusted rand score: 0.3035025179229544\n",
      "repeation: 44 funcão objetivo: 1715.5170820204673\n",
      "Modified partition coefficient: 0.7145347334420489,  adjusted rand score: 0.31164941142625513\n",
      "repeation: 45 funcão objetivo: 1697.5813032637182\n",
      "Modified partition coefficient: 0.7406237913328889,  adjusted rand score: 0.3035025179229544\n",
      "repeation: 46 funcão objetivo: 1708.7807962464015\n",
      "Modified partition coefficient: 0.7299694435351604,  adjusted rand score: 0.3175139849210971\n",
      "repeation: 47 funcão objetivo: 1725.0417944413562\n",
      "Modified partition coefficient: 0.7449898783730761,  adjusted rand score: 0.27443059136895537\n",
      "repeation: 48 funcão objetivo: 1708.78079119516\n",
      "Modified partition coefficient: 0.7299694099645616,  adjusted rand score: 0.3175139849210971\n",
      "repeation: 49 funcão objetivo: 1751.256855322245\n",
      "Modified partition coefficient: 0.7404933270026732,  adjusted rand score: 0.25949438311437195\n",
      "repeation: 50 funcão objetivo: 1723.6984045070103\n",
      "Modified partition coefficient: 0.7252918682259999,  adjusted rand score: 0.3563256836098748\n"
     ]
    }
   ],
   "source": [
    "cleaner = Cleaner()\n",
    "X, y = cleaner.read_dataset(\"datasets\\mfeat-zer\")\n",
    "X_clean, y_clean = cleaner.transform(X, y)\n",
    "X, y = Cleaner().transform(X, y)\n",
    "\n",
    "model = Trainer(num_class = 10, \n",
    "                epochs = 100, \n",
    "                threshold = 1e-6, \n",
    "                model_creator=FuzzyCMeansGaussianS2, \n",
    "                m = m, \n",
    "                verbose = False, \n",
    "                repeat = 50,\n",
    "                filename=\"mfeat-zer/model.json\")\n",
    "\n",
    "pipeline = Pipeline([(\"Normalizer\", Normalizer()), \n",
    "                     (\"Transformer\", Transformer()),                      \n",
    "                    (\"Model\", model)])\n",
    "pipeline.fit(X_clean, y_clean)\n",
    "\n",
    "metrics[m][\"mfeat-zer\"] = model.metrics\n",
    "\n"
   ]
  },
  {
   "cell_type": "code",
   "execution_count": 11,
   "metadata": {},
   "outputs": [
    {
     "name": "stdout",
     "output_type": "stream",
     "text": [
      "Gs\n"
     ]
    },
    {
     "data": {
      "text/plain": [
       "<Figure size 1440x432 with 0 Axes>"
      ]
     },
     "metadata": {},
     "output_type": "display_data"
    },
    {
     "data": {
      "image/png": "[encoded data removed]",
      "text/plain": [
       "<Figure size 432x288 with 1 Axes>"
      ]
     },
     "metadata": {
      "needs_background": "light"
     },
     "output_type": "display_data"
    },
    {
     "name": "stdout",
     "output_type": "stream",
     "text": [
      "S2s\n"
     ]
    },
    {
     "data": {
      "text/plain": [
       "<Figure size 1440x432 with 0 Axes>"
      ]
     },
     "metadata": {},
     "output_type": "display_data"
    },
    {
     "data": {
      "image/png": "[encoded data removed]",
      "text/plain": [
       "<Figure size 432x288 with 1 Axes>"
      ]
     },
     "metadata": {
      "needs_background": "light"
     },
     "output_type": "display_data"
    }
   ],
   "source": [
    "model.show_G_S(f\"./figs/{m}/mfeat-zer\")"
   ]
  },
  {
   "cell_type": "code",
   "execution_count": 12,
   "metadata": {},
   "outputs": [
    {
     "name": "stdout",
     "output_type": "stream",
     "text": [
      "Modified partition coefficient:  {0: 0.7871176211123321, 1: 0.8315022427005658, 2: 0.7455133779693637, 3: 0.7377432095444404, 4: 0.5749404915391423, 5: 0.6428513803461149, 6: 0.7207354885371251, 7: 0.8663432367121243, 8: 0.668076359867509, 9: 0.7311330015694928}\n",
      "Índice de Rand corrigido: 0.3281166196280817\n"
     ]
    },
    {
     "data": {
      "text/plain": [
       "<sklearn.metrics._plot.confusion_matrix.ConfusionMatrixDisplay at 0x17a5826f940>"
      ]
     },
     "execution_count": 12,
     "metadata": {},
     "output_type": "execute_result"
    },
    {
     "data": {
      "image/png": "[encoded data removed]",
      "text/plain": [
       "<Figure size 432x288 with 2 Axes>"
      ]
     },
     "metadata": {
      "needs_background": "light"
     },
     "output_type": "display_data"
    }
   ],
   "source": [
    "y_predict = pipeline.predict(X)\n",
    "\n",
    "mpcs = {i: Metrics.mpc(model.U[y==i]) for i in range(model.num_class)}\n",
    "\n",
    "print(f\"Modified partition coefficient:  {mpcs}\")# f,\n",
    "print(f\"Índice de Rand corrigido: {Metrics.ars(y, model.U.argmax(1))}\")# f,\n",
    "\n",
    "cm = confusion_matrix(y, y_predict)\n",
    "cmd = ConfusionMatrixDisplay(confusion_matrix=cm, display_labels=np.arange(model.num_class))\n",
    "cmd.plot()"
   ]
  },
  {
   "cell_type": "markdown",
   "metadata": {},
   "source": [
    "#### datasets -> iris"
   ]
  },
  {
   "cell_type": "code",
   "execution_count": 31,
   "metadata": {},
   "outputs": [],
   "source": [
    "iris = datasets.load_iris()\n",
    "X = pd.DataFrame(iris.data)\n",
    "y = pd.DataFrame({len(X.columns.values):iris.target})\n",
    "cleaner = Cleaner()"
   ]
  },
  {
   "cell_type": "code",
   "execution_count": 32,
   "metadata": {},
   "outputs": [
    {
     "name": "stdout",
     "output_type": "stream",
     "text": [
      "repeation: 1 funcão objetivo: 0.40577975395063653\n",
      "Modified partition coefficient: 0.9869917414360757,  adjusted rand score: 0.9035691663683182\n",
      "repeation: 2 funcão objetivo: 0.4057794770865068\n",
      "Modified partition coefficient: 0.9869916884562886,  adjusted rand score: 0.9035691663683182\n",
      "repeation: 3 funcão objetivo: 0.405779255018322\n",
      "Modified partition coefficient: 0.9869916412035631,  adjusted rand score: 0.9035691663683182\n",
      "repeation: 4 funcão objetivo: 0.4057803222672156\n",
      "Modified partition coefficient: 0.9869918543527524,  adjusted rand score: 0.9035691663683182\n",
      "repeation: 5 funcão objetivo: 0.5360544839842194\n",
      "Modified partition coefficient: 0.9901769658969805,  adjusted rand score: 0.443540461316264\n",
      "repeation: 6 funcão objetivo: 0.4057804676663539\n",
      "Modified partition coefficient: 0.9869918827589292,  adjusted rand score: 0.9035691663683182\n",
      "repeation: 7 funcão objetivo: 0.40578074088031457\n",
      "Modified partition coefficient: 0.986991936416916,  adjusted rand score: 0.9035691663683182\n",
      "repeation: 8 funcão objetivo: 0.40577952292441155\n",
      "Modified partition coefficient: 0.986991695342995,  adjusted rand score: 0.9035691663683182\n",
      "repeation: 9 funcão objetivo: 0.40578085672603303\n",
      "Modified partition coefficient: 0.9869919609460454,  adjusted rand score: 0.9035691663683182\n",
      "repeation: 10 funcão objetivo: 0.40578037248779225\n",
      "Modified partition coefficient: 0.9869918651268573,  adjusted rand score: 0.9035691663683182\n",
      "repeation: 11 funcão objetivo: 0.4057793715656364\n",
      "Modified partition coefficient: 0.9869916630241287,  adjusted rand score: 0.9035691663683182\n",
      "repeation: 12 funcão objetivo: 0.40578034068281366\n",
      "Modified partition coefficient: 0.9869918575412846,  adjusted rand score: 0.9035691663683182\n",
      "repeation: 13 funcão objetivo: 0.5360538563732178\n",
      "Modified partition coefficient: 0.9901786416253995,  adjusted rand score: 0.443540461316264\n",
      "repeation: 14 funcão objetivo: 0.4057792503768594\n",
      "Modified partition coefficient: 0.9869916398543134,  adjusted rand score: 0.9035691663683182\n",
      "repeation: 15 funcão objetivo: 0.4057808560467522\n",
      "Modified partition coefficient: 0.9869919591557719,  adjusted rand score: 0.9035691663683182\n",
      "repeation: 16 funcão objetivo: 0.40577976570492\n",
      "Modified partition coefficient: 0.9869917420476286,  adjusted rand score: 0.9035691663683182\n",
      "repeation: 17 funcão objetivo: 0.40577930045761984\n",
      "Modified partition coefficient: 0.9869916606114246,  adjusted rand score: 0.9035691663683182\n",
      "repeation: 18 funcão objetivo: 0.40578036174838333\n",
      "Modified partition coefficient: 0.9869918617607538,  adjusted rand score: 0.9035691663683182\n",
      "repeation: 19 funcão objetivo: 0.4057796076827061\n",
      "Modified partition coefficient: 0.9869917126342728,  adjusted rand score: 0.9035691663683182\n",
      "repeation: 20 funcão objetivo: 0.4057807382504021\n",
      "Modified partition coefficient: 0.9869919363063163,  adjusted rand score: 0.9035691663683182\n",
      "repeation: 21 funcão objetivo: 0.40577949109770795\n",
      "Modified partition coefficient: 0.9869916879285043,  adjusted rand score: 0.9035691663683182\n",
      "repeation: 22 funcão objetivo: 0.40578045470336904\n",
      "Modified partition coefficient: 0.9869918815110339,  adjusted rand score: 0.9035691663683182\n",
      "repeation: 23 funcão objetivo: 0.40577953522790516\n",
      "Modified partition coefficient: 0.9869916997688144,  adjusted rand score: 0.9035691663683182\n",
      "repeation: 24 funcão objetivo: 0.536054116613487\n",
      "Modified partition coefficient: 0.9901787566049345,  adjusted rand score: 0.443540461316264\n",
      "repeation: 25 funcão objetivo: 0.4057804373394799\n",
      "Modified partition coefficient: 0.9869918760282026,  adjusted rand score: 0.9035691663683182\n",
      "repeation: 26 funcão objetivo: 0.4057788703634889\n",
      "Modified partition coefficient: 0.9869915727679377,  adjusted rand score: 0.9035691663683182\n",
      "repeation: 27 funcão objetivo: 0.4057795730954221\n",
      "Modified partition coefficient: 0.9869917045919776,  adjusted rand score: 0.9035691663683182\n",
      "repeation: 28 funcão objetivo: 0.5360536006873364\n",
      "Modified partition coefficient: 0.9901791049069275,  adjusted rand score: 0.443540461316264\n",
      "repeation: 29 funcão objetivo: 0.4057802563375019\n",
      "Modified partition coefficient: 0.9869918384083879,  adjusted rand score: 0.9035691663683182\n",
      "repeation: 30 funcão objetivo: 0.4057808482988653\n",
      "Modified partition coefficient: 0.9869919579476405,  adjusted rand score: 0.9035691663683182\n",
      "repeation: 31 funcão objetivo: 0.405781198446203\n",
      "Modified partition coefficient: 0.9869920273147674,  adjusted rand score: 0.9035691663683182\n",
      "repeation: 32 funcão objetivo: 0.40577972490487435\n",
      "Modified partition coefficient: 0.9869917381728095,  adjusted rand score: 0.9035691663683182\n",
      "repeation: 33 funcão objetivo: 0.4057796504707284\n",
      "Modified partition coefficient: 0.9869917208005234,  adjusted rand score: 0.9035691663683182\n",
      "repeation: 34 funcão objetivo: 0.40578053946534065\n",
      "Modified partition coefficient: 0.9869918965116071,  adjusted rand score: 0.9035691663683182\n",
      "repeation: 35 funcão objetivo: 0.4057805902178214\n",
      "Modified partition coefficient: 0.9869919068263273,  adjusted rand score: 0.9035691663683182\n",
      "repeation: 36 funcão objetivo: 0.536054834269239\n",
      "Modified partition coefficient: 0.990177189437202,  adjusted rand score: 0.443540461316264\n",
      "repeation: 37 funcão objetivo: 0.40577970416457276\n",
      "Modified partition coefficient: 0.9869917363988877,  adjusted rand score: 0.9035691663683182\n",
      "repeation: 38 funcão objetivo: 0.5360540540933656\n",
      "Modified partition coefficient: 0.9901783285980827,  adjusted rand score: 0.443540461316264\n",
      "repeation: 39 funcão objetivo: 0.40577955231967827\n",
      "Modified partition coefficient: 0.986991694862728,  adjusted rand score: 0.9035691663683182\n",
      "repeation: 40 funcão objetivo: 0.40577955420929274\n",
      "Modified partition coefficient: 0.9869917027758579,  adjusted rand score: 0.9035691663683182\n",
      "repeation: 41 funcão objetivo: 0.5360545645419081\n",
      "Modified partition coefficient: 0.9901773317987645,  adjusted rand score: 0.443540461316264\n",
      "repeation: 42 funcão objetivo: 0.40577907745742037\n",
      "Modified partition coefficient: 0.9869916077494616,  adjusted rand score: 0.9035691663683182\n",
      "repeation: 43 funcão objetivo: 0.40577898771346105\n",
      "Modified partition coefficient: 0.9869915896802821,  adjusted rand score: 0.9035691663683182\n",
      "repeation: 44 funcão objetivo: 0.536053938878307\n",
      "Modified partition coefficient: 0.9901784808556111,  adjusted rand score: 0.443540461316264\n",
      "repeation: 45 funcão objetivo: 0.4057808543384118\n",
      "Modified partition coefficient: 0.986991896683924,  adjusted rand score: 0.9035691663683182\n",
      "repeation: 46 funcão objetivo: 0.5360537385869014\n",
      "Modified partition coefficient: 0.9901788556727331,  adjusted rand score: 0.443540461316264\n",
      "repeation: 47 funcão objetivo: 0.4057810380609567\n",
      "Modified partition coefficient: 0.9869919910823987,  adjusted rand score: 0.9035691663683182\n",
      "repeation: 48 funcão objetivo: 0.536054602587282\n",
      "Modified partition coefficient: 0.9901772615506946,  adjusted rand score: 0.443540461316264\n",
      "repeation: 49 funcão objetivo: 0.40577929143665104\n",
      "Modified partition coefficient: 0.9869916413884752,  adjusted rand score: 0.9035691663683182\n",
      "repeation: 50 funcão objetivo: 0.40577929139616453\n",
      "Modified partition coefficient: 0.9869916491358923,  adjusted rand score: 0.9035691663683182\n"
     ]
    }
   ],
   "source": [
    "X_clean, y_clean = cleaner.transform(X, y)\n",
    "\n",
    "model = Trainer(num_class = 3, \n",
    "                epochs = 100, \n",
    "                threshold = 1e-6, \n",
    "                model_creator=FuzzyCMeansGaussianS2, \n",
    "                m = m, \n",
    "                verbose = False, \n",
    "                repeat = 50,\n",
    "                filename=\"iris/model.json\")\n",
    "\n",
    "pipeline = Pipeline([(\"Normalizer\", Normalizer()), \n",
    "                     (\"Transformer\", Transformer()),                      \n",
    "                    (\"Model\", model)])\n",
    "pipeline.fit(X_clean, y_clean)\n",
    "\n",
    "metrics[m][\"iris\"]= model.metrics\n"
   ]
  },
  {
   "cell_type": "code",
   "execution_count": 33,
   "metadata": {},
   "outputs": [],
   "source": [
    "new_model = Model()\n",
    "new_model.load_model(f\"model/{m}/iris/model.json\")\n",
    "y_predict = new_model.predict(X, True)#.shape, X.shape\n"
   ]
  },
  {
   "cell_type": "code",
   "execution_count": 34,
   "metadata": {},
   "outputs": [
    {
     "name": "stdout",
     "output_type": "stream",
     "text": [
      "Gs\n"
     ]
    },
    {
     "data": {
      "text/plain": [
       "<Figure size 1440x432 with 0 Axes>"
      ]
     },
     "metadata": {},
     "output_type": "display_data"
    },
    {
     "data": {
      "image/png": "[encoded data removed]",
      "text/plain": [
       "<Figure size 432x288 with 1 Axes>"
      ]
     },
     "metadata": {
      "needs_background": "light"
     },
     "output_type": "display_data"
    },
    {
     "name": "stdout",
     "output_type": "stream",
     "text": [
      "S2s\n"
     ]
    },
    {
     "data": {
      "text/plain": [
       "<Figure size 1440x432 with 0 Axes>"
      ]
     },
     "metadata": {},
     "output_type": "display_data"
    },
    {
     "data": {
      "image/png": "[encoded data removed]",
      "text/plain": [
       "<Figure size 432x288 with 1 Axes>"
      ]
     },
     "metadata": {
      "needs_background": "light"
     },
     "output_type": "display_data"
    }
   ],
   "source": [
    "model.show_G_S(f\"figs/{m}/iris\")"
   ]
  },
  {
   "cell_type": "code",
   "execution_count": 35,
   "metadata": {},
   "outputs": [
    {
     "name": "stdout",
     "output_type": "stream",
     "text": [
      "Modified partition coefficient:  {0: 0.9999999952008485, 1: 0.9657793931508551, 2: 0.9954554984967504}\n",
      "Índice de Rand corrigido: 0.9038742317748124\n"
     ]
    },
    {
     "data": {
      "text/plain": [
       "<sklearn.metrics._plot.confusion_matrix.ConfusionMatrixDisplay at 0x14c5601c8d0>"
      ]
     },
     "execution_count": 35,
     "metadata": {},
     "output_type": "execute_result"
    },
    {
     "data": {
      "image/png": "[encoded data removed]",
      "text/plain": [
       "<Figure size 432x288 with 2 Axes>"
      ]
     },
     "metadata": {
      "needs_background": "light"
     },
     "output_type": "display_data"
    }
   ],
   "source": [
    "# y_predict = pipeline.predict(X) #(2000) <= (2000, 200)\n",
    "# corrigir para os outros modelos\n",
    "pertencify = pipeline.predict(X, is_preprocessing=True, argmax=False)\n",
    "y_predict = pertencify.argmax(1)\n",
    "\n",
    "mpcs = {i: Metrics.mpc(pertencify[y.values[:,0]==i]) for i in range(model.num_class)}\n",
    "\n",
    "# model.init_u\n",
    "print(f\"Modified partition coefficient:  {mpcs}\")# f,\n",
    "print(f\"Índice de Rand corrigido: {Metrics.ars(y.values[:,0], y_predict)}\")# f,\n",
    "\n",
    "cm = confusion_matrix(y, y_predict)\n",
    "cmd = ConfusionMatrixDisplay(confusion_matrix=cm, display_labels=np.arange(model.num_class))\n",
    "cmd.plot()"
   ]
  },
  {
   "cell_type": "markdown",
   "metadata": {},
   "source": [
    "### m = 1.6"
   ]
  },
  {
   "cell_type": "markdown",
   "metadata": {},
   "source": [
    "#### set m expoent fuzzy"
   ]
  },
  {
   "cell_type": "code",
   "execution_count": 15,
   "metadata": {},
   "outputs": [],
   "source": [
    "m = 1.6"
   ]
  },
  {
   "cell_type": "markdown",
   "metadata": {},
   "source": [
    "#### datasets -> mfeat-fac"
   ]
  },
  {
   "cell_type": "code",
   "execution_count": 79,
   "metadata": {},
   "outputs": [
    {
     "name": "stdout",
     "output_type": "stream",
     "text": [
      "repeation: 1 funcão objetivo: 7.707799448734942\n",
      "Modified partition coefficient: 0.2469169432448497,  adjusted rand score: 0.4369721799959069\n",
      "repeation: 2 funcão objetivo: 7.746722481348928\n",
      "Modified partition coefficient: 0.26694438223672934,  adjusted rand score: 0.4433318773535765\n",
      "repeation: 3 funcão objetivo: 7.700742198764804\n",
      "Modified partition coefficient: 0.25841230632196777,  adjusted rand score: 0.4588065642325849\n",
      "repeation: 4 funcão objetivo: 7.700741308821522\n",
      "Modified partition coefficient: 0.25838695605584583,  adjusted rand score: 0.459548379695934\n",
      "repeation: 5 funcão objetivo: 7.707679163380071\n",
      "Modified partition coefficient: 0.2473137267571054,  adjusted rand score: 0.44175732429207076\n",
      "repeation: 6 funcão objetivo: 7.708380735745623\n",
      "Modified partition coefficient: 0.24498464813236898,  adjusted rand score: 0.45517931070440976\n",
      "repeation: 7 funcão objetivo: 7.707359753898185\n",
      "Modified partition coefficient: 0.24797708220352443,  adjusted rand score: 0.47007338155099904\n",
      "repeation: 8 funcão objetivo: 7.707330153649228\n",
      "Modified partition coefficient: 0.24805108031619028,  adjusted rand score: 0.46393661712660633\n",
      "repeation: 9 funcão objetivo: 7.70789366930652\n",
      "Modified partition coefficient: 0.2467970294644286,  adjusted rand score: 0.45157057656572086\n",
      "repeation: 10 funcão objetivo: 7.700738011656484\n",
      "Modified partition coefficient: 0.25888937683085633,  adjusted rand score: 0.45806251246763113\n",
      "repeation: 11 funcão objetivo: 7.700741856277066\n",
      "Modified partition coefficient: 0.25828832393159185,  adjusted rand score: 0.4594797784950912\n",
      "repeation: 12 funcão objetivo: 7.7467234595686705\n",
      "Modified partition coefficient: 0.26693522944006787,  adjusted rand score: 0.4445531788352018\n",
      "repeation: 13 funcão objetivo: 7.746722454455125\n",
      "Modified partition coefficient: 0.26692496271543176,  adjusted rand score: 0.4421185340708374\n",
      "repeation: 14 funcão objetivo: 7.701621250809713\n",
      "Modified partition coefficient: 0.254399547677175,  adjusted rand score: 0.4579164855213992\n",
      "repeation: 15 funcão objetivo: 7.700741443886964\n",
      "Modified partition coefficient: 0.2583291557055607,  adjusted rand score: 0.45951174542402284\n",
      "repeation: 16 funcão objetivo: 7.746722612228348\n",
      "Modified partition coefficient: 0.26691308859818896,  adjusted rand score: 0.44268640961053357\n",
      "repeation: 17 funcão objetivo: 7.7016567771008315\n",
      "Modified partition coefficient: 0.2550319003183038,  adjusted rand score: 0.4590119505413051\n",
      "repeation: 18 funcão objetivo: 7.700740234536398\n",
      "Modified partition coefficient: 0.25831259445182964,  adjusted rand score: 0.4591751638123072\n",
      "repeation: 19 funcão objetivo: 7.701599325658227\n",
      "Modified partition coefficient: 0.2546172993999162,  adjusted rand score: 0.45759224163440687\n",
      "repeation: 20 funcão objetivo: 7.700736536247288\n",
      "Modified partition coefficient: 0.2587216257674003,  adjusted rand score: 0.4595191100572613\n",
      "repeation: 21 funcão objetivo: 7.700736305488491\n",
      "Modified partition coefficient: 0.2585014708629808,  adjusted rand score: 0.4590836014255971\n",
      "repeation: 22 funcão objetivo: 7.708100387151258\n",
      "Modified partition coefficient: 0.24595774700231499,  adjusted rand score: 0.44355285992137705\n",
      "repeation: 23 funcão objetivo: 7.746724752471564\n",
      "Modified partition coefficient: 0.2668932004011517,  adjusted rand score: 0.44490197625286665\n",
      "repeation: 24 funcão objetivo: 7.70731900975624\n",
      "Modified partition coefficient: 0.24816335512708998,  adjusted rand score: 0.45855074442930827\n",
      "repeation: 25 funcão objetivo: 7.701918823236613\n",
      "Modified partition coefficient: 0.2544877392432786,  adjusted rand score: 0.4557377251686427\n",
      "repeation: 26 funcão objetivo: 7.70772642366399\n",
      "Modified partition coefficient: 0.24725902412412826,  adjusted rand score: 0.45774991089423467\n",
      "repeation: 27 funcão objetivo: 7.707936211217742\n",
      "Modified partition coefficient: 0.2465141361578741,  adjusted rand score: 0.46001714446780056\n",
      "repeation: 28 funcão objetivo: 7.700740401032119\n",
      "Modified partition coefficient: 0.258326713938957,  adjusted rand score: 0.4603738507717044\n",
      "repeation: 29 funcão objetivo: 7.70074035541726\n",
      "Modified partition coefficient: 0.2584285726579203,  adjusted rand score: 0.4598391197345264\n",
      "repeation: 30 funcão objetivo: 7.707695186982351\n",
      "Modified partition coefficient: 0.24734517320642146,  adjusted rand score: 0.44460182301742046\n",
      "repeation: 31 funcão objetivo: 7.708068175076307\n",
      "Modified partition coefficient: 0.24607553624341094,  adjusted rand score: 0.44956375367049306\n",
      "repeation: 32 funcão objetivo: 7.7007544108659225\n",
      "Modified partition coefficient: 0.2580948554805078,  adjusted rand score: 0.45949982280315643\n",
      "repeation: 33 funcão objetivo: 7.700739614026141\n",
      "Modified partition coefficient: 0.25831359088243266,  adjusted rand score: 0.4596402763341356\n",
      "repeation: 34 funcão objetivo: 7.707950442496809\n",
      "Modified partition coefficient: 0.24651096143445372,  adjusted rand score: 0.44266261752487557\n",
      "repeation: 35 funcão objetivo: 7.700741960299434\n",
      "Modified partition coefficient: 0.25835731754317737,  adjusted rand score: 0.45955261814592163\n",
      "repeation: 36 funcão objetivo: 7.700741273346373\n",
      "Modified partition coefficient: 0.2583066182572501,  adjusted rand score: 0.4594797784950912\n",
      "repeation: 37 funcão objetivo: 7.700937257622325\n",
      "Modified partition coefficient: 0.2567515286409484,  adjusted rand score: 0.4584820890727656\n",
      "repeation: 38 funcão objetivo: 7.70074136848099\n",
      "Modified partition coefficient: 0.2586025970089635,  adjusted rand score: 0.4592665981211307\n",
      "repeation: 39 funcão objetivo: 7.707980088472121\n",
      "Modified partition coefficient: 0.24639138929022097,  adjusted rand score: 0.44471812035277547\n",
      "repeation: 40 funcão objetivo: 7.7079219976797555\n",
      "Modified partition coefficient: 0.24648362158697268,  adjusted rand score: 0.4416504744396106\n",
      "repeation: 41 funcão objetivo: 7.700735620810155\n",
      "Modified partition coefficient: 0.25859778200893335,  adjusted rand score: 0.4590836014255971\n",
      "repeation: 42 funcão objetivo: 7.700736828030631\n",
      "Modified partition coefficient: 0.2587898643953377,  adjusted rand score: 0.45806251246763113\n",
      "repeation: 43 funcão objetivo: 7.700741159349208\n",
      "Modified partition coefficient: 0.2584066590517843,  adjusted rand score: 0.4597179346811623\n",
      "repeation: 44 funcão objetivo: 7.700737344434289\n",
      "Modified partition coefficient: 0.2583828721063661,  adjusted rand score: 0.4594869812672323\n",
      "repeation: 45 funcão objetivo: 7.707298942628919\n",
      "Modified partition coefficient: 0.24805388118989435,  adjusted rand score: 0.44189025398196347\n",
      "repeation: 46 funcão objetivo: 7.700741585044431\n",
      "Modified partition coefficient: 0.258635537859096,  adjusted rand score: 0.45889257227716457\n",
      "repeation: 47 funcão objetivo: 7.746722876500085\n",
      "Modified partition coefficient: 0.2668574428308875,  adjusted rand score: 0.4433318773535765\n",
      "repeation: 48 funcão objetivo: 7.707864677106981\n",
      "Modified partition coefficient: 0.2468896673626345,  adjusted rand score: 0.4432273036751622\n",
      "repeation: 49 funcão objetivo: 7.707900488385562\n",
      "Modified partition coefficient: 0.2468030726879381,  adjusted rand score: 0.4408489918297296\n",
      "repeation: 50 funcão objetivo: 7.707648195722763\n",
      "Modified partition coefficient: 0.2473719335428931,  adjusted rand score: 0.4649135260741299\n"
     ]
    }
   ],
   "source": [
    "cleaner = Cleaner()\n",
    "X, y = cleaner.read_dataset(\"datasets\\mfeat-fac\")\n",
    "X_clean, y_clean = cleaner.transform(X, y)\n",
    "\n",
    "model = Trainer(num_class = 10, \n",
    "                epochs = 100, \n",
    "                threshold = 1e-6, \n",
    "                model_creator=FuzzyCMeansGaussianS2, \n",
    "                m = m, \n",
    "                verbose = False, \n",
    "                repeat = 50, \n",
    "                filename=f\"mfeat-fac/model.json\",)\n",
    "\n",
    "pipeline = Pipeline([(\"Normalizer\", Normalizer()), \n",
    "                     (\"Transformer\", Transformer()),                      \n",
    "                    (\"Model\", model)])\n",
    "pipeline.fit(X_clean, y_clean)\n",
    "\n",
    "metrics[m][\"mfeat-fac\"] = model.metrics\n"
   ]
  },
  {
   "cell_type": "code",
   "execution_count": 80,
   "metadata": {},
   "outputs": [
    {
     "name": "stdout",
     "output_type": "stream",
     "text": [
      "Gs\n"
     ]
    },
    {
     "data": {
      "text/plain": [
       "<Figure size 1440x432 with 0 Axes>"
      ]
     },
     "metadata": {},
     "output_type": "display_data"
    },
    {
     "data": {
      "image/png": "[encoded data removed]",
      "text/plain": [
       "<Figure size 432x288 with 1 Axes>"
      ]
     },
     "metadata": {
      "needs_background": "light"
     },
     "output_type": "display_data"
    },
    {
     "name": "stdout",
     "output_type": "stream",
     "text": [
      "S2s\n"
     ]
    },
    {
     "data": {
      "text/plain": [
       "<Figure size 1440x432 with 0 Axes>"
      ]
     },
     "metadata": {},
     "output_type": "display_data"
    },
    {
     "data": {
      "image/png": "[encoded data removed]",
      "text/plain": [
       "<Figure size 432x288 with 1 Axes>"
      ]
     },
     "metadata": {
      "needs_background": "light"
     },
     "output_type": "display_data"
    }
   ],
   "source": [
    "model.show_G_S(f\"./figs/{m}/mfeat-fac\")"
   ]
  },
  {
   "cell_type": "code",
   "execution_count": 81,
   "metadata": {},
   "outputs": [
    {
     "name": "stdout",
     "output_type": "stream",
     "text": [
      "Modified partition coefficient:  {0: 0.51708589157683, 1: 0.24199386761560793, 2: 0.1397994008347777, 3: 0.16635276556976297, 4: 0.24931612053238827, 5: 0.12704812495920892, 6: 0.35497961811155954, 7: 0.23158997471267673, 8: 0.32144927216057595, 9: 0.2342567904295504}\n",
      "Índice de Rand corrigido: 0.45913002053329127\n"
     ]
    },
    {
     "data": {
      "text/plain": [
       "<sklearn.metrics._plot.confusion_matrix.ConfusionMatrixDisplay at 0x14c5795ecf8>"
      ]
     },
     "execution_count": 81,
     "metadata": {},
     "output_type": "execute_result"
    },
    {
     "data": {
      "image/png": "[encoded data removed]",
      "text/plain": [
       "<Figure size 432x288 with 2 Axes>"
      ]
     },
     "metadata": {
      "needs_background": "light"
     },
     "output_type": "display_data"
    }
   ],
   "source": [
    "pertencify = pipeline.predict(X, is_preprocessing=True, argmax=False)\n",
    "y_predict = pertencify.argmax(1)\n",
    "\n",
    "mpcs = {i: Metrics.mpc(pertencify[y.values[:,0]==i]) for i in range(model.num_class)}\n",
    "\n",
    "# model.init_u\n",
    "print(f\"Modified partition coefficient:  {mpcs}\")# f,\n",
    "print(f\"Índice de Rand corrigido: {Metrics.ars(y.values[:,0], y_predict)}\")# f,\n",
    "\n",
    "cm = confusion_matrix(y.values[:,0], y_predict)\n",
    "cmd = ConfusionMatrixDisplay(confusion_matrix=cm, display_labels=np.arange(model.num_class))\n",
    "cmd.plot()"
   ]
  },
  {
   "cell_type": "markdown",
   "metadata": {},
   "source": [
    "#### datasets -> mfeat-fou"
   ]
  },
  {
   "cell_type": "code",
   "execution_count": 76,
   "metadata": {},
   "outputs": [
    {
     "name": "stdout",
     "output_type": "stream",
     "text": [
      "repeation: 1 funcão objetivo: 198.00809296109443\n",
      "Modified partition coefficient: 0.12854919899044936,  adjusted rand score: 0.3888146951059072\n",
      "repeation: 2 funcão objetivo: 197.97063519728547\n",
      "Modified partition coefficient: 0.128680056243893,  adjusted rand score: 0.3874735950412212\n",
      "repeation: 3 funcão objetivo: 205.46945900984346\n",
      "Modified partition coefficient: 0.10805315633078316,  adjusted rand score: 0.27115689314229435\n",
      "repeation: 4 funcão objetivo: 197.9710764902663\n",
      "Modified partition coefficient: 0.12867890984611152,  adjusted rand score: 0.3874735950412212\n",
      "repeation: 5 funcão objetivo: 205.56462997427192\n",
      "Modified partition coefficient: 0.11019585268778298,  adjusted rand score: 0.33818329096599936\n",
      "repeation: 6 funcão objetivo: 205.46588871632824\n",
      "Modified partition coefficient: 0.10806634075255883,  adjusted rand score: 0.30446056379474207\n",
      "repeation: 7 funcão objetivo: 205.5833809974052\n",
      "Modified partition coefficient: 0.11015529453863337,  adjusted rand score: 0.3386579186759299\n",
      "repeation: 8 funcão objetivo: 205.56298813346345\n",
      "Modified partition coefficient: 0.11019940962336394,  adjusted rand score: 0.33818329096599936\n",
      "repeation: 9 funcão objetivo: 197.9705622521072\n",
      "Modified partition coefficient: 0.1286803460666467,  adjusted rand score: 0.3874735950412212\n",
      "repeation: 10 funcão objetivo: 197.97034099250817\n",
      "Modified partition coefficient: 0.12868435903753983,  adjusted rand score: 0.3881764608208874\n",
      "repeation: 11 funcão objetivo: 197.9705742434321\n",
      "Modified partition coefficient: 0.12868019234941785,  adjusted rand score: 0.3874735950412212\n",
      "repeation: 12 funcão objetivo: 198.14611153822358\n",
      "Modified partition coefficient: 0.12823692743202098,  adjusted rand score: 0.3858000310143407\n",
      "repeation: 13 funcão objetivo: 197.97060585521461\n",
      "Modified partition coefficient: 0.1286800732345652,  adjusted rand score: 0.3874735950412212\n",
      "repeation: 14 funcão objetivo: 205.56823283170735\n",
      "Modified partition coefficient: 0.11018805066614723,  adjusted rand score: 0.33818329096599936\n",
      "repeation: 15 funcão objetivo: 205.56262462982312\n",
      "Modified partition coefficient: 0.11020019725109287,  adjusted rand score: 0.33818329096599936\n",
      "repeation: 16 funcão objetivo: 197.9711099416947\n",
      "Modified partition coefficient: 0.1286788378573086,  adjusted rand score: 0.3874735950412212\n",
      "repeation: 17 funcão objetivo: 197.97046386525597\n",
      "Modified partition coefficient: 0.12870216875964258,  adjusted rand score: 0.3894049841306505\n",
      "repeation: 18 funcão objetivo: 213.20872387774858\n",
      "Modified partition coefficient: 0.09178013794129503,  adjusted rand score: 0.33703776507342625\n",
      "repeation: 19 funcão objetivo: 197.9705499855674\n",
      "Modified partition coefficient: 0.12868021333254775,  adjusted rand score: 0.3874735950412212\n",
      "repeation: 20 funcão objetivo: 197.97093086893364\n",
      "Modified partition coefficient: 0.1286794252060045,  adjusted rand score: 0.3874735950412212\n",
      "repeation: 21 funcão objetivo: 197.9706869165586\n",
      "Modified partition coefficient: 0.1286798932256843,  adjusted rand score: 0.3874735950412212\n",
      "repeation: 22 funcão objetivo: 198.07808821758687\n",
      "Modified partition coefficient: 0.1284092680633534,  adjusted rand score: 0.3863456726354383\n",
      "repeation: 23 funcão objetivo: 197.9710921798022\n",
      "Modified partition coefficient: 0.12867895943570706,  adjusted rand score: 0.3874735950412212\n",
      "repeation: 24 funcão objetivo: 197.9704864888145\n",
      "Modified partition coefficient: 0.12868047156934737,  adjusted rand score: 0.3874735950412212\n",
      "repeation: 25 funcão objetivo: 205.46949447089452\n",
      "Modified partition coefficient: 0.10805269208844082,  adjusted rand score: 0.27857874223592044\n",
      "repeation: 26 funcão objetivo: 198.149836123007\n",
      "Modified partition coefficient: 0.12822773859771275,  adjusted rand score: 0.3858786840750423\n",
      "repeation: 27 funcão objetivo: 209.11032967615594\n",
      "Modified partition coefficient: 0.10306508363140576,  adjusted rand score: 0.3185021739417296\n",
      "repeation: 28 funcão objetivo: 198.06303954803448\n",
      "Modified partition coefficient: 0.12844741623577272,  adjusted rand score: 0.38697392870161923\n",
      "repeation: 29 funcão objetivo: 197.97124622734145\n",
      "Modified partition coefficient: 0.12867840249099416,  adjusted rand score: 0.3870036547926872\n",
      "repeation: 30 funcão objetivo: 205.56988192274326\n",
      "Modified partition coefficient: 0.11018448117536994,  adjusted rand score: 0.3386579186759299\n",
      "repeation: 31 funcão objetivo: 205.56460153509587\n",
      "Modified partition coefficient: 0.11019591426647901,  adjusted rand score: 0.33818329096599936\n",
      "repeation: 32 funcão objetivo: 197.97043581630072\n",
      "Modified partition coefficient: 0.12868227266759902,  adjusted rand score: 0.38813548904891054\n",
      "repeation: 33 funcão objetivo: 205.61252102370747\n",
      "Modified partition coefficient: 0.11009247753861018,  adjusted rand score: 0.3386579186759299\n",
      "repeation: 34 funcão objetivo: 201.00645105801343\n",
      "Modified partition coefficient: 0.12238569954493506,  adjusted rand score: 0.36475207653080294\n",
      "repeation: 35 funcão objetivo: 197.97068977569128\n",
      "Modified partition coefficient: 0.12867985523557557,  adjusted rand score: 0.3870036547926872\n",
      "repeation: 36 funcão objetivo: 205.56351395698488\n",
      "Modified partition coefficient: 0.11019827012936412,  adjusted rand score: 0.33818329096599936\n",
      "repeation: 37 funcão objetivo: 205.5674545000388\n",
      "Modified partition coefficient: 0.11018973570350032,  adjusted rand score: 0.33818329096599936\n",
      "repeation: 38 funcão objetivo: 197.97051545712176\n",
      "Modified partition coefficient: 0.1286811844480965,  adjusted rand score: 0.38790943437916126\n",
      "repeation: 39 funcão objetivo: 209.10489230658987\n",
      "Modified partition coefficient: 0.10308355174009431,  adjusted rand score: 0.3183144314237349\n",
      "repeation: 40 funcão objetivo: 209.10989484197697\n",
      "Modified partition coefficient: 0.1030665831224149,  adjusted rand score: 0.3191340201425277\n",
      "repeation: 41 funcão objetivo: 197.97057174720803\n",
      "Modified partition coefficient: 0.12868022900091858,  adjusted rand score: 0.3874735950412212\n",
      "repeation: 42 funcão objetivo: 198.08106444041923\n",
      "Modified partition coefficient: 0.128400362988917,  adjusted rand score: 0.3863456726354383\n",
      "repeation: 43 funcão objetivo: 197.9705205859874\n",
      "Modified partition coefficient: 0.12868083461086666,  adjusted rand score: 0.3874735950412212\n",
      "repeation: 44 funcão objetivo: 213.20876151641193\n",
      "Modified partition coefficient: 0.09178000818763643,  adjusted rand score: 0.33055273528633256\n",
      "repeation: 45 funcão objetivo: 198.1633563280236\n",
      "Modified partition coefficient: 0.12819995817311713,  adjusted rand score: 0.3865921553298157\n",
      "repeation: 46 funcão objetivo: 208.9876853977242\n",
      "Modified partition coefficient: 0.1034119214770014,  adjusted rand score: 0.3173073919867385\n",
      "repeation: 47 funcão objetivo: 197.9703910946182\n",
      "Modified partition coefficient: 0.1286809067327822,  adjusted rand score: 0.3874735950412212\n",
      "repeation: 48 funcão objetivo: 205.5639649758403\n",
      "Modified partition coefficient: 0.1101972931842542,  adjusted rand score: 0.33818329096599936\n",
      "repeation: 49 funcão objetivo: 197.97062136752945\n",
      "Modified partition coefficient: 0.12868003227019875,  adjusted rand score: 0.3870036547926872\n",
      "repeation: 50 funcão objetivo: 197.9706509024446\n",
      "Modified partition coefficient: 0.12867998076401443,  adjusted rand score: 0.3874735950412212\n"
     ]
    }
   ],
   "source": [
    "cleaner = Cleaner()\n",
    "X, y = cleaner.read_dataset(\"datasets\\mfeat-fou\")\n",
    "X_clean, y_clean = cleaner.transform(X, y)\n",
    "\n",
    "model = Trainer(num_class = 10, \n",
    "                epochs = 100, \n",
    "                threshold = 1e-6, \n",
    "                model_creator=FuzzyCMeansGaussianS2, \n",
    "                m = m, \n",
    "                verbose = False, \n",
    "                repeat = 50,\n",
    "                filename=\"mfeat-fou/model.json\")\n",
    "\n",
    "pipeline = Pipeline([(\"Normalizer\", Normalizer()), \n",
    "                     (\"Transformer\", Transformer()),                      \n",
    "                    (\"Model\", model)])\n",
    "pipeline.fit(X_clean, y_clean)\n",
    "\n",
    "metrics[m][\"mfeat-fou\"] = model.metrics"
   ]
  },
  {
   "cell_type": "code",
   "execution_count": 77,
   "metadata": {},
   "outputs": [
    {
     "name": "stdout",
     "output_type": "stream",
     "text": [
      "Gs\n"
     ]
    },
    {
     "data": {
      "text/plain": [
       "<Figure size 1440x432 with 0 Axes>"
      ]
     },
     "metadata": {},
     "output_type": "display_data"
    },
    {
     "data": {
      "image/png": "[encoded data removed]",
      "text/plain": [
       "<Figure size 432x288 with 1 Axes>"
      ]
     },
     "metadata": {
      "needs_background": "light"
     },
     "output_type": "display_data"
    },
    {
     "name": "stdout",
     "output_type": "stream",
     "text": [
      "S2s\n"
     ]
    },
    {
     "data": {
      "text/plain": [
       "<Figure size 1440x432 with 0 Axes>"
      ]
     },
     "metadata": {},
     "output_type": "display_data"
    },
    {
     "data": {
      "image/png": "[encoded data removed]",
      "text/plain": [
       "<Figure size 432x288 with 1 Axes>"
      ]
     },
     "metadata": {
      "needs_background": "light"
     },
     "output_type": "display_data"
    }
   ],
   "source": [
    "model.show_G_S(f\"./figs/{m}/mfeat-fou\")"
   ]
  },
  {
   "cell_type": "code",
   "execution_count": 78,
   "metadata": {},
   "outputs": [
    {
     "name": "stdout",
     "output_type": "stream",
     "text": [
      "Modified partition coefficient:  {0: 0.6247074786785543, 1: 0.03173425637491434, 2: 0.15056567370465979, 3: 0.02685505460227755, 4: 0.046362193153639986, 5: 0.06346592421945385, 6: 0.03843620740572351, 7: 0.1220733776825158, 8: 0.14189072105715728, 9: 0.03920434475554513}\n",
      "Índice de Rand corrigido: 0.38865568691976343\n"
     ]
    },
    {
     "data": {
      "text/plain": [
       "<sklearn.metrics._plot.confusion_matrix.ConfusionMatrixDisplay at 0x14c562b6780>"
      ]
     },
     "execution_count": 78,
     "metadata": {},
     "output_type": "execute_result"
    },
    {
     "data": {
      "image/png": "[encoded data removed]",
      "text/plain": [
       "<Figure size 432x288 with 2 Axes>"
      ]
     },
     "metadata": {
      "needs_background": "light"
     },
     "output_type": "display_data"
    }
   ],
   "source": [
    "pertencify = pipeline.predict(X, is_preprocessing=True, argmax=False)\n",
    "y_predict = pertencify.argmax(1)\n",
    "\n",
    "mpcs = {i: Metrics.mpc(pertencify[y.values[:,0]==i]) for i in range(model.num_class)}\n",
    "\n",
    "# model.init_u\n",
    "print(f\"Modified partition coefficient:  {mpcs}\")# f,\n",
    "print(f\"Índice de Rand corrigido: {Metrics.ars(y.values[:,0], y_predict)}\")# f,\n",
    "\n",
    "cm = confusion_matrix(y.values[:,0], y_predict)\n",
    "cmd = ConfusionMatrixDisplay(confusion_matrix=cm, display_labels=np.arange(model.num_class))\n",
    "cmd.plot()"
   ]
  },
  {
   "cell_type": "markdown",
   "metadata": {},
   "source": [
    "#### datasets -> mfeat-zer"
   ]
  },
  {
   "cell_type": "code",
   "execution_count": 16,
   "metadata": {},
   "outputs": [
    {
     "name": "stdout",
     "output_type": "stream",
     "text": [
      "repeation: 1 funcão objetivo: 754.1397265450329\n",
      "Modified partition coefficient: 0.023086847142524514,  adjusted rand score: 0.23698481871875876\n",
      "repeation: 2 funcão objetivo: 741.5016351311858\n",
      "Modified partition coefficient: 0.05257477966309876,  adjusted rand score: 0.2784697732197146\n",
      "repeation: 3 funcão objetivo: 739.2222598859009\n",
      "Modified partition coefficient: 0.045753783225457645,  adjusted rand score: 0.3073475167396266\n",
      "repeation: 4 funcão objetivo: 738.9719012391694\n",
      "Modified partition coefficient: 0.0463353537316048,  adjusted rand score: 0.3075416426400738\n",
      "repeation: 5 funcão objetivo: 739.6815168883574\n",
      "Modified partition coefficient: 0.04519812166189763,  adjusted rand score: 0.30126222481715925\n",
      "repeation: 6 funcão objetivo: 739.6269715226533\n",
      "Modified partition coefficient: 0.04538429424958257,  adjusted rand score: 0.3027287246775633\n",
      "repeation: 7 funcão objetivo: 741.4218556916884\n",
      "Modified partition coefficient: 0.05264573195014455,  adjusted rand score: 0.2764948487463571\n",
      "repeation: 8 funcão objetivo: 739.8460064603253\n",
      "Modified partition coefficient: 0.04499070592176613,  adjusted rand score: 0.30147438525034087\n",
      "repeation: 9 funcão objetivo: 739.6277809091715\n",
      "Modified partition coefficient: 0.045542333271835655,  adjusted rand score: 0.30511249975944643\n",
      "repeation: 10 funcão objetivo: 739.5463399094656\n",
      "Modified partition coefficient: 0.045553632731413995,  adjusted rand score: 0.3046117402411105\n",
      "repeation: 11 funcão objetivo: 739.9025941930992\n",
      "Modified partition coefficient: 0.04525203671985911,  adjusted rand score: 0.3028478847938875\n",
      "repeation: 12 funcão objetivo: 739.6337371203406\n",
      "Modified partition coefficient: 0.0455297189982089,  adjusted rand score: 0.30566697058437325\n",
      "repeation: 13 funcão objetivo: 742.4683352044578\n",
      "Modified partition coefficient: 0.051469317335331,  adjusted rand score: 0.273405117421769\n",
      "repeation: 14 funcão objetivo: 756.2665945991107\n",
      "Modified partition coefficient: 0.0426909442922887,  adjusted rand score: 0.24756426250933417\n",
      "repeation: 15 funcão objetivo: 741.7604768312298\n",
      "Modified partition coefficient: 0.05227015155374415,  adjusted rand score: 0.2717307423190499\n",
      "repeation: 16 funcão objetivo: 739.6015278200214\n",
      "Modified partition coefficient: 0.045559864125413685,  adjusted rand score: 0.30653757365352047\n",
      "repeation: 17 funcão objetivo: 739.4562588438441\n",
      "Modified partition coefficient: 0.04565420287727273,  adjusted rand score: 0.3048533795473878\n",
      "repeation: 18 funcão objetivo: 742.1633146178696\n",
      "Modified partition coefficient: 0.05184409223964359,  adjusted rand score: 0.27275463323830657\n",
      "repeation: 19 funcão objetivo: 753.6758590137231\n",
      "Modified partition coefficient: 0.023672920700590905,  adjusted rand score: 0.24073354316976467\n",
      "repeation: 20 funcão objetivo: 751.1350038814827\n",
      "Modified partition coefficient: 0.052155775283131534,  adjusted rand score: 0.26356896597386387\n",
      "repeation: 21 funcão objetivo: 739.5314940519177\n",
      "Modified partition coefficient: 0.04556191462085013,  adjusted rand score: 0.3032900314867564\n",
      "repeation: 22 funcão objetivo: 753.7467103277576\n",
      "Modified partition coefficient: 0.023608333764621126,  adjusted rand score: 0.24275285342495143\n",
      "repeation: 23 funcão objetivo: 738.9476938284625\n",
      "Modified partition coefficient: 0.046356795939049955,  adjusted rand score: 0.308011991446572\n",
      "repeation: 24 funcão objetivo: 753.8344403296567\n",
      "Modified partition coefficient: 0.023455945732790418,  adjusted rand score: 0.2413916171771947\n",
      "repeation: 25 funcão objetivo: 739.6831877813414\n",
      "Modified partition coefficient: 0.0454307987139847,  adjusted rand score: 0.2996224990913814\n",
      "repeation: 26 funcão objetivo: 741.9782408529618\n",
      "Modified partition coefficient: 0.052022559784351774,  adjusted rand score: 0.27504048302753653\n",
      "repeation: 27 funcão objetivo: 739.3507338338234\n",
      "Modified partition coefficient: 0.04575447862897242,  adjusted rand score: 0.3078654262647384\n",
      "repeation: 28 funcão objetivo: 744.6176273131887\n",
      "Modified partition coefficient: 0.047338093125155245,  adjusted rand score: 0.2753225829348786\n",
      "repeation: 29 funcão objetivo: 741.3914538659302\n",
      "Modified partition coefficient: 0.05266483102720054,  adjusted rand score: 0.2765678199693791\n",
      "repeation: 30 funcão objetivo: 739.588375612072\n",
      "Modified partition coefficient: 0.04555351383694206,  adjusted rand score: 0.30119891674530397\n",
      "repeation: 31 funcão objetivo: 753.6058360673937\n",
      "Modified partition coefficient: 0.023723169444341496,  adjusted rand score: 0.24321463849092229\n",
      "repeation: 32 funcão objetivo: 741.5801313119065\n",
      "Modified partition coefficient: 0.05246347190448264,  adjusted rand score: 0.2744737816024068\n",
      "repeation: 33 funcão objetivo: 741.9164544735614\n",
      "Modified partition coefficient: 0.05200890224522792,  adjusted rand score: 0.27383999684998683\n",
      "repeation: 34 funcão objetivo: 741.706289335797\n",
      "Modified partition coefficient: 0.05233444493076023,  adjusted rand score: 0.273837640064313\n",
      "repeation: 35 funcão objetivo: 739.2034032562575\n",
      "Modified partition coefficient: 0.04595265466638432,  adjusted rand score: 0.3067888457438866\n",
      "repeation: 36 funcão objetivo: 739.2975558523494\n",
      "Modified partition coefficient: 0.045810154923897395,  adjusted rand score: 0.30714738963277166\n",
      "repeation: 37 funcão objetivo: 739.5072995128248\n",
      "Modified partition coefficient: 0.04552993146518003,  adjusted rand score: 0.30660698956020555\n",
      "repeation: 38 funcão objetivo: 739.3337185341961\n",
      "Modified partition coefficient: 0.04576103488092653,  adjusted rand score: 0.3072320826087079\n",
      "repeation: 39 funcão objetivo: 751.5840550435478\n",
      "Modified partition coefficient: 0.05164801238646022,  adjusted rand score: 0.2600999189179701\n",
      "repeation: 40 funcão objetivo: 738.9979040364594\n",
      "Modified partition coefficient: 0.04622512723639283,  adjusted rand score: 0.30735557132864005\n",
      "repeation: 41 funcão objetivo: 753.9155185625285\n",
      "Modified partition coefficient: 0.02334937700399553,  adjusted rand score: 0.23890299432781525\n",
      "repeation: 42 funcão objetivo: 741.7070235848544\n",
      "Modified partition coefficient: 0.05231208079093108,  adjusted rand score: 0.27413875920588404\n",
      "repeation: 43 funcão objetivo: 739.2271564078587\n",
      "Modified partition coefficient: 0.045924209962362905,  adjusted rand score: 0.3059340150055441\n",
      "repeation: 44 funcão objetivo: 738.9461751460419\n",
      "Modified partition coefficient: 0.046307613293537386,  adjusted rand score: 0.30810544131443723\n",
      "repeation: 45 funcão objetivo: 754.0906861314579\n",
      "Modified partition coefficient: 0.023187293892195426,  adjusted rand score: 0.2407502919044774\n",
      "repeation: 46 funcão objetivo: 738.9708709889076\n",
      "Modified partition coefficient: 0.046310735807921555,  adjusted rand score: 0.3059040147872625\n",
      "repeation: 47 funcão objetivo: 754.0711564347902\n",
      "Modified partition coefficient: 0.023010201211639547,  adjusted rand score: 0.2388203235938548\n",
      "repeation: 48 funcão objetivo: 754.1160008135391\n",
      "Modified partition coefficient: 0.02320383378675117,  adjusted rand score: 0.2407712101495404\n",
      "repeation: 49 funcão objetivo: 751.328808898779\n",
      "Modified partition coefficient: 0.05193717218419647,  adjusted rand score: 0.26327121775007595\n",
      "repeation: 50 funcão objetivo: 739.1695741376457\n",
      "Modified partition coefficient: 0.045985866748067594,  adjusted rand score: 0.3077470842918362\n"
     ]
    }
   ],
   "source": [
    "cleaner = Cleaner()\n",
    "X, y = cleaner.read_dataset(\"datasets\\mfeat-zer\")\n",
    "X_clean, y_clean = cleaner.transform(X, y)\n",
    "X, y = Cleaner().transform(X, y)\n",
    "\n",
    "model = Trainer(num_class = 10, \n",
    "                epochs = 100, \n",
    "                threshold = 1e-6, \n",
    "                model_creator=FuzzyCMeansGaussianS2, \n",
    "                m = m, \n",
    "                verbose = False, \n",
    "                repeat = 50, \n",
    "                filename=f\"mfeat-zer/model.json\",)\n",
    "\n",
    "pipeline = Pipeline([(\"Normalizer\", Normalizer()), \n",
    "                     (\"Transformer\", Transformer()),                      \n",
    "                    (\"Model\", model)])\n",
    "pipeline.fit(X_clean, y_clean)\n",
    "\n",
    "metrics[m][\"mfeat-zer\"] = model.metrics"
   ]
  },
  {
   "cell_type": "code",
   "execution_count": 17,
   "metadata": {},
   "outputs": [
    {
     "name": "stdout",
     "output_type": "stream",
     "text": [
      "Gs\n"
     ]
    },
    {
     "data": {
      "text/plain": [
       "<Figure size 1440x432 with 0 Axes>"
      ]
     },
     "metadata": {},
     "output_type": "display_data"
    },
    {
     "data": {
      "image/png": "[encoded data removed]",
      "text/plain": [
       "<Figure size 432x288 with 1 Axes>"
      ]
     },
     "metadata": {
      "needs_background": "light"
     },
     "output_type": "display_data"
    },
    {
     "name": "stdout",
     "output_type": "stream",
     "text": [
      "S2s\n"
     ]
    },
    {
     "data": {
      "text/plain": [
       "<Figure size 1440x432 with 0 Axes>"
      ]
     },
     "metadata": {},
     "output_type": "display_data"
    },
    {
     "data": {
      "image/png": "[encoded data removed]",
      "text/plain": [
       "<Figure size 432x288 with 1 Axes>"
      ]
     },
     "metadata": {
      "needs_background": "light"
     },
     "output_type": "display_data"
    }
   ],
   "source": [
    "model.show_G_S(f\"./figs/{m}/mfeat-zer\")"
   ]
  },
  {
   "cell_type": "code",
   "execution_count": 18,
   "metadata": {},
   "outputs": [
    {
     "name": "stdout",
     "output_type": "stream",
     "text": [
      "Modified partition coefficient:  {0: 0.20482414140370497, 1: 0.10351432764787527, 2: 0.05215672758306844, 3: 0.011699780114431957, 4: 0.011790337867904843, 5: 0.014409250732995815, 6: 0.018402380653946504, 7: 0.006343301016093927, 8: 0.019443414376652313, 9: 0.019547264930402264}\n",
      "Índice de Rand corrigido: 0.30810544131443723\n"
     ]
    },
    {
     "data": {
      "text/plain": [
       "<sklearn.metrics._plot.confusion_matrix.ConfusionMatrixDisplay at 0x17a58686d68>"
      ]
     },
     "execution_count": 18,
     "metadata": {},
     "output_type": "execute_result"
    },
    {
     "data": {
      "image/png": "[encoded data removed]",
      "text/plain": [
       "<Figure size 432x288 with 2 Axes>"
      ]
     },
     "metadata": {
      "needs_background": "light"
     },
     "output_type": "display_data"
    }
   ],
   "source": [
    "pertencify = pipeline.predict(X, is_preprocessing=True, argmax=False)\n",
    "y_predict = pertencify.argmax(1)\n",
    "\n",
    "mpcs = {i: Metrics.mpc(pertencify[y==i]) for i in range(model.num_class)}\n",
    "\n",
    "# model.init_u\n",
    "print(f\"Modified partition coefficient:  {mpcs}\")# f,\n",
    "print(f\"Índice de Rand corrigido: {Metrics.ars(y, y_predict)}\")# f,\n",
    "\n",
    "cm = confusion_matrix(y, y_predict)\n",
    "cmd = ConfusionMatrixDisplay(confusion_matrix=cm, display_labels=np.arange(model.num_class))\n",
    "cmd.plot()"
   ]
  },
  {
   "cell_type": "markdown",
   "metadata": {},
   "source": [
    "#### datasets -> iris"
   ]
  },
  {
   "cell_type": "code",
   "execution_count": 68,
   "metadata": {},
   "outputs": [],
   "source": [
    "iris = datasets.load_iris()\n",
    "X = pd.DataFrame(iris.data)\n",
    "y = pd.DataFrame({len(X.columns.values):iris.target})\n",
    "cleaner = Cleaner()"
   ]
  },
  {
   "cell_type": "code",
   "execution_count": 69,
   "metadata": {},
   "outputs": [
    {
     "name": "stdout",
     "output_type": "stream",
     "text": [
      "repeation: 1 funcão objetivo: 0.3699555551337107\n",
      "Modified partition coefficient: 0.8442132888936337,  adjusted rand score: 0.9035691663683182\n",
      "repeation: 2 funcão objetivo: 0.36995545604974767\n",
      "Modified partition coefficient: 0.8442128315528195,  adjusted rand score: 0.9035691663683182\n",
      "repeation: 3 funcão objetivo: 0.36995593742345245\n",
      "Modified partition coefficient: 0.8442151260073463,  adjusted rand score: 0.9035691663683182\n",
      "repeation: 4 funcão objetivo: 0.3699556847186088\n",
      "Modified partition coefficient: 0.844212253864933,  adjusted rand score: 0.9035691663683182\n",
      "repeation: 5 funcão objetivo: 0.3699554602258903\n",
      "Modified partition coefficient: 0.8442129359914474,  adjusted rand score: 0.9035691663683182\n",
      "repeation: 6 funcão objetivo: 0.3699543013063209\n",
      "Modified partition coefficient: 0.8442070393599654,  adjusted rand score: 0.9035691663683182\n",
      "repeation: 7 funcão objetivo: 0.5234712014182967\n",
      "Modified partition coefficient: 0.8919640708723391,  adjusted rand score: 0.443540461316264\n",
      "repeation: 8 funcão objetivo: 0.3699552637575496\n",
      "Modified partition coefficient: 0.8442092563839942,  adjusted rand score: 0.9035691663683182\n",
      "repeation: 9 funcão objetivo: 0.3699557361568604\n",
      "Modified partition coefficient: 0.8442108242474039,  adjusted rand score: 0.9035691663683182\n",
      "repeation: 10 funcão objetivo: 0.5234741395845661\n",
      "Modified partition coefficient: 0.8920828291600823,  adjusted rand score: 0.443540461316264\n",
      "repeation: 11 funcão objetivo: 0.5234755770439188\n",
      "Modified partition coefficient: 0.8920212176923493,  adjusted rand score: 0.443540461316264\n",
      "repeation: 12 funcão objetivo: 0.3699555136129026\n",
      "Modified partition coefficient: 0.844211363909738,  adjusted rand score: 0.9035691663683182\n",
      "repeation: 13 funcão objetivo: 0.5234722872993328\n",
      "Modified partition coefficient: 0.8920486642622681,  adjusted rand score: 0.443540461316264\n",
      "repeation: 14 funcão objetivo: 0.369955213417431\n",
      "Modified partition coefficient: 0.8442095087257449,  adjusted rand score: 0.9035691663683182\n",
      "repeation: 15 funcão objetivo: 0.36995506162991426\n",
      "Modified partition coefficient: 0.8442071308581675,  adjusted rand score: 0.9035691663683182\n",
      "repeation: 16 funcão objetivo: 0.3699543203052313\n",
      "Modified partition coefficient: 0.8442082259939274,  adjusted rand score: 0.9035691663683182\n",
      "repeation: 17 funcão objetivo: 0.5234714507678422\n",
      "Modified partition coefficient: 0.8920319102951686,  adjusted rand score: 0.443540461316264\n",
      "repeation: 18 funcão objetivo: 0.5234728002976646\n",
      "Modified partition coefficient: 0.8920345909967857,  adjusted rand score: 0.443540461316264\n",
      "repeation: 19 funcão objetivo: 0.5234674705277134\n",
      "Modified partition coefficient: 0.8918996029279525,  adjusted rand score: 0.44202390519997947\n",
      "repeation: 20 funcão objetivo: 0.36995510718705354\n",
      "Modified partition coefficient: 0.8442165169599346,  adjusted rand score: 0.9035691663683182\n",
      "repeation: 21 funcão objetivo: 0.5234719042025204\n",
      "Modified partition coefficient: 0.8920126280943479,  adjusted rand score: 0.443540461316264\n",
      "repeation: 22 funcão objetivo: 0.5234736198701582\n",
      "Modified partition coefficient: 0.8920710838418573,  adjusted rand score: 0.443540461316264\n",
      "repeation: 23 funcão objetivo: 0.5234737599036403\n",
      "Modified partition coefficient: 0.8920731751283002,  adjusted rand score: 0.443540461316264\n",
      "repeation: 24 funcão objetivo: 0.3699557728083519\n",
      "Modified partition coefficient: 0.8442142644473608,  adjusted rand score: 0.9035691663683182\n",
      "repeation: 25 funcão objetivo: 0.3699549584530371\n",
      "Modified partition coefficient: 0.8441994762970412,  adjusted rand score: 0.9035691663683182\n",
      "repeation: 26 funcão objetivo: 0.3699558706089917\n",
      "Modified partition coefficient: 0.8442148238464512,  adjusted rand score: 0.9035691663683182\n",
      "repeation: 27 funcão objetivo: 0.5234920212281914\n",
      "Modified partition coefficient: 0.8920099736534974,  adjusted rand score: 0.443540461316264\n",
      "repeation: 28 funcão objetivo: 0.36995580017144675\n",
      "Modified partition coefficient: 0.8442126656782432,  adjusted rand score: 0.9035691663683182\n",
      "repeation: 29 funcão objetivo: 0.36995558869126915\n",
      "Modified partition coefficient: 0.8442134418007576,  adjusted rand score: 0.9035691663683182\n",
      "repeation: 30 funcão objetivo: 0.3699561353019861\n",
      "Modified partition coefficient: 0.8442158091475145,  adjusted rand score: 0.9035691663683182\n",
      "repeation: 31 funcão objetivo: 0.36995597680879505\n",
      "Modified partition coefficient: 0.8442151389588521,  adjusted rand score: 0.9035691663683182\n",
      "repeation: 32 funcão objetivo: 0.52347086401619\n",
      "Modified partition coefficient: 0.891967424951829,  adjusted rand score: 0.443540461316264\n",
      "repeation: 33 funcão objetivo: 0.5234720079079408\n",
      "Modified partition coefficient: 0.8920396165293378,  adjusted rand score: 0.443540461316264\n",
      "repeation: 34 funcão objetivo: 0.523470950941656\n",
      "Modified partition coefficient: 0.891967104656817,  adjusted rand score: 0.443540461316264\n",
      "repeation: 35 funcão objetivo: 0.5234140180286535\n",
      "Modified partition coefficient: 0.8908879999055263,  adjusted rand score: 0.44093984085113974\n",
      "repeation: 36 funcão objetivo: 0.5234718821937734\n",
      "Modified partition coefficient: 0.8920333712683071,  adjusted rand score: 0.443540461316264\n",
      "repeation: 37 funcão objetivo: 0.5234723876080793\n",
      "Modified partition coefficient: 0.892058995809978,  adjusted rand score: 0.443540461316264\n",
      "repeation: 38 funcão objetivo: 0.36995586191052066\n",
      "Modified partition coefficient: 0.8442149960275513,  adjusted rand score: 0.9035691663683182\n",
      "repeation: 39 funcão objetivo: 0.3699546042575753\n",
      "Modified partition coefficient: 0.8442073491212998,  adjusted rand score: 0.9035691663683182\n",
      "repeation: 40 funcão objetivo: 0.36995523113358597\n",
      "Modified partition coefficient: 0.844211846888101,  adjusted rand score: 0.9035691663683182\n",
      "repeation: 41 funcão objetivo: 0.5234703601127162\n",
      "Modified partition coefficient: 0.8920272909590945,  adjusted rand score: 0.443540461316264\n",
      "repeation: 42 funcão objetivo: 0.36995402056047033\n",
      "Modified partition coefficient: 0.8442041246133298,  adjusted rand score: 0.9035691663683182\n",
      "repeation: 43 funcão objetivo: 0.36995598814110064\n",
      "Modified partition coefficient: 0.8442080322080888,  adjusted rand score: 0.9035691663683182\n",
      "repeation: 44 funcão objetivo: 0.3699553101764955\n",
      "Modified partition coefficient: 0.8442104170849856,  adjusted rand score: 0.9035691663683182\n",
      "repeation: 45 funcão objetivo: 0.36995501023019556\n",
      "Modified partition coefficient: 0.8442086794187791,  adjusted rand score: 0.9035691663683182\n",
      "repeation: 46 funcão objetivo: 0.5234709437747108\n",
      "Modified partition coefficient: 0.8919686899299357,  adjusted rand score: 0.443540461316264\n",
      "repeation: 47 funcão objetivo: 0.3699556531919518\n",
      "Modified partition coefficient: 0.8442137115271313,  adjusted rand score: 0.9035691663683182\n",
      "repeation: 48 funcão objetivo: 0.36995554525050967\n",
      "Modified partition coefficient: 0.8442131757684711,  adjusted rand score: 0.9035691663683182\n",
      "repeation: 49 funcão objetivo: 0.5234772318440031\n",
      "Modified partition coefficient: 0.8919489161355654,  adjusted rand score: 0.443540461316264\n",
      "repeation: 50 funcão objetivo: 0.5234728463925137\n",
      "Modified partition coefficient: 0.8920413084071588,  adjusted rand score: 0.443540461316264\n"
     ]
    }
   ],
   "source": [
    "X_clean, y_clean = cleaner.transform(X, y)\n",
    "\n",
    "model = Trainer(num_class = 3, \n",
    "                epochs = 100, \n",
    "                threshold = 1e-6, \n",
    "                model_creator=FuzzyCMeansGaussianS2, \n",
    "                m = m, \n",
    "                verbose = False, \n",
    "                repeat = 50, \n",
    "                filename=f\"iris/model.json\",)\n",
    "\n",
    "pipeline = Pipeline([(\"Normalizer\", Normalizer()), \n",
    "                     (\"Transformer\", Transformer()),                      \n",
    "                    (\"Model\", model)])\n",
    "pipeline.fit(X_clean, y_clean)\n",
    "\n",
    "metrics[m] = {\"iris\": model.metrics}\n"
   ]
  },
  {
   "cell_type": "code",
   "execution_count": 71,
   "metadata": {},
   "outputs": [],
   "source": [
    "new_model = Model()\n",
    "new_model.load_model(f\"model/{m}/iris/model.json\")\n",
    "y_predict = new_model.predict(X, True)#.shape, X.shape\n"
   ]
  },
  {
   "cell_type": "code",
   "execution_count": 72,
   "metadata": {},
   "outputs": [
    {
     "name": "stdout",
     "output_type": "stream",
     "text": [
      "Gs\n"
     ]
    },
    {
     "data": {
      "text/plain": [
       "<Figure size 1440x432 with 0 Axes>"
      ]
     },
     "metadata": {},
     "output_type": "display_data"
    },
    {
     "data": {
      "image/png": "[encoded data removed]",
      "text/plain": [
       "<Figure size 432x288 with 1 Axes>"
      ]
     },
     "metadata": {
      "needs_background": "light"
     },
     "output_type": "display_data"
    },
    {
     "name": "stdout",
     "output_type": "stream",
     "text": [
      "S2s\n"
     ]
    },
    {
     "data": {
      "text/plain": [
       "<Figure size 1440x432 with 0 Axes>"
      ]
     },
     "metadata": {},
     "output_type": "display_data"
    },
    {
     "data": {
      "image/png": "[encoded data removed]",
      "text/plain": [
       "<Figure size 432x288 with 1 Axes>"
      ]
     },
     "metadata": {
      "needs_background": "light"
     },
     "output_type": "display_data"
    }
   ],
   "source": [
    "model.show_G_S(f\"figs/{m}/iris\")"
   ]
  },
  {
   "cell_type": "code",
   "execution_count": 73,
   "metadata": {},
   "outputs": [
    {
     "name": "stdout",
     "output_type": "stream",
     "text": [
      "Modified partition coefficient:  {0: 0.9878277219413591, 1: 0.7805127217493312, 2: 0.7671528594218375}\n",
      "Índice de Rand corrigido: 0.9038742317748124\n"
     ]
    },
    {
     "data": {
      "text/plain": [
       "<sklearn.metrics._plot.confusion_matrix.ConfusionMatrixDisplay at 0x14c562d0160>"
      ]
     },
     "execution_count": 73,
     "metadata": {},
     "output_type": "execute_result"
    },
    {
     "data": {
      "image/png": "[encoded data removed]",
      "text/plain": [
       "<Figure size 432x288 with 2 Axes>"
      ]
     },
     "metadata": {
      "needs_background": "light"
     },
     "output_type": "display_data"
    }
   ],
   "source": [
    "pertencify = pipeline.predict(X, is_preprocessing=True, argmax=False)\n",
    "y_predict = pertencify.argmax(1)\n",
    "\n",
    "mpcs = {i: Metrics.mpc(pertencify[y.values[:,0]==i]) for i in range(model.num_class)}\n",
    "\n",
    "# model.init_u\n",
    "print(f\"Modified partition coefficient:  {mpcs}\")# f,\n",
    "print(f\"Índice de Rand corrigido: {Metrics.ars(y.values[:,0], y_predict)}\")# f,\n",
    "\n",
    "cm = confusion_matrix(y.values[:,0], y_predict)\n",
    "cmd = ConfusionMatrixDisplay(confusion_matrix=cm, display_labels=np.arange(model.num_class))\n",
    "cmd.plot()"
   ]
  },
  {
   "cell_type": "markdown",
   "metadata": {},
   "source": [
    "# show experiments"
   ]
  },
  {
   "cell_type": "code",
   "execution_count": 93,
   "metadata": {},
   "outputs": [
    {
     "data": {
      "text/plain": [
       "[12.695396592612276,\n",
       " 12.8404760851869,\n",
       " 12.679782558771912,\n",
       " 12.63551420604752,\n",
       " 12.714638791208772,\n",
       " 12.695395261733871,\n",
       " 12.691577813701443,\n",
       " 12.978546176282334,\n",
       " 12.840475114721507,\n",
       " 12.888360517056407,\n",
       " 12.695129654346207,\n",
       " 12.635590148284711,\n",
       " 12.874888344801196,\n",
       " 12.864909575178617,\n",
       " 12.844872966147632,\n",
       " 12.840475684864934,\n",
       " 12.752260104535024,\n",
       " 12.624314873641861,\n",
       " 12.624315012099544,\n",
       " 12.864910703708672,\n",
       " 12.65014171685571,\n",
       " 12.708692282884446,\n",
       " 12.744178115566758,\n",
       " 12.874610493056142,\n",
       " 12.695378006591309,\n",
       " 12.8649074683744,\n",
       " 12.635695185259989,\n",
       " 12.880374327894087,\n",
       " 12.87362539899419,\n",
       " 12.87359309401085,\n",
       " 12.97854838794099,\n",
       " 12.840449400939981,\n",
       " 12.695395968250898,\n",
       " 12.62431493064446,\n",
       " 12.624314786548169,\n",
       " 12.635502736917134,\n",
       " 12.69157831773381,\n",
       " 12.624314888261837,\n",
       " 12.650906176858047,\n",
       " 12.635676396071721,\n",
       " 12.833514916263425,\n",
       " 12.87359273995779,\n",
       " 12.63550287651512,\n",
       " 12.714507181111358,\n",
       " 12.635501568781008,\n",
       " 12.624314668571156,\n",
       " 12.888367545336138,\n",
       " 12.636532647110839,\n",
       " 12.873704523969222,\n",
       " 12.833523171626135]"
      ]
     },
     "execution_count": 93,
     "metadata": {},
     "output_type": "execute_result"
    }
   ],
   "source": [
    "# metrics = {}\n",
    "metrics[1.1][\"mfeat-fac\"][\"objetive_function\"]"
   ]
  },
  {
   "cell_type": "code",
   "execution_count": 19,
   "metadata": {},
   "outputs": [
    {
     "data": {
      "text/plain": [
       "dict_keys(['iris', 'mfeat-fac', 'mfeat-fou', 'mfeat-zer'])"
      ]
     },
     "execution_count": 19,
     "metadata": {},
     "output_type": "execute_result"
    }
   ],
   "source": [
    "dirs = os.listdir(f\"./metrics/{m}/\")\n",
    "\n",
    "m_i = 1.1\n",
    "for m_i in [1.1, 1.6]:\n",
    "  metrics[m_i] = {file_name: {} for file_name in dirs}\n",
    "  for file_name in dirs:\n",
    "    # print(file_name)\n",
    "    with open(f\"./metrics/{m_i}/{file_name}/model.json\", 'r') as openfile:\n",
    "      metrics[m_i][file_name] = json.load(openfile)\n",
    "metrics[m_i].keys()"
   ]
  },
  {
   "cell_type": "code",
   "execution_count": null,
   "metadata": {},
   "outputs": [
    {
     "data": {
      "image/png": "[encoded data removed]",
      "text/plain": [
       "<Figure size 1008x288 with 3 Axes>"
      ]
     },
     "metadata": {
      "needs_background": "light"
     },
     "output_type": "display_data"
    },
    {
     "data": {
      "image/png": "[encoded data removed]",
      "text/plain": [
       "<Figure size 1008x288 with 3 Axes>"
      ]
     },
     "metadata": {
      "needs_background": "light"
     },
     "output_type": "display_data"
    },
    {
     "data": {
      "image/png": "[encoded data removed]",
      "text/plain": [
       "<Figure size 1008x288 with 3 Axes>"
      ]
     },
     "metadata": {
      "needs_background": "light"
     },
     "output_type": "display_data"
    },
    {
     "data": {
      "image/png": "[encoded data removed]",
      "text/plain": [
       "<Figure size 1008x288 with 3 Axes>"
      ]
     },
     "metadata": {
      "needs_background": "light"
     },
     "output_type": "display_data"
    }
   ],
   "source": [
    "def show_box(data_f, params, xlabel, title):\n",
    "  fig, axs = plt.subplots(nrows=1, ncols=len(data_f), figsize=(14, 4))\n",
    "  # name_y, d_f = data_f\n",
    "  # plot box plot\n",
    "  # plt.title(title, fontdict={})\n",
    "  fig.suptitle(title)\n",
    "  fig.subplots_adjust(hspace=1.4)\n",
    "  for i, (ax, (name_y, d_f)) in enumerate(zip(axs, data_f.items())):\n",
    "    ax.boxplot(d_f)\n",
    "    # ax.set_title('funcão objetivo e m ')\n",
    "    ax.yaxis.grid(True)\n",
    "    # ax.set_xticks([y + 1 for y in range(len(data_f))],\n",
    "    #               labels=params)\n",
    "    # ax.set_xticks(params, labels=params)\n",
    "    xtickNames = plt.setp(ax, xticklabels=params)\n",
    "    plt.setp(xtickNames, fontsize=8)\n",
    "    # ax.set_xlabel(params, minor=True)\n",
    "    ax.set_xlabel(xlabel)\n",
    "    ax.set_ylabel(name_y)\n",
    "\n",
    "  plt.show()\n",
    "\n",
    "\n",
    "# metrics.key()\n",
    "\n",
    "# raise Exception\n",
    "labels = [str(key) for key in metrics.keys()]\n",
    "data = {}\n",
    "for key in metrics.keys():\n",
    "  for dataset_name in metrics[key].keys():\n",
    "    if not data.get(dataset_name):\n",
    "      data[dataset_name] = {}\n",
    "      \n",
    "    for metric in metrics[key][dataset_name].keys(): \n",
    "      if not data[dataset_name].get(metric):\n",
    "        data[dataset_name][metric] = [metrics[key][dataset_name][metric]]\n",
    "      else:\n",
    "        data[dataset_name][metric].append(metrics[key][dataset_name][metric])\n",
    "        \n",
    "for dataset_name, d in data.items(): \n",
    "  show_box(d, labels, xlabel = \"param fuzzy(m)\", title=dataset_name)\n"
   ]
  }
 ],
 "metadata": {
  "kernelspec": {
   "display_name": "seg",
   "language": "python",
   "name": "python3"
  },
  "language_info": {
   "codemirror_mode": {
    "name": "ipython",
    "version": 3
   },
   "file_extension": ".py",
   "mimetype": "text/x-python",
   "name": "python",
   "nbconvert_exporter": "python",
   "pygments_lexer": "ipython3",
   "version": "3.6.13"
  },
  "orig_nbformat": 4
 },
 "nbformat": 4,
 "nbformat_minor": 2
}
