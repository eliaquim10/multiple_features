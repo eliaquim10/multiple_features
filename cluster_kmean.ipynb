{
 "cells": [
  {
   "cell_type": "markdown",
   "metadata": {},
   "source": [
    "### Clustering with algoritm Gaussian kernel fuzzy c-means "
   ]
  },
  {
   "cell_type": "markdown",
   "metadata": {},
   "source": [
    "This is a implementation with dataset Multiple features in the repository (https://archive.ics.uci.edu/dataset/72/multiple+features)\n",
    "we apply with tree datasets (mfeat-fac, mfeat-fou, mfeat-kar) for each do it:\n",
    "  - 50 times, with c=10 for partation fuzzy\n",
    "  - compute Modified partition coefficient\n",
    "  - paraments $T = 100, \\epsilon=10^{-6}, m = {1.1, 1.3, 1.6}$\n",
    "\n",
    "  - show the bests with based in fuction cost:\n",
    "    - prototatipes ${g_{1},..., g_n}$\n",
    "    - widths ${s_1,..., s_n}$\n",
    "    - confusion matrix \n",
    "\n",
    "\n",
    "base article: Gaussian Kernel Fuzzy C-Means with Width Parameter Computation and Regularization.\n",
    "PATTERN RECOGNITION, v. 143, p. 109749, 2023, \n",
    "doi: https://doi.org/10.1016/j.patcog.2023.109749 "
   ]
  },
  {
   "cell_type": "markdown",
   "metadata": {},
   "source": [
    "***\n",
    "Gaussian kernel function\n",
    "***\n",
    "$$\n",
    "  K^{(s_i)}(x_l, x_k) = exp{\n",
    "    \\displaystyle \n",
    "    \\Bigg \\{\n",
    "      -\\frac{1}{2}\n",
    "      \\sum \\limits _{j=1}^p \n",
    "        \\frac{1}{{s^2}_{ij}}\n",
    "        (x_{lj} - x_{kj})^2\n",
    "    \\Bigg \\} \n",
    "    }\n",
    "$$"
   ]
  },
  {
   "cell_type": "markdown",
   "metadata": {},
   "source": [
    "***\n",
    "objective  function\n",
    "***\n",
    "\n",
    "$$\n",
    "  J_{KFCM-K-W.2} = \n",
    "    \\displaystyle \n",
    "      \\sum \\limits _{i=1}^c \n",
    "        \\sum \\limits _{k=1}^n \n",
    "          (u_{ki})^m\n",
    "          (2 - 2{K^{(s_i)}(x_k, g_i)})\n",
    "$$\n",
    "\n",
    "$\n",
    "  s.t. u_{ki} \\ge 0\n",
    "$ and \n",
    "$\n",
    "  \\sum \\limits _{i=1}^c \n",
    "    u_{ki} = 1\n",
    "$"
   ]
  },
  {
   "cell_type": "markdown",
   "metadata": {},
   "source": [
    "***\n",
    "width\n",
    "***\n",
    "\n",
    "$$\n",
    "\\frac{1}{s_{ij}} = \n",
    "  \\frac{\n",
    "    \\Bigg \\{\n",
    "      \\prod \\limits _{h=1}^p \n",
    "        \\sum \\limits _{k=1}^n \n",
    "          {(u_{ki})^m}\n",
    "          {K^{(s_i)}(x_k, g_i)}\n",
    "          {(x_{kh} - g_{ih})^2}\n",
    "    \\Bigg \\}^\n",
    "    {\n",
    "      \\frac{1}{p}\n",
    "    }\n",
    "  }{\n",
    "    \\sum \\limits _{k=1}^n \n",
    "      {(u_{ki})^m}\n",
    "      {K^{(s_i)}(x_k, g_i)}\n",
    "      {(x_{kj} - g_{ij})^2}\n",
    "  } \n",
    "\n",
    "$$"
   ]
  },
  {
   "cell_type": "markdown",
   "metadata": {},
   "source": [
    "***\n",
    "prototipes\n",
    "***\n",
    "\n",
    "$$\n",
    "g_i = \n",
    "  \\frac{\n",
    "    \\sum \\limits _{k=1}^n \n",
    "      {(u_{ki})^m}\n",
    "      {K^{(s_i)}(x_k, g_i)}\n",
    "      {x_k}\n",
    "\n",
    "  }{\n",
    "    \\sum \\limits _{k=1}^n \n",
    "      {(u_{ki})^m}\n",
    "      {K^{(s_i)}(x_k, g_i)}\n",
    "  } \n",
    "$$\n",
    "$$\n",
    "  \\forall (1 \\le i \\le c)\n",
    "$$"
   ]
  },
  {
   "cell_type": "markdown",
   "metadata": {},
   "source": [
    "***\n",
    "fuzzy matrix\n",
    "***\n",
    "\n",
    "$$\n",
    "  u_{ki} = \n",
    "    \\Bigg [ \n",
    "      \\sum \\limits _{h=1}^c \n",
    "        \\Bigg ( \n",
    "          \\frac{\n",
    "            2 - 2{K^{(s_i)}(x_k, g_i)}\n",
    "          }{\n",
    "            2 - 2{K^{(s_i)}(x_k, g_h)}\n",
    "          }\n",
    "        \\Bigg )^\n",
    "        {\n",
    "          \\frac{1}{m-1}\n",
    "        } \n",
    "    \\Bigg ] ^{-1}\n",
    "$$"
   ]
  },
  {
   "cell_type": "markdown",
   "metadata": {},
   "source": [
    "### libs"
   ]
  },
  {
   "cell_type": "code",
   "execution_count": 10,
   "metadata": {},
   "outputs": [],
   "source": [
    "import numpy as np \n",
    "import matplotlib.pyplot as plt\n",
    "import pandas as pd\n",
    "from sklearn.base import BaseEstimator, TransformerMixin\n",
    "\n",
    "from sklearn.preprocessing import MinMaxScaler\n",
    "# from sklearn.preprocessing import minmax_scale\n",
    "from sklearn.preprocessing import MaxAbsScaler\n",
    "from sklearn.preprocessing import StandardScaler\n",
    "from sklearn.preprocessing import RobustScaler\n",
    "from sklearn.preprocessing import Normalizer\n",
    "from sklearn.preprocessing import QuantileTransformer\n",
    "from sklearn.pipeline import Pipeline\n",
    "\n",
    "from sklearn.metrics.cluster import adjusted_rand_score\n",
    "from sklearn import datasets\n",
    "from sklearn.metrics import confusion_matrix, ConfusionMatrixDisplay\n",
    "\n",
    "# from sklearn.cluster import KMeans\n"
   ]
  },
  {
   "cell_type": "markdown",
   "metadata": {},
   "source": [
    "### data x"
   ]
  },
  {
   "cell_type": "markdown",
   "metadata": {},
   "source": [
    "Para cada dataset < = X\n",
    "e partição fuzzy < = u, com m [0.5, 0.4, 0.1]\n",
    "produza uma partição crisp em 10 [1, 0, 0]\n",
    "grupos e \n",
    "calcule o índice de Rand corrigido \"adjusted_rand_score\""
   ]
  },
  {
   "cell_type": "code",
   "execution_count": 11,
   "metadata": {},
   "outputs": [],
   "source": [
    "class Cleaner(BaseEstimator, TransformerMixin):\n",
    "  def __init__(self):\n",
    "    super()\n",
    "\n",
    "  def fit(self, X, y):\n",
    "    return self\n",
    "  \n",
    "  def transform(self, X: pd.DataFrame, y=pd.DataFrame):\n",
    "    y_lenth = len(y)\n",
    "    if y_lenth:\n",
    "      # key = \"class\"\n",
    "      # y = pd.DataFrame({key: y})\n",
    "      values = pd.concat([X, y], axis=1)\n",
    "    else:\n",
    "      values = X.copy()\n",
    "\n",
    "    values = values.dropna()\n",
    "    values = values.drop_duplicates()\n",
    "    if y_lenth:\n",
    "      return values[X.columns.values], values[values.columns.values[-1]]\n",
    "    return values\n",
    "  \n",
    "  def fit_transform(self, X, y=pd.DataFrame):\n",
    "      return self.fit(X, y).transform(X, y)\n",
    "  \n",
    "class Transformer(BaseEstimator, TransformerMixin):\n",
    "  def __init__(self):\n",
    "    super()\n",
    "  def fit(self, X, y=None):\n",
    "    return self\n",
    "  def transform(self, X, y=None):\n",
    "    if type(X) == np.ndarray:\n",
    "      return X\n",
    "    return X.values\n",
    "  def fit_transform(self, X, y=None):\n",
    "      return self.fit(X, y).transform(X, y)"
   ]
  },
  {
   "cell_type": "code",
   "execution_count": 12,
   "metadata": {},
   "outputs": [],
   "source": [
    "def load_dataset(filename):\n",
    "  X = pd.read_csv(filename, header=None, delim_whitespace=True)\n",
    "  return X "
   ]
  },
  {
   "cell_type": "markdown",
   "metadata": {},
   "source": [
    "### metricas"
   ]
  },
  {
   "cell_type": "code",
   "execution_count": 85,
   "metadata": {},
   "outputs": [],
   "source": [
    "class Gaussian():\n",
    "  def distance(self, g, x, sigma):\n",
    "    if x.shape[0] == 0 or sigma.shape[0] == 0:\n",
    "      raise Exception\n",
    "    distance = (x - g)**2\n",
    "    distance_sigma = distance / sigma\n",
    "    summatory_distance = (-1/2)*np.sum(distance_sigma, 1)\n",
    "    return np.exp(summatory_distance)\n",
    "\n",
    "class Metrics():\n",
    "  def mpc(u: np.array):\n",
    "    # modified partition coefficient\n",
    "    n, k = u.shape\n",
    "    f = np.trace(u.dot(u.T)) / n\n",
    "    # f = np.trace(u**2) / n\n",
    "\n",
    "    mpc = 1 - (k/(k - 1))*(1 - f)\n",
    "    return mpc\n",
    "  def ars(y_true, y_pred):\n",
    "    return adjusted_rand_score(y_true, y_pred)"
   ]
  },
  {
   "cell_type": "markdown",
   "metadata": {},
   "source": [
    "### new model"
   ]
  },
  {
   "cell_type": "code",
   "execution_count": 14,
   "metadata": {},
   "outputs": [],
   "source": [
    "# n = numero total de X\n",
    "# k = numero de prototipos\n",
    "# remover a constante das distancias\n",
    "# qual s é muito pequeno que fica proximo de 0\n",
    "# usar o maximo possivel a bibiloteca(numpy) para o j, removendo os FORs "
   ]
  },
  {
   "cell_type": "code",
   "execution_count": 15,
   "metadata": {},
   "outputs": [
    {
     "data": {
      "text/plain": [
       "(array([0.99999669, 0.99999666, 1.00000665]), 1.0000000000000004)"
      ]
     },
     "execution_count": 15,
     "metadata": {},
     "output_type": "execute_result"
    }
   ],
   "source": [
    "p = 3\n",
    "ss = np.array([0.000398, 0.0000038, 0.000067])\n",
    "ss = np.array([1e-7, 7e-9, 3e-5])\n",
    "# ss = np.array([0.01, 0.1, 0.5])\n",
    "m = np.sum(ss)/p\n",
    "# n = ss/m\n",
    "n = (1 - ss) **(1/(p))\n",
    "d = np.prod(n)\n",
    "dd = (d)**(1/p)\n",
    "sss = dd/n\n",
    "sss, np.prod(sss)\n",
    "# (array([0.99999006, 0.99998997, 1.00001996]), 1.0000000000000002)\n",
    "# (array([0.99999669, 0.99999666, 1.00000665]), 1.0000000000000004)"
   ]
  },
  {
   "cell_type": "code",
   "execution_count": 82,
   "metadata": {},
   "outputs": [],
   "source": [
    "# tá funcionando bonitinho\n",
    "class Shower():\n",
    "  def __init__(self) -> None:\n",
    "    pass\n",
    "  def show_grafico(self, x):\n",
    "    _, axes = plt.subplots()\n",
    "    markers = ['^','x','+']\n",
    "    p = self.predict(self.G, x)\n",
    "    \n",
    "    for (c, (x_1, x_2)) in zip(p, x):\n",
    "      r, g, b, a = .9*((c+1)/self.num_class), .9*((c*1.1)/self.num_class), .9*((c*1.2)/self.num_class), 0.1\n",
    "      \n",
    "      axes.plot(x_1, x_2, \"ro\", marker=markers[c])\n",
    "      # if c:\n",
    "      # # axes.plot(x_1, x_2, c = (r, g, b, a))\n",
    "      # else:\n",
    "      #     axes.plot(x_1, x_2, \"bo\")\n",
    "        \n",
    "    raio = self.distance_classes() / 2\n",
    "    \n",
    "    for i, (x_1, x_2) in enumerate(self.G):\n",
    "        \n",
    "        plt.plot(x_1, x_2, \"go\", scalex=0.01,scaley=0.01)\n",
    "        # r, g, b, a = .9*((i+1)/self.num_class), .1*((i+1)/self.num_class), .1*(self.num_class/(i+1)), 0.9\n",
    "        r, g, b, a = .9*((i+1)/self.num_class), .9*((i*1.1)/self.num_class), .9*((i*1.2)/self.num_class), 0.9\n",
    "        # print(r, g, b, a)\n",
    "        c = plt.Circle((x_1, x_2), raio, color=(r, g, b, a), fill=False)\n",
    "\n",
    "        axes.set_aspect(aspect = 1, adjustable = \"datalim\", anchor=\"SW\")\n",
    "        axes.add_artist(c)\n",
    "    plt.show()\n",
    "  \n",
    "  def show_labels(self, x):\n",
    "    _, axes = plt.subplots()\n",
    "    axes.imshow(x)\n",
    "\n",
    "    plt.show()\n",
    "  \n",
    "  def show_G_S_U(self):\n",
    "    # print(np.sum(self.G, 1))\n",
    "    # print(np.sum(self.U, 1))\n",
    "    print(\"Gs\")\n",
    "    self.show_labels(self.G)\n",
    "    print(\"S2s\")\n",
    "    self.show_labels(self.sigma)\n",
    "    print(\"Us\")\n",
    "    for i in range(0, 100, 80):\n",
    "      self.show_labels((self.U[i:i + 80]).T)\n",
    "\n",
    "class FuzzyCMeansGaussianS2(Shower):\n",
    "  def __init__(self, num_class, epochs, threshold, loss = Gaussian(), m=1.1, seeder=0, verbose = False) -> None:\n",
    "    # load the hiperparams\n",
    "    self.num_class = num_class\n",
    "    self.loss = loss    \n",
    "    self.var_type = np.double\n",
    "    # self.var_type = np.float\n",
    "    self.m = m \n",
    "    self.verbose = verbose\n",
    "    self._only = True\n",
    "    if seeder:\n",
    "      self.seeder = seeder\n",
    "      np.random.seed(seeder)\n",
    "      \n",
    "    self.threshold = threshold\n",
    "    self.epochs = epochs \n",
    "\n",
    "  def predict(self, x):\n",
    "    # here we make predict in x\n",
    "    n = x.shape[0] \n",
    "\n",
    "    predict_value = np.zeros((n, self.k), dtype=self.var_type)\n",
    "\n",
    "    for i in range(self.k):\n",
    "      predict_value[:,i] = self.loss.distance(self.G[i], x, self.sigma[i])\n",
    "    return predict_value.argmax(1)\n",
    "  \n",
    "  def init_g(self, x):\n",
    "    # here we get random prototipes to train\n",
    "    args = np.random.choice(x.shape[0], self.num_class, replace=False)\n",
    "    self.G = x[args].copy()\n",
    "\n",
    "  def init_u(self, x):\n",
    "    # we calcule initial matrix of membership\n",
    "    g = self.G.copy()\n",
    "    sigma = self.sigma.copy()\n",
    "    self.n = x.shape[0]\n",
    "    self.k = g.shape[0]\n",
    "    \n",
    "    self.U = np.zeros((self.n, self.k), self.var_type)\n",
    "\n",
    "    distances = np.array([2 - 2*self.loss.distance(g[i], x, sigma[i]) for i in range(self.k)]).T\n",
    "\n",
    "    expoente = 1/(self.m-1)\n",
    "\n",
    "    for i in range(self.n):\n",
    "      # summation_c = np.array([(distances[i, h] / distances[i])**expoente for h in range(self.k)]) \n",
    "      # np.divide\n",
    "      summation_c = np.array([(distances[i] / distances[i, h])**expoente for h in range(self.k)]) #.T \n",
    "      # summation_c = np.array([np.divide(distances[i], distances[i, h], where=distances[i, h]!=0)**expoente for h in range(self.k)]).T \n",
    "\n",
    "      summation_c_i = np.sum(summation_c, 0)\n",
    "      summation_c_i = np.power(summation_c_i, -1)\n",
    "\n",
    "      membership_is_nan = np.isnan(summation_c_i)\n",
    "      \n",
    "      summation_u = np.sum(summation_c_i, where=membership_is_nan==False)\n",
    "\n",
    "      summation_u_1 = 1 - summation_u\n",
    "      abs_summation_u_1 = np.abs(summation_u_1)\n",
    "\n",
    "      if summation_u == 0 or membership_is_nan.any():\n",
    "          count = np.sum(membership_is_nan) # total nan\n",
    "          self.U[i] = np.nan_to_num(summation_c_i, nan = summation_u_1/count)   \n",
    "      elif abs_summation_u_1 > .01:\n",
    "        arg = summation_c_i.argmax()\n",
    "        summation_c_i[arg] = summation_c_i[arg] + summation_u_1\n",
    "        \n",
    "        self.U[i] = summation_c_i.copy()\n",
    "      else:\n",
    "        self.U[i] = summation_c_i.copy()\n",
    "\n",
    "    # self.U = u.copy()   \n",
    "   \n",
    "  def init_sigma(self, x):\n",
    "    # we calcule initial matrix of widths each 1\n",
    "    self.p = x.shape[1]\n",
    "    self.k = self.G.shape[0]\n",
    "    self.sigma = np.ones((self.k, self.p), dtype=self.var_type)\n",
    "\n",
    "  # passo 1\n",
    "  def otm_prototivo(self, g, u, x, sigma):\n",
    "    new_g = g.copy()\n",
    "    u_i = u**self.m\n",
    "\n",
    "    for i in range(self.k):\n",
    "      n_g = self.loss.distance(g[i], x, sigma[i])\n",
    "      \n",
    "      u_m_g = (u_i[:,i]*n_g)#*\n",
    "      u_m_gx = ((x.T)*u_m_g).T\n",
    "\n",
    "      s_umg = np.sum(u_m_g)\n",
    "      s_umgx = np.sum(u_m_gx, 0)\n",
    "      \n",
    "      new_g[i] = s_umgx / s_umg \n",
    "    return new_g\n",
    "  \n",
    "  # passo 2\n",
    "  def otm_u(self, g, x, sigma):\n",
    "    new_u = np.zeros((self.n, self.k), dtype=self.var_type)  \n",
    "    \n",
    "    distances = np.array([2 - 2*self.loss.distance(g[i], x, sigma[i]) for i in range(self.k)]).T\n",
    "    \n",
    "    expoente = 1/(self.m-1)\n",
    "    for i in range(self.n):\n",
    "      \n",
    "      summation_c = np.array([(distances[i] / distances[i, h])**expoente for h in range(self.k)]) \n",
    "\n",
    "      summation_c_i = np.sum(summation_c, 0)\n",
    "      summation_c_i = np.power(summation_c_i, -1)\n",
    "\n",
    "      membership_is_nan = np.isnan(summation_c_i)\n",
    "      \n",
    "      summation_u = np.sum(summation_c_i, where=membership_is_nan==False)\n",
    "      \n",
    "      summation_u_1 = 1 - summation_u\n",
    "      abs_summation_u_1 = np.abs(summation_u_1)\n",
    "\n",
    "      if summation_u == 0 or membership_is_nan.any():\n",
    "          count = np.sum(membership_is_nan) # total nan\n",
    "          new_u[i] = np.nan_to_num(summation_c_i, nan = summation_u_1/count)     \n",
    "      elif abs_summation_u_1 > .01:\n",
    "          arg = summation_c_i.argmax()\n",
    "          summation_c_i[arg] = summation_c_i[arg] + summation_u_1\n",
    "          \n",
    "          new_u[i] = summation_c_i.copy()\n",
    "      else:\n",
    "        new_u[i] = summation_c_i.copy()\n",
    "    return new_u\n",
    "\n",
    "  def otm_sigma(self, x, g, u):\n",
    "    s = self.sigma.copy()\n",
    "    \n",
    "    ui = (u**(self.m))\n",
    "    \n",
    "    for i in range(self.k):\n",
    "      g_i = g[i]\n",
    "      ui_per = ui[:,i]\n",
    "      \n",
    "\n",
    "      g_d = self.loss.distance(g_i, x, s[i]) \n",
    "      e_d = (x - g_i)**2 \n",
    "      \n",
    "      s_cn = e_d.T*(ui_per*g_d)\n",
    "      \n",
    "      if s_cn.shape[1] != 1:\n",
    "        ss_cn = np.sum(s_cn, 1).copy()\n",
    "      else:\n",
    "        ss_cn = np.squeeze(s_cn, 1).copy()\n",
    "        \n",
    "\n",
    "      s_p = np.prod(ss_cn)\n",
    "      s_p = s_p**(1/self.p)\n",
    "      \n",
    "      s_ij = s_p / ss_cn \n",
    "\n",
    "      r_r = s_ij[np.isnan(s_ij) == False]\n",
    "      p_r = np.prod(r_r)\n",
    "      \n",
    "      s_r = np.abs(1 - p_r)\n",
    "      \n",
    "              \n",
    "      # verificacao do produtorio para a classe que deve ser 1\n",
    "      if p_r == 0: \n",
    "        # quando os Si forem muito pequeno o produtorio dá zero por causa computacional\n",
    "        # sendo assim eu redistubuo a partir do inverso da media\n",
    "        # ss_cn => todos denominadores de Si\n",
    "        # [1/2, 1/2, 1/2] = [0.1/0.2 0.1/0.2 0.1/0.2] \n",
    "\n",
    "        # [S_i1, S_i2, S_i3] = [0.000398*0.0000038*0.000067/0.000398 \n",
    "        #                       0.000398*0.0000038*0.000067/0.0000038 \n",
    "        #                       0.000398*0.0000038*0.000067/0.000067]\n",
    "        #  [S_i1, S_i2, S_i3] = [2.5460e-10, 2.6666e-08, 1.5124e-09]\n",
    "\n",
    "        # -1 aqui faco a media dos denominadores dos si \n",
    "        # que no caso o resultado dos somatorios \n",
    "        teste = False\n",
    "\n",
    "        if teste:\n",
    "          m_s = np.sum(ss_cn)/(self.p) \n",
    "        # m_s = sum([0.2 0.2 0.2])/2\n",
    "\n",
    "        # p\n",
    "        # m_s = sum([0.000398 0.0000038 0.000067])/3\n",
    "        # m_s = 0.00015626666666666668\n",
    "        # p - 1\n",
    "        # m_s = sum([0.000398 0.0000038 0.000067])/2\n",
    "        # m_s = 0.0002344\n",
    "\n",
    "\n",
    "\n",
    "        # ss_cn = ss_cn*(1/m_s)\n",
    "        if teste:\n",
    "          im_s = 1/(m_s)\n",
    "          new_ss_cn = ss_cn*im_s\n",
    "        else:\n",
    "          new_ss_cn = (1 - ss_cn) #**(1/(self.p))\n",
    "        # new_ss_cn = [0.0033 0.0033 0.0033]/0.2\n",
    "\n",
    "\n",
    "        # p\n",
    "        # new_ss_cn = [0.000398 0.0000038 0.000067]/0.00015626666666666668\n",
    "        # new_ss_cn = [2.54692833 0.02431741 0.42875427]\n",
    "\n",
    "        # p - 1\n",
    "        # new_ss_cn = [0.000398 0.0000038 0.000067]/0.0002344\n",
    "        # new_ss_cn = [1.69795222 0.0162116 0.28583618]\n",
    "\n",
    "        new_s_p = np.prod(new_ss_cn)\n",
    "        # p\n",
    "        # prod(new_ss_cn) = 0.0265547628046677\n",
    "\n",
    "        # p -1\n",
    "        # prod(new_ss_cn) = 0.00786807786804969\n",
    "\n",
    "\n",
    "        new_s_p = new_s_p**(1/self.p)\n",
    "        # p\n",
    "        # new_s_p = 0.29834182508986407\n",
    "\n",
    "        # p -1\n",
    "        # new_s_p = 0.08870218637694163\n",
    "\n",
    "        \n",
    "        new_r = new_s_p / new_ss_cn \n",
    "\n",
    "        # p\n",
    "        # new_r = 0.0265547628046677/[2.54692833 0.02431741 0.42875427]\n",
    "        # new_r = [0.1171379 , 12.2686533 ,  0.69583407]\n",
    "        # prod(new_ss_cn) = 0.75\n",
    "\n",
    "        # p -1\n",
    "        # new_r = 0.4898979485566356/[1.69795222 0.0162116 0.28583618]\n",
    "        # new_r = [0.05224068, 5.47152434, 0.31032526 ]\n",
    "\n",
    "        prod = np.prod(new_r)\n",
    "        # p\n",
    "        # prod = 1\n",
    "        # p -1\n",
    "        # prod = 0.0887021863769416\n",
    "\n",
    "        if np.isnan(prod)==False:\n",
    "          s[i] = new_r.copy()\n",
    "        \n",
    "      elif s_r > .1:\n",
    "        # para quando o produtorio de Ss dá diferente de 1 \n",
    "        if r_r.shape[0] == s_ij.shape[0]:\n",
    "          s[i] = s_ij/(p_r**(1/s_ij.shape[0]))\n",
    "        else:\n",
    "          s_prod = (1/(p_r**(1/s_ij.shape[0])))\n",
    "          s[i] = np.nan_to_num(s_ij, copy=True, nan=s_prod)\n",
    "      else:\n",
    "        s[i] = s_ij.copy()\n",
    "          \n",
    "    return s\n",
    "\n",
    "  def funcao_objetivo(self, x, g, u, sigma):\n",
    "    # k = g.shape[0]\n",
    "    u_i = u**self.m\n",
    "    f = np.zeros(self.k, dtype=self.var_type)\n",
    "    \n",
    "    s_d = np.zeros(x.shape[0], dtype=self.var_type)\n",
    "    w = np.zeros(x.shape[0], dtype=self.var_type)\n",
    "    for i in range(self.k):\n",
    "      s_d = 2 - 2*self.loss.distance(g[i], x, sigma[i])\n",
    "      \n",
    "      w = s_d.T*(u_i[:, i])\n",
    "      f[i] = np.sum(w)\n",
    "      \n",
    "    return np.sum(f)\n",
    "\n",
    "  def atualiza_GUS2(self, g, u, sigma):\n",
    "    self.G = g\n",
    "    self.U = u\n",
    "    self.sigma = sigma\n",
    "\n",
    "  def modified_partition_coefficient(self):\n",
    "    n, k = self.U.shape\n",
    "    # f = np.trace(self.U.dot(self.U.T)) / n\n",
    "\n",
    "    f = np.trace(self.U**2) / n\n",
    "\n",
    "    mpc = 1 - (k/(k - 1))*(1 - f)\n",
    "\n",
    "    return mpc\n",
    "\n",
    "  def fit(self, x, y, verbose = False):\n",
    "    self.redu = True\n",
    "    \n",
    "    self.init_g(x)\n",
    "    self.init_sigma(x)\n",
    "    self.init_u(x)\n",
    "\n",
    "    j = self.funcao_objetivo(x, self.G, self.U, self.sigma) \n",
    "    if self._only:\n",
    "      print(\"epoca:\", 0, \"funcão objetivo:\", j) #, new_f\n",
    "\n",
    "    \n",
    "    for epoch in range(self.epochs):\n",
    "      # print(\"passo 1\")\n",
    "      new_sigma = self.otm_sigma(x, self.G, self.U)\n",
    "\n",
    "      # print(\"passo 2\")\n",
    "      new_g = self.otm_prototivo(self.G, self.U, x, new_sigma)\n",
    "\n",
    "      # print(\"passo 3\")\n",
    "      new_u = self.otm_u(new_g, x, new_sigma)\n",
    "\n",
    "      new_j = self.funcao_objetivo(x, new_g, new_u, new_sigma)\n",
    "      if self._only:\n",
    "        print(f\"epoca: {epoch + 1} funcão objetivo: {new_j}\")# f,\n",
    "        # print(f\"Modified partition coefficient  {self.modified_partition_coefficient()},  {adjusted_rand_score(y, self.U.argmax(1))}\")# f,\n",
    "        print(f\"Modified partition coefficient  {Metrics.mpc(self.U)},  {Metrics.ars(y, self.U.argmax(1))}\")# f,\n",
    "      \n",
    "      # silhouette_score\n",
    "      if verbose:\n",
    "        self.show_grafico(x)\n",
    "      \n",
    "      dif = np.abs(new_j - j)\n",
    "      # new_j > j\n",
    "      if (np.isnan(new_j)==True or dif < self.threshold):\n",
    "        return\n",
    "      else:\n",
    "        j = new_j\n",
    "        self.atualiza_GUS2(new_g, new_u, new_sigma)\n",
    "\n",
    "class Trainer(Shower):\n",
    "  def __init__(self, num_class, epochs, threshold, model_creator, loss = Gaussian(), m = 1.1, verbose = False, repeat = 1) -> None:\n",
    "    # load the hiperparams\n",
    "    self.num_class = num_class\n",
    "    self.loss = loss    \n",
    "    self.var_type = np.double\n",
    "    # self.var_type = np.float\n",
    "    self.m = m \n",
    "    self.verbose = verbose      \n",
    "    self.threshold = threshold\n",
    "    self.epochs = epochs \n",
    "    self.repeat = repeat\n",
    "    self.model_creator = model_creator\n",
    "  \n",
    "  def predict(self, x):\n",
    "    # here we make predict in x\n",
    "    n = x.shape[0] \n",
    "    k = self.G.shape[0] \n",
    "\n",
    "    predict_value = np.zeros((n, k), dtype=self.var_type)\n",
    "\n",
    "    for i in range(k):\n",
    "      predict_value[:,i] = self.loss.distance(self.G[i], x, self.sigma[i])\n",
    "    return predict_value.argmax(1)\n",
    "\n",
    "    \n",
    "  def fit(self, X, y):\n",
    "    j = np.inf\n",
    "    \n",
    "    for i in range(self.repeat):\n",
    "      model = self.model_creator(num_class=self.num_class, epochs=self.epochs, threshold=self.threshold, loss=self.loss, m=self.m, verbose=self.verbose)\n",
    "      model._only = False\n",
    "      model.fit(X, y)\n",
    "      new_j = model.funcao_objetivo(X, model.G, model.U, model.sigma)\n",
    "      print(f\"repeation: {i + 1} funcão objetivo: {new_j}\")\n",
    "      print(f\"Modified partition coefficient: {Metrics.mpc(model.U)},  adjusted_rand_score: {Metrics.ars(y, model.U.argmax(1))}\")\n",
    "\n",
    "      if new_j < j:\n",
    "        self.G = model.G\n",
    "        self.U = model.U\n",
    "        self.sigma = model.sigma\n",
    "        j = new_j\n"
   ]
  },
  {
   "cell_type": "markdown",
   "metadata": {},
   "source": [
    "## fit the model with datasets"
   ]
  },
  {
   "cell_type": "markdown",
   "metadata": {},
   "source": [
    "### datasets -> mfeat-fac"
   ]
  },
  {
   "cell_type": "code",
   "execution_count": null,
   "metadata": {},
   "outputs": [],
   "source": [
    "X = load_dataset(\"datasets\\mfeat-fac\", 1)\n",
    "# MinMaxScaler\n",
    "# minmax_scale\n",
    "# MaxAbsScaler\n",
    "# StandardScaler\n",
    "# RobustScaler\n",
    "# Normalizer\n",
    "# QuantileTransformer\n",
    "\n",
    "y = pd.DataFrame({X.shape[1]: np.arange(0, X.shape[0])//200})\n",
    "X_clean, y_clean = Cleaner().transform(X, y)\n",
    "\n",
    "# model = FuzzyCMeansGaussianS2(num_class=10, epochs = 50, m=1.1, verbose=False, threshold=1e-6) # \n",
    "model = Trainer(num_class = 10, epochs = 100, threshold = 1e-6, model_creator=FuzzyCMeansGaussianS2, m = 1.1, verbose = False, repeat = 50)\n",
    "\n",
    "pipeline = Pipeline([(\"Normalizer\", Normalizer()), \n",
    "                     (\"Transformer\", Transformer()),                      \n",
    "                    (\"Model\", model)])\n",
    "pipeline.fit(X_clean, y_clean)"
   ]
  },
  {
   "cell_type": "code",
   "execution_count": 52,
   "metadata": {},
   "outputs": [
    {
     "name": "stdout",
     "output_type": "stream",
     "text": [
      "Gs\n"
     ]
    },
    {
     "data": {
      "image/png": "[encoded data removed]",
      "text/plain": [
       "<Figure size 432x288 with 1 Axes>"
      ]
     },
     "metadata": {
      "needs_background": "light"
     },
     "output_type": "display_data"
    },
    {
     "name": "stdout",
     "output_type": "stream",
     "text": [
      "S2s\n"
     ]
    },
    {
     "data": {
      "image/png": "[encoded data removed]",
      "text/plain": [
       "<Figure size 432x288 with 1 Axes>"
      ]
     },
     "metadata": {
      "needs_background": "light"
     },
     "output_type": "display_data"
    },
    {
     "name": "stdout",
     "output_type": "stream",
     "text": [
      "Us\n"
     ]
    },
    {
     "data": {
      "image/png": "[encoded data removed]",
      "text/plain": [
       "<Figure size 432x288 with 1 Axes>"
      ]
     },
     "metadata": {
      "needs_background": "light"
     },
     "output_type": "display_data"
    },
    {
     "data": {
      "image/png": "[encoded data removed]",
      "text/plain": [
       "<Figure size 432x288 with 1 Axes>"
      ]
     },
     "metadata": {
      "needs_background": "light"
     },
     "output_type": "display_data"
    }
   ],
   "source": [
    "model.show_G_S_U()"
   ]
  },
  {
   "cell_type": "code",
   "execution_count": 53,
   "metadata": {},
   "outputs": [
    {
     "ename": "AttributeError",
     "evalue": "'Trainer' object has no attribute 'predict'",
     "output_type": "error",
     "traceback": [
      "\u001b[1;31m---------------------------------------------------------------------------\u001b[0m",
      "\u001b[1;31mAttributeError\u001b[0m                            Traceback (most recent call last)",
      "\u001b[1;32m<ipython-input-53-3e262a6700bc>\u001b[0m in \u001b[0;36m<module>\u001b[1;34m\u001b[0m\n\u001b[1;32m----> 1\u001b[1;33m \u001b[0my_predict\u001b[0m \u001b[1;33m=\u001b[0m \u001b[0mpipeline\u001b[0m\u001b[1;33m.\u001b[0m\u001b[0mpredict\u001b[0m\u001b[1;33m(\u001b[0m\u001b[0mX_clean\u001b[0m\u001b[1;33m)\u001b[0m \u001b[1;31m#(2000) <= (2000, 200)\u001b[0m\u001b[1;33m\u001b[0m\u001b[1;33m\u001b[0m\u001b[0m\n\u001b[0m\u001b[0;32m      2\u001b[0m \u001b[0mcm\u001b[0m \u001b[1;33m=\u001b[0m \u001b[0mconfusion_matrix\u001b[0m\u001b[1;33m(\u001b[0m\u001b[0my_clean\u001b[0m\u001b[1;33m,\u001b[0m \u001b[0my_predict\u001b[0m\u001b[1;33m)\u001b[0m\u001b[1;33m\u001b[0m\u001b[1;33m\u001b[0m\u001b[0m\n\u001b[0;32m      3\u001b[0m \u001b[0mcmd\u001b[0m \u001b[1;33m=\u001b[0m \u001b[0mConfusionMatrixDisplay\u001b[0m\u001b[1;33m(\u001b[0m\u001b[0mconfusion_matrix\u001b[0m\u001b[1;33m=\u001b[0m\u001b[0mcm\u001b[0m\u001b[1;33m,\u001b[0m \u001b[0mdisplay_labels\u001b[0m\u001b[1;33m=\u001b[0m\u001b[0mnp\u001b[0m\u001b[1;33m.\u001b[0m\u001b[0marange\u001b[0m\u001b[1;33m(\u001b[0m\u001b[0mmodel\u001b[0m\u001b[1;33m.\u001b[0m\u001b[0mnum_class\u001b[0m\u001b[1;33m)\u001b[0m\u001b[1;33m)\u001b[0m\u001b[1;33m\u001b[0m\u001b[1;33m\u001b[0m\u001b[0m\n\u001b[0;32m      4\u001b[0m \u001b[0mcmd\u001b[0m\u001b[1;33m.\u001b[0m\u001b[0mplot\u001b[0m\u001b[1;33m(\u001b[0m\u001b[1;33m)\u001b[0m\u001b[1;33m\u001b[0m\u001b[1;33m\u001b[0m\u001b[0m\n",
      "\u001b[1;32mc:\\Users\\Eliaquim\\anaconda3\\envs\\projeto_ml\\lib\\site-packages\\sklearn\\utils\\metaestimators.py\u001b[0m in \u001b[0;36m__get__\u001b[1;34m(self, obj, type)\u001b[0m\n\u001b[0;32m    112\u001b[0m                     \u001b[1;32mcontinue\u001b[0m\u001b[1;33m\u001b[0m\u001b[1;33m\u001b[0m\u001b[0m\n\u001b[0;32m    113\u001b[0m                 \u001b[1;32melse\u001b[0m\u001b[1;33m:\u001b[0m\u001b[1;33m\u001b[0m\u001b[1;33m\u001b[0m\u001b[0m\n\u001b[1;32m--> 114\u001b[1;33m                     \u001b[0mgetattr\u001b[0m\u001b[1;33m(\u001b[0m\u001b[0mdelegate\u001b[0m\u001b[1;33m,\u001b[0m \u001b[0mself\u001b[0m\u001b[1;33m.\u001b[0m\u001b[0mattribute_name\u001b[0m\u001b[1;33m)\u001b[0m\u001b[1;33m\u001b[0m\u001b[1;33m\u001b[0m\u001b[0m\n\u001b[0m\u001b[0;32m    115\u001b[0m                     \u001b[1;32mbreak\u001b[0m\u001b[1;33m\u001b[0m\u001b[1;33m\u001b[0m\u001b[0m\n\u001b[0;32m    116\u001b[0m             \u001b[1;32melse\u001b[0m\u001b[1;33m:\u001b[0m\u001b[1;33m\u001b[0m\u001b[1;33m\u001b[0m\u001b[0m\n",
      "\u001b[1;31mAttributeError\u001b[0m: 'Trainer' object has no attribute 'predict'"
     ]
    }
   ],
   "source": [
    "y_predict = pipeline.predict(X_clean) #(2000) <= (2000, 200)\n",
    "cm = confusion_matrix(y_clean, y_predict)\n",
    "cmd = ConfusionMatrixDisplay(confusion_matrix=cm, display_labels=np.arange(model.num_class))\n",
    "cmd.plot()"
   ]
  },
  {
   "cell_type": "markdown",
   "metadata": {},
   "source": [
    "### datasets -> mfeat-fou"
   ]
  },
  {
   "cell_type": "code",
   "execution_count": 47,
   "metadata": {},
   "outputs": [
    {
     "name": "stderr",
     "output_type": "stream",
     "text": [
      "c:\\Users\\Eliaquim\\anaconda3\\envs\\projeto_ml\\lib\\site-packages\\ipykernel_launcher.py:99: RuntimeWarning: divide by zero encountered in true_divide\n",
      "c:\\Users\\Eliaquim\\anaconda3\\envs\\projeto_ml\\lib\\site-packages\\ipykernel_launcher.py:99: RuntimeWarning: invalid value encountered in true_divide\n"
     ]
    },
    {
     "name": "stdout",
     "output_type": "stream",
     "text": [
      "repeation: 1 funcão objetivo: 374.7210036901952\n",
      "Modified partition coefficient: 0.8078972289981123,  adjusted_rand_score: 0.39095140837587217\n"
     ]
    },
    {
     "name": "stderr",
     "output_type": "stream",
     "text": [
      "c:\\Users\\Eliaquim\\anaconda3\\envs\\projeto_ml\\lib\\site-packages\\ipykernel_launcher.py:99: RuntimeWarning: divide by zero encountered in true_divide\n",
      "c:\\Users\\Eliaquim\\anaconda3\\envs\\projeto_ml\\lib\\site-packages\\ipykernel_launcher.py:99: RuntimeWarning: invalid value encountered in true_divide\n"
     ]
    },
    {
     "name": "stdout",
     "output_type": "stream",
     "text": [
      "repeation: 2 funcão objetivo: 344.21890448690516\n",
      "Modified partition coefficient: 0.8727359011018607,  adjusted_rand_score: 0.3993127279623902\n"
     ]
    },
    {
     "name": "stderr",
     "output_type": "stream",
     "text": [
      "c:\\Users\\Eliaquim\\anaconda3\\envs\\projeto_ml\\lib\\site-packages\\ipykernel_launcher.py:99: RuntimeWarning: divide by zero encountered in true_divide\n",
      "c:\\Users\\Eliaquim\\anaconda3\\envs\\projeto_ml\\lib\\site-packages\\ipykernel_launcher.py:99: RuntimeWarning: invalid value encountered in true_divide\n"
     ]
    },
    {
     "name": "stdout",
     "output_type": "stream",
     "text": [
      "repeation: 3 funcão objetivo: 344.05194818376526\n",
      "Modified partition coefficient: 0.8538287145824986,  adjusted_rand_score: 0.4180438899178823\n"
     ]
    },
    {
     "name": "stderr",
     "output_type": "stream",
     "text": [
      "c:\\Users\\Eliaquim\\anaconda3\\envs\\projeto_ml\\lib\\site-packages\\ipykernel_launcher.py:99: RuntimeWarning: divide by zero encountered in true_divide\n",
      "c:\\Users\\Eliaquim\\anaconda3\\envs\\projeto_ml\\lib\\site-packages\\ipykernel_launcher.py:99: RuntimeWarning: invalid value encountered in true_divide\n"
     ]
    },
    {
     "name": "stdout",
     "output_type": "stream",
     "text": [
      "repeation: 4 funcão objetivo: 334.74131383508495\n",
      "Modified partition coefficient: 0.8734628587489407,  adjusted_rand_score: 0.4149872169345159\n"
     ]
    },
    {
     "name": "stderr",
     "output_type": "stream",
     "text": [
      "c:\\Users\\Eliaquim\\anaconda3\\envs\\projeto_ml\\lib\\site-packages\\ipykernel_launcher.py:99: RuntimeWarning: divide by zero encountered in true_divide\n",
      "c:\\Users\\Eliaquim\\anaconda3\\envs\\projeto_ml\\lib\\site-packages\\ipykernel_launcher.py:99: RuntimeWarning: invalid value encountered in true_divide\n"
     ]
    },
    {
     "name": "stdout",
     "output_type": "stream",
     "text": [
      "repeation: 5 funcão objetivo: 333.64494767186727\n",
      "Modified partition coefficient: 0.8348349041250683,  adjusted_rand_score: 0.44493871959997233\n"
     ]
    },
    {
     "name": "stderr",
     "output_type": "stream",
     "text": [
      "c:\\Users\\Eliaquim\\anaconda3\\envs\\projeto_ml\\lib\\site-packages\\ipykernel_launcher.py:99: RuntimeWarning: divide by zero encountered in true_divide\n",
      "c:\\Users\\Eliaquim\\anaconda3\\envs\\projeto_ml\\lib\\site-packages\\ipykernel_launcher.py:99: RuntimeWarning: invalid value encountered in true_divide\n"
     ]
    },
    {
     "name": "stdout",
     "output_type": "stream",
     "text": [
      "repeation: 6 funcão objetivo: 344.1554384366967\n",
      "Modified partition coefficient: 0.8740496009630991,  adjusted_rand_score: 0.4300620957925806\n"
     ]
    },
    {
     "name": "stderr",
     "output_type": "stream",
     "text": [
      "c:\\Users\\Eliaquim\\anaconda3\\envs\\projeto_ml\\lib\\site-packages\\ipykernel_launcher.py:99: RuntimeWarning: divide by zero encountered in true_divide\n",
      "c:\\Users\\Eliaquim\\anaconda3\\envs\\projeto_ml\\lib\\site-packages\\ipykernel_launcher.py:99: RuntimeWarning: invalid value encountered in true_divide\n"
     ]
    },
    {
     "name": "stdout",
     "output_type": "stream",
     "text": [
      "repeation: 7 funcão objetivo: 331.9492913808657\n",
      "Modified partition coefficient: 0.818119993480543,  adjusted_rand_score: 0.43523774437794766\n"
     ]
    },
    {
     "name": "stderr",
     "output_type": "stream",
     "text": [
      "c:\\Users\\Eliaquim\\anaconda3\\envs\\projeto_ml\\lib\\site-packages\\ipykernel_launcher.py:99: RuntimeWarning: divide by zero encountered in true_divide\n",
      "c:\\Users\\Eliaquim\\anaconda3\\envs\\projeto_ml\\lib\\site-packages\\ipykernel_launcher.py:99: RuntimeWarning: invalid value encountered in true_divide\n"
     ]
    },
    {
     "name": "stdout",
     "output_type": "stream",
     "text": [
      "repeation: 8 funcão objetivo: 353.6382498631733\n",
      "Modified partition coefficient: 0.8726291438840408,  adjusted_rand_score: 0.38410920132226095\n"
     ]
    },
    {
     "name": "stderr",
     "output_type": "stream",
     "text": [
      "c:\\Users\\Eliaquim\\anaconda3\\envs\\projeto_ml\\lib\\site-packages\\ipykernel_launcher.py:99: RuntimeWarning: divide by zero encountered in true_divide\n",
      "c:\\Users\\Eliaquim\\anaconda3\\envs\\projeto_ml\\lib\\site-packages\\ipykernel_launcher.py:99: RuntimeWarning: invalid value encountered in true_divide\n"
     ]
    },
    {
     "name": "stdout",
     "output_type": "stream",
     "text": [
      "repeation: 9 funcão objetivo: 336.05386212448906\n",
      "Modified partition coefficient: 0.8500982773356891,  adjusted_rand_score: 0.423010478098727\n"
     ]
    },
    {
     "name": "stderr",
     "output_type": "stream",
     "text": [
      "c:\\Users\\Eliaquim\\anaconda3\\envs\\projeto_ml\\lib\\site-packages\\ipykernel_launcher.py:99: RuntimeWarning: divide by zero encountered in true_divide\n",
      "c:\\Users\\Eliaquim\\anaconda3\\envs\\projeto_ml\\lib\\site-packages\\ipykernel_launcher.py:99: RuntimeWarning: invalid value encountered in true_divide\n"
     ]
    },
    {
     "name": "stdout",
     "output_type": "stream",
     "text": [
      "repeation: 10 funcão objetivo: 338.84190059103645\n",
      "Modified partition coefficient: 0.8387306251986537,  adjusted_rand_score: 0.42324184054267006\n"
     ]
    },
    {
     "name": "stderr",
     "output_type": "stream",
     "text": [
      "c:\\Users\\Eliaquim\\anaconda3\\envs\\projeto_ml\\lib\\site-packages\\ipykernel_launcher.py:99: RuntimeWarning: divide by zero encountered in true_divide\n",
      "c:\\Users\\Eliaquim\\anaconda3\\envs\\projeto_ml\\lib\\site-packages\\ipykernel_launcher.py:99: RuntimeWarning: invalid value encountered in true_divide\n"
     ]
    },
    {
     "name": "stdout",
     "output_type": "stream",
     "text": [
      "repeation: 11 funcão objetivo: 333.6334259845789\n",
      "Modified partition coefficient: 0.8347992938497315,  adjusted_rand_score: 0.44493871959997233\n"
     ]
    },
    {
     "name": "stderr",
     "output_type": "stream",
     "text": [
      "c:\\Users\\Eliaquim\\anaconda3\\envs\\projeto_ml\\lib\\site-packages\\ipykernel_launcher.py:99: RuntimeWarning: divide by zero encountered in true_divide\n",
      "c:\\Users\\Eliaquim\\anaconda3\\envs\\projeto_ml\\lib\\site-packages\\ipykernel_launcher.py:99: RuntimeWarning: invalid value encountered in true_divide\n"
     ]
    },
    {
     "name": "stdout",
     "output_type": "stream",
     "text": [
      "repeation: 12 funcão objetivo: 332.4127388488843\n",
      "Modified partition coefficient: 0.8483203290419977,  adjusted_rand_score: 0.46343633435703246\n"
     ]
    },
    {
     "name": "stderr",
     "output_type": "stream",
     "text": [
      "c:\\Users\\Eliaquim\\anaconda3\\envs\\projeto_ml\\lib\\site-packages\\ipykernel_launcher.py:99: RuntimeWarning: divide by zero encountered in true_divide\n",
      "c:\\Users\\Eliaquim\\anaconda3\\envs\\projeto_ml\\lib\\site-packages\\ipykernel_launcher.py:99: RuntimeWarning: invalid value encountered in true_divide\n"
     ]
    },
    {
     "name": "stdout",
     "output_type": "stream",
     "text": [
      "repeation: 13 funcão objetivo: 330.27931265472193\n",
      "Modified partition coefficient: 0.8520963245947758,  adjusted_rand_score: 0.4573485548671982\n"
     ]
    },
    {
     "name": "stderr",
     "output_type": "stream",
     "text": [
      "c:\\Users\\Eliaquim\\anaconda3\\envs\\projeto_ml\\lib\\site-packages\\ipykernel_launcher.py:99: RuntimeWarning: divide by zero encountered in true_divide\n",
      "c:\\Users\\Eliaquim\\anaconda3\\envs\\projeto_ml\\lib\\site-packages\\ipykernel_launcher.py:99: RuntimeWarning: invalid value encountered in true_divide\n"
     ]
    },
    {
     "name": "stdout",
     "output_type": "stream",
     "text": [
      "repeation: 14 funcão objetivo: 350.47765233027707\n",
      "Modified partition coefficient: 0.8459176364613121,  adjusted_rand_score: 0.36898155937617505\n"
     ]
    },
    {
     "name": "stderr",
     "output_type": "stream",
     "text": [
      "c:\\Users\\Eliaquim\\anaconda3\\envs\\projeto_ml\\lib\\site-packages\\ipykernel_launcher.py:99: RuntimeWarning: divide by zero encountered in true_divide\n",
      "c:\\Users\\Eliaquim\\anaconda3\\envs\\projeto_ml\\lib\\site-packages\\ipykernel_launcher.py:99: RuntimeWarning: invalid value encountered in true_divide\n"
     ]
    },
    {
     "name": "stdout",
     "output_type": "stream",
     "text": [
      "repeation: 15 funcão objetivo: 334.5862405946619\n",
      "Modified partition coefficient: 0.8618162364408579,  adjusted_rand_score: 0.44438451409624563\n"
     ]
    },
    {
     "name": "stderr",
     "output_type": "stream",
     "text": [
      "c:\\Users\\Eliaquim\\anaconda3\\envs\\projeto_ml\\lib\\site-packages\\ipykernel_launcher.py:99: RuntimeWarning: divide by zero encountered in true_divide\n",
      "c:\\Users\\Eliaquim\\anaconda3\\envs\\projeto_ml\\lib\\site-packages\\ipykernel_launcher.py:99: RuntimeWarning: invalid value encountered in true_divide\n"
     ]
    },
    {
     "name": "stdout",
     "output_type": "stream",
     "text": [
      "repeation: 16 funcão objetivo: 339.4206942924823\n",
      "Modified partition coefficient: 0.8496310334772639,  adjusted_rand_score: 0.4451487161101224\n"
     ]
    },
    {
     "name": "stderr",
     "output_type": "stream",
     "text": [
      "c:\\Users\\Eliaquim\\anaconda3\\envs\\projeto_ml\\lib\\site-packages\\ipykernel_launcher.py:99: RuntimeWarning: divide by zero encountered in true_divide\n",
      "c:\\Users\\Eliaquim\\anaconda3\\envs\\projeto_ml\\lib\\site-packages\\ipykernel_launcher.py:99: RuntimeWarning: invalid value encountered in true_divide\n"
     ]
    },
    {
     "name": "stdout",
     "output_type": "stream",
     "text": [
      "repeation: 17 funcão objetivo: 332.4127359681053\n",
      "Modified partition coefficient: 0.8483205221848681,  adjusted_rand_score: 0.46343633435703246\n"
     ]
    },
    {
     "name": "stderr",
     "output_type": "stream",
     "text": [
      "c:\\Users\\Eliaquim\\anaconda3\\envs\\projeto_ml\\lib\\site-packages\\ipykernel_launcher.py:99: RuntimeWarning: divide by zero encountered in true_divide\n",
      "c:\\Users\\Eliaquim\\anaconda3\\envs\\projeto_ml\\lib\\site-packages\\ipykernel_launcher.py:99: RuntimeWarning: invalid value encountered in true_divide\n"
     ]
    },
    {
     "name": "stdout",
     "output_type": "stream",
     "text": [
      "repeation: 18 funcão objetivo: 340.13574023969863\n",
      "Modified partition coefficient: 0.8693603550908267,  adjusted_rand_score: 0.46445159614450654\n"
     ]
    },
    {
     "name": "stderr",
     "output_type": "stream",
     "text": [
      "c:\\Users\\Eliaquim\\anaconda3\\envs\\projeto_ml\\lib\\site-packages\\ipykernel_launcher.py:99: RuntimeWarning: divide by zero encountered in true_divide\n",
      "c:\\Users\\Eliaquim\\anaconda3\\envs\\projeto_ml\\lib\\site-packages\\ipykernel_launcher.py:99: RuntimeWarning: invalid value encountered in true_divide\n"
     ]
    },
    {
     "name": "stdout",
     "output_type": "stream",
     "text": [
      "repeation: 19 funcão objetivo: 332.7034677472752\n",
      "Modified partition coefficient: 0.843188529660033,  adjusted_rand_score: 0.4581021198063122\n"
     ]
    },
    {
     "name": "stderr",
     "output_type": "stream",
     "text": [
      "c:\\Users\\Eliaquim\\anaconda3\\envs\\projeto_ml\\lib\\site-packages\\ipykernel_launcher.py:99: RuntimeWarning: divide by zero encountered in true_divide\n",
      "c:\\Users\\Eliaquim\\anaconda3\\envs\\projeto_ml\\lib\\site-packages\\ipykernel_launcher.py:99: RuntimeWarning: invalid value encountered in true_divide\n"
     ]
    },
    {
     "name": "stdout",
     "output_type": "stream",
     "text": [
      "repeation: 20 funcão objetivo: 349.44761958726804\n",
      "Modified partition coefficient: 0.8389167630832064,  adjusted_rand_score: 0.35276365240371577\n"
     ]
    },
    {
     "name": "stderr",
     "output_type": "stream",
     "text": [
      "c:\\Users\\Eliaquim\\anaconda3\\envs\\projeto_ml\\lib\\site-packages\\ipykernel_launcher.py:99: RuntimeWarning: divide by zero encountered in true_divide\n",
      "c:\\Users\\Eliaquim\\anaconda3\\envs\\projeto_ml\\lib\\site-packages\\ipykernel_launcher.py:99: RuntimeWarning: invalid value encountered in true_divide\n"
     ]
    },
    {
     "name": "stdout",
     "output_type": "stream",
     "text": [
      "repeation: 21 funcão objetivo: 343.8610062181705\n",
      "Modified partition coefficient: 0.8576001322693033,  adjusted_rand_score: 0.4187683984688716\n"
     ]
    },
    {
     "name": "stderr",
     "output_type": "stream",
     "text": [
      "c:\\Users\\Eliaquim\\anaconda3\\envs\\projeto_ml\\lib\\site-packages\\ipykernel_launcher.py:99: RuntimeWarning: divide by zero encountered in true_divide\n",
      "c:\\Users\\Eliaquim\\anaconda3\\envs\\projeto_ml\\lib\\site-packages\\ipykernel_launcher.py:99: RuntimeWarning: invalid value encountered in true_divide\n"
     ]
    },
    {
     "name": "stdout",
     "output_type": "stream",
     "text": [
      "repeation: 22 funcão objetivo: 330.208507334494\n",
      "Modified partition coefficient: 0.8517959144268159,  adjusted_rand_score: 0.45770683037633425\n"
     ]
    },
    {
     "name": "stderr",
     "output_type": "stream",
     "text": [
      "c:\\Users\\Eliaquim\\anaconda3\\envs\\projeto_ml\\lib\\site-packages\\ipykernel_launcher.py:99: RuntimeWarning: divide by zero encountered in true_divide\n",
      "c:\\Users\\Eliaquim\\anaconda3\\envs\\projeto_ml\\lib\\site-packages\\ipykernel_launcher.py:99: RuntimeWarning: invalid value encountered in true_divide\n"
     ]
    },
    {
     "name": "stdout",
     "output_type": "stream",
     "text": [
      "repeation: 23 funcão objetivo: 365.35330818587147\n",
      "Modified partition coefficient: 0.7569923318555788,  adjusted_rand_score: 0.35018023527755876\n"
     ]
    },
    {
     "name": "stderr",
     "output_type": "stream",
     "text": [
      "c:\\Users\\Eliaquim\\anaconda3\\envs\\projeto_ml\\lib\\site-packages\\ipykernel_launcher.py:99: RuntimeWarning: divide by zero encountered in true_divide\n",
      "c:\\Users\\Eliaquim\\anaconda3\\envs\\projeto_ml\\lib\\site-packages\\ipykernel_launcher.py:99: RuntimeWarning: invalid value encountered in true_divide\n"
     ]
    },
    {
     "name": "stdout",
     "output_type": "stream",
     "text": [
      "repeation: 24 funcão objetivo: 358.54024257174575\n",
      "Modified partition coefficient: 0.8508885859596166,  adjusted_rand_score: 0.40350074921891427\n"
     ]
    },
    {
     "name": "stderr",
     "output_type": "stream",
     "text": [
      "c:\\Users\\Eliaquim\\anaconda3\\envs\\projeto_ml\\lib\\site-packages\\ipykernel_launcher.py:99: RuntimeWarning: divide by zero encountered in true_divide\n",
      "c:\\Users\\Eliaquim\\anaconda3\\envs\\projeto_ml\\lib\\site-packages\\ipykernel_launcher.py:99: RuntimeWarning: invalid value encountered in true_divide\n"
     ]
    },
    {
     "name": "stdout",
     "output_type": "stream",
     "text": [
      "repeation: 25 funcão objetivo: 334.68368397074966\n",
      "Modified partition coefficient: 0.8614582816163838,  adjusted_rand_score: 0.44370936825356666\n"
     ]
    },
    {
     "name": "stderr",
     "output_type": "stream",
     "text": [
      "c:\\Users\\Eliaquim\\anaconda3\\envs\\projeto_ml\\lib\\site-packages\\ipykernel_launcher.py:99: RuntimeWarning: divide by zero encountered in true_divide\n",
      "c:\\Users\\Eliaquim\\anaconda3\\envs\\projeto_ml\\lib\\site-packages\\ipykernel_launcher.py:99: RuntimeWarning: invalid value encountered in true_divide\n"
     ]
    },
    {
     "name": "stdout",
     "output_type": "stream",
     "text": [
      "repeation: 26 funcão objetivo: 332.3932998999521\n",
      "Modified partition coefficient: 0.8486182295132791,  adjusted_rand_score: 0.4629506528735495\n"
     ]
    },
    {
     "name": "stderr",
     "output_type": "stream",
     "text": [
      "c:\\Users\\Eliaquim\\anaconda3\\envs\\projeto_ml\\lib\\site-packages\\ipykernel_launcher.py:99: RuntimeWarning: divide by zero encountered in true_divide\n",
      "c:\\Users\\Eliaquim\\anaconda3\\envs\\projeto_ml\\lib\\site-packages\\ipykernel_launcher.py:99: RuntimeWarning: invalid value encountered in true_divide\n"
     ]
    },
    {
     "name": "stdout",
     "output_type": "stream",
     "text": [
      "repeation: 27 funcão objetivo: 336.0538864824217\n",
      "Modified partition coefficient: 0.8500983020700348,  adjusted_rand_score: 0.423010478098727\n"
     ]
    },
    {
     "name": "stderr",
     "output_type": "stream",
     "text": [
      "c:\\Users\\Eliaquim\\anaconda3\\envs\\projeto_ml\\lib\\site-packages\\ipykernel_launcher.py:99: RuntimeWarning: divide by zero encountered in true_divide\n",
      "c:\\Users\\Eliaquim\\anaconda3\\envs\\projeto_ml\\lib\\site-packages\\ipykernel_launcher.py:99: RuntimeWarning: invalid value encountered in true_divide\n"
     ]
    },
    {
     "name": "stdout",
     "output_type": "stream",
     "text": [
      "repeation: 28 funcão objetivo: 354.5094788288169\n",
      "Modified partition coefficient: 0.865615639533722,  adjusted_rand_score: 0.38438716983158233\n"
     ]
    },
    {
     "name": "stderr",
     "output_type": "stream",
     "text": [
      "c:\\Users\\Eliaquim\\anaconda3\\envs\\projeto_ml\\lib\\site-packages\\ipykernel_launcher.py:99: RuntimeWarning: divide by zero encountered in true_divide\n",
      "c:\\Users\\Eliaquim\\anaconda3\\envs\\projeto_ml\\lib\\site-packages\\ipykernel_launcher.py:99: RuntimeWarning: invalid value encountered in true_divide\n"
     ]
    },
    {
     "name": "stdout",
     "output_type": "stream",
     "text": [
      "repeation: 29 funcão objetivo: 329.8065901413175\n",
      "Modified partition coefficient: 0.8567611468623976,  adjusted_rand_score: 0.4593691573080957\n"
     ]
    },
    {
     "name": "stderr",
     "output_type": "stream",
     "text": [
      "c:\\Users\\Eliaquim\\anaconda3\\envs\\projeto_ml\\lib\\site-packages\\ipykernel_launcher.py:99: RuntimeWarning: divide by zero encountered in true_divide\n",
      "c:\\Users\\Eliaquim\\anaconda3\\envs\\projeto_ml\\lib\\site-packages\\ipykernel_launcher.py:99: RuntimeWarning: invalid value encountered in true_divide\n"
     ]
    },
    {
     "name": "stdout",
     "output_type": "stream",
     "text": [
      "repeation: 30 funcão objetivo: 344.9434870122552\n",
      "Modified partition coefficient: 0.8677273019156599,  adjusted_rand_score: 0.3992326605578813\n"
     ]
    },
    {
     "name": "stderr",
     "output_type": "stream",
     "text": [
      "c:\\Users\\Eliaquim\\anaconda3\\envs\\projeto_ml\\lib\\site-packages\\ipykernel_launcher.py:99: RuntimeWarning: divide by zero encountered in true_divide\n",
      "c:\\Users\\Eliaquim\\anaconda3\\envs\\projeto_ml\\lib\\site-packages\\ipykernel_launcher.py:99: RuntimeWarning: invalid value encountered in true_divide\n"
     ]
    },
    {
     "name": "stdout",
     "output_type": "stream",
     "text": [
      "repeation: 31 funcão objetivo: 354.38678507394786\n",
      "Modified partition coefficient: 0.8661655345276893,  adjusted_rand_score: 0.38328366824894217\n"
     ]
    },
    {
     "name": "stderr",
     "output_type": "stream",
     "text": [
      "c:\\Users\\Eliaquim\\anaconda3\\envs\\projeto_ml\\lib\\site-packages\\ipykernel_launcher.py:99: RuntimeWarning: divide by zero encountered in true_divide\n",
      "c:\\Users\\Eliaquim\\anaconda3\\envs\\projeto_ml\\lib\\site-packages\\ipykernel_launcher.py:99: RuntimeWarning: invalid value encountered in true_divide\n"
     ]
    },
    {
     "name": "stdout",
     "output_type": "stream",
     "text": [
      "repeation: 32 funcão objetivo: 343.01995328451125\n",
      "Modified partition coefficient: 0.849385977589644,  adjusted_rand_score: 0.39296866995927765\n"
     ]
    },
    {
     "name": "stderr",
     "output_type": "stream",
     "text": [
      "c:\\Users\\Eliaquim\\anaconda3\\envs\\projeto_ml\\lib\\site-packages\\ipykernel_launcher.py:99: RuntimeWarning: divide by zero encountered in true_divide\n",
      "c:\\Users\\Eliaquim\\anaconda3\\envs\\projeto_ml\\lib\\site-packages\\ipykernel_launcher.py:99: RuntimeWarning: invalid value encountered in true_divide\n"
     ]
    },
    {
     "name": "stdout",
     "output_type": "stream",
     "text": [
      "repeation: 33 funcão objetivo: 341.4978805039499\n",
      "Modified partition coefficient: 0.8641039828723199,  adjusted_rand_score: 0.44214328654801405\n"
     ]
    },
    {
     "name": "stderr",
     "output_type": "stream",
     "text": [
      "c:\\Users\\Eliaquim\\anaconda3\\envs\\projeto_ml\\lib\\site-packages\\ipykernel_launcher.py:99: RuntimeWarning: divide by zero encountered in true_divide\n",
      "c:\\Users\\Eliaquim\\anaconda3\\envs\\projeto_ml\\lib\\site-packages\\ipykernel_launcher.py:99: RuntimeWarning: invalid value encountered in true_divide\n"
     ]
    },
    {
     "name": "stdout",
     "output_type": "stream",
     "text": [
      "repeation: 34 funcão objetivo: 342.96256817778925\n",
      "Modified partition coefficient: 0.8494322028587533,  adjusted_rand_score: 0.3918663332392636\n"
     ]
    },
    {
     "name": "stderr",
     "output_type": "stream",
     "text": [
      "c:\\Users\\Eliaquim\\anaconda3\\envs\\projeto_ml\\lib\\site-packages\\ipykernel_launcher.py:99: RuntimeWarning: divide by zero encountered in true_divide\n",
      "c:\\Users\\Eliaquim\\anaconda3\\envs\\projeto_ml\\lib\\site-packages\\ipykernel_launcher.py:99: RuntimeWarning: invalid value encountered in true_divide\n"
     ]
    },
    {
     "name": "stdout",
     "output_type": "stream",
     "text": [
      "repeation: 35 funcão objetivo: 344.27225312448184\n",
      "Modified partition coefficient: 0.850633724419806,  adjusted_rand_score: 0.4256734817977464\n"
     ]
    },
    {
     "name": "stderr",
     "output_type": "stream",
     "text": [
      "c:\\Users\\Eliaquim\\anaconda3\\envs\\projeto_ml\\lib\\site-packages\\ipykernel_launcher.py:99: RuntimeWarning: divide by zero encountered in true_divide\n",
      "c:\\Users\\Eliaquim\\anaconda3\\envs\\projeto_ml\\lib\\site-packages\\ipykernel_launcher.py:99: RuntimeWarning: invalid value encountered in true_divide\n"
     ]
    },
    {
     "name": "stdout",
     "output_type": "stream",
     "text": [
      "repeation: 36 funcão objetivo: 369.9746189126731\n",
      "Modified partition coefficient: 0.7872317094123202,  adjusted_rand_score: 0.34040900709462824\n"
     ]
    },
    {
     "name": "stderr",
     "output_type": "stream",
     "text": [
      "c:\\Users\\Eliaquim\\anaconda3\\envs\\projeto_ml\\lib\\site-packages\\ipykernel_launcher.py:99: RuntimeWarning: divide by zero encountered in true_divide\n",
      "c:\\Users\\Eliaquim\\anaconda3\\envs\\projeto_ml\\lib\\site-packages\\ipykernel_launcher.py:99: RuntimeWarning: invalid value encountered in true_divide\n"
     ]
    },
    {
     "name": "stdout",
     "output_type": "stream",
     "text": [
      "repeation: 37 funcão objetivo: 340.20533315915725\n",
      "Modified partition coefficient: 0.8321101677957015,  adjusted_rand_score: 0.4085148842632008\n"
     ]
    },
    {
     "name": "stderr",
     "output_type": "stream",
     "text": [
      "c:\\Users\\Eliaquim\\anaconda3\\envs\\projeto_ml\\lib\\site-packages\\ipykernel_launcher.py:99: RuntimeWarning: divide by zero encountered in true_divide\n",
      "c:\\Users\\Eliaquim\\anaconda3\\envs\\projeto_ml\\lib\\site-packages\\ipykernel_launcher.py:99: RuntimeWarning: invalid value encountered in true_divide\n"
     ]
    },
    {
     "name": "stdout",
     "output_type": "stream",
     "text": [
      "repeation: 38 funcão objetivo: 332.412740233444\n",
      "Modified partition coefficient: 0.8483202279096047,  adjusted_rand_score: 0.46343633435703246\n"
     ]
    },
    {
     "name": "stderr",
     "output_type": "stream",
     "text": [
      "c:\\Users\\Eliaquim\\anaconda3\\envs\\projeto_ml\\lib\\site-packages\\ipykernel_launcher.py:99: RuntimeWarning: divide by zero encountered in true_divide\n",
      "c:\\Users\\Eliaquim\\anaconda3\\envs\\projeto_ml\\lib\\site-packages\\ipykernel_launcher.py:99: RuntimeWarning: invalid value encountered in true_divide\n"
     ]
    },
    {
     "name": "stdout",
     "output_type": "stream",
     "text": [
      "repeation: 39 funcão objetivo: 336.05433192613805\n",
      "Modified partition coefficient: 0.850098584817168,  adjusted_rand_score: 0.423010478098727\n"
     ]
    },
    {
     "name": "stderr",
     "output_type": "stream",
     "text": [
      "c:\\Users\\Eliaquim\\anaconda3\\envs\\projeto_ml\\lib\\site-packages\\ipykernel_launcher.py:99: RuntimeWarning: divide by zero encountered in true_divide\n",
      "c:\\Users\\Eliaquim\\anaconda3\\envs\\projeto_ml\\lib\\site-packages\\ipykernel_launcher.py:99: RuntimeWarning: invalid value encountered in true_divide\n"
     ]
    },
    {
     "name": "stdout",
     "output_type": "stream",
     "text": [
      "repeation: 40 funcão objetivo: 334.9618507416836\n",
      "Modified partition coefficient: 0.8600041513475948,  adjusted_rand_score: 0.44567865334438433\n"
     ]
    },
    {
     "name": "stderr",
     "output_type": "stream",
     "text": [
      "c:\\Users\\Eliaquim\\anaconda3\\envs\\projeto_ml\\lib\\site-packages\\ipykernel_launcher.py:99: RuntimeWarning: divide by zero encountered in true_divide\n",
      "c:\\Users\\Eliaquim\\anaconda3\\envs\\projeto_ml\\lib\\site-packages\\ipykernel_launcher.py:99: RuntimeWarning: invalid value encountered in true_divide\n"
     ]
    },
    {
     "name": "stdout",
     "output_type": "stream",
     "text": [
      "repeation: 41 funcão objetivo: 343.92352331998615\n",
      "Modified partition coefficient: 0.8467610377121607,  adjusted_rand_score: 0.42189322905998655\n"
     ]
    },
    {
     "name": "stderr",
     "output_type": "stream",
     "text": [
      "c:\\Users\\Eliaquim\\anaconda3\\envs\\projeto_ml\\lib\\site-packages\\ipykernel_launcher.py:99: RuntimeWarning: divide by zero encountered in true_divide\n",
      "c:\\Users\\Eliaquim\\anaconda3\\envs\\projeto_ml\\lib\\site-packages\\ipykernel_launcher.py:99: RuntimeWarning: invalid value encountered in true_divide\n"
     ]
    },
    {
     "name": "stdout",
     "output_type": "stream",
     "text": [
      "repeation: 42 funcão objetivo: 384.33255895729485\n",
      "Modified partition coefficient: 0.853638993372652,  adjusted_rand_score: 0.2791271709010377\n"
     ]
    },
    {
     "name": "stderr",
     "output_type": "stream",
     "text": [
      "c:\\Users\\Eliaquim\\anaconda3\\envs\\projeto_ml\\lib\\site-packages\\ipykernel_launcher.py:99: RuntimeWarning: divide by zero encountered in true_divide\n",
      "c:\\Users\\Eliaquim\\anaconda3\\envs\\projeto_ml\\lib\\site-packages\\ipykernel_launcher.py:99: RuntimeWarning: invalid value encountered in true_divide\n"
     ]
    },
    {
     "name": "stdout",
     "output_type": "stream",
     "text": [
      "repeation: 43 funcão objetivo: 334.46659692943706\n",
      "Modified partition coefficient: 0.8545835860691762,  adjusted_rand_score: 0.45271770409837614\n"
     ]
    },
    {
     "name": "stderr",
     "output_type": "stream",
     "text": [
      "c:\\Users\\Eliaquim\\anaconda3\\envs\\projeto_ml\\lib\\site-packages\\ipykernel_launcher.py:99: RuntimeWarning: divide by zero encountered in true_divide\n",
      "c:\\Users\\Eliaquim\\anaconda3\\envs\\projeto_ml\\lib\\site-packages\\ipykernel_launcher.py:99: RuntimeWarning: invalid value encountered in true_divide\n"
     ]
    },
    {
     "name": "stdout",
     "output_type": "stream",
     "text": [
      "repeation: 44 funcão objetivo: 333.27285110820003\n",
      "Modified partition coefficient: 0.8538450936977893,  adjusted_rand_score: 0.4587246452322728\n"
     ]
    },
    {
     "name": "stderr",
     "output_type": "stream",
     "text": [
      "c:\\Users\\Eliaquim\\anaconda3\\envs\\projeto_ml\\lib\\site-packages\\ipykernel_launcher.py:99: RuntimeWarning: divide by zero encountered in true_divide\n",
      "c:\\Users\\Eliaquim\\anaconda3\\envs\\projeto_ml\\lib\\site-packages\\ipykernel_launcher.py:99: RuntimeWarning: invalid value encountered in true_divide\n"
     ]
    },
    {
     "name": "stdout",
     "output_type": "stream",
     "text": [
      "repeation: 45 funcão objetivo: 333.2643020164806\n",
      "Modified partition coefficient: 0.8538626480784086,  adjusted_rand_score: 0.4587246452322728\n"
     ]
    },
    {
     "name": "stderr",
     "output_type": "stream",
     "text": [
      "c:\\Users\\Eliaquim\\anaconda3\\envs\\projeto_ml\\lib\\site-packages\\ipykernel_launcher.py:99: RuntimeWarning: divide by zero encountered in true_divide\n",
      "c:\\Users\\Eliaquim\\anaconda3\\envs\\projeto_ml\\lib\\site-packages\\ipykernel_launcher.py:99: RuntimeWarning: invalid value encountered in true_divide\n"
     ]
    },
    {
     "name": "stdout",
     "output_type": "stream",
     "text": [
      "repeation: 46 funcão objetivo: 335.9896050367552\n",
      "Modified partition coefficient: 0.8522072282534988,  adjusted_rand_score: 0.423010478098727\n"
     ]
    },
    {
     "name": "stderr",
     "output_type": "stream",
     "text": [
      "c:\\Users\\Eliaquim\\anaconda3\\envs\\projeto_ml\\lib\\site-packages\\ipykernel_launcher.py:99: RuntimeWarning: divide by zero encountered in true_divide\n",
      "c:\\Users\\Eliaquim\\anaconda3\\envs\\projeto_ml\\lib\\site-packages\\ipykernel_launcher.py:99: RuntimeWarning: invalid value encountered in true_divide\n"
     ]
    },
    {
     "name": "stdout",
     "output_type": "stream",
     "text": [
      "repeation: 47 funcão objetivo: 330.5917938169473\n",
      "Modified partition coefficient: 0.8374744797506852,  adjusted_rand_score: 0.4140029875112006\n"
     ]
    },
    {
     "name": "stderr",
     "output_type": "stream",
     "text": [
      "c:\\Users\\Eliaquim\\anaconda3\\envs\\projeto_ml\\lib\\site-packages\\ipykernel_launcher.py:99: RuntimeWarning: divide by zero encountered in true_divide\n",
      "c:\\Users\\Eliaquim\\anaconda3\\envs\\projeto_ml\\lib\\site-packages\\ipykernel_launcher.py:99: RuntimeWarning: invalid value encountered in true_divide\n"
     ]
    },
    {
     "name": "stdout",
     "output_type": "stream",
     "text": [
      "repeation: 48 funcão objetivo: 342.12627020425896\n",
      "Modified partition coefficient: 0.8604689870125459,  adjusted_rand_score: 0.4403317127356443\n"
     ]
    },
    {
     "name": "stderr",
     "output_type": "stream",
     "text": [
      "c:\\Users\\Eliaquim\\anaconda3\\envs\\projeto_ml\\lib\\site-packages\\ipykernel_launcher.py:99: RuntimeWarning: divide by zero encountered in true_divide\n",
      "c:\\Users\\Eliaquim\\anaconda3\\envs\\projeto_ml\\lib\\site-packages\\ipykernel_launcher.py:99: RuntimeWarning: invalid value encountered in true_divide\n"
     ]
    },
    {
     "name": "stdout",
     "output_type": "stream",
     "text": [
      "repeation: 49 funcão objetivo: 333.0670273389396\n",
      "Modified partition coefficient: 0.8582069256137174,  adjusted_rand_score: 0.45656139268985624\n"
     ]
    },
    {
     "name": "stderr",
     "output_type": "stream",
     "text": [
      "c:\\Users\\Eliaquim\\anaconda3\\envs\\projeto_ml\\lib\\site-packages\\ipykernel_launcher.py:99: RuntimeWarning: divide by zero encountered in true_divide\n",
      "c:\\Users\\Eliaquim\\anaconda3\\envs\\projeto_ml\\lib\\site-packages\\ipykernel_launcher.py:99: RuntimeWarning: invalid value encountered in true_divide\n"
     ]
    },
    {
     "name": "stdout",
     "output_type": "stream",
     "text": [
      "repeation: 50 funcão objetivo: 330.4227682709443\n",
      "Modified partition coefficient: 0.8547282368187579,  adjusted_rand_score: 0.4345123968575293\n",
      "Gs\n"
     ]
    },
    {
     "data": {
      "image/png": "[encoded data removed]",
      "text/plain": [
       "<Figure size 432x288 with 1 Axes>"
      ]
     },
     "metadata": {
      "needs_background": "light"
     },
     "output_type": "display_data"
    },
    {
     "name": "stdout",
     "output_type": "stream",
     "text": [
      "S2s\n"
     ]
    },
    {
     "data": {
      "image/png": "[encoded data removed]",
      "text/plain": [
       "<Figure size 432x288 with 1 Axes>"
      ]
     },
     "metadata": {
      "needs_background": "light"
     },
     "output_type": "display_data"
    },
    {
     "name": "stdout",
     "output_type": "stream",
     "text": [
      "Us\n"
     ]
    },
    {
     "data": {
      "image/png": "[encoded data removed]",
      "text/plain": [
       "<Figure size 432x288 with 1 Axes>"
      ]
     },
     "metadata": {
      "needs_background": "light"
     },
     "output_type": "display_data"
    },
    {
     "data": {
      "image/png": "[encoded data removed]",
      "text/plain": [
       "<Figure size 432x288 with 1 Axes>"
      ]
     },
     "metadata": {
      "needs_background": "light"
     },
     "output_type": "display_data"
    },
    {
     "data": {
      "text/plain": [
       "(array([[0.07536744, 0.30909558, 0.20030676, 0.19018011, 0.24446924,\n",
       "         0.1322566 , 0.30506947, 0.1407953 , 0.26254569, 0.16243664,\n",
       "         0.1091474 , 0.10098652, 0.11338601, 0.10472586, 0.10228613,\n",
       "         0.08066156, 0.09820331, 0.08758115, 0.08339873, 0.08582089,\n",
       "         0.07968154, 0.08066153, 0.08571335, 0.07082135, 0.07262177,\n",
       "         0.07064426, 0.0742431 , 0.07356849, 0.06667456, 0.06234032,\n",
       "         0.06377035, 0.06590104, 0.06701406, 0.065003  , 0.05884699,\n",
       "         0.05978198, 0.06334939, 0.05948667, 0.05922267, 0.0567678 ,\n",
       "         0.05522451, 0.0558229 , 0.0561554 , 0.05652112, 0.05586793,\n",
       "         0.0524272 , 0.05489626, 0.05332761, 0.0573654 , 0.05888201,\n",
       "         0.05979484, 0.05913952, 0.06514754, 0.06137239, 0.06355828,\n",
       "         0.0635712 , 0.07279241, 0.0648883 , 0.06797783, 0.07104164,\n",
       "         0.08396378, 0.07490033, 0.07944263, 0.07122002, 0.10828354,\n",
       "         0.08148235, 0.07553044, 0.08162363, 0.11124606, 0.0982389 ,\n",
       "         0.08300986, 0.08680741, 0.18834244, 0.091766  , 0.12755942,\n",
       "         0.08526915],\n",
       "        [0.11829392, 0.49046864, 0.12563732, 0.4194353 , 0.08114545,\n",
       "         0.10926601, 0.19090887, 0.11263102, 0.21056453, 0.07129465,\n",
       "         0.09447966, 0.11958901, 0.07569982, 0.09915495, 0.08373892,\n",
       "         0.08519349, 0.09570513, 0.05742079, 0.06523467, 0.08618564,\n",
       "         0.08202859, 0.0772799 , 0.05278109, 0.0478472 , 0.08256105,\n",
       "         0.08305143, 0.06749438, 0.04815748, 0.04551094, 0.08492367,\n",
       "         0.08309913, 0.05993918, 0.04683108, 0.04405207, 0.08423382,\n",
       "         0.07667279, 0.05616151, 0.04762111, 0.0422402 , 0.07603436,\n",
       "         0.07506037, 0.05877923, 0.04606208, 0.04277418, 0.0708268 ,\n",
       "         0.05862489, 0.04659206, 0.04452256, 0.07012239, 0.05685196,\n",
       "         0.04722377, 0.0494428 , 0.07336718, 0.06385156, 0.05270514,\n",
       "         0.04957455, 0.08141923, 0.07041557, 0.04888081, 0.04975837,\n",
       "         0.08787152, 0.07533158, 0.05668902, 0.05505983, 0.09621366,\n",
       "         0.08652268, 0.06034449, 0.06898648, 0.10659068, 0.10051471,\n",
       "         0.0754086 , 0.0847567 , 0.13680496, 0.10851106, 0.10487794,\n",
       "         0.09996062],\n",
       "        [0.16805714, 0.33982694, 0.18677207, 0.19962403, 0.14357268,\n",
       "         0.20637172, 0.2543028 , 0.23780796, 0.12880645, 0.16554003,\n",
       "         0.10273386, 0.07572082, 0.15305081, 0.14187279, 0.11123799,\n",
       "         0.09463556, 0.08925033, 0.09706699, 0.09429224, 0.09141434,\n",
       "         0.07663299, 0.07479777, 0.07698733, 0.08087242, 0.08207204,\n",
       "         0.07391339, 0.0701308 , 0.06933063, 0.06559317, 0.07326848,\n",
       "         0.06719685, 0.06233893, 0.06561016, 0.06058071, 0.06779579,\n",
       "         0.06185402, 0.0619461 , 0.05657456, 0.0581752 , 0.0621392 ,\n",
       "         0.0576158 , 0.05795575, 0.05656631, 0.05430081, 0.06485359,\n",
       "         0.05900854, 0.05413392, 0.04521758, 0.06727601, 0.0639582 ,\n",
       "         0.05251962, 0.04880121, 0.07198676, 0.06612241, 0.05773969,\n",
       "         0.04899246, 0.08436903, 0.0710826 , 0.05844307, 0.05224964,\n",
       "         0.08959549, 0.07607103, 0.06162106, 0.05676775, 0.09854487,\n",
       "         0.078125  , 0.06920554, 0.07058814, 0.12858569, 0.09503829,\n",
       "         0.07661551, 0.07499548, 0.11895164, 0.12051585, 0.16291536,\n",
       "         0.13075886],\n",
       "        [0.04599239, 0.12941841, 0.0665898 , 0.20230404, 0.40003358,\n",
       "         0.03297274, 0.30392821, 0.0607035 , 0.26333354, 0.0796474 ,\n",
       "         0.04481624, 0.15923145, 0.04958125, 0.24140735, 0.1236269 ,\n",
       "         0.03627332, 0.09526851, 0.05382093, 0.0769053 , 0.06460197,\n",
       "         0.04531136, 0.0829173 , 0.04378642, 0.10163201, 0.06809878,\n",
       "         0.03906926, 0.06186892, 0.0506125 , 0.06378501, 0.05085874,\n",
       "         0.04461042, 0.05652813, 0.04228962, 0.06093422, 0.04884544,\n",
       "         0.04043627, 0.04679199, 0.04577519, 0.05117257, 0.04245451,\n",
       "         0.04098073, 0.04441406, 0.04079701, 0.04581129, 0.03943119,\n",
       "         0.04261022, 0.04068862, 0.0468544 , 0.04163517, 0.04745218,\n",
       "         0.04396531, 0.04779887, 0.04162186, 0.0554475 , 0.04246182,\n",
       "         0.06394036, 0.04298924, 0.06460529, 0.04618663, 0.05997695,\n",
       "         0.04019382, 0.08169678, 0.04098272, 0.10842067, 0.03827695,\n",
       "         0.10114545, 0.04738286, 0.07246422, 0.03992378, 0.15744003,\n",
       "         0.04213803, 0.23968505, 0.03153115, 0.3007462 , 0.05401129,\n",
       "         0.26823282],\n",
       "        [0.15704695, 0.30579059, 0.26238218, 0.16780197, 0.18091375,\n",
       "         0.09562743, 0.19764235, 0.21953497, 0.16000741, 0.07774253,\n",
       "         0.1291804 , 0.1101107 , 0.11208253, 0.10590611, 0.10022589,\n",
       "         0.08465521, 0.08227184, 0.06870805, 0.06873957, 0.07495833,\n",
       "         0.07767752, 0.06509307, 0.05795816, 0.06047531, 0.0764357 ,\n",
       "         0.06716739, 0.05648106, 0.05714712, 0.05966264, 0.06296674,\n",
       "         0.06054   , 0.05722744, 0.0564889 , 0.05222122, 0.06106339,\n",
       "         0.06082132, 0.05554762, 0.05080615, 0.048178  , 0.05812146,\n",
       "         0.05595295, 0.05202197, 0.04899993, 0.04361956, 0.05849653,\n",
       "         0.0549005 , 0.05460241, 0.05229215, 0.05813136, 0.06242716,\n",
       "         0.0582508 , 0.05666527, 0.0725958 , 0.06081593, 0.06001929,\n",
       "         0.06295697, 0.06604517, 0.06715944, 0.07326304, 0.07998569,\n",
       "         0.08079235, 0.0866175 , 0.08434567, 0.06559052, 0.09065701,\n",
       "         0.07286358, 0.09272859, 0.10952538, 0.08065261, 0.16178962,\n",
       "         0.16701928, 0.12763044, 0.23785154, 0.21579307, 0.11728568,\n",
       "         0.13404911],\n",
       "        [0.14289096, 0.10271717, 0.09974736, 0.27132625, 0.15609621,\n",
       "         0.10273721, 0.33220019, 0.13410265, 0.28445098, 0.0969305 ,\n",
       "         0.08059602, 0.0850985 , 0.08428357, 0.12876707, 0.07135309,\n",
       "         0.07532188, 0.08048184, 0.06426854, 0.10139177, 0.0845354 ,\n",
       "         0.07057695, 0.06743787, 0.05929154, 0.06816081, 0.07260696,\n",
       "         0.06244268, 0.06168115, 0.05688994, 0.06262584, 0.06490901,\n",
       "         0.05963644, 0.05979531, 0.04951623, 0.0527843 , 0.06413207,\n",
       "         0.05836831, 0.05196093, 0.04394337, 0.04848993, 0.0611799 ,\n",
       "         0.05781692, 0.05175687, 0.04455054, 0.04197268, 0.05492394,\n",
       "         0.05166465, 0.04430772, 0.04265328, 0.05530036, 0.05070663,\n",
       "         0.0477936 , 0.04711163, 0.05999849, 0.05731641, 0.05017883,\n",
       "         0.05459359, 0.06580307, 0.06424724, 0.05214907, 0.06198447,\n",
       "         0.06938482, 0.06406301, 0.05721208, 0.07291529, 0.07007515,\n",
       "         0.09149673, 0.07075184, 0.0896338 , 0.07897684, 0.07733481,\n",
       "         0.08740468, 0.18501117, 0.10060397, 0.33264436, 0.11838573,\n",
       "         0.30923088],\n",
       "        [0.16823754, 0.18936114, 0.24079453, 0.13550052, 0.26091678,\n",
       "         0.09624514, 0.24579379, 0.2253507 , 0.18144628, 0.08871416,\n",
       "         0.13286134, 0.12580775, 0.15400814, 0.08869999, 0.10289943,\n",
       "         0.08072248, 0.0816833 , 0.1310371 , 0.08711378, 0.08379888,\n",
       "         0.07383545, 0.08076124, 0.07728755, 0.09729609, 0.06844755,\n",
       "         0.07384294, 0.07037379, 0.06804747, 0.06974035, 0.06809939,\n",
       "         0.07038191, 0.06292697, 0.0600892 , 0.06034683, 0.06729319,\n",
       "         0.06271731, 0.05822178, 0.05646162, 0.05616708, 0.06197011,\n",
       "         0.05843991, 0.05391685, 0.05383041, 0.05309109, 0.06307401,\n",
       "         0.0572927 , 0.05532793, 0.05682233, 0.06488124, 0.05912303,\n",
       "         0.06470662, 0.06425292, 0.06501876, 0.07290309, 0.07114809,\n",
       "         0.06379851, 0.07724355, 0.0822839 , 0.06937446, 0.07111794,\n",
       "         0.09487878, 0.07548308, 0.09026619, 0.09151865, 0.0815521 ,\n",
       "         0.11892178, 0.11647543, 0.10468374, 0.16646276, 0.14954978,\n",
       "         0.11730357, 0.08338984, 0.1743887 , 0.13321237, 0.07508251,\n",
       "         0.09325003],\n",
       "        [0.12072044, 0.35047313, 0.23532626, 0.17917991, 0.14006476,\n",
       "         0.13981468, 0.09911744, 0.19701641, 0.12842829, 0.122903  ,\n",
       "         0.08597289, 0.14329755, 0.08313359, 0.12452309, 0.08034006,\n",
       "         0.10204548, 0.07537419, 0.09703891, 0.06815017, 0.07276563,\n",
       "         0.08264792, 0.07104702, 0.06190618, 0.06202952, 0.07088672,\n",
       "         0.06333595, 0.06330616, 0.0578643 , 0.05233362, 0.06220011,\n",
       "         0.06293543, 0.05303462, 0.05091159, 0.04992357, 0.05695712,\n",
       "         0.05531723, 0.05314244, 0.04881782, 0.04867213, 0.05400947,\n",
       "         0.05291074, 0.05195957, 0.04866722, 0.04699708, 0.05320858,\n",
       "         0.05137678, 0.0511092 , 0.05019703, 0.05979786, 0.05552572,\n",
       "         0.05358774, 0.05502583, 0.06027856, 0.06065532, 0.06704414,\n",
       "         0.06080099, 0.07182748, 0.06971167, 0.06537774, 0.05441222,\n",
       "         0.08911892, 0.06434061, 0.07161772, 0.07303277, 0.07211572,\n",
       "         0.07727851, 0.10254054, 0.09498008, 0.06790116, 0.08172609,\n",
       "         0.14966344, 0.1363871 , 0.23235753, 0.3260899 , 0.10275353,\n",
       "         0.26302119],\n",
       "        [0.10105265, 0.28412852, 0.10708864, 0.13751832, 0.12632848,\n",
       "         0.11379992, 0.41440651, 0.10850653, 0.29975745, 0.11962022,\n",
       "         0.1261158 , 0.12008601, 0.11417224, 0.23455107, 0.08604171,\n",
       "         0.08653474, 0.1119809 , 0.10659399, 0.10278382, 0.08458353,\n",
       "         0.08502922, 0.07931008, 0.08236774, 0.09096155, 0.07413258,\n",
       "         0.08196179, 0.07171556, 0.07141239, 0.07234061, 0.07113338,\n",
       "         0.07416113, 0.0646698 , 0.06474535, 0.06507517, 0.06964518,\n",
       "         0.06723907, 0.06067961, 0.05997422, 0.06055582, 0.06477276,\n",
       "         0.06266155, 0.05871937, 0.05747292, 0.05613034, 0.06360271,\n",
       "         0.0591957 , 0.05013955, 0.04741441, 0.06277759, 0.05592426,\n",
       "         0.05229124, 0.04927012, 0.07132874, 0.05953688, 0.05827033,\n",
       "         0.05392995, 0.07157556, 0.06594349, 0.06038035, 0.05723721,\n",
       "         0.081478  , 0.07378421, 0.06364311, 0.06198727, 0.07979598,\n",
       "         0.08324145, 0.07952026, 0.06833929, 0.12432689, 0.10023365,\n",
       "         0.08220064, 0.07604715, 0.14105118, 0.09521123, 0.07189107,\n",
       "         0.06833056],\n",
       "        [0.11967723, 0.44035788, 0.13077527, 0.30224951, 0.07270684,\n",
       "         0.12689327, 0.10936486, 0.10655623, 0.13506659, 0.0750853 ,\n",
       "         0.09981021, 0.07928908, 0.09174922, 0.07553539, 0.08943502,\n",
       "         0.08155381, 0.084371  , 0.06026016, 0.06145626, 0.0951902 ,\n",
       "         0.08068286, 0.07202532, 0.05372182, 0.05418262, 0.09073089,\n",
       "         0.08150027, 0.06278082, 0.05378857, 0.04838802, 0.0810081 ,\n",
       "         0.07878499, 0.05563143, 0.0499973 , 0.04290857, 0.07549568,\n",
       "         0.07319775, 0.05604675, 0.04680358, 0.04448109, 0.0760871 ,\n",
       "         0.07097017, 0.05723643, 0.04437548, 0.04336754, 0.06460725,\n",
       "         0.05218343, 0.0508968 , 0.04610409, 0.07048767, 0.0560293 ,\n",
       "         0.05004825, 0.04711469, 0.07477542, 0.05825543, 0.04848006,\n",
       "         0.04938385, 0.07487672, 0.06036145, 0.05202385, 0.05957027,\n",
       "         0.07135018, 0.06550699, 0.07030708, 0.07260645, 0.08140995,\n",
       "         0.08803921, 0.07463214, 0.07854577, 0.11139641, 0.14933201,\n",
       "         0.06426917, 0.10105973, 0.13903408, 0.29875134, 0.10699442,\n",
       "         0.31450171]]),\n",
       " array([[1.33964629e-10, 2.32255495e-13, 5.93556569e-12, ...,\n",
       "         1.03715015e-11, 1.02603228e-10, 1.78080227e-12],\n",
       "        [2.16629600e-09, 8.57659758e-12, 2.16353594e-10, ...,\n",
       "         4.57204925e-10, 1.63894733e-09, 7.80288996e-11],\n",
       "        [6.44128706e-07, 9.51366023e-10, 4.43168994e-08, ...,\n",
       "         5.59626688e-08, 6.68715218e-07, 6.66025719e-09],\n",
       "        ...,\n",
       "        [3.18392634e-01, 3.70082545e-07, 3.35056222e-03, ...,\n",
       "         4.37569398e-04, 6.64996985e-03, 3.95153587e-07],\n",
       "        [8.34996456e-04, 3.63769757e-08, 1.85814881e-05, ...,\n",
       "         3.49811663e-07, 5.38309254e-06, 8.45902336e-09],\n",
       "        [3.30106147e-05, 5.13011858e-10, 1.24671241e-05, ...,\n",
       "         2.73888740e-07, 4.85539413e-07, 5.73782850e-10]]),\n",
       " array([[0.63197082, 0.42138269, 0.36266127, 0.38602363, 0.34399341,\n",
       "         0.59675557, 0.64553727, 0.46324286, 0.51108222, 0.52094588,\n",
       "         0.58841233, 0.45871045, 0.49866687, 0.60389956, 0.68516656,\n",
       "         1.01534844, 0.50600087, 0.77252885, 0.80404349, 0.87502558,\n",
       "         0.93456669, 0.86874897, 0.98501257, 1.06710513, 1.08281083,\n",
       "         1.29027846, 1.10354238, 0.99167856, 1.28354112, 1.29398734,\n",
       "         1.53540412, 1.43227647, 1.13961768, 1.60645271, 1.41106074,\n",
       "         1.64729048, 1.69004067, 1.55792874, 1.72143594, 1.87631963,\n",
       "         1.95590519, 2.08300309, 2.15592182, 1.91341896, 1.68013312,\n",
       "         2.18220399, 1.93666911, 2.27925474, 1.79120618, 1.85523102,\n",
       "         1.78038707, 2.09078275, 1.49641468, 1.49450409, 1.46103598,\n",
       "         1.98173724, 1.18977873, 1.40376312, 1.39602513, 1.19070175,\n",
       "         1.00693264, 0.81235115, 1.31084202, 1.0923668 , 0.59748389,\n",
       "         0.7886051 , 1.04880346, 1.0368295 , 0.58833143, 0.60268078,\n",
       "         0.6996821 , 0.91000715, 0.53226487, 0.47048585, 0.59518342,\n",
       "         0.5009286 ],\n",
       "        [1.10731612, 0.4525735 , 0.18412783, 0.20250031, 0.43297272,\n",
       "         0.35507283, 0.20061223, 0.29483248, 0.14890655, 0.8153188 ,\n",
       "         1.04069198, 0.5878242 , 0.54902165, 0.33403228, 1.25182889,\n",
       "         1.47599968, 1.25195158, 1.04423512, 0.80205802, 1.51021342,\n",
       "         1.35934223, 1.54144484, 1.39793111, 1.29529649, 1.46685416,\n",
       "         1.60831042, 2.02636684, 1.87845109, 1.25887406, 1.62851483,\n",
       "         1.53200227, 1.91878837, 2.61187088, 2.12091276, 1.52983607,\n",
       "         1.43439942, 2.14531813, 1.47038859, 2.54556341, 1.16287085,\n",
       "         1.6914313 , 1.85092281, 1.47155704, 2.55126818, 1.35917696,\n",
       "         1.74121696, 2.45695709, 2.02252009, 1.29010678, 1.50074039,\n",
       "         1.94948792, 1.968473  , 1.03723008, 1.58745508, 1.5121596 ,\n",
       "         1.52684795, 1.18548853, 1.07594691, 1.48304295, 1.21888005,\n",
       "         0.93471414, 1.04983055, 1.20312167, 1.02759513, 1.02522805,\n",
       "         0.97067727, 1.18911789, 0.9393312 , 0.87109105, 0.30158017,\n",
       "         0.67903198, 0.44814628, 0.34150823, 0.21984703, 0.33736749,\n",
       "         0.25777358],\n",
       "        [0.60057565, 0.39803003, 0.2616932 , 0.35835399, 0.44699846,\n",
       "         0.49759769, 0.41762631, 0.36703236, 0.35328738, 0.55072055,\n",
       "         0.48492976, 0.70261335, 0.35937185, 0.39954075, 0.84701151,\n",
       "         0.7494294 , 0.8210873 , 0.68145058, 0.63762705, 1.00123921,\n",
       "         1.19051843, 1.11144818, 1.15381039, 0.92515336, 1.12204612,\n",
       "         1.18470306, 1.19907683, 1.28882259, 1.26840051, 1.00065666,\n",
       "         1.30642314, 1.49819598, 1.36727516, 1.66689861, 1.36286304,\n",
       "         1.40527742, 1.33500485, 1.62138098, 1.7551061 , 1.41551043,\n",
       "         1.53744407, 1.98552565, 1.77317024, 2.00118081, 1.60058843,\n",
       "         2.13158062, 1.97946464, 2.83398717, 1.37239186, 1.81976903,\n",
       "         2.04374841, 2.1217245 , 1.36755553, 1.41200908, 1.61790339,\n",
       "         2.05029502, 1.14664549, 1.41031535, 1.52384075, 1.76050249,\n",
       "         1.00524792, 1.25601327, 1.26701497, 1.55811659, 0.90061427,\n",
       "         1.24079934, 1.06331729, 0.8678533 , 0.90836678, 0.73346728,\n",
       "         0.89601719, 0.86160245, 0.57436142, 0.47575481, 0.35318793,\n",
       "         0.45006441],\n",
       "        [0.79474552, 0.38070583, 0.59213383, 0.3156144 , 0.27999719,\n",
       "         1.07698535, 0.84739003, 0.55907304, 0.42470225, 0.44016397,\n",
       "         0.87771148, 0.32520182, 0.80835057, 0.51290993, 0.75939663,\n",
       "         1.39105954, 0.62269517, 0.741634  , 0.45057837, 0.90438602,\n",
       "         1.05054273, 0.66116349, 1.22350265, 0.75714359, 1.08222454,\n",
       "         1.75254856, 1.10183117, 0.99604062, 0.68699538, 1.48292275,\n",
       "         1.29405195, 1.27095342, 1.67037812, 1.21841123, 1.90418315,\n",
       "         2.02534158, 1.65682121, 1.48097793, 1.25542262, 1.87945909,\n",
       "         1.96665046, 1.99314398, 2.00934503, 1.84770668, 2.1931292 ,\n",
       "         2.22890568, 1.84218289, 1.73262651, 1.6539825 , 1.72696886,\n",
       "         1.81324629, 1.41964213, 1.77840319, 1.34469665, 1.46302437,\n",
       "         1.24153448, 1.23467933, 1.23596084, 1.36853407, 0.86249804,\n",
       "         1.37313057, 0.7357313 , 1.42693099, 0.77555077, 1.34737902,\n",
       "         0.67812486, 0.99580826, 0.5235622 , 1.10097674, 0.38561057,\n",
       "         0.86256171, 0.56449653, 0.71073551, 0.70087496, 0.78539664,\n",
       "         0.49056979],\n",
       "        [0.56319076, 0.13819642, 0.18741387, 0.25823715, 0.43577977,\n",
       "         0.56314839, 0.19536186, 0.32461718, 0.34303423, 0.63125374,\n",
       "         0.63876087, 0.78384985, 0.66259786, 0.50803451, 0.82045759,\n",
       "         1.16273792, 1.14879363, 1.16184919, 0.91647257, 1.07082091,\n",
       "         1.23752188, 1.78737522, 1.66972096, 1.31998653, 1.41162619,\n",
       "         1.52573579, 1.81481978, 2.03365094, 1.85877081, 1.46085602,\n",
       "         1.44617724, 2.05721387, 2.06790162, 2.2434899 , 1.47601536,\n",
       "         1.61755691, 2.05513019, 2.41432077, 2.68408828, 1.446831  ,\n",
       "         1.80909061, 2.54092333, 2.65201902, 3.1200828 , 1.9507212 ,\n",
       "         2.18071738, 1.80173191, 2.11218507, 1.65354593, 1.63101881,\n",
       "         1.80674376, 1.71510501, 1.70213402, 1.7152533 , 1.48570472,\n",
       "         1.30938229, 1.38193881, 1.1595773 , 1.14159715, 0.85616045,\n",
       "         0.92303957, 1.0637355 , 0.82005114, 1.05181198, 1.07692867,\n",
       "         0.85333116, 0.6175825 , 0.50932455, 0.589047  , 0.38456944,\n",
       "         0.35317212, 0.48797988, 0.29143193, 0.2847813 , 0.40811406,\n",
       "         0.3777494 ],\n",
       "        [0.46088822, 0.32055326, 0.40430139, 0.20956773, 0.27191063,\n",
       "         1.89185645, 0.6100462 , 0.31464861, 0.25955603, 0.38972748,\n",
       "         1.92191812, 0.64445415, 0.57197984, 0.3082528 , 1.07599311,\n",
       "         1.19615514, 0.51740763, 0.91997662, 0.60607951, 1.02348116,\n",
       "         1.16272141, 0.80099856, 1.33491311, 0.98707175, 1.14689233,\n",
       "         1.22534964, 1.27879219, 1.21462969, 1.04474929, 1.13253951,\n",
       "         1.71707464, 1.41418515, 1.79209691, 1.62531509, 1.22841004,\n",
       "         1.75004539, 1.56956744, 1.94300715, 1.79033541, 1.36059164,\n",
       "         1.93108902, 1.68239209, 2.57001026, 2.08970785, 1.62532662,\n",
       "         1.99213603, 1.99717196, 2.00268776, 1.53284031, 1.66976638,\n",
       "         1.95730819, 2.02606329, 1.60728917, 1.55924725, 1.80088571,\n",
       "         1.44978795, 1.3630107 , 1.19374055, 1.60972776, 1.13127127,\n",
       "         1.24907102, 0.93766066, 1.03674889, 0.92587976, 1.52472418,\n",
       "         0.54435778, 0.72400848, 0.69363845, 1.77839054, 0.61852756,\n",
       "         0.53793253, 0.25046462, 1.95031434, 0.42760608, 0.31824761,\n",
       "         0.32841662],\n",
       "        [0.52447828, 0.55251174, 0.52565779, 0.66290771, 0.50660343,\n",
       "         0.7146581 , 0.39524354, 0.41346739, 0.59916781, 0.53243183,\n",
       "         0.44897091, 0.61843266, 0.55161926, 0.54675999, 0.79383831,\n",
       "         0.91578419, 0.80347909, 0.47795888, 0.96866844, 0.9019759 ,\n",
       "         1.34739342, 1.14755584, 0.82236673, 0.65491421, 1.31132047,\n",
       "         1.09256404, 1.41800879, 1.32987775, 0.96606703, 1.36607447,\n",
       "         1.33915328, 1.97778807, 1.61546027, 1.53717207, 1.47775599,\n",
       "         1.54347732, 1.89109566, 1.93914161, 1.7755239 , 1.49903754,\n",
       "         1.73429909, 1.92552168, 2.3189268 , 1.96301729, 1.72898325,\n",
       "         1.86533801, 2.0059512 , 1.77048723, 1.40500949, 1.68252744,\n",
       "         1.58497074, 1.5053309 , 1.50036862, 1.41936462, 1.16003423,\n",
       "         1.50512879, 1.16905444, 1.06774584, 1.39627292, 1.00497351,\n",
       "         0.87227761, 1.16270005, 0.78888154, 0.86223087, 1.02819053,\n",
       "         0.57104391, 0.67725165, 0.9506506 , 0.63953599, 0.61016038,\n",
       "         0.84200084, 1.00294819, 0.44353298, 0.69150681, 0.57594263,\n",
       "         0.6085068 ],\n",
       "        [0.50429588, 0.42661311, 0.317766  , 0.4083917 , 0.39860299,\n",
       "         0.56975854, 0.40603229, 0.41588365, 0.43153834, 1.18177466,\n",
       "         0.44147118, 1.09529321, 0.5510062 , 0.39925432, 1.23835707,\n",
       "         1.36909363, 1.07840503, 0.7098643 , 0.76278001, 1.44060959,\n",
       "         1.02195498, 1.39265521, 1.27553626, 1.30279641, 1.31620256,\n",
       "         1.35645751, 1.27548561, 1.6531107 , 1.80205982, 1.38628965,\n",
       "         1.74344829, 1.82981804, 1.46198413, 1.78989469, 1.68379908,\n",
       "         1.51167248, 2.04106552, 2.11539596, 2.35358631, 1.77164425,\n",
       "         2.07511515, 1.68872936, 1.98094026, 2.31424713, 1.70613848,\n",
       "         1.84651305, 1.95726027, 1.72311968, 1.86317525, 1.59826059,\n",
       "         1.34428897, 1.40185708, 1.4807419 , 1.46519137, 1.33033896,\n",
       "         1.08560511, 1.03036854, 1.13220589, 0.90068426, 1.29013625,\n",
       "         0.86639871, 1.18709377, 0.66062162, 1.07425666, 0.63879718,\n",
       "         0.62989288, 0.57064363, 0.5555633 , 0.70798119, 0.76058676,\n",
       "         0.49786708, 0.24932239, 1.04762144, 0.44587182, 0.29930271,\n",
       "         0.40076044],\n",
       "        [0.78077377, 0.26879154, 0.28377027, 0.34701103, 0.38820632,\n",
       "         0.50263951, 0.81840782, 0.47612656, 0.25571623, 0.46016572,\n",
       "         0.59470867, 0.26999611, 0.35098409, 0.26316926, 0.91944198,\n",
       "         0.639132  , 0.43378566, 0.65176465, 0.39099172, 1.16000534,\n",
       "         1.0038052 , 0.81976197, 0.82618903, 0.68178594, 1.42694122,\n",
       "         0.97718987, 1.04380626, 0.94566339, 0.96194873, 1.32452995,\n",
       "         1.41963241, 1.18528823, 0.98477983, 1.06792017, 1.32683736,\n",
       "         1.49779796, 1.77254885, 1.41298968, 1.32073659, 1.69423887,\n",
       "         1.70501119, 1.79240677, 1.47683416, 1.48211506, 1.65205097,\n",
       "         2.21061158, 2.2617278 , 2.87527594, 1.60094937, 2.23543782,\n",
       "         2.18479689, 2.31661542, 1.5638994 , 1.9040105 , 1.76468274,\n",
       "         2.00535381, 1.39289552, 1.5278449 , 1.59238077, 1.67615909,\n",
       "         1.06121801, 1.30289494, 1.43543534, 1.66721675, 1.0558554 ,\n",
       "         1.14376657, 1.18631693, 1.37182791, 1.07904657, 1.03392429,\n",
       "         1.01769808, 1.01791973, 0.84233846, 0.4315109 , 0.75333048,\n",
       "         0.85208737],\n",
       "        [0.77408512, 0.32770052, 0.29507767, 0.19749187, 0.43819089,\n",
       "         0.56536319, 0.34199153, 0.41442528, 0.35039714, 0.68397652,\n",
       "         0.75716299, 0.43653916, 0.68976788, 0.64025993, 0.84116673,\n",
       "         0.93895006, 0.76503713, 1.06578312, 0.98297472, 1.25816521,\n",
       "         1.10753788, 1.23335222, 1.20170398, 1.38763776, 1.25154603,\n",
       "         1.4613344 , 1.53609645, 1.4634869 , 2.25408259, 1.17596562,\n",
       "         1.68588476, 1.77256927, 1.63616169, 2.47258873, 1.5277515 ,\n",
       "         1.43710756, 1.61207965, 1.81814319, 2.5490833 , 1.48315482,\n",
       "         1.32510171, 1.67918502, 2.35831023, 2.64298218, 1.613304  ,\n",
       "         1.96696802, 2.01030902, 2.56836133, 1.67136986, 1.78828627,\n",
       "         1.77684639, 2.29172315, 1.30375279, 1.44274394, 1.52934807,\n",
       "         1.72300602, 1.1760754 , 1.16111398, 1.1719111 , 1.18904217,\n",
       "         1.18820688, 1.16094118, 0.79895901, 0.7100576 , 1.01444943,\n",
       "         0.62236183, 0.70834913, 0.69472621, 0.71619963, 0.47545814,\n",
       "         0.94584727, 0.47289882, 0.42264612, 0.21689516, 0.39621681,\n",
       "         0.26990819]]))"
      ]
     },
     "execution_count": 47,
     "metadata": {},
     "output_type": "execute_result"
    }
   ],
   "source": [
    "X = load_dataset(\"datasets\\mfeat-fou\")\n",
    "\n",
    "y = pd.DataFrame({X.shape[1]: np.arange(0, X.shape[0])//200})\n",
    "X_clean, y_clean = Cleaner().transform(X, y)\n",
    "\n",
    "# model = FuzzyCMeansGaussianS2(num_class=10, epochs = 50, m=1.01, verbose=False, threshold=1e-6) # \n",
    "model = Trainer(num_class = 10, epochs = 100, threshold = 1e-6, model_creator=FuzzyCMeansGaussianS2, m = 1.1, verbose = False, repeat = 50)\n",
    "pipeline = Pipeline([(\"Normalizer\", Normalizer()), \n",
    "                     (\"Transformer\", Transformer()),                      \n",
    "                    (\"Model\", model)])\n",
    "pipeline.fit(X_clean, y_clean)\n",
    "# model.fit(X, 30)\n",
    "model.show_G_S_U()\n",
    "model.G, model.U, model.sigma"
   ]
  },
  {
   "cell_type": "code",
   "execution_count": 50,
   "metadata": {},
   "outputs": [
    {
     "ename": "AttributeError",
     "evalue": "'Trainer' object has no attribute 'predict'",
     "output_type": "error",
     "traceback": [
      "\u001b[1;31m---------------------------------------------------------------------------\u001b[0m",
      "\u001b[1;31mAttributeError\u001b[0m                            Traceback (most recent call last)",
      "\u001b[1;32m<ipython-input-50-3e262a6700bc>\u001b[0m in \u001b[0;36m<module>\u001b[1;34m\u001b[0m\n\u001b[1;32m----> 1\u001b[1;33m \u001b[0my_predict\u001b[0m \u001b[1;33m=\u001b[0m \u001b[0mpipeline\u001b[0m\u001b[1;33m.\u001b[0m\u001b[0mpredict\u001b[0m\u001b[1;33m(\u001b[0m\u001b[0mX_clean\u001b[0m\u001b[1;33m)\u001b[0m \u001b[1;31m#(2000) <= (2000, 200)\u001b[0m\u001b[1;33m\u001b[0m\u001b[1;33m\u001b[0m\u001b[0m\n\u001b[0m\u001b[0;32m      2\u001b[0m \u001b[0mcm\u001b[0m \u001b[1;33m=\u001b[0m \u001b[0mconfusion_matrix\u001b[0m\u001b[1;33m(\u001b[0m\u001b[0my_clean\u001b[0m\u001b[1;33m,\u001b[0m \u001b[0my_predict\u001b[0m\u001b[1;33m)\u001b[0m\u001b[1;33m\u001b[0m\u001b[1;33m\u001b[0m\u001b[0m\n\u001b[0;32m      3\u001b[0m \u001b[0mcmd\u001b[0m \u001b[1;33m=\u001b[0m \u001b[0mConfusionMatrixDisplay\u001b[0m\u001b[1;33m(\u001b[0m\u001b[0mconfusion_matrix\u001b[0m\u001b[1;33m=\u001b[0m\u001b[0mcm\u001b[0m\u001b[1;33m,\u001b[0m \u001b[0mdisplay_labels\u001b[0m\u001b[1;33m=\u001b[0m\u001b[0mnp\u001b[0m\u001b[1;33m.\u001b[0m\u001b[0marange\u001b[0m\u001b[1;33m(\u001b[0m\u001b[0mmodel\u001b[0m\u001b[1;33m.\u001b[0m\u001b[0mnum_class\u001b[0m\u001b[1;33m)\u001b[0m\u001b[1;33m)\u001b[0m\u001b[1;33m\u001b[0m\u001b[1;33m\u001b[0m\u001b[0m\n\u001b[0;32m      4\u001b[0m \u001b[0mcmd\u001b[0m\u001b[1;33m.\u001b[0m\u001b[0mplot\u001b[0m\u001b[1;33m(\u001b[0m\u001b[1;33m)\u001b[0m\u001b[1;33m\u001b[0m\u001b[1;33m\u001b[0m\u001b[0m\n",
      "\u001b[1;32mc:\\Users\\Eliaquim\\anaconda3\\envs\\projeto_ml\\lib\\site-packages\\sklearn\\utils\\metaestimators.py\u001b[0m in \u001b[0;36m__get__\u001b[1;34m(self, obj, type)\u001b[0m\n\u001b[0;32m    112\u001b[0m                     \u001b[1;32mcontinue\u001b[0m\u001b[1;33m\u001b[0m\u001b[1;33m\u001b[0m\u001b[0m\n\u001b[0;32m    113\u001b[0m                 \u001b[1;32melse\u001b[0m\u001b[1;33m:\u001b[0m\u001b[1;33m\u001b[0m\u001b[1;33m\u001b[0m\u001b[0m\n\u001b[1;32m--> 114\u001b[1;33m                     \u001b[0mgetattr\u001b[0m\u001b[1;33m(\u001b[0m\u001b[0mdelegate\u001b[0m\u001b[1;33m,\u001b[0m \u001b[0mself\u001b[0m\u001b[1;33m.\u001b[0m\u001b[0mattribute_name\u001b[0m\u001b[1;33m)\u001b[0m\u001b[1;33m\u001b[0m\u001b[1;33m\u001b[0m\u001b[0m\n\u001b[0m\u001b[0;32m    115\u001b[0m                     \u001b[1;32mbreak\u001b[0m\u001b[1;33m\u001b[0m\u001b[1;33m\u001b[0m\u001b[0m\n\u001b[0;32m    116\u001b[0m             \u001b[1;32melse\u001b[0m\u001b[1;33m:\u001b[0m\u001b[1;33m\u001b[0m\u001b[1;33m\u001b[0m\u001b[0m\n",
      "\u001b[1;31mAttributeError\u001b[0m: 'Trainer' object has no attribute 'predict'"
     ]
    }
   ],
   "source": [
    "y_predict = pipeline.predict(X_clean) #(2000) <= (2000, 200)\n",
    "cm = confusion_matrix(y_clean, y_predict)\n",
    "cmd = ConfusionMatrixDisplay(confusion_matrix=cm, display_labels=np.arange(model.num_class))\n",
    "cmd.plot()"
   ]
  },
  {
   "cell_type": "markdown",
   "metadata": {},
   "source": [
    "### datasets -> mfeat-kar"
   ]
  },
  {
   "cell_type": "code",
   "execution_count": 44,
   "metadata": {},
   "outputs": [
    {
     "name": "stderr",
     "output_type": "stream",
     "text": [
      "c:\\Users\\Eliaquim\\anaconda3\\envs\\projeto_ml\\lib\\site-packages\\ipykernel_launcher.py:51: RuntimeWarning: divide by zero encountered in true_divide\n",
      "c:\\Users\\Eliaquim\\anaconda3\\envs\\projeto_ml\\lib\\site-packages\\ipykernel_launcher.py:51: RuntimeWarning: invalid value encountered in true_divide\n"
     ]
    },
    {
     "name": "stdout",
     "output_type": "stream",
     "text": [
      "repeation: 1 funcão objetivo: 1877.2199730450484\n",
      "Modified partition coefficient: 0.6881532340292134,  adjusted_rand_score: 0.3777663617980707\n"
     ]
    },
    {
     "name": "stderr",
     "output_type": "stream",
     "text": [
      "c:\\Users\\Eliaquim\\anaconda3\\envs\\projeto_ml\\lib\\site-packages\\ipykernel_launcher.py:51: RuntimeWarning: divide by zero encountered in true_divide\n",
      "c:\\Users\\Eliaquim\\anaconda3\\envs\\projeto_ml\\lib\\site-packages\\ipykernel_launcher.py:51: RuntimeWarning: invalid value encountered in true_divide\n"
     ]
    },
    {
     "name": "stdout",
     "output_type": "stream",
     "text": [
      "repeation: 2 funcão objetivo: 1876.4271379222605\n",
      "Modified partition coefficient: 0.6671954174227847,  adjusted_rand_score: 0.48334957932857403\n"
     ]
    },
    {
     "name": "stderr",
     "output_type": "stream",
     "text": [
      "c:\\Users\\Eliaquim\\anaconda3\\envs\\projeto_ml\\lib\\site-packages\\ipykernel_launcher.py:51: RuntimeWarning: divide by zero encountered in true_divide\n",
      "c:\\Users\\Eliaquim\\anaconda3\\envs\\projeto_ml\\lib\\site-packages\\ipykernel_launcher.py:51: RuntimeWarning: invalid value encountered in true_divide\n"
     ]
    },
    {
     "name": "stdout",
     "output_type": "stream",
     "text": [
      "repeation: 3 funcão objetivo: 1806.2510704636763\n",
      "Modified partition coefficient: 0.7103962753667771,  adjusted_rand_score: 0.5762327398932902\n"
     ]
    },
    {
     "name": "stderr",
     "output_type": "stream",
     "text": [
      "c:\\Users\\Eliaquim\\anaconda3\\envs\\projeto_ml\\lib\\site-packages\\ipykernel_launcher.py:51: RuntimeWarning: divide by zero encountered in true_divide\n",
      "c:\\Users\\Eliaquim\\anaconda3\\envs\\projeto_ml\\lib\\site-packages\\ipykernel_launcher.py:51: RuntimeWarning: invalid value encountered in true_divide\n"
     ]
    },
    {
     "name": "stdout",
     "output_type": "stream",
     "text": [
      "repeation: 4 funcão objetivo: 1806.2470607907899\n",
      "Modified partition coefficient: 0.7103941239696494,  adjusted_rand_score: 0.5762327398932902\n"
     ]
    },
    {
     "name": "stderr",
     "output_type": "stream",
     "text": [
      "c:\\Users\\Eliaquim\\anaconda3\\envs\\projeto_ml\\lib\\site-packages\\ipykernel_launcher.py:51: RuntimeWarning: divide by zero encountered in true_divide\n",
      "c:\\Users\\Eliaquim\\anaconda3\\envs\\projeto_ml\\lib\\site-packages\\ipykernel_launcher.py:51: RuntimeWarning: invalid value encountered in true_divide\n"
     ]
    },
    {
     "name": "stdout",
     "output_type": "stream",
     "text": [
      "repeation: 5 funcão objetivo: 1806.25259346121\n",
      "Modified partition coefficient: 0.7103970385091438,  adjusted_rand_score: 0.5762327398932902\n"
     ]
    },
    {
     "name": "stderr",
     "output_type": "stream",
     "text": [
      "c:\\Users\\Eliaquim\\anaconda3\\envs\\projeto_ml\\lib\\site-packages\\ipykernel_launcher.py:51: RuntimeWarning: divide by zero encountered in true_divide\n",
      "c:\\Users\\Eliaquim\\anaconda3\\envs\\projeto_ml\\lib\\site-packages\\ipykernel_launcher.py:51: RuntimeWarning: invalid value encountered in true_divide\n"
     ]
    },
    {
     "name": "stdout",
     "output_type": "stream",
     "text": [
      "repeation: 6 funcão objetivo: 1835.79297859175\n",
      "Modified partition coefficient: 0.7036255890330516,  adjusted_rand_score: 0.5845361122334449\n"
     ]
    },
    {
     "name": "stderr",
     "output_type": "stream",
     "text": [
      "c:\\Users\\Eliaquim\\anaconda3\\envs\\projeto_ml\\lib\\site-packages\\ipykernel_launcher.py:51: RuntimeWarning: divide by zero encountered in true_divide\n",
      "c:\\Users\\Eliaquim\\anaconda3\\envs\\projeto_ml\\lib\\site-packages\\ipykernel_launcher.py:51: RuntimeWarning: invalid value encountered in true_divide\n"
     ]
    },
    {
     "name": "stdout",
     "output_type": "stream",
     "text": [
      "repeation: 7 funcão objetivo: 1817.4062939950165\n",
      "Modified partition coefficient: 0.706210846980659,  adjusted_rand_score: 0.48316300208618757\n"
     ]
    },
    {
     "name": "stderr",
     "output_type": "stream",
     "text": [
      "c:\\Users\\Eliaquim\\anaconda3\\envs\\projeto_ml\\lib\\site-packages\\ipykernel_launcher.py:51: RuntimeWarning: divide by zero encountered in true_divide\n",
      "c:\\Users\\Eliaquim\\anaconda3\\envs\\projeto_ml\\lib\\site-packages\\ipykernel_launcher.py:51: RuntimeWarning: invalid value encountered in true_divide\n"
     ]
    },
    {
     "name": "stdout",
     "output_type": "stream",
     "text": [
      "repeation: 8 funcão objetivo: 1843.691258472888\n",
      "Modified partition coefficient: 0.6871725385689109,  adjusted_rand_score: 0.46128388831573014\n"
     ]
    },
    {
     "name": "stderr",
     "output_type": "stream",
     "text": [
      "c:\\Users\\Eliaquim\\anaconda3\\envs\\projeto_ml\\lib\\site-packages\\ipykernel_launcher.py:51: RuntimeWarning: divide by zero encountered in true_divide\n",
      "c:\\Users\\Eliaquim\\anaconda3\\envs\\projeto_ml\\lib\\site-packages\\ipykernel_launcher.py:51: RuntimeWarning: invalid value encountered in true_divide\n"
     ]
    },
    {
     "name": "stdout",
     "output_type": "stream",
     "text": [
      "repeation: 9 funcão objetivo: 1819.0039412013327\n",
      "Modified partition coefficient: 0.7038401035041271,  adjusted_rand_score: 0.502473334397098\n"
     ]
    },
    {
     "name": "stderr",
     "output_type": "stream",
     "text": [
      "c:\\Users\\Eliaquim\\anaconda3\\envs\\projeto_ml\\lib\\site-packages\\ipykernel_launcher.py:51: RuntimeWarning: divide by zero encountered in true_divide\n",
      "c:\\Users\\Eliaquim\\anaconda3\\envs\\projeto_ml\\lib\\site-packages\\ipykernel_launcher.py:51: RuntimeWarning: invalid value encountered in true_divide\n"
     ]
    },
    {
     "name": "stdout",
     "output_type": "stream",
     "text": [
      "repeation: 10 funcão objetivo: 1819.0033265670033\n",
      "Modified partition coefficient: 0.70384047891734,  adjusted_rand_score: 0.502473334397098\n"
     ]
    },
    {
     "name": "stderr",
     "output_type": "stream",
     "text": [
      "c:\\Users\\Eliaquim\\anaconda3\\envs\\projeto_ml\\lib\\site-packages\\ipykernel_launcher.py:51: RuntimeWarning: divide by zero encountered in true_divide\n",
      "c:\\Users\\Eliaquim\\anaconda3\\envs\\projeto_ml\\lib\\site-packages\\ipykernel_launcher.py:51: RuntimeWarning: invalid value encountered in true_divide\n"
     ]
    },
    {
     "name": "stdout",
     "output_type": "stream",
     "text": [
      "repeation: 11 funcão objetivo: 1806.2505130630982\n",
      "Modified partition coefficient: 0.7103959903096053,  adjusted_rand_score: 0.5762327398932902\n"
     ]
    },
    {
     "name": "stderr",
     "output_type": "stream",
     "text": [
      "c:\\Users\\Eliaquim\\anaconda3\\envs\\projeto_ml\\lib\\site-packages\\ipykernel_launcher.py:51: RuntimeWarning: divide by zero encountered in true_divide\n",
      "c:\\Users\\Eliaquim\\anaconda3\\envs\\projeto_ml\\lib\\site-packages\\ipykernel_launcher.py:51: RuntimeWarning: invalid value encountered in true_divide\n"
     ]
    },
    {
     "name": "stdout",
     "output_type": "stream",
     "text": [
      "repeation: 12 funcão objetivo: 1841.901478470462\n",
      "Modified partition coefficient: 0.7022401828796214,  adjusted_rand_score: 0.5722257277282541\n"
     ]
    },
    {
     "name": "stderr",
     "output_type": "stream",
     "text": [
      "c:\\Users\\Eliaquim\\anaconda3\\envs\\projeto_ml\\lib\\site-packages\\ipykernel_launcher.py:51: RuntimeWarning: divide by zero encountered in true_divide\n",
      "c:\\Users\\Eliaquim\\anaconda3\\envs\\projeto_ml\\lib\\site-packages\\ipykernel_launcher.py:51: RuntimeWarning: invalid value encountered in true_divide\n"
     ]
    },
    {
     "name": "stdout",
     "output_type": "stream",
     "text": [
      "repeation: 13 funcão objetivo: 1820.546835263283\n",
      "Modified partition coefficient: 0.7137316375176129,  adjusted_rand_score: 0.4552521631023444\n"
     ]
    },
    {
     "name": "stderr",
     "output_type": "stream",
     "text": [
      "c:\\Users\\Eliaquim\\anaconda3\\envs\\projeto_ml\\lib\\site-packages\\ipykernel_launcher.py:51: RuntimeWarning: divide by zero encountered in true_divide\n",
      "c:\\Users\\Eliaquim\\anaconda3\\envs\\projeto_ml\\lib\\site-packages\\ipykernel_launcher.py:51: RuntimeWarning: invalid value encountered in true_divide\n"
     ]
    },
    {
     "name": "stdout",
     "output_type": "stream",
     "text": [
      "repeation: 14 funcão objetivo: 1806.2514716196456\n",
      "Modified partition coefficient: 0.7103964792652243,  adjusted_rand_score: 0.5762327398932902\n"
     ]
    },
    {
     "name": "stderr",
     "output_type": "stream",
     "text": [
      "c:\\Users\\Eliaquim\\anaconda3\\envs\\projeto_ml\\lib\\site-packages\\ipykernel_launcher.py:51: RuntimeWarning: divide by zero encountered in true_divide\n",
      "c:\\Users\\Eliaquim\\anaconda3\\envs\\projeto_ml\\lib\\site-packages\\ipykernel_launcher.py:51: RuntimeWarning: invalid value encountered in true_divide\n"
     ]
    },
    {
     "name": "stdout",
     "output_type": "stream",
     "text": [
      "repeation: 15 funcão objetivo: 1848.8083274061723\n",
      "Modified partition coefficient: 0.679893898884202,  adjusted_rand_score: 0.5238196244080926\n"
     ]
    },
    {
     "name": "stderr",
     "output_type": "stream",
     "text": [
      "c:\\Users\\Eliaquim\\anaconda3\\envs\\projeto_ml\\lib\\site-packages\\ipykernel_launcher.py:51: RuntimeWarning: divide by zero encountered in true_divide\n",
      "c:\\Users\\Eliaquim\\anaconda3\\envs\\projeto_ml\\lib\\site-packages\\ipykernel_launcher.py:51: RuntimeWarning: invalid value encountered in true_divide\n"
     ]
    },
    {
     "name": "stdout",
     "output_type": "stream",
     "text": [
      "repeation: 16 funcão objetivo: 1841.1663600780348\n",
      "Modified partition coefficient: 0.6985848186042094,  adjusted_rand_score: 0.5098610383746703\n"
     ]
    },
    {
     "name": "stderr",
     "output_type": "stream",
     "text": [
      "c:\\Users\\Eliaquim\\anaconda3\\envs\\projeto_ml\\lib\\site-packages\\ipykernel_launcher.py:51: RuntimeWarning: divide by zero encountered in true_divide\n",
      "c:\\Users\\Eliaquim\\anaconda3\\envs\\projeto_ml\\lib\\site-packages\\ipykernel_launcher.py:51: RuntimeWarning: invalid value encountered in true_divide\n"
     ]
    },
    {
     "name": "stdout",
     "output_type": "stream",
     "text": [
      "repeation: 17 funcão objetivo: 1840.74899819897\n",
      "Modified partition coefficient: 0.685447574575259,  adjusted_rand_score: 0.5059806337679922\n"
     ]
    },
    {
     "name": "stderr",
     "output_type": "stream",
     "text": [
      "c:\\Users\\Eliaquim\\anaconda3\\envs\\projeto_ml\\lib\\site-packages\\ipykernel_launcher.py:51: RuntimeWarning: divide by zero encountered in true_divide\n",
      "c:\\Users\\Eliaquim\\anaconda3\\envs\\projeto_ml\\lib\\site-packages\\ipykernel_launcher.py:51: RuntimeWarning: invalid value encountered in true_divide\n"
     ]
    },
    {
     "name": "stdout",
     "output_type": "stream",
     "text": [
      "repeation: 18 funcão objetivo: 1806.2543709776137\n",
      "Modified partition coefficient: 0.7103979173757011,  adjusted_rand_score: 0.5762327398932902\n"
     ]
    },
    {
     "name": "stderr",
     "output_type": "stream",
     "text": [
      "c:\\Users\\Eliaquim\\anaconda3\\envs\\projeto_ml\\lib\\site-packages\\ipykernel_launcher.py:51: RuntimeWarning: divide by zero encountered in true_divide\n",
      "c:\\Users\\Eliaquim\\anaconda3\\envs\\projeto_ml\\lib\\site-packages\\ipykernel_launcher.py:51: RuntimeWarning: invalid value encountered in true_divide\n"
     ]
    },
    {
     "name": "stdout",
     "output_type": "stream",
     "text": [
      "repeation: 19 funcão objetivo: 1799.6234137771303\n",
      "Modified partition coefficient: 0.721162347100599,  adjusted_rand_score: 0.49616315876723455\n"
     ]
    },
    {
     "name": "stderr",
     "output_type": "stream",
     "text": [
      "c:\\Users\\Eliaquim\\anaconda3\\envs\\projeto_ml\\lib\\site-packages\\ipykernel_launcher.py:51: RuntimeWarning: divide by zero encountered in true_divide\n",
      "c:\\Users\\Eliaquim\\anaconda3\\envs\\projeto_ml\\lib\\site-packages\\ipykernel_launcher.py:51: RuntimeWarning: invalid value encountered in true_divide\n"
     ]
    },
    {
     "name": "stdout",
     "output_type": "stream",
     "text": [
      "repeation: 20 funcão objetivo: 1806.25118933437\n",
      "Modified partition coefficient: 0.7103963374253721,  adjusted_rand_score: 0.5762327398932902\n"
     ]
    },
    {
     "name": "stderr",
     "output_type": "stream",
     "text": [
      "c:\\Users\\Eliaquim\\anaconda3\\envs\\projeto_ml\\lib\\site-packages\\ipykernel_launcher.py:51: RuntimeWarning: divide by zero encountered in true_divide\n",
      "c:\\Users\\Eliaquim\\anaconda3\\envs\\projeto_ml\\lib\\site-packages\\ipykernel_launcher.py:51: RuntimeWarning: invalid value encountered in true_divide\n"
     ]
    },
    {
     "name": "stdout",
     "output_type": "stream",
     "text": [
      "repeation: 21 funcão objetivo: 1848.778583871711\n",
      "Modified partition coefficient: 0.705955575210277,  adjusted_rand_score: 0.4918401199567022\n"
     ]
    },
    {
     "name": "stderr",
     "output_type": "stream",
     "text": [
      "c:\\Users\\Eliaquim\\anaconda3\\envs\\projeto_ml\\lib\\site-packages\\ipykernel_launcher.py:51: RuntimeWarning: divide by zero encountered in true_divide\n",
      "c:\\Users\\Eliaquim\\anaconda3\\envs\\projeto_ml\\lib\\site-packages\\ipykernel_launcher.py:51: RuntimeWarning: invalid value encountered in true_divide\n"
     ]
    },
    {
     "name": "stdout",
     "output_type": "stream",
     "text": [
      "repeation: 22 funcão objetivo: 1799.6126125785722\n",
      "Modified partition coefficient: 0.7211445590485471,  adjusted_rand_score: 0.49616315876723455\n"
     ]
    },
    {
     "name": "stderr",
     "output_type": "stream",
     "text": [
      "c:\\Users\\Eliaquim\\anaconda3\\envs\\projeto_ml\\lib\\site-packages\\ipykernel_launcher.py:51: RuntimeWarning: divide by zero encountered in true_divide\n",
      "c:\\Users\\Eliaquim\\anaconda3\\envs\\projeto_ml\\lib\\site-packages\\ipykernel_launcher.py:51: RuntimeWarning: invalid value encountered in true_divide\n"
     ]
    },
    {
     "name": "stdout",
     "output_type": "stream",
     "text": [
      "repeation: 23 funcão objetivo: 1869.5067250387726\n",
      "Modified partition coefficient: 0.6767314116693932,  adjusted_rand_score: 0.4349357469120506\n"
     ]
    },
    {
     "name": "stderr",
     "output_type": "stream",
     "text": [
      "c:\\Users\\Eliaquim\\anaconda3\\envs\\projeto_ml\\lib\\site-packages\\ipykernel_launcher.py:51: RuntimeWarning: divide by zero encountered in true_divide\n",
      "c:\\Users\\Eliaquim\\anaconda3\\envs\\projeto_ml\\lib\\site-packages\\ipykernel_launcher.py:51: RuntimeWarning: invalid value encountered in true_divide\n"
     ]
    },
    {
     "name": "stdout",
     "output_type": "stream",
     "text": [
      "repeation: 24 funcão objetivo: 1879.9185764697497\n",
      "Modified partition coefficient: 0.6661922190719158,  adjusted_rand_score: 0.5311579235353094\n"
     ]
    },
    {
     "name": "stderr",
     "output_type": "stream",
     "text": [
      "c:\\Users\\Eliaquim\\anaconda3\\envs\\projeto_ml\\lib\\site-packages\\ipykernel_launcher.py:51: RuntimeWarning: divide by zero encountered in true_divide\n",
      "c:\\Users\\Eliaquim\\anaconda3\\envs\\projeto_ml\\lib\\site-packages\\ipykernel_launcher.py:51: RuntimeWarning: invalid value encountered in true_divide\n"
     ]
    },
    {
     "name": "stdout",
     "output_type": "stream",
     "text": [
      "repeation: 25 funcão objetivo: 1799.623479663938\n",
      "Modified partition coefficient: 0.721164855122182,  adjusted_rand_score: 0.49616315876723455\n"
     ]
    },
    {
     "name": "stderr",
     "output_type": "stream",
     "text": [
      "c:\\Users\\Eliaquim\\anaconda3\\envs\\projeto_ml\\lib\\site-packages\\ipykernel_launcher.py:51: RuntimeWarning: divide by zero encountered in true_divide\n",
      "c:\\Users\\Eliaquim\\anaconda3\\envs\\projeto_ml\\lib\\site-packages\\ipykernel_launcher.py:51: RuntimeWarning: invalid value encountered in true_divide\n"
     ]
    },
    {
     "name": "stdout",
     "output_type": "stream",
     "text": [
      "repeation: 26 funcão objetivo: 1826.0401785644267\n",
      "Modified partition coefficient: 0.7123579662491635,  adjusted_rand_score: 0.4297768359290442\n"
     ]
    },
    {
     "name": "stderr",
     "output_type": "stream",
     "text": [
      "c:\\Users\\Eliaquim\\anaconda3\\envs\\projeto_ml\\lib\\site-packages\\ipykernel_launcher.py:51: RuntimeWarning: divide by zero encountered in true_divide\n",
      "c:\\Users\\Eliaquim\\anaconda3\\envs\\projeto_ml\\lib\\site-packages\\ipykernel_launcher.py:51: RuntimeWarning: invalid value encountered in true_divide\n"
     ]
    },
    {
     "name": "stdout",
     "output_type": "stream",
     "text": [
      "repeation: 27 funcão objetivo: 1811.0438839366143\n",
      "Modified partition coefficient: 0.7091003165510243,  adjusted_rand_score: 0.4996331746448997\n"
     ]
    },
    {
     "name": "stderr",
     "output_type": "stream",
     "text": [
      "c:\\Users\\Eliaquim\\anaconda3\\envs\\projeto_ml\\lib\\site-packages\\ipykernel_launcher.py:51: RuntimeWarning: divide by zero encountered in true_divide\n",
      "c:\\Users\\Eliaquim\\anaconda3\\envs\\projeto_ml\\lib\\site-packages\\ipykernel_launcher.py:51: RuntimeWarning: invalid value encountered in true_divide\n"
     ]
    },
    {
     "name": "stdout",
     "output_type": "stream",
     "text": [
      "repeation: 28 funcão objetivo: 1835.7928183821864\n",
      "Modified partition coefficient: 0.7036257817053779,  adjusted_rand_score: 0.5845361122334449\n"
     ]
    },
    {
     "name": "stderr",
     "output_type": "stream",
     "text": [
      "c:\\Users\\Eliaquim\\anaconda3\\envs\\projeto_ml\\lib\\site-packages\\ipykernel_launcher.py:51: RuntimeWarning: divide by zero encountered in true_divide\n",
      "c:\\Users\\Eliaquim\\anaconda3\\envs\\projeto_ml\\lib\\site-packages\\ipykernel_launcher.py:51: RuntimeWarning: invalid value encountered in true_divide\n"
     ]
    },
    {
     "name": "stdout",
     "output_type": "stream",
     "text": [
      "repeation: 29 funcão objetivo: 1806.251492221485\n",
      "Modified partition coefficient: 0.710396492560303,  adjusted_rand_score: 0.5762327398932902\n"
     ]
    },
    {
     "name": "stderr",
     "output_type": "stream",
     "text": [
      "c:\\Users\\Eliaquim\\anaconda3\\envs\\projeto_ml\\lib\\site-packages\\ipykernel_launcher.py:51: RuntimeWarning: divide by zero encountered in true_divide\n",
      "c:\\Users\\Eliaquim\\anaconda3\\envs\\projeto_ml\\lib\\site-packages\\ipykernel_launcher.py:51: RuntimeWarning: invalid value encountered in true_divide\n"
     ]
    },
    {
     "name": "stdout",
     "output_type": "stream",
     "text": [
      "repeation: 30 funcão objetivo: 1799.623490607231\n",
      "Modified partition coefficient: 0.7211652844860104,  adjusted_rand_score: 0.49616315876723455\n"
     ]
    },
    {
     "name": "stderr",
     "output_type": "stream",
     "text": [
      "c:\\Users\\Eliaquim\\anaconda3\\envs\\projeto_ml\\lib\\site-packages\\ipykernel_launcher.py:51: RuntimeWarning: divide by zero encountered in true_divide\n",
      "c:\\Users\\Eliaquim\\anaconda3\\envs\\projeto_ml\\lib\\site-packages\\ipykernel_launcher.py:51: RuntimeWarning: invalid value encountered in true_divide\n"
     ]
    },
    {
     "name": "stdout",
     "output_type": "stream",
     "text": [
      "repeation: 31 funcão objetivo: 1826.0401782298181\n",
      "Modified partition coefficient: 0.712357965886526,  adjusted_rand_score: 0.4297768359290442\n"
     ]
    },
    {
     "name": "stderr",
     "output_type": "stream",
     "text": [
      "c:\\Users\\Eliaquim\\anaconda3\\envs\\projeto_ml\\lib\\site-packages\\ipykernel_launcher.py:51: RuntimeWarning: divide by zero encountered in true_divide\n",
      "c:\\Users\\Eliaquim\\anaconda3\\envs\\projeto_ml\\lib\\site-packages\\ipykernel_launcher.py:51: RuntimeWarning: invalid value encountered in true_divide\n"
     ]
    },
    {
     "name": "stdout",
     "output_type": "stream",
     "text": [
      "repeation: 32 funcão objetivo: 1830.5577726691342\n",
      "Modified partition coefficient: 0.7148757391486362,  adjusted_rand_score: 0.4948411055230334\n"
     ]
    },
    {
     "name": "stderr",
     "output_type": "stream",
     "text": [
      "c:\\Users\\Eliaquim\\anaconda3\\envs\\projeto_ml\\lib\\site-packages\\ipykernel_launcher.py:51: RuntimeWarning: divide by zero encountered in true_divide\n",
      "c:\\Users\\Eliaquim\\anaconda3\\envs\\projeto_ml\\lib\\site-packages\\ipykernel_launcher.py:51: RuntimeWarning: invalid value encountered in true_divide\n"
     ]
    },
    {
     "name": "stdout",
     "output_type": "stream",
     "text": [
      "repeation: 33 funcão objetivo: 1806.2526138473293\n",
      "Modified partition coefficient: 0.7103970484133759,  adjusted_rand_score: 0.5762327398932902\n"
     ]
    },
    {
     "name": "stderr",
     "output_type": "stream",
     "text": [
      "c:\\Users\\Eliaquim\\anaconda3\\envs\\projeto_ml\\lib\\site-packages\\ipykernel_launcher.py:51: RuntimeWarning: divide by zero encountered in true_divide\n",
      "c:\\Users\\Eliaquim\\anaconda3\\envs\\projeto_ml\\lib\\site-packages\\ipykernel_launcher.py:51: RuntimeWarning: invalid value encountered in true_divide\n"
     ]
    },
    {
     "name": "stdout",
     "output_type": "stream",
     "text": [
      "repeation: 34 funcão objetivo: 1829.14708375584\n",
      "Modified partition coefficient: 0.6963495820006774,  adjusted_rand_score: 0.5102073506798266\n"
     ]
    },
    {
     "name": "stderr",
     "output_type": "stream",
     "text": [
      "c:\\Users\\Eliaquim\\anaconda3\\envs\\projeto_ml\\lib\\site-packages\\ipykernel_launcher.py:51: RuntimeWarning: divide by zero encountered in true_divide\n",
      "c:\\Users\\Eliaquim\\anaconda3\\envs\\projeto_ml\\lib\\site-packages\\ipykernel_launcher.py:51: RuntimeWarning: invalid value encountered in true_divide\n"
     ]
    },
    {
     "name": "stdout",
     "output_type": "stream",
     "text": [
      "repeation: 35 funcão objetivo: 1806.251525431621\n",
      "Modified partition coefficient: 0.710396506102132,  adjusted_rand_score: 0.5762327398932902\n"
     ]
    },
    {
     "name": "stderr",
     "output_type": "stream",
     "text": [
      "c:\\Users\\Eliaquim\\anaconda3\\envs\\projeto_ml\\lib\\site-packages\\ipykernel_launcher.py:51: RuntimeWarning: divide by zero encountered in true_divide\n",
      "c:\\Users\\Eliaquim\\anaconda3\\envs\\projeto_ml\\lib\\site-packages\\ipykernel_launcher.py:51: RuntimeWarning: invalid value encountered in true_divide\n"
     ]
    },
    {
     "name": "stdout",
     "output_type": "stream",
     "text": [
      "repeation: 36 funcão objetivo: 1799.6234629874482\n",
      "Modified partition coefficient: 0.7211674330583187,  adjusted_rand_score: 0.49616315876723455\n"
     ]
    },
    {
     "name": "stderr",
     "output_type": "stream",
     "text": [
      "c:\\Users\\Eliaquim\\anaconda3\\envs\\projeto_ml\\lib\\site-packages\\ipykernel_launcher.py:51: RuntimeWarning: divide by zero encountered in true_divide\n",
      "c:\\Users\\Eliaquim\\anaconda3\\envs\\projeto_ml\\lib\\site-packages\\ipykernel_launcher.py:51: RuntimeWarning: invalid value encountered in true_divide\n"
     ]
    },
    {
     "name": "stdout",
     "output_type": "stream",
     "text": [
      "repeation: 37 funcão objetivo: 1799.6234693235917\n",
      "Modified partition coefficient: 0.7211637160945295,  adjusted_rand_score: 0.49616315876723455\n"
     ]
    },
    {
     "name": "stderr",
     "output_type": "stream",
     "text": [
      "c:\\Users\\Eliaquim\\anaconda3\\envs\\projeto_ml\\lib\\site-packages\\ipykernel_launcher.py:51: RuntimeWarning: divide by zero encountered in true_divide\n",
      "c:\\Users\\Eliaquim\\anaconda3\\envs\\projeto_ml\\lib\\site-packages\\ipykernel_launcher.py:51: RuntimeWarning: invalid value encountered in true_divide\n"
     ]
    },
    {
     "name": "stdout",
     "output_type": "stream",
     "text": [
      "repeation: 38 funcão objetivo: 1841.9030592214058\n",
      "Modified partition coefficient: 0.702240263564441,  adjusted_rand_score: 0.5722257277282541\n"
     ]
    },
    {
     "name": "stderr",
     "output_type": "stream",
     "text": [
      "c:\\Users\\Eliaquim\\anaconda3\\envs\\projeto_ml\\lib\\site-packages\\ipykernel_launcher.py:51: RuntimeWarning: divide by zero encountered in true_divide\n",
      "c:\\Users\\Eliaquim\\anaconda3\\envs\\projeto_ml\\lib\\site-packages\\ipykernel_launcher.py:51: RuntimeWarning: invalid value encountered in true_divide\n"
     ]
    },
    {
     "name": "stdout",
     "output_type": "stream",
     "text": [
      "repeation: 39 funcão objetivo: 1880.0539352292872\n",
      "Modified partition coefficient: 0.6657871610523548,  adjusted_rand_score: 0.5304594480188558\n"
     ]
    },
    {
     "name": "stderr",
     "output_type": "stream",
     "text": [
      "c:\\Users\\Eliaquim\\anaconda3\\envs\\projeto_ml\\lib\\site-packages\\ipykernel_launcher.py:51: RuntimeWarning: divide by zero encountered in true_divide\n",
      "c:\\Users\\Eliaquim\\anaconda3\\envs\\projeto_ml\\lib\\site-packages\\ipykernel_launcher.py:51: RuntimeWarning: invalid value encountered in true_divide\n"
     ]
    },
    {
     "name": "stdout",
     "output_type": "stream",
     "text": [
      "repeation: 40 funcão objetivo: 1840.8149056531017\n",
      "Modified partition coefficient: 0.699911016102928,  adjusted_rand_score: 0.424114301845494\n"
     ]
    },
    {
     "name": "stderr",
     "output_type": "stream",
     "text": [
      "c:\\Users\\Eliaquim\\anaconda3\\envs\\projeto_ml\\lib\\site-packages\\ipykernel_launcher.py:51: RuntimeWarning: divide by zero encountered in true_divide\n",
      "c:\\Users\\Eliaquim\\anaconda3\\envs\\projeto_ml\\lib\\site-packages\\ipykernel_launcher.py:51: RuntimeWarning: invalid value encountered in true_divide\n"
     ]
    },
    {
     "name": "stdout",
     "output_type": "stream",
     "text": [
      "repeation: 41 funcão objetivo: 1835.79255905417\n",
      "Modified partition coefficient: 0.7036262710977093,  adjusted_rand_score: 0.5845361122334449\n"
     ]
    },
    {
     "name": "stderr",
     "output_type": "stream",
     "text": [
      "c:\\Users\\Eliaquim\\anaconda3\\envs\\projeto_ml\\lib\\site-packages\\ipykernel_launcher.py:51: RuntimeWarning: divide by zero encountered in true_divide\n",
      "c:\\Users\\Eliaquim\\anaconda3\\envs\\projeto_ml\\lib\\site-packages\\ipykernel_launcher.py:51: RuntimeWarning: invalid value encountered in true_divide\n"
     ]
    },
    {
     "name": "stdout",
     "output_type": "stream",
     "text": [
      "repeation: 42 funcão objetivo: 1841.1663500498987\n",
      "Modified partition coefficient: 0.6985848561362782,  adjusted_rand_score: 0.5098610383746703\n"
     ]
    },
    {
     "name": "stderr",
     "output_type": "stream",
     "text": [
      "c:\\Users\\Eliaquim\\anaconda3\\envs\\projeto_ml\\lib\\site-packages\\ipykernel_launcher.py:51: RuntimeWarning: divide by zero encountered in true_divide\n",
      "c:\\Users\\Eliaquim\\anaconda3\\envs\\projeto_ml\\lib\\site-packages\\ipykernel_launcher.py:51: RuntimeWarning: invalid value encountered in true_divide\n"
     ]
    },
    {
     "name": "stdout",
     "output_type": "stream",
     "text": [
      "repeation: 43 funcão objetivo: 1854.0391667912215\n",
      "Modified partition coefficient: 0.6922517484663004,  adjusted_rand_score: 0.42041767773092714\n"
     ]
    },
    {
     "name": "stderr",
     "output_type": "stream",
     "text": [
      "c:\\Users\\Eliaquim\\anaconda3\\envs\\projeto_ml\\lib\\site-packages\\ipykernel_launcher.py:51: RuntimeWarning: divide by zero encountered in true_divide\n",
      "c:\\Users\\Eliaquim\\anaconda3\\envs\\projeto_ml\\lib\\site-packages\\ipykernel_launcher.py:51: RuntimeWarning: invalid value encountered in true_divide\n"
     ]
    },
    {
     "name": "stdout",
     "output_type": "stream",
     "text": [
      "repeation: 44 funcão objetivo: 1877.3800704081352\n",
      "Modified partition coefficient: 0.7057961713111405,  adjusted_rand_score: 0.48502871779478995\n"
     ]
    },
    {
     "name": "stderr",
     "output_type": "stream",
     "text": [
      "c:\\Users\\Eliaquim\\anaconda3\\envs\\projeto_ml\\lib\\site-packages\\ipykernel_launcher.py:51: RuntimeWarning: divide by zero encountered in true_divide\n",
      "c:\\Users\\Eliaquim\\anaconda3\\envs\\projeto_ml\\lib\\site-packages\\ipykernel_launcher.py:51: RuntimeWarning: invalid value encountered in true_divide\n"
     ]
    },
    {
     "name": "stdout",
     "output_type": "stream",
     "text": [
      "repeation: 45 funcão objetivo: 1799.6075864334807\n",
      "Modified partition coefficient: 0.7211362102127443,  adjusted_rand_score: 0.4965249429070202\n"
     ]
    },
    {
     "name": "stderr",
     "output_type": "stream",
     "text": [
      "c:\\Users\\Eliaquim\\anaconda3\\envs\\projeto_ml\\lib\\site-packages\\ipykernel_launcher.py:51: RuntimeWarning: divide by zero encountered in true_divide\n",
      "c:\\Users\\Eliaquim\\anaconda3\\envs\\projeto_ml\\lib\\site-packages\\ipykernel_launcher.py:51: RuntimeWarning: invalid value encountered in true_divide\n"
     ]
    },
    {
     "name": "stdout",
     "output_type": "stream",
     "text": [
      "repeation: 46 funcão objetivo: 1824.2907821817362\n",
      "Modified partition coefficient: 0.7186064591699931,  adjusted_rand_score: 0.5704537377556418\n"
     ]
    },
    {
     "name": "stderr",
     "output_type": "stream",
     "text": [
      "c:\\Users\\Eliaquim\\anaconda3\\envs\\projeto_ml\\lib\\site-packages\\ipykernel_launcher.py:51: RuntimeWarning: divide by zero encountered in true_divide\n",
      "c:\\Users\\Eliaquim\\anaconda3\\envs\\projeto_ml\\lib\\site-packages\\ipykernel_launcher.py:51: RuntimeWarning: invalid value encountered in true_divide\n"
     ]
    },
    {
     "name": "stdout",
     "output_type": "stream",
     "text": [
      "repeation: 47 funcão objetivo: 1829.3183209885149\n",
      "Modified partition coefficient: 0.6962842876582348,  adjusted_rand_score: 0.5103322691544591\n"
     ]
    },
    {
     "name": "stderr",
     "output_type": "stream",
     "text": [
      "c:\\Users\\Eliaquim\\anaconda3\\envs\\projeto_ml\\lib\\site-packages\\ipykernel_launcher.py:51: RuntimeWarning: divide by zero encountered in true_divide\n",
      "c:\\Users\\Eliaquim\\anaconda3\\envs\\projeto_ml\\lib\\site-packages\\ipykernel_launcher.py:51: RuntimeWarning: invalid value encountered in true_divide\n"
     ]
    },
    {
     "name": "stdout",
     "output_type": "stream",
     "text": [
      "repeation: 48 funcão objetivo: 1820.54665545276\n",
      "Modified partition coefficient: 0.7137307880464459,  adjusted_rand_score: 0.4552521631023444\n"
     ]
    },
    {
     "name": "stderr",
     "output_type": "stream",
     "text": [
      "c:\\Users\\Eliaquim\\anaconda3\\envs\\projeto_ml\\lib\\site-packages\\ipykernel_launcher.py:51: RuntimeWarning: divide by zero encountered in true_divide\n",
      "c:\\Users\\Eliaquim\\anaconda3\\envs\\projeto_ml\\lib\\site-packages\\ipykernel_launcher.py:51: RuntimeWarning: invalid value encountered in true_divide\n"
     ]
    },
    {
     "name": "stdout",
     "output_type": "stream",
     "text": [
      "repeation: 49 funcão objetivo: 1849.5991686655584\n",
      "Modified partition coefficient: 0.7036985853087916,  adjusted_rand_score: 0.49845757611455865\n"
     ]
    },
    {
     "name": "stderr",
     "output_type": "stream",
     "text": [
      "c:\\Users\\Eliaquim\\anaconda3\\envs\\projeto_ml\\lib\\site-packages\\ipykernel_launcher.py:51: RuntimeWarning: divide by zero encountered in true_divide\n",
      "c:\\Users\\Eliaquim\\anaconda3\\envs\\projeto_ml\\lib\\site-packages\\ipykernel_launcher.py:51: RuntimeWarning: invalid value encountered in true_divide\n"
     ]
    },
    {
     "name": "stdout",
     "output_type": "stream",
     "text": [
      "repeation: 50 funcão objetivo: 1806.2516155336211\n",
      "Modified partition coefficient: 0.7103965513513126,  adjusted_rand_score: 0.5762327398932902\n"
     ]
    },
    {
     "ename": "AttributeError",
     "evalue": "'Trainer' object has no attribute 'show_G_S_U'",
     "output_type": "error",
     "traceback": [
      "\u001b[1;31m---------------------------------------------------------------------------\u001b[0m",
      "\u001b[1;31mAttributeError\u001b[0m                            Traceback (most recent call last)",
      "\u001b[1;32m<ipython-input-44-aad7ff2de9c1>\u001b[0m in \u001b[0;36m<module>\u001b[1;34m\u001b[0m\n\u001b[0;32m     20\u001b[0m \u001b[0mpipeline\u001b[0m\u001b[1;33m.\u001b[0m\u001b[0mfit\u001b[0m\u001b[1;33m(\u001b[0m\u001b[0mX_clean\u001b[0m\u001b[1;33m,\u001b[0m \u001b[0my_clean\u001b[0m\u001b[1;33m)\u001b[0m\u001b[1;33m\u001b[0m\u001b[1;33m\u001b[0m\u001b[0m\n\u001b[0;32m     21\u001b[0m \u001b[1;31m# model.fit(X, 30)\u001b[0m\u001b[1;33m\u001b[0m\u001b[1;33m\u001b[0m\u001b[1;33m\u001b[0m\u001b[0m\n\u001b[1;32m---> 22\u001b[1;33m \u001b[0mmodel\u001b[0m\u001b[1;33m.\u001b[0m\u001b[0mshow_G_S_U\u001b[0m\u001b[1;33m(\u001b[0m\u001b[1;33m)\u001b[0m\u001b[1;33m\u001b[0m\u001b[1;33m\u001b[0m\u001b[0m\n\u001b[0m\u001b[0;32m     23\u001b[0m \u001b[0mmodel\u001b[0m\u001b[1;33m.\u001b[0m\u001b[0mG\u001b[0m\u001b[1;33m,\u001b[0m \u001b[0mmodel\u001b[0m\u001b[1;33m.\u001b[0m\u001b[0mU\u001b[0m\u001b[1;33m,\u001b[0m \u001b[0mmodel\u001b[0m\u001b[1;33m.\u001b[0m\u001b[0msigma\u001b[0m\u001b[1;33m\u001b[0m\u001b[1;33m\u001b[0m\u001b[0m\n",
      "\u001b[1;31mAttributeError\u001b[0m: 'Trainer' object has no attribute 'show_G_S_U'"
     ]
    }
   ],
   "source": [
    "X = load_dataset(\"datasets\\mfeat-kar\")\n",
    "# m com melhor resultados, 1.02\n",
    "\n",
    "\n",
    "y = pd.DataFrame({X.shape[1]: np.arange(0, X.shape[0])//200})\n",
    "X_clean, y_clean = Cleaner().transform(X, y)\n",
    "\n",
    "# model = FuzzyCMeansGaussianS2(num_class=10, epochs = 50, m=1.01, verbose=True, threshold=1e-6) # \n",
    "model = Trainer(num_class = 10, epochs = 100, threshold = 1e-6, model_creator=FuzzyCMeansGaussianS2, m = 1.1, verbose = False, repeat = 50)\n",
    "pipeline = Pipeline([(\"Normalizer\", Normalizer()), \n",
    "                     (\"Transformer\", Transformer()),                      \n",
    "                    (\"Model\", model)])\n",
    "pipeline.fit(X_clean, y_clean)"
   ]
  },
  {
   "cell_type": "code",
   "execution_count": null,
   "metadata": {},
   "outputs": [],
   "source": [
    "model.show_G_S_U()"
   ]
  },
  {
   "cell_type": "code",
   "execution_count": 57,
   "metadata": {},
   "outputs": [
    {
     "data": {
      "text/plain": [
       "<sklearn.metrics._plot.confusion_matrix.ConfusionMatrixDisplay at 0x218cf125240>"
      ]
     },
     "execution_count": 57,
     "metadata": {},
     "output_type": "execute_result"
    },
    {
     "data": {
      "image/png": "[encoded data removed]",
      "text/plain": [
       "<Figure size 432x288 with 2 Axes>"
      ]
     },
     "metadata": {
      "needs_background": "light"
     },
     "output_type": "display_data"
    }
   ],
   "source": [
    "y_predict = pipeline.predict(X_clean)\n",
    "\n",
    "cm = confusion_matrix(y_clean, y_predict)\n",
    "# model.show_labels(m)\n",
    "cmd = ConfusionMatrixDisplay(confusion_matrix=cm, display_labels=np.arange(model.num_class))\n",
    "cmd.plot()"
   ]
  },
  {
   "cell_type": "markdown",
   "metadata": {},
   "source": [
    "### datasets -> combo"
   ]
  },
  {
   "cell_type": "code",
   "execution_count": 130,
   "metadata": {},
   "outputs": [
    {
     "ename": "TypeError",
     "evalue": "load_dataset() takes 1 positional argument but 2 were given",
     "output_type": "error",
     "traceback": [
      "\u001b[1;31m---------------------------------------------------------------------------\u001b[0m",
      "\u001b[1;31mTypeError\u001b[0m                                 Traceback (most recent call last)",
      "\u001b[1;32m<ipython-input-130-294937d18a6e>\u001b[0m in \u001b[0;36m<module>\u001b[1;34m\u001b[0m\n\u001b[1;32m----> 1\u001b[1;33m \u001b[0mX_1\u001b[0m \u001b[1;33m=\u001b[0m \u001b[0mload_dataset\u001b[0m\u001b[1;33m(\u001b[0m\u001b[1;34m\"datasets\\mfeat-fac\"\u001b[0m\u001b[1;33m,\u001b[0m \u001b[1;36m1\u001b[0m\u001b[1;33m)\u001b[0m\u001b[1;33m\u001b[0m\u001b[1;33m\u001b[0m\u001b[0m\n\u001b[0m\u001b[0;32m      2\u001b[0m \u001b[0mX_2\u001b[0m \u001b[1;33m=\u001b[0m \u001b[0mload_dataset\u001b[0m\u001b[1;33m(\u001b[0m\u001b[1;34m\"datasets\\mfeat-fou\"\u001b[0m\u001b[1;33m,\u001b[0m \u001b[1;36m1\u001b[0m\u001b[1;33m)\u001b[0m\u001b[1;33m\u001b[0m\u001b[1;33m\u001b[0m\u001b[0m\n\u001b[0;32m      3\u001b[0m \u001b[0mX_3\u001b[0m \u001b[1;33m=\u001b[0m \u001b[0mload_dataset\u001b[0m\u001b[1;33m(\u001b[0m\u001b[1;34m\"datasets\\mfeat-kar\"\u001b[0m\u001b[1;33m,\u001b[0m \u001b[1;36m1\u001b[0m\u001b[1;33m)\u001b[0m\u001b[1;33m\u001b[0m\u001b[1;33m\u001b[0m\u001b[0m\n\u001b[0;32m      4\u001b[0m \u001b[0mX\u001b[0m \u001b[1;33m=\u001b[0m \u001b[0mpd\u001b[0m\u001b[1;33m.\u001b[0m\u001b[0mconcat\u001b[0m\u001b[1;33m(\u001b[0m\u001b[1;33m[\u001b[0m\u001b[0mX_1\u001b[0m\u001b[1;33m,\u001b[0m \u001b[0mX_2\u001b[0m\u001b[1;33m,\u001b[0m \u001b[0mX_3\u001b[0m\u001b[1;33m]\u001b[0m\u001b[1;33m,\u001b[0m \u001b[0maxis\u001b[0m\u001b[1;33m=\u001b[0m\u001b[1;36m1\u001b[0m\u001b[1;33m)\u001b[0m\u001b[1;33m\u001b[0m\u001b[1;33m\u001b[0m\u001b[0m\n\u001b[0;32m      5\u001b[0m \u001b[1;31m# print(X.shape)\u001b[0m\u001b[1;33m\u001b[0m\u001b[1;33m\u001b[0m\u001b[1;33m\u001b[0m\u001b[0m\n",
      "\u001b[1;31mTypeError\u001b[0m: load_dataset() takes 1 positional argument but 2 were given"
     ]
    }
   ],
   "source": [
    "X_1 = load_dataset(\"datasets\\mfeat-fac\", 1)\n",
    "X_2 = load_dataset(\"datasets\\mfeat-fou\", 1)\n",
    "X_3 = load_dataset(\"datasets\\mfeat-kar\", 1)\n",
    "X = pd.concat([X_1, X_2, X_3], axis=1)\n",
    "# print(X.shape)\n",
    "# raise Exception\n",
    "\n",
    "y = pd.DataFrame({X.shape[1]: np.arange(0, X.shape[0])//200})\n",
    "X_clean, y_clean = Cleaner().transform(X, y)\n",
    "\n",
    "model = FuzzyCMeansGaussianS2(num_class=10, epochs = 50, m=1.1, verbose=False, threshold=1e-6) # \n",
    "pipeline = Pipeline([(\"Normalizer\", Normalizer()), \n",
    "                     (\"Transformer\", Transformer()),                      \n",
    "                    (\"Model\", model)])\n",
    "pipeline.fit(X_clean, y_clean)\n",
    "# model.fit(X, 30)\n",
    "model.show_G_S_U()\n",
    "model.G, model.U, model.sigma\n"
   ]
  },
  {
   "cell_type": "markdown",
   "metadata": {},
   "source": [
    "### datasets -> iris"
   ]
  },
  {
   "cell_type": "code",
   "execution_count": 86,
   "metadata": {},
   "outputs": [
    {
     "name": "stderr",
     "output_type": "stream",
     "text": [
      "c:\\Users\\Eliaquim\\anaconda3\\envs\\projeto_ml\\lib\\site-packages\\ipykernel_launcher.py:98: RuntimeWarning: divide by zero encountered in true_divide\n",
      "c:\\Users\\Eliaquim\\anaconda3\\envs\\projeto_ml\\lib\\site-packages\\ipykernel_launcher.py:98: RuntimeWarning: invalid value encountered in true_divide\n"
     ]
    },
    {
     "name": "stdout",
     "output_type": "stream",
     "text": [
      "repeation: 1 funcão objetivo: 0.40578031598746966\n",
      "Modified partition coefficient: 0.9869918527598074,  adjusted_rand_score: 0.9035691663683182\n",
      "repeation: 2 funcão objetivo: 0.40578067939057527\n"
     ]
    },
    {
     "name": "stderr",
     "output_type": "stream",
     "text": [
      "c:\\Users\\Eliaquim\\anaconda3\\envs\\projeto_ml\\lib\\site-packages\\ipykernel_launcher.py:98: RuntimeWarning: divide by zero encountered in true_divide\n",
      "c:\\Users\\Eliaquim\\anaconda3\\envs\\projeto_ml\\lib\\site-packages\\ipykernel_launcher.py:98: RuntimeWarning: invalid value encountered in true_divide\n"
     ]
    },
    {
     "name": "stdout",
     "output_type": "stream",
     "text": [
      "Modified partition coefficient: 0.986991881317662,  adjusted_rand_score: 0.9035691663683182\n"
     ]
    },
    {
     "name": "stderr",
     "output_type": "stream",
     "text": [
      "c:\\Users\\Eliaquim\\anaconda3\\envs\\projeto_ml\\lib\\site-packages\\ipykernel_launcher.py:98: RuntimeWarning: divide by zero encountered in true_divide\n",
      "c:\\Users\\Eliaquim\\anaconda3\\envs\\projeto_ml\\lib\\site-packages\\ipykernel_launcher.py:98: RuntimeWarning: invalid value encountered in true_divide\n"
     ]
    },
    {
     "name": "stdout",
     "output_type": "stream",
     "text": [
      "repeation: 3 funcão objetivo: 0.579858869174374\n",
      "Modified partition coefficient: 0.9999181000037687,  adjusted_rand_score: 0.5511952620159147\n"
     ]
    },
    {
     "name": "stderr",
     "output_type": "stream",
     "text": [
      "c:\\Users\\Eliaquim\\anaconda3\\envs\\projeto_ml\\lib\\site-packages\\ipykernel_launcher.py:98: RuntimeWarning: divide by zero encountered in true_divide\n",
      "c:\\Users\\Eliaquim\\anaconda3\\envs\\projeto_ml\\lib\\site-packages\\ipykernel_launcher.py:98: RuntimeWarning: invalid value encountered in true_divide\n"
     ]
    },
    {
     "name": "stdout",
     "output_type": "stream",
     "text": [
      "repeation: 4 funcão objetivo: 0.4057802841384216\n",
      "Modified partition coefficient: 0.9869918463377942,  adjusted_rand_score: 0.9035691663683182\n"
     ]
    },
    {
     "name": "stderr",
     "output_type": "stream",
     "text": [
      "c:\\Users\\Eliaquim\\anaconda3\\envs\\projeto_ml\\lib\\site-packages\\ipykernel_launcher.py:98: RuntimeWarning: divide by zero encountered in true_divide\n",
      "c:\\Users\\Eliaquim\\anaconda3\\envs\\projeto_ml\\lib\\site-packages\\ipykernel_launcher.py:98: RuntimeWarning: invalid value encountered in true_divide\n"
     ]
    },
    {
     "name": "stdout",
     "output_type": "stream",
     "text": [
      "repeation: 5 funcão objetivo: 0.40578027841344666\n",
      "Modified partition coefficient: 0.9869918452945508,  adjusted_rand_score: 0.9035691663683182\n"
     ]
    },
    {
     "name": "stderr",
     "output_type": "stream",
     "text": [
      "c:\\Users\\Eliaquim\\anaconda3\\envs\\projeto_ml\\lib\\site-packages\\ipykernel_launcher.py:98: RuntimeWarning: divide by zero encountered in true_divide\n",
      "c:\\Users\\Eliaquim\\anaconda3\\envs\\projeto_ml\\lib\\site-packages\\ipykernel_launcher.py:98: RuntimeWarning: invalid value encountered in true_divide\n"
     ]
    },
    {
     "name": "stdout",
     "output_type": "stream",
     "text": [
      "repeation: 6 funcão objetivo: 0.4057802636943343\n",
      "Modified partition coefficient: 0.9869918425047841,  adjusted_rand_score: 0.9035691663683182\n",
      "repeation: 7 funcão objetivo: 0.4057794209037148\n",
      "Modified partition coefficient: 0.9869916793172797,  adjusted_rand_score: 0.9035691663683182\n"
     ]
    },
    {
     "name": "stderr",
     "output_type": "stream",
     "text": [
      "c:\\Users\\Eliaquim\\anaconda3\\envs\\projeto_ml\\lib\\site-packages\\ipykernel_launcher.py:98: RuntimeWarning: divide by zero encountered in true_divide\n",
      "c:\\Users\\Eliaquim\\anaconda3\\envs\\projeto_ml\\lib\\site-packages\\ipykernel_launcher.py:98: RuntimeWarning: invalid value encountered in true_divide\n",
      "c:\\Users\\Eliaquim\\anaconda3\\envs\\projeto_ml\\lib\\site-packages\\ipykernel_launcher.py:98: RuntimeWarning: divide by zero encountered in true_divide\n",
      "c:\\Users\\Eliaquim\\anaconda3\\envs\\projeto_ml\\lib\\site-packages\\ipykernel_launcher.py:98: RuntimeWarning: invalid value encountered in true_divide\n"
     ]
    },
    {
     "name": "stdout",
     "output_type": "stream",
     "text": [
      "repeation: 8 funcão objetivo: 0.4057796120596713\n",
      "Modified partition coefficient: 0.9869917121666936,  adjusted_rand_score: 0.9035691663683182\n"
     ]
    },
    {
     "name": "stderr",
     "output_type": "stream",
     "text": [
      "c:\\Users\\Eliaquim\\anaconda3\\envs\\projeto_ml\\lib\\site-packages\\ipykernel_launcher.py:98: RuntimeWarning: divide by zero encountered in true_divide\n",
      "c:\\Users\\Eliaquim\\anaconda3\\envs\\projeto_ml\\lib\\site-packages\\ipykernel_launcher.py:98: RuntimeWarning: invalid value encountered in true_divide\n"
     ]
    },
    {
     "name": "stdout",
     "output_type": "stream",
     "text": [
      "repeation: 9 funcão objetivo: 0.4057804925724434\n",
      "Modified partition coefficient: 0.9869918873771989,  adjusted_rand_score: 0.9035691663683182\n"
     ]
    },
    {
     "name": "stderr",
     "output_type": "stream",
     "text": [
      "c:\\Users\\Eliaquim\\anaconda3\\envs\\projeto_ml\\lib\\site-packages\\ipykernel_launcher.py:98: RuntimeWarning: divide by zero encountered in true_divide\n",
      "c:\\Users\\Eliaquim\\anaconda3\\envs\\projeto_ml\\lib\\site-packages\\ipykernel_launcher.py:98: RuntimeWarning: invalid value encountered in true_divide\n"
     ]
    },
    {
     "name": "stdout",
     "output_type": "stream",
     "text": [
      "repeation: 10 funcão objetivo: 0.40578026437378956\n",
      "Modified partition coefficient: 0.9869918427245103,  adjusted_rand_score: 0.9035691663683182\n"
     ]
    },
    {
     "name": "stderr",
     "output_type": "stream",
     "text": [
      "c:\\Users\\Eliaquim\\anaconda3\\envs\\projeto_ml\\lib\\site-packages\\ipykernel_launcher.py:98: RuntimeWarning: divide by zero encountered in true_divide\n",
      "c:\\Users\\Eliaquim\\anaconda3\\envs\\projeto_ml\\lib\\site-packages\\ipykernel_launcher.py:98: RuntimeWarning: invalid value encountered in true_divide\n"
     ]
    },
    {
     "name": "stdout",
     "output_type": "stream",
     "text": [
      "repeation: 11 funcão objetivo: 0.5360537908050257\n",
      "Modified partition coefficient: 0.9901787712762689,  adjusted_rand_score: 0.443540461316264\n"
     ]
    },
    {
     "name": "stderr",
     "output_type": "stream",
     "text": [
      "c:\\Users\\Eliaquim\\anaconda3\\envs\\projeto_ml\\lib\\site-packages\\ipykernel_launcher.py:98: RuntimeWarning: divide by zero encountered in true_divide\n",
      "c:\\Users\\Eliaquim\\anaconda3\\envs\\projeto_ml\\lib\\site-packages\\ipykernel_launcher.py:98: RuntimeWarning: invalid value encountered in true_divide\n"
     ]
    },
    {
     "name": "stdout",
     "output_type": "stream",
     "text": [
      "repeation: 12 funcão objetivo: 0.5360546384656404\n",
      "Modified partition coefficient: 0.9901771937168475,  adjusted_rand_score: 0.443540461316264\n"
     ]
    },
    {
     "name": "stderr",
     "output_type": "stream",
     "text": [
      "c:\\Users\\Eliaquim\\anaconda3\\envs\\projeto_ml\\lib\\site-packages\\ipykernel_launcher.py:98: RuntimeWarning: divide by zero encountered in true_divide\n",
      "c:\\Users\\Eliaquim\\anaconda3\\envs\\projeto_ml\\lib\\site-packages\\ipykernel_launcher.py:98: RuntimeWarning: invalid value encountered in true_divide\n"
     ]
    },
    {
     "name": "stdout",
     "output_type": "stream",
     "text": [
      "repeation: 13 funcão objetivo: 0.405781214211094\n",
      "Modified partition coefficient: 0.9869920310751714,  adjusted_rand_score: 0.9035691663683182\n"
     ]
    },
    {
     "name": "stderr",
     "output_type": "stream",
     "text": [
      "c:\\Users\\Eliaquim\\anaconda3\\envs\\projeto_ml\\lib\\site-packages\\ipykernel_launcher.py:98: RuntimeWarning: divide by zero encountered in true_divide\n",
      "c:\\Users\\Eliaquim\\anaconda3\\envs\\projeto_ml\\lib\\site-packages\\ipykernel_launcher.py:98: RuntimeWarning: invalid value encountered in true_divide\n"
     ]
    },
    {
     "name": "stdout",
     "output_type": "stream",
     "text": [
      "repeation: 14 funcão objetivo: 0.4057789714640093\n",
      "Modified partition coefficient: 0.9869915909968386,  adjusted_rand_score: 0.9035691663683182\n",
      "repeation: 15 funcão objetivo: 0.40578052324092856\n"
     ]
    },
    {
     "name": "stderr",
     "output_type": "stream",
     "text": [
      "c:\\Users\\Eliaquim\\anaconda3\\envs\\projeto_ml\\lib\\site-packages\\ipykernel_launcher.py:98: RuntimeWarning: divide by zero encountered in true_divide\n",
      "c:\\Users\\Eliaquim\\anaconda3\\envs\\projeto_ml\\lib\\site-packages\\ipykernel_launcher.py:98: RuntimeWarning: invalid value encountered in true_divide\n"
     ]
    },
    {
     "name": "stdout",
     "output_type": "stream",
     "text": [
      "Modified partition coefficient: 0.9869918935951904,  adjusted_rand_score: 0.9035691663683182\n"
     ]
    },
    {
     "name": "stderr",
     "output_type": "stream",
     "text": [
      "c:\\Users\\Eliaquim\\anaconda3\\envs\\projeto_ml\\lib\\site-packages\\ipykernel_launcher.py:98: RuntimeWarning: divide by zero encountered in true_divide\n",
      "c:\\Users\\Eliaquim\\anaconda3\\envs\\projeto_ml\\lib\\site-packages\\ipykernel_launcher.py:98: RuntimeWarning: invalid value encountered in true_divide\n"
     ]
    },
    {
     "name": "stdout",
     "output_type": "stream",
     "text": [
      "repeation: 16 funcão objetivo: 0.4057797576110119\n",
      "Modified partition coefficient: 0.9869917476345698,  adjusted_rand_score: 0.9035691663683182\n",
      "repeation: 17 funcão objetivo: 0.40577881261897575\n"
     ]
    },
    {
     "name": "stderr",
     "output_type": "stream",
     "text": [
      "c:\\Users\\Eliaquim\\anaconda3\\envs\\projeto_ml\\lib\\site-packages\\ipykernel_launcher.py:98: RuntimeWarning: divide by zero encountered in true_divide\n",
      "c:\\Users\\Eliaquim\\anaconda3\\envs\\projeto_ml\\lib\\site-packages\\ipykernel_launcher.py:98: RuntimeWarning: invalid value encountered in true_divide\n"
     ]
    },
    {
     "name": "stdout",
     "output_type": "stream",
     "text": [
      "Modified partition coefficient: 0.9869915661269191,  adjusted_rand_score: 0.9035691663683182\n",
      "repeation: 18 funcão objetivo: 0.40578098606211177\n",
      "Modified partition coefficient: 0.9869919841590056,  adjusted_rand_score: 0.9035691663683182\n"
     ]
    },
    {
     "name": "stderr",
     "output_type": "stream",
     "text": [
      "c:\\Users\\Eliaquim\\anaconda3\\envs\\projeto_ml\\lib\\site-packages\\ipykernel_launcher.py:98: RuntimeWarning: divide by zero encountered in true_divide\n",
      "c:\\Users\\Eliaquim\\anaconda3\\envs\\projeto_ml\\lib\\site-packages\\ipykernel_launcher.py:98: RuntimeWarning: invalid value encountered in true_divide\n",
      "c:\\Users\\Eliaquim\\anaconda3\\envs\\projeto_ml\\lib\\site-packages\\ipykernel_launcher.py:98: RuntimeWarning: divide by zero encountered in true_divide\n",
      "c:\\Users\\Eliaquim\\anaconda3\\envs\\projeto_ml\\lib\\site-packages\\ipykernel_launcher.py:98: RuntimeWarning: invalid value encountered in true_divide\n"
     ]
    },
    {
     "name": "stdout",
     "output_type": "stream",
     "text": [
      "repeation: 19 funcão objetivo: 0.40577886660977547\n",
      "Modified partition coefficient: 0.9869915552770582,  adjusted_rand_score: 0.9035691663683182\n",
      "repeation: 20 funcão objetivo: 0.4057793496338333\n",
      "Modified partition coefficient: 0.9869916447223317,  adjusted_rand_score: 0.9035691663683182\n"
     ]
    },
    {
     "name": "stderr",
     "output_type": "stream",
     "text": [
      "c:\\Users\\Eliaquim\\anaconda3\\envs\\projeto_ml\\lib\\site-packages\\ipykernel_launcher.py:98: RuntimeWarning: divide by zero encountered in true_divide\n",
      "c:\\Users\\Eliaquim\\anaconda3\\envs\\projeto_ml\\lib\\site-packages\\ipykernel_launcher.py:98: RuntimeWarning: invalid value encountered in true_divide\n",
      "c:\\Users\\Eliaquim\\anaconda3\\envs\\projeto_ml\\lib\\site-packages\\ipykernel_launcher.py:98: RuntimeWarning: divide by zero encountered in true_divide\n",
      "c:\\Users\\Eliaquim\\anaconda3\\envs\\projeto_ml\\lib\\site-packages\\ipykernel_launcher.py:98: RuntimeWarning: invalid value encountered in true_divide\n"
     ]
    },
    {
     "name": "stdout",
     "output_type": "stream",
     "text": [
      "repeation: 21 funcão objetivo: 0.40577966230598916\n",
      "Modified partition coefficient: 0.9869917226395639,  adjusted_rand_score: 0.9035691663683182\n",
      "repeation: 22 funcão objetivo: 0.4057790551055308\n",
      "Modified partition coefficient: 0.9869916118669653,  adjusted_rand_score: 0.9035691663683182\n"
     ]
    },
    {
     "name": "stderr",
     "output_type": "stream",
     "text": [
      "c:\\Users\\Eliaquim\\anaconda3\\envs\\projeto_ml\\lib\\site-packages\\ipykernel_launcher.py:98: RuntimeWarning: divide by zero encountered in true_divide\n",
      "c:\\Users\\Eliaquim\\anaconda3\\envs\\projeto_ml\\lib\\site-packages\\ipykernel_launcher.py:98: RuntimeWarning: invalid value encountered in true_divide\n",
      "c:\\Users\\Eliaquim\\anaconda3\\envs\\projeto_ml\\lib\\site-packages\\ipykernel_launcher.py:98: RuntimeWarning: divide by zero encountered in true_divide\n",
      "c:\\Users\\Eliaquim\\anaconda3\\envs\\projeto_ml\\lib\\site-packages\\ipykernel_launcher.py:98: RuntimeWarning: invalid value encountered in true_divide\n"
     ]
    },
    {
     "name": "stdout",
     "output_type": "stream",
     "text": [
      "repeation: 23 funcão objetivo: 0.40577960593880597\n",
      "Modified partition coefficient: 0.9869916938426545,  adjusted_rand_score: 0.9035691663683182\n",
      "repeation: 24 funcão objetivo: 0.4057796185653223\n",
      "Modified partition coefficient: 0.9869917178715347,  adjusted_rand_score: 0.9035691663683182\n"
     ]
    },
    {
     "name": "stderr",
     "output_type": "stream",
     "text": [
      "c:\\Users\\Eliaquim\\anaconda3\\envs\\projeto_ml\\lib\\site-packages\\ipykernel_launcher.py:98: RuntimeWarning: divide by zero encountered in true_divide\n",
      "c:\\Users\\Eliaquim\\anaconda3\\envs\\projeto_ml\\lib\\site-packages\\ipykernel_launcher.py:98: RuntimeWarning: invalid value encountered in true_divide\n",
      "c:\\Users\\Eliaquim\\anaconda3\\envs\\projeto_ml\\lib\\site-packages\\ipykernel_launcher.py:98: RuntimeWarning: divide by zero encountered in true_divide\n",
      "c:\\Users\\Eliaquim\\anaconda3\\envs\\projeto_ml\\lib\\site-packages\\ipykernel_launcher.py:98: RuntimeWarning: invalid value encountered in true_divide\n"
     ]
    },
    {
     "name": "stdout",
     "output_type": "stream",
     "text": [
      "repeation: 25 funcão objetivo: 0.40577976797727666\n",
      "Modified partition coefficient: 0.9869917451177785,  adjusted_rand_score: 0.9035691663683182\n"
     ]
    },
    {
     "name": "stderr",
     "output_type": "stream",
     "text": [
      "c:\\Users\\Eliaquim\\anaconda3\\envs\\projeto_ml\\lib\\site-packages\\ipykernel_launcher.py:98: RuntimeWarning: divide by zero encountered in true_divide\n",
      "c:\\Users\\Eliaquim\\anaconda3\\envs\\projeto_ml\\lib\\site-packages\\ipykernel_launcher.py:98: RuntimeWarning: invalid value encountered in true_divide\n"
     ]
    },
    {
     "name": "stdout",
     "output_type": "stream",
     "text": [
      "repeation: 26 funcão objetivo: 0.4057791582708311\n",
      "Modified partition coefficient: 0.9869916237373203,  adjusted_rand_score: 0.9035691663683182\n"
     ]
    },
    {
     "name": "stderr",
     "output_type": "stream",
     "text": [
      "c:\\Users\\Eliaquim\\anaconda3\\envs\\projeto_ml\\lib\\site-packages\\ipykernel_launcher.py:98: RuntimeWarning: divide by zero encountered in true_divide\n",
      "c:\\Users\\Eliaquim\\anaconda3\\envs\\projeto_ml\\lib\\site-packages\\ipykernel_launcher.py:98: RuntimeWarning: invalid value encountered in true_divide\n"
     ]
    },
    {
     "name": "stdout",
     "output_type": "stream",
     "text": [
      "repeation: 27 funcão objetivo: 0.4057794253428334\n",
      "Modified partition coefficient: 0.9869916786911743,  adjusted_rand_score: 0.9035691663683182\n",
      "repeation: 28 funcão objetivo: 0.4057804030348475\n"
     ]
    },
    {
     "name": "stderr",
     "output_type": "stream",
     "text": [
      "c:\\Users\\Eliaquim\\anaconda3\\envs\\projeto_ml\\lib\\site-packages\\ipykernel_launcher.py:98: RuntimeWarning: divide by zero encountered in true_divide\n",
      "c:\\Users\\Eliaquim\\anaconda3\\envs\\projeto_ml\\lib\\site-packages\\ipykernel_launcher.py:98: RuntimeWarning: invalid value encountered in true_divide\n"
     ]
    },
    {
     "name": "stdout",
     "output_type": "stream",
     "text": [
      "Modified partition coefficient: 0.9869918693124319,  adjusted_rand_score: 0.9035691663683182\n"
     ]
    },
    {
     "name": "stderr",
     "output_type": "stream",
     "text": [
      "c:\\Users\\Eliaquim\\anaconda3\\envs\\projeto_ml\\lib\\site-packages\\ipykernel_launcher.py:98: RuntimeWarning: divide by zero encountered in true_divide\n",
      "c:\\Users\\Eliaquim\\anaconda3\\envs\\projeto_ml\\lib\\site-packages\\ipykernel_launcher.py:98: RuntimeWarning: invalid value encountered in true_divide\n"
     ]
    },
    {
     "name": "stdout",
     "output_type": "stream",
     "text": [
      "repeation: 29 funcão objetivo: 0.40578077708384797\n",
      "Modified partition coefficient: 0.9869919435600598,  adjusted_rand_score: 0.9035691663683182\n"
     ]
    },
    {
     "name": "stderr",
     "output_type": "stream",
     "text": [
      "c:\\Users\\Eliaquim\\anaconda3\\envs\\projeto_ml\\lib\\site-packages\\ipykernel_launcher.py:98: RuntimeWarning: divide by zero encountered in true_divide\n",
      "c:\\Users\\Eliaquim\\anaconda3\\envs\\projeto_ml\\lib\\site-packages\\ipykernel_launcher.py:98: RuntimeWarning: invalid value encountered in true_divide\n"
     ]
    },
    {
     "name": "stdout",
     "output_type": "stream",
     "text": [
      "repeation: 30 funcão objetivo: 0.4057790189906718\n",
      "Modified partition coefficient: 0.9869915892238172,  adjusted_rand_score: 0.9035691663683182\n",
      "repeation: 31 funcão objetivo: 0.40578120999753586\n"
     ]
    },
    {
     "name": "stderr",
     "output_type": "stream",
     "text": [
      "c:\\Users\\Eliaquim\\anaconda3\\envs\\projeto_ml\\lib\\site-packages\\ipykernel_launcher.py:98: RuntimeWarning: divide by zero encountered in true_divide\n",
      "c:\\Users\\Eliaquim\\anaconda3\\envs\\projeto_ml\\lib\\site-packages\\ipykernel_launcher.py:98: RuntimeWarning: invalid value encountered in true_divide\n"
     ]
    },
    {
     "name": "stdout",
     "output_type": "stream",
     "text": [
      "Modified partition coefficient: 0.9869920292620654,  adjusted_rand_score: 0.9035691663683182\n"
     ]
    },
    {
     "name": "stderr",
     "output_type": "stream",
     "text": [
      "c:\\Users\\Eliaquim\\anaconda3\\envs\\projeto_ml\\lib\\site-packages\\ipykernel_launcher.py:98: RuntimeWarning: divide by zero encountered in true_divide\n",
      "c:\\Users\\Eliaquim\\anaconda3\\envs\\projeto_ml\\lib\\site-packages\\ipykernel_launcher.py:98: RuntimeWarning: invalid value encountered in true_divide\n"
     ]
    },
    {
     "name": "stdout",
     "output_type": "stream",
     "text": [
      "repeation: 32 funcão objetivo: 0.40578082264687004\n",
      "Modified partition coefficient: 0.9869919533404474,  adjusted_rand_score: 0.9035691663683182\n"
     ]
    },
    {
     "name": "stderr",
     "output_type": "stream",
     "text": [
      "c:\\Users\\Eliaquim\\anaconda3\\envs\\projeto_ml\\lib\\site-packages\\ipykernel_launcher.py:98: RuntimeWarning: divide by zero encountered in true_divide\n",
      "c:\\Users\\Eliaquim\\anaconda3\\envs\\projeto_ml\\lib\\site-packages\\ipykernel_launcher.py:98: RuntimeWarning: invalid value encountered in true_divide\n"
     ]
    },
    {
     "name": "stdout",
     "output_type": "stream",
     "text": [
      "repeation: 33 funcão objetivo: 0.40577979817969234\n",
      "Modified partition coefficient: 0.9869918079978304,  adjusted_rand_score: 0.9035691663683182\n"
     ]
    },
    {
     "name": "stderr",
     "output_type": "stream",
     "text": [
      "c:\\Users\\Eliaquim\\anaconda3\\envs\\projeto_ml\\lib\\site-packages\\ipykernel_launcher.py:98: RuntimeWarning: divide by zero encountered in true_divide\n",
      "c:\\Users\\Eliaquim\\anaconda3\\envs\\projeto_ml\\lib\\site-packages\\ipykernel_launcher.py:98: RuntimeWarning: invalid value encountered in true_divide\n"
     ]
    },
    {
     "name": "stdout",
     "output_type": "stream",
     "text": [
      "repeation: 34 funcão objetivo: 0.4057789432358885\n",
      "Modified partition coefficient: 0.9869916025511615,  adjusted_rand_score: 0.9035691663683182\n",
      "repeation: 35 funcão objetivo: 0.40577889311664783\n",
      "Modified partition coefficient: 0.9869915801071967,  adjusted_rand_score: 0.9035691663683182\n"
     ]
    },
    {
     "name": "stderr",
     "output_type": "stream",
     "text": [
      "c:\\Users\\Eliaquim\\anaconda3\\envs\\projeto_ml\\lib\\site-packages\\ipykernel_launcher.py:98: RuntimeWarning: divide by zero encountered in true_divide\n",
      "c:\\Users\\Eliaquim\\anaconda3\\envs\\projeto_ml\\lib\\site-packages\\ipykernel_launcher.py:98: RuntimeWarning: invalid value encountered in true_divide\n",
      "c:\\Users\\Eliaquim\\anaconda3\\envs\\projeto_ml\\lib\\site-packages\\ipykernel_launcher.py:98: RuntimeWarning: divide by zero encountered in true_divide\n",
      "c:\\Users\\Eliaquim\\anaconda3\\envs\\projeto_ml\\lib\\site-packages\\ipykernel_launcher.py:98: RuntimeWarning: invalid value encountered in true_divide\n"
     ]
    },
    {
     "name": "stdout",
     "output_type": "stream",
     "text": [
      "repeation: 36 funcão objetivo: 0.40577977484203614\n",
      "Modified partition coefficient: 0.9869917440251841,  adjusted_rand_score: 0.9035691663683182\n"
     ]
    },
    {
     "name": "stderr",
     "output_type": "stream",
     "text": [
      "c:\\Users\\Eliaquim\\anaconda3\\envs\\projeto_ml\\lib\\site-packages\\ipykernel_launcher.py:98: RuntimeWarning: divide by zero encountered in true_divide\n",
      "c:\\Users\\Eliaquim\\anaconda3\\envs\\projeto_ml\\lib\\site-packages\\ipykernel_launcher.py:98: RuntimeWarning: invalid value encountered in true_divide\n"
     ]
    },
    {
     "name": "stdout",
     "output_type": "stream",
     "text": [
      "repeation: 37 funcão objetivo: 0.536054086201167\n",
      "Modified partition coefficient: 0.9901782281325439,  adjusted_rand_score: 0.443540461316264\n",
      "repeation: 38 funcão objetivo: 0.40578065008914277\n"
     ]
    },
    {
     "name": "stderr",
     "output_type": "stream",
     "text": [
      "c:\\Users\\Eliaquim\\anaconda3\\envs\\projeto_ml\\lib\\site-packages\\ipykernel_launcher.py:98: RuntimeWarning: divide by zero encountered in true_divide\n",
      "c:\\Users\\Eliaquim\\anaconda3\\envs\\projeto_ml\\lib\\site-packages\\ipykernel_launcher.py:98: RuntimeWarning: invalid value encountered in true_divide\n"
     ]
    },
    {
     "name": "stdout",
     "output_type": "stream",
     "text": [
      "Modified partition coefficient: 0.9869919153070253,  adjusted_rand_score: 0.9035691663683182\n",
      "repeation: 39 funcão objetivo: 0.4057797075997458\n"
     ]
    },
    {
     "name": "stderr",
     "output_type": "stream",
     "text": [
      "c:\\Users\\Eliaquim\\anaconda3\\envs\\projeto_ml\\lib\\site-packages\\ipykernel_launcher.py:98: RuntimeWarning: divide by zero encountered in true_divide\n",
      "c:\\Users\\Eliaquim\\anaconda3\\envs\\projeto_ml\\lib\\site-packages\\ipykernel_launcher.py:98: RuntimeWarning: invalid value encountered in true_divide\n"
     ]
    },
    {
     "name": "stdout",
     "output_type": "stream",
     "text": [
      "Modified partition coefficient: 0.9869917326660477,  adjusted_rand_score: 0.9035691663683182\n",
      "repeation: 40 funcão objetivo: 0.40578108037543487\n"
     ]
    },
    {
     "name": "stderr",
     "output_type": "stream",
     "text": [
      "c:\\Users\\Eliaquim\\anaconda3\\envs\\projeto_ml\\lib\\site-packages\\ipykernel_launcher.py:98: RuntimeWarning: divide by zero encountered in true_divide\n",
      "c:\\Users\\Eliaquim\\anaconda3\\envs\\projeto_ml\\lib\\site-packages\\ipykernel_launcher.py:98: RuntimeWarning: invalid value encountered in true_divide\n"
     ]
    },
    {
     "name": "stdout",
     "output_type": "stream",
     "text": [
      "Modified partition coefficient: 0.9869920067541245,  adjusted_rand_score: 0.9035691663683182\n",
      "repeation: 41 funcão objetivo: 0.5360538683879186\n"
     ]
    },
    {
     "name": "stderr",
     "output_type": "stream",
     "text": [
      "c:\\Users\\Eliaquim\\anaconda3\\envs\\projeto_ml\\lib\\site-packages\\ipykernel_launcher.py:98: RuntimeWarning: divide by zero encountered in true_divide\n",
      "c:\\Users\\Eliaquim\\anaconda3\\envs\\projeto_ml\\lib\\site-packages\\ipykernel_launcher.py:98: RuntimeWarning: invalid value encountered in true_divide\n"
     ]
    },
    {
     "name": "stdout",
     "output_type": "stream",
     "text": [
      "Modified partition coefficient: 0.9901799416100171,  adjusted_rand_score: 0.443540461316264\n"
     ]
    },
    {
     "name": "stderr",
     "output_type": "stream",
     "text": [
      "c:\\Users\\Eliaquim\\anaconda3\\envs\\projeto_ml\\lib\\site-packages\\ipykernel_launcher.py:98: RuntimeWarning: divide by zero encountered in true_divide\n",
      "c:\\Users\\Eliaquim\\anaconda3\\envs\\projeto_ml\\lib\\site-packages\\ipykernel_launcher.py:98: RuntimeWarning: invalid value encountered in true_divide\n"
     ]
    },
    {
     "name": "stdout",
     "output_type": "stream",
     "text": [
      "repeation: 42 funcão objetivo: 0.5360551290399248\n",
      "Modified partition coefficient: 0.9901762542927216,  adjusted_rand_score: 0.443540461316264\n",
      "repeation: 43 funcão objetivo: 0.4057794574816557\n",
      "Modified partition coefficient: 0.9869916745031413,  adjusted_rand_score: 0.9035691663683182\n"
     ]
    },
    {
     "name": "stderr",
     "output_type": "stream",
     "text": [
      "c:\\Users\\Eliaquim\\anaconda3\\envs\\projeto_ml\\lib\\site-packages\\ipykernel_launcher.py:98: RuntimeWarning: divide by zero encountered in true_divide\n",
      "c:\\Users\\Eliaquim\\anaconda3\\envs\\projeto_ml\\lib\\site-packages\\ipykernel_launcher.py:98: RuntimeWarning: invalid value encountered in true_divide\n",
      "c:\\Users\\Eliaquim\\anaconda3\\envs\\projeto_ml\\lib\\site-packages\\ipykernel_launcher.py:98: RuntimeWarning: divide by zero encountered in true_divide\n",
      "c:\\Users\\Eliaquim\\anaconda3\\envs\\projeto_ml\\lib\\site-packages\\ipykernel_launcher.py:98: RuntimeWarning: invalid value encountered in true_divide\n"
     ]
    },
    {
     "name": "stdout",
     "output_type": "stream",
     "text": [
      "repeation: 44 funcão objetivo: 0.5360538207721983\n",
      "Modified partition coefficient: 0.9901786827351415,  adjusted_rand_score: 0.443540461316264\n"
     ]
    },
    {
     "name": "stderr",
     "output_type": "stream",
     "text": [
      "c:\\Users\\Eliaquim\\anaconda3\\envs\\projeto_ml\\lib\\site-packages\\ipykernel_launcher.py:98: RuntimeWarning: divide by zero encountered in true_divide\n",
      "c:\\Users\\Eliaquim\\anaconda3\\envs\\projeto_ml\\lib\\site-packages\\ipykernel_launcher.py:98: RuntimeWarning: invalid value encountered in true_divide\n"
     ]
    },
    {
     "name": "stdout",
     "output_type": "stream",
     "text": [
      "repeation: 45 funcão objetivo: 0.536053912659442\n",
      "Modified partition coefficient: 0.9901785413704002,  adjusted_rand_score: 0.443540461316264\n"
     ]
    },
    {
     "name": "stderr",
     "output_type": "stream",
     "text": [
      "c:\\Users\\Eliaquim\\anaconda3\\envs\\projeto_ml\\lib\\site-packages\\ipykernel_launcher.py:98: RuntimeWarning: divide by zero encountered in true_divide\n",
      "c:\\Users\\Eliaquim\\anaconda3\\envs\\projeto_ml\\lib\\site-packages\\ipykernel_launcher.py:98: RuntimeWarning: invalid value encountered in true_divide\n"
     ]
    },
    {
     "name": "stdout",
     "output_type": "stream",
     "text": [
      "repeation: 46 funcão objetivo: 0.40578055354721226\n",
      "Modified partition coefficient: 0.9869918994267564,  adjusted_rand_score: 0.9035691663683182\n",
      "repeation: 47 funcão objetivo: 0.405779694380632\n"
     ]
    },
    {
     "name": "stderr",
     "output_type": "stream",
     "text": [
      "c:\\Users\\Eliaquim\\anaconda3\\envs\\projeto_ml\\lib\\site-packages\\ipykernel_launcher.py:98: RuntimeWarning: divide by zero encountered in true_divide\n",
      "c:\\Users\\Eliaquim\\anaconda3\\envs\\projeto_ml\\lib\\site-packages\\ipykernel_launcher.py:98: RuntimeWarning: invalid value encountered in true_divide\n",
      "c:\\Users\\Eliaquim\\anaconda3\\envs\\projeto_ml\\lib\\site-packages\\ipykernel_launcher.py:98: RuntimeWarning: divide by zero encountered in true_divide\n",
      "c:\\Users\\Eliaquim\\anaconda3\\envs\\projeto_ml\\lib\\site-packages\\ipykernel_launcher.py:98: RuntimeWarning: invalid value encountered in true_divide\n"
     ]
    },
    {
     "name": "stdout",
     "output_type": "stream",
     "text": [
      "Modified partition coefficient: 0.9869917290138858,  adjusted_rand_score: 0.9035691663683182\n",
      "repeation: 48 funcão objetivo: 0.405778827012257\n",
      "Modified partition coefficient: 0.9869915382381785,  adjusted_rand_score: 0.9035691663683182\n",
      "repeation: 49 funcão objetivo: 0.4057791583099424\n",
      "Modified partition coefficient: 0.986991624501776,  adjusted_rand_score: 0.9035691663683182\n"
     ]
    },
    {
     "name": "stderr",
     "output_type": "stream",
     "text": [
      "c:\\Users\\Eliaquim\\anaconda3\\envs\\projeto_ml\\lib\\site-packages\\ipykernel_launcher.py:98: RuntimeWarning: divide by zero encountered in true_divide\n",
      "c:\\Users\\Eliaquim\\anaconda3\\envs\\projeto_ml\\lib\\site-packages\\ipykernel_launcher.py:98: RuntimeWarning: invalid value encountered in true_divide\n",
      "c:\\Users\\Eliaquim\\anaconda3\\envs\\projeto_ml\\lib\\site-packages\\ipykernel_launcher.py:98: RuntimeWarning: divide by zero encountered in true_divide\n",
      "c:\\Users\\Eliaquim\\anaconda3\\envs\\projeto_ml\\lib\\site-packages\\ipykernel_launcher.py:98: RuntimeWarning: invalid value encountered in true_divide\n"
     ]
    },
    {
     "name": "stdout",
     "output_type": "stream",
     "text": [
      "repeation: 50 funcão objetivo: 0.5360538452139799\n",
      "Modified partition coefficient: 0.9901786582250534,  adjusted_rand_score: 0.443540461316264\n"
     ]
    },
    {
     "data": {
      "text/plain": [
       "Pipeline(steps=[('Normalizer', Normalizer()), ('Transformer', Transformer()),\n",
       "                ('Model', <__main__.Trainer object at 0x0000021CE4118EF0>)])"
      ]
     },
     "execution_count": 86,
     "metadata": {},
     "output_type": "execute_result"
    }
   ],
   "source": [
    "iris = datasets.load_iris()\n",
    "X = pd.DataFrame(iris.data)\n",
    "y = pd.DataFrame({len(X.columns.values):iris.target})\n",
    "X_clean, y_clean = Cleaner().transform(X, y)\n",
    "\n",
    "# model = FuzzyCMeansGaussianS2(num_class=3, epochs = 50, m=1.1, verbose=False, threshold=1e-6) # \n",
    "model = Trainer(num_class = 3, epochs = 100, threshold = 1e-6, model_creator=FuzzyCMeansGaussianS2, m = 1.1, verbose = False, repeat = 50)\n",
    "\n",
    "pipeline = Pipeline([(\"Normalizer\", Normalizer(copy=True)), \n",
    "                     (\"Transformer\", Transformer()),                      \n",
    "                    (\"Model\", model),\n",
    "                    ])\n",
    "\n",
    "pipeline.fit(X_clean, y_clean)\n",
    "\n",
    "# model.fit(X, 30)\n",
    "# model.G, model.U, model.sigma"
   ]
  },
  {
   "cell_type": "code",
   "execution_count": 87,
   "metadata": {},
   "outputs": [
    {
     "name": "stdout",
     "output_type": "stream",
     "text": [
      "Gs\n"
     ]
    },
    {
     "data": {
      "image/png": "[encoded data removed]",
      "text/plain": [
       "<Figure size 432x288 with 1 Axes>"
      ]
     },
     "metadata": {
      "needs_background": "light"
     },
     "output_type": "display_data"
    },
    {
     "name": "stdout",
     "output_type": "stream",
     "text": [
      "S2s\n"
     ]
    },
    {
     "data": {
      "image/png": "[encoded data removed]",
      "text/plain": [
       "<Figure size 432x288 with 1 Axes>"
      ]
     },
     "metadata": {
      "needs_background": "light"
     },
     "output_type": "display_data"
    },
    {
     "name": "stdout",
     "output_type": "stream",
     "text": [
      "Us\n"
     ]
    },
    {
     "data": {
      "image/png": "[encoded data removed]",
      "text/plain": [
       "<Figure size 432x288 with 1 Axes>"
      ]
     },
     "metadata": {
      "needs_background": "light"
     },
     "output_type": "display_data"
    },
    {
     "data": {
      "image/png": "[encoded data removed]",
      "text/plain": [
       "<Figure size 432x288 with 1 Axes>"
      ]
     },
     "metadata": {
      "needs_background": "light"
     },
     "output_type": "display_data"
    }
   ],
   "source": [
    "model.show_G_S_U()"
   ]
  },
  {
   "cell_type": "code",
   "execution_count": 88,
   "metadata": {},
   "outputs": [
    {
     "data": {
      "text/plain": [
       "<sklearn.metrics._plot.confusion_matrix.ConfusionMatrixDisplay at 0x21ce4d9eb00>"
      ]
     },
     "execution_count": 88,
     "metadata": {},
     "output_type": "execute_result"
    },
    {
     "data": {
      "image/png": "[encoded data removed]",
      "text/plain": [
       "<Figure size 432x288 with 2 Axes>"
      ]
     },
     "metadata": {
      "needs_background": "light"
     },
     "output_type": "display_data"
    }
   ],
   "source": [
    "y_predict = pipeline.predict(X_clean) #(2000) <= (2000, 200)\n",
    "cm = confusion_matrix(y_clean, y_predict)\n",
    "cmd = ConfusionMatrixDisplay(confusion_matrix=cm, display_labels=np.arange(model.num_class))\n",
    "cmd.plot()"
   ]
  }
 ],
 "metadata": {
  "kernelspec": {
   "display_name": "seg",
   "language": "python",
   "name": "python3"
  },
  "language_info": {
   "codemirror_mode": {
    "name": "ipython",
    "version": 3
   },
   "file_extension": ".py",
   "mimetype": "text/x-python",
   "name": "python",
   "nbconvert_exporter": "python",
   "pygments_lexer": "ipython3",
   "version": "3.6.13"
  },
  "orig_nbformat": 4
 },
 "nbformat": 4,
 "nbformat_minor": 2
}
