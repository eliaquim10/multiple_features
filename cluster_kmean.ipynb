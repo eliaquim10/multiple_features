{
 "cells": [
  {
   "cell_type": "markdown",
   "metadata": {},
   "source": [
    "### Clustering with algoritm Gaussian kernel fuzzy c-means "
   ]
  },
  {
   "cell_type": "markdown",
   "metadata": {},
   "source": [
    "This is a implementation with dataset Multiple features in the repository (https://archive.ics.uci.edu/dataset/72/multiple+features)\n",
    "we apply with tree datasets (mfeat-fac, mfeat-fou, mfeat-kar) for each do it:\n",
    "  - 50 times, with c=10 for partation fuzzy\n",
    "  - compute Modified partition coefficient\n",
    "  - paraments $T = 100, \\epsilon=10^{-6}, m = {1.01, 1.1, 1.6}$\n",
    "\n",
    "  - show the bests with based in fuction cost:\n",
    "    - prototatipes ${g_{1},..., g_n}$\n",
    "    - widths ${s_1,..., s_n}$\n",
    "    - confusion matrix \n",
    "\n",
    "\n",
    "base article: Gaussian Kernel Fuzzy C-Means with Width Parameter Computation and Regularization.\n",
    "PATTERN RECOGNITION, v. 143, p. 109749, 2023, \n",
    "doi: https://doi.org/10.1016/j.patcog.2023.109749 "
   ]
  },
  {
   "cell_type": "markdown",
   "metadata": {},
   "source": [
    "***\n",
    "Gaussian kernel function\n",
    "***\n",
    "$$\n",
    "  K^{(s_i)}(x_l, x_k) = exp{\n",
    "    \\displaystyle \n",
    "    \\Bigg \\{\n",
    "      -\\frac{1}{2}\n",
    "      \\sum \\limits _{j=1}^p \n",
    "        \\frac{1}{{s^2}_{ij}}\n",
    "        (x_{lj} - x_{kj})^2\n",
    "    \\Bigg \\} \n",
    "    }\n",
    "$$"
   ]
  },
  {
   "cell_type": "markdown",
   "metadata": {},
   "source": [
    "***\n",
    "objective  function\n",
    "***\n",
    "\n",
    "$$\n",
    "  J_{KFCM-K-W.2} = \n",
    "    \\displaystyle \n",
    "      \\sum \\limits _{i=1}^c \n",
    "        \\sum \\limits _{k=1}^n \n",
    "          (u_{ki})^m\n",
    "          (2 - 2{K^{(s_i)}(x_k, g_i)})\n",
    "$$\n",
    "\n",
    "$\n",
    "  s.t. u_{ki} \\ge 0\n",
    "$ and \n",
    "$\n",
    "  \\sum \\limits _{i=1}^c \n",
    "    u_{ki} = 1\n",
    "$"
   ]
  },
  {
   "cell_type": "markdown",
   "metadata": {},
   "source": [
    "***\n",
    "width\n",
    "***\n",
    "\n",
    "$$\n",
    "\\frac{1}{s_{ij}} = \n",
    "  \\frac{\n",
    "    \\Bigg \\{\n",
    "      \\prod \\limits _{h=1}^p \n",
    "        \\sum \\limits _{k=1}^n \n",
    "          {(u_{ki})^m}\n",
    "          {K^{(s_i)}(x_k, g_i)}\n",
    "          {(x_{kh} - g_{ih})^2}\n",
    "    \\Bigg \\}^\n",
    "    {\n",
    "      \\frac{1}{p}\n",
    "    }\n",
    "  }{\n",
    "    \\sum \\limits _{k=1}^n \n",
    "      {(u_{ki})^m}\n",
    "      {K^{(s_i)}(x_k, g_i)}\n",
    "      {(x_{kj} - g_{ij})^2}\n",
    "  } \n",
    "\n",
    "$$"
   ]
  },
  {
   "cell_type": "markdown",
   "metadata": {},
   "source": [
    "***\n",
    "prototipes\n",
    "***\n",
    "\n",
    "$$\n",
    "g_i = \n",
    "  \\frac{\n",
    "    \\sum \\limits _{k=1}^n \n",
    "      {(u_{ki})^m}\n",
    "      {K^{(s_i)}(x_k, g_i)}\n",
    "      {x_k}\n",
    "\n",
    "  }{\n",
    "    \\sum \\limits _{k=1}^n \n",
    "      {(u_{ki})^m}\n",
    "      {K^{(s_i)}(x_k, g_i)}\n",
    "  } \n",
    "$$\n",
    "$$\n",
    "  \\forall (1 \\le i \\le c)\n",
    "$$"
   ]
  },
  {
   "cell_type": "markdown",
   "metadata": {},
   "source": [
    "***\n",
    "fuzzy matrix\n",
    "***\n",
    "\n",
    "$$\n",
    "  u_{ki} = \n",
    "    \\Bigg [ \n",
    "      \\sum \\limits _{h=1}^c \n",
    "        \\Bigg ( \n",
    "          \\frac{\n",
    "            2 - 2{K^{(s_i)}(x_k, g_i)}\n",
    "          }{\n",
    "            2 - 2{K^{(s_i)}(x_k, g_h)}\n",
    "          }\n",
    "        \\Bigg )^\n",
    "        {\n",
    "          \\frac{1}{m-1}\n",
    "        } \n",
    "    \\Bigg ] ^{-1}\n",
    "$$"
   ]
  },
  {
   "cell_type": "markdown",
   "metadata": {},
   "source": [
    "### Librarys"
   ]
  },
  {
   "cell_type": "code",
   "execution_count": 1,
   "metadata": {},
   "outputs": [],
   "source": [
    "import numpy as np \n",
    "import matplotlib.pyplot as plt\n",
    "import pandas as pd\n",
    "import json\n",
    "import os\n",
    "from sklearn.base import BaseEstimator, TransformerMixin\n",
    "from sklearn.preprocessing import Normalizer\n",
    "from sklearn.pipeline import Pipeline\n",
    "\n",
    "from sklearn.metrics.cluster import adjusted_rand_score\n",
    "from sklearn import datasets\n",
    "from sklearn.metrics import confusion_matrix, ConfusionMatrixDisplay\n"
   ]
  },
  {
   "cell_type": "markdown",
   "metadata": {},
   "source": [
    "### Data transform"
   ]
  },
  {
   "cell_type": "code",
   "execution_count": 2,
   "metadata": {},
   "outputs": [],
   "source": [
    "class Cleaner(BaseEstimator, TransformerMixin):\n",
    "  def __init__(self):\n",
    "    super()\n",
    "  \n",
    "  def read_dataset(self, filename):\n",
    "    X = pd.read_csv(filename, header=None, delim_whitespace=True)\n",
    "    y = pd.DataFrame({X.shape[1]: np.arange(0, X.shape[0])//200})\n",
    "    return X, y\n",
    "\n",
    "  def fit(self, X, y):\n",
    "    return self\n",
    "  \n",
    "  def transform(self, X: pd.DataFrame, y=pd.DataFrame):\n",
    "    y_lenth = len(y)\n",
    "    if y_lenth:\n",
    "      # key = \"class\"\n",
    "      # y = pd.DataFrame({key: y})\n",
    "      values = pd.concat([X, y], axis=1)\n",
    "    else:\n",
    "      values = X.copy()\n",
    "\n",
    "    values = values.dropna()\n",
    "    values = values.drop_duplicates()\n",
    "    if y_lenth:\n",
    "      return values[X.columns.values], values[values.columns.values[-1]]\n",
    "    return values\n",
    "  \n",
    "  def fit_transform(self, X, y=pd.DataFrame):\n",
    "      return self.fit(X, y).transform(X, y)\n",
    "  \n",
    "class Transformer(BaseEstimator, TransformerMixin):\n",
    "  def __init__(self):\n",
    "    super()\n",
    "  def fit(self, X, y=None):\n",
    "    return self\n",
    "  def transform(self, X, y=None):\n",
    "    if type(X) == np.ndarray:\n",
    "      return X\n",
    "    return X.values\n",
    "  def fit_transform(self, X, y=None):\n",
    "    return self.fit(X, y).transform(X, y)"
   ]
  },
  {
   "cell_type": "markdown",
   "metadata": {},
   "source": [
    "### Metrics"
   ]
  },
  {
   "cell_type": "code",
   "execution_count": 3,
   "metadata": {},
   "outputs": [],
   "source": [
    "class Gaussian:\n",
    "  def distance(self, g, x, sigma):\n",
    "    if x.shape[0] == 0 or sigma.shape[0] == 0:\n",
    "      raise Exception\n",
    "    distance = (x - g)**2\n",
    "    distance_sigma = distance / sigma\n",
    "    summatory_distance = (-1/2)*np.sum(distance_sigma, 1)\n",
    "    return np.exp(summatory_distance)\n",
    "\n",
    "class Metrics:\n",
    "  def mpc(u: np.array):\n",
    "    # modified partition coefficient\n",
    "    n, k = u.shape\n",
    "    f = np.trace(u.dot(u.T)) / n\n",
    "\n",
    "    mpc = 1 - (k/(k - 1))*(1 - f)\n",
    "    return mpc\n",
    "  def ars(y_true, y_pred):\n",
    "    # adjusted rand score\n",
    "    return adjusted_rand_score(y_true, y_pred)"
   ]
  },
  {
   "cell_type": "markdown",
   "metadata": {},
   "source": [
    "### Model"
   ]
  },
  {
   "cell_type": "code",
   "execution_count": 4,
   "metadata": {},
   "outputs": [],
   "source": [
    "# tá funcionando bonitinho\n",
    "class Shower():\n",
    "  def show_grafico(self, x):\n",
    "    _, axes = plt.subplots()\n",
    "    markers = ['^','x','+']\n",
    "    p = self.predict(self.G, x)\n",
    "    \n",
    "    for (c, (x_1, x_2)) in zip(p, x):\n",
    "      r, g, b, a = .9*((c+1)/self.num_class), .9*((c*1.1)/self.num_class), .9*((c*1.2)/self.num_class), 0.1\n",
    "      \n",
    "      axes.plot(x_1, x_2, \"ro\", marker=markers[c])\n",
    "        \n",
    "    raio = self.distance_classes() / 2\n",
    "    \n",
    "    for i, (x_1, x_2) in enumerate(self.G):\n",
    "        \n",
    "        plt.plot(x_1, x_2, \"go\", scalex=0.01,scaley=0.01)\n",
    "        r, g, b, a = .9*((i+1)/self.num_class), .9*((i*1.1)/self.num_class), .9*((i*1.2)/self.num_class), 0.9\n",
    "        c = plt.Circle((x_1, x_2), raio, color=(r, g, b, a), fill=False)\n",
    "\n",
    "        axes.set_aspect(aspect = 1, adjustable = \"datalim\", anchor=\"SW\")\n",
    "        axes.add_artist(c)\n",
    "    plt.show()\n",
    "\n",
    "  def show_labels(self, x, filename):\n",
    "    # Data\n",
    "    k, n = x.shape\n",
    "    plt.figure(figsize=(20, 6))\n",
    "      \n",
    "    # Labels  \n",
    "    xlabs = np.arange(k)\n",
    "    ylabs = np.arange(n)\n",
    "            \n",
    "    # Heat map\n",
    "    _, ax = plt.subplots(constrained_layout=True)\n",
    "    \n",
    "    # ax.figure()\n",
    "    ax.set_axis_off() #= [0.1, 0.1, 0.8, 0.8] #.add_axes()\n",
    "    ax.imshow(x)\n",
    "    if n < 10:\n",
    "      # Add the labels\n",
    "      ax.set_xticks(ylabs)\n",
    "      ax.set_yticks(xlabs)\n",
    "\n",
    "      # Add the values to each cell\n",
    "      for i in range(len(xlabs)):\n",
    "          for j in range(len(ylabs)):\n",
    "              _ = ax.text(j, i , round(x[i, j], 1),\n",
    "                            ha = \"center\", va = \"center\", color = (0,0,0)) # \"w\"\n",
    "    if filename:\n",
    "      plt.savefig(filename, dpi=150)\n",
    "    plt.show()\n",
    "  \n",
    "  def show_G_S(self, folder):\n",
    "    # show the values of Gs and S(widths)\n",
    "    if not os.path.isdir(folder):\n",
    "      os.makedirs(folder) \n",
    "    print(\"Gs\")\n",
    "    self.show_labels(self.G, f\"{folder}/G\")\n",
    "    print(\"S2s\")\n",
    "    self.show_labels(self.sigma, f\"{folder}/sigma\")\n",
    "\n",
    "class Model():\n",
    "  def __init__(self, loss = Gaussian(), var_type=np.double) -> None:\n",
    "    # model base\n",
    "    self.loss = loss\n",
    "    self.var_type = var_type\n",
    "    \n",
    "  def predict(self, X, is_preprocessing=False):\n",
    "    # here we make predict in x\n",
    "    n = X.shape[0] \n",
    "    k = self.G.shape[0]\n",
    "\n",
    "    if is_preprocessing:\n",
    "      X = self.preprocesssing(X)\n",
    "\n",
    "    predict_value = np.zeros((n, k), dtype=self.var_type)\n",
    "\n",
    "    for i in range(k):\n",
    "      predict_value[:,i] = self.loss.distance(self.G[i], X, self.sigma[i])\n",
    "    return predict_value.argmax(1)\n",
    "\n",
    "  def set_g(self, g):\n",
    "    self.G = g.copy()\n",
    "\n",
    "  def set_sigma(self, sigma):\n",
    "    self.sigma = sigma.copy()\n",
    "\n",
    "  def preprocesssing(self, X):\n",
    "    pipeline = Pipeline([(\"Normalizer\", Normalizer()), \n",
    "                     (\"Transformer\", Transformer()),])    \n",
    "    \n",
    "    return pipeline.transform(X)\n",
    "  \n",
    "  def save_model(self, filename):\n",
    "    # Save the model in json file\n",
    "    json_object = json.dumps({\n",
    "      \"G\": self.G.tolist(),\n",
    "      \"sigma\": self.sigma.tolist()\n",
    "    }, indent=2) #  \n",
    "    # Writing to sample.json\n",
    "    folder = \"/\".join(filename.split(\"/\")[:-1])\n",
    "    if not os.path.isdir(folder):\n",
    "      os.makedirs(folder) \n",
    "\n",
    "    with open(filename, \"w\") as outfile:\n",
    "        outfile.write(json_object)\n",
    "  \n",
    "  def load_model(self, filename):\n",
    "    # Reading from json file\n",
    "    with open(filename, 'r') as openfile:\n",
    "      json_object = json.load(openfile)\n",
    "      self.G = np.array(json_object[\"G\"])\n",
    "      self.sigma = np.array(json_object[\"sigma\"])\n",
    "\n",
    "class FuzzyCMeansGaussianS2(Shower, Model):\n",
    "  def __init__(self, num_class, epochs, threshold, loss=Gaussian(),  m = 1.1, seeder=None, verbose = False) -> None:\n",
    "    # load the hiperparams\n",
    "    super().__init__(loss=loss, var_type = np.double)\n",
    "    self.num_class = num_class\n",
    "    self.m = m \n",
    "    self.verbose = verbose\n",
    "    self._only = True\n",
    "    if seeder:\n",
    "      self.seeder = seeder\n",
    "      np.random.seed(seeder)\n",
    "      \n",
    "    self.threshold = threshold\n",
    "    self.epochs = epochs \n",
    " \n",
    "  def init_g(self, x):\n",
    "    # here we get random prototipes to train\n",
    "    args = np.random.choice(x.shape[0], self.num_class, replace=False)\n",
    "    self.G = x[args].copy()\n",
    "\n",
    "  def init_u(self, x):\n",
    "    # we calcule initial matrix of membership\n",
    "    g = self.G.copy()\n",
    "    sigma = self.sigma.copy()\n",
    "    self.n = x.shape[0]\n",
    "    self.k = g.shape[0]\n",
    "    \n",
    "    self.U = np.zeros((self.n, self.k), self.var_type)\n",
    "\n",
    "    distances = np.array([2 - 2*self.loss.distance(g[i], x, sigma[i]) for i in range(self.k)]).T\n",
    "\n",
    "    expoente = 1/(self.m-1)\n",
    "\n",
    "    for i in range(self.n):\n",
    "      # summation_c = np.array([(distances[i, h] / distances[i])**expoente for h in range(self.k)]) \n",
    "      # np.divide\n",
    "      # summation_c = np.array([(distances[i] / distances[i, h])**expoente for h in range(self.k)]) #.T \n",
    "      ds = distances[i]==0\n",
    "      if (ds).any():\n",
    "        summation_c_i_1 = np.zeros((self.k))\n",
    "        summation_c_i_1[ds] = 1\n",
    "        self.U[i] = summation_c_i_1.copy()\n",
    "\n",
    "      else:\n",
    "        summation_c = np.array([((distances[i]/distances[i, h])**expoente) for h in range(self.k)])#.T \n",
    "        \n",
    "        summation_c_i = np.sum(summation_c, 0)\n",
    "        summation_c_i_1 = np.power(summation_c_i, -1)\n",
    "        \n",
    "        membership_is_nan = np.isnan(summation_c_i_1)\n",
    "        \n",
    "        summation_u = np.sum(summation_c_i_1, where=membership_is_nan==False)\n",
    "\n",
    "        summation_u_1 = 1 - summation_u\n",
    "        abs_summation_u_1 = np.abs(summation_u_1)\n",
    "        \n",
    "        if abs_summation_u_1 > .01:\n",
    "          arg = summation_c_i_1.argmax()\n",
    "          summation_c_i_1[arg] = summation_c_i_1[arg] + summation_u_1\n",
    "          \n",
    "          self.U[i] = summation_c_i_1.copy()\n",
    "        else:\n",
    "          self.U[i] = summation_c_i_1.copy() \n",
    "   \n",
    "  def init_sigma(self, x):\n",
    "    # we calcule initial matrix of widths each 1\n",
    "    self.p = x.shape[1]\n",
    "    self.k = self.G.shape[0]\n",
    "    self.sigma = np.ones((self.k, self.p), dtype=self.var_type)\n",
    "\n",
    "  # passo 1\n",
    "  def otm_prototivo(self, g, u, x, sigma):\n",
    "    new_g = g.copy()\n",
    "    u_i = u**self.m\n",
    "\n",
    "    for i in range(self.k):\n",
    "      n_g = self.loss.distance(g[i], x, sigma[i])\n",
    "      \n",
    "      u_m_g = (u_i[:,i]*n_g)#*\n",
    "      u_m_gx = ((x.T)*u_m_g).T\n",
    "\n",
    "      s_umg = np.sum(u_m_g)\n",
    "      s_umgx = np.sum(u_m_gx, 0)\n",
    "      \n",
    "      new_g[i] = s_umgx / s_umg \n",
    "    return new_g\n",
    "  \n",
    "  # passo 2\n",
    "  def otm_u(self, g, x, sigma):\n",
    "    new_u = np.zeros((self.n, self.k), dtype=self.var_type)  \n",
    "    \n",
    "    distances = np.array([2 - 2*self.loss.distance(g[i], x, sigma[i]) for i in range(self.k)]).T\n",
    "    \n",
    "    expoente = 1/(self.m-1)\n",
    "    for i in range(self.n):\n",
    "      \n",
    "      ds = distances[i]==0\n",
    "      if (ds).any():\n",
    "        summation_c_i_1 = np.zeros((self.k))\n",
    "        summation_c_i_1[ds] = 1\n",
    "        new_u[i] = summation_c_i_1.copy()\n",
    "        \n",
    "      else:\n",
    "        summation_c = np.array([((distances[i]/distances[i, h])**expoente) for h in range(self.k)])#.T \n",
    "        \n",
    "        summation_c_i = np.sum(summation_c, 0)\n",
    "\n",
    "        summation_c_i_1 = np.power(summation_c_i, -1)\n",
    "        \n",
    "        membership_is_nan = np.isnan(summation_c_i_1)\n",
    "        \n",
    "        summation_u = np.sum(summation_c_i_1, where=membership_is_nan==False)\n",
    "\n",
    "        summation_u_1 = 1 - summation_u\n",
    "        abs_summation_u_1 = np.abs(summation_u_1)\n",
    "        # if \n",
    "      \n",
    "        if summation_u == 0 or membership_is_nan.any():\n",
    "          count = np.sum(membership_is_nan) # total nan\n",
    "          new_u[i] = np.nan_to_num(summation_c_i_1, nan = summation_u_1/count)     \n",
    "        elif abs_summation_u_1 > .01:\n",
    "          arg = summation_c_i_1.argmax()\n",
    "          summation_c_i_1[arg] = summation_c_i_1[arg] + summation_u_1\n",
    "          \n",
    "          new_u[i] = summation_c_i_1.copy()\n",
    "        else:\n",
    "          new_u[i] = summation_c_i_1.copy()\n",
    "    return new_u\n",
    "\n",
    "  def otm_sigma(self, x, g, u):\n",
    "    s = self.sigma.copy()\n",
    "    \n",
    "    ui = (u**(self.m))\n",
    "    \n",
    "    for i in range(self.k):\n",
    "      g_i = g[i]\n",
    "      ui_per = ui[:,i]\n",
    "      \n",
    "\n",
    "      g_d = self.loss.distance(g_i, x, s[i]) \n",
    "      e_d = (x - g_i)**2 \n",
    "      \n",
    "      s_cn = e_d.T*(ui_per*g_d)\n",
    "      \n",
    "      if s_cn.shape[1] != 1:\n",
    "        ss_cn = np.sum(s_cn, 1).copy()\n",
    "      else:\n",
    "        ss_cn = np.squeeze(s_cn, 1).copy()\n",
    "        \n",
    "\n",
    "      s_p = np.prod(ss_cn)\n",
    "      s_p = s_p**(1/self.p)\n",
    "      \n",
    "      s_ij = s_p / ss_cn \n",
    "\n",
    "      r_r = s_ij[np.isnan(s_ij) == False]\n",
    "      p_r = np.prod(r_r)\n",
    "      \n",
    "      s_r = np.abs(1 - p_r)\n",
    "      \n",
    "              \n",
    "      # verificacao do produtorio para a classe que deve ser 1\n",
    "      if p_r == 0: \n",
    "        # quando os Si forem muito pequeno o produtorio dá zero por causa computacional\n",
    "        # sendo assim eu redistubuo a partir do inverso da media\n",
    "        # ss_cn => todos denominadores de Si\n",
    "        # [1/2, 1/2, 1/2] = [0.1/0.2 0.1/0.2 0.1/0.2] \n",
    "\n",
    "        # [S_i1, S_i2, S_i3] = [0.000398*0.0000038*0.000067/0.000398 \n",
    "        #                       0.000398*0.0000038*0.000067/0.0000038 \n",
    "        #                       0.000398*0.0000038*0.000067/0.000067]\n",
    "        #  [S_i1, S_i2, S_i3] = [2.5460e-10, 2.6666e-08, 1.5124e-09]\n",
    "\n",
    "        # -1 aqui faco a media dos denominadores dos si \n",
    "        # que no caso o resultado dos somatorios \n",
    "        teste = False\n",
    "\n",
    "        if teste:\n",
    "          m_s = np.sum(ss_cn)/(self.p) \n",
    "        # m_s = sum([0.2 0.2 0.2])/2\n",
    "\n",
    "        # p\n",
    "        # m_s = sum([0.000398 0.0000038 0.000067])/3\n",
    "        # m_s = 0.00015626666666666668\n",
    "        # p - 1\n",
    "        # m_s = sum([0.000398 0.0000038 0.000067])/2\n",
    "        # m_s = 0.0002344\n",
    "\n",
    "\n",
    "\n",
    "        # ss_cn = ss_cn*(1/m_s)\n",
    "        if teste:\n",
    "          im_s = 1/(m_s)\n",
    "          new_ss_cn = ss_cn*im_s\n",
    "        else:\n",
    "          new_ss_cn = (1 - ss_cn) #**(1/(self.p))\n",
    "        # new_ss_cn = [0.0033 0.0033 0.0033]/0.2\n",
    "\n",
    "\n",
    "        # p\n",
    "        # new_ss_cn = [0.000398 0.0000038 0.000067]/0.00015626666666666668\n",
    "        # new_ss_cn = [2.54692833 0.02431741 0.42875427]\n",
    "\n",
    "        # p - 1\n",
    "        # new_ss_cn = [0.000398 0.0000038 0.000067]/0.0002344\n",
    "        # new_ss_cn = [1.69795222 0.0162116 0.28583618]\n",
    "\n",
    "        new_s_p = np.prod(new_ss_cn)\n",
    "        # p\n",
    "        # prod(new_ss_cn) = 0.0265547628046677\n",
    "\n",
    "        # p -1\n",
    "        # prod(new_ss_cn) = 0.00786807786804969\n",
    "\n",
    "\n",
    "        new_s_p = new_s_p**(1/self.p)\n",
    "        # p\n",
    "        # new_s_p = 0.29834182508986407\n",
    "\n",
    "        # p -1\n",
    "        # new_s_p = 0.08870218637694163\n",
    "\n",
    "        \n",
    "        new_r = new_s_p / new_ss_cn \n",
    "\n",
    "        # p\n",
    "        # new_r = 0.0265547628046677/[2.54692833 0.02431741 0.42875427]\n",
    "        # new_r = [0.1171379 , 12.2686533 ,  0.69583407]\n",
    "        # prod(new_ss_cn) = 0.75\n",
    "\n",
    "        # p -1\n",
    "        # new_r = 0.4898979485566356/[1.69795222 0.0162116 0.28583618]\n",
    "        # new_r = [0.05224068, 5.47152434, 0.31032526 ]\n",
    "\n",
    "        prod = np.prod(new_r)\n",
    "        # p\n",
    "        # prod = 1\n",
    "        # p -1\n",
    "        # prod = 0.0887021863769416\n",
    "\n",
    "        if np.isnan(prod)==False:\n",
    "          s[i] = new_r.copy()\n",
    "        \n",
    "      elif s_r > .1:\n",
    "        # para quando o produtorio de Ss dá diferente de 1 \n",
    "        if r_r.shape[0] == s_ij.shape[0]:\n",
    "          s[i] = s_ij/(p_r**(1/s_ij.shape[0]))\n",
    "        else:\n",
    "          s_prod = (1/(p_r**(1/s_ij.shape[0])))\n",
    "          s[i] = np.nan_to_num(s_ij, copy=True, nan=s_prod)\n",
    "      else:\n",
    "        s[i] = s_ij.copy()\n",
    "          \n",
    "    return s\n",
    "\n",
    "  def funcao_objetivo(self, x, g, u, sigma):\n",
    "    # k = g.shape[0]\n",
    "    u_i = u**self.m\n",
    "    f = np.zeros(self.k, dtype=self.var_type)\n",
    "    \n",
    "    s_d = np.zeros(x.shape[0], dtype=self.var_type)\n",
    "    w = np.zeros(x.shape[0], dtype=self.var_type)\n",
    "    for i in range(self.k):\n",
    "      s_d = 2 - 2*self.loss.distance(g[i], x, sigma[i])\n",
    "      \n",
    "      w = s_d.T*(u_i[:, i])\n",
    "      f[i] = np.sum(w)\n",
    "      \n",
    "    return np.sum(f)\n",
    "\n",
    "  def atualiza_GUS2(self, g, u, sigma):\n",
    "    self.G = g\n",
    "    self.U = u\n",
    "    self.sigma = sigma\n",
    "\n",
    "  def fit(self, x, y, verbose = False):\n",
    "    self.redu = True\n",
    "    \n",
    "    self.init_g(x)\n",
    "    self.init_sigma(x)\n",
    "    self.init_u(x)\n",
    "\n",
    "    j = self.funcao_objetivo(x, self.G, self.U, self.sigma) \n",
    "    if self._only:\n",
    "      print(\"epoca:\", 0, \"funcão objetivo:\", j) #, new_f\n",
    "\n",
    "    \n",
    "    for epoch in range(self.epochs):\n",
    "      # \"passo 1\"\n",
    "      new_sigma = self.otm_sigma(x, self.G, self.U)\n",
    "\n",
    "      # \"passo 2\"\n",
    "      new_g = self.otm_prototivo(self.G, self.U, x, new_sigma)\n",
    "\n",
    "      # \"passo 3\"\n",
    "      new_u = self.otm_u(new_g, x, new_sigma)\n",
    "\n",
    "      new_j = self.funcao_objetivo(x, new_g, new_u, new_sigma)\n",
    "      if self._only:\n",
    "        print(f\"epoca: {epoch + 1} funcão objetivo: {new_j}\")# f,\n",
    "        print(f\"Modified partition coefficient  {Metrics.mpc(self.U)},  {Metrics.ars(y, self.U.argmax(1))}\")# f,\n",
    "      \n",
    "      # silhouette_score\n",
    "      if verbose:\n",
    "        self.show_grafico(x)\n",
    "      \n",
    "      dif = np.abs(new_j - j)\n",
    "      # new_j > j\n",
    "      if (np.isnan(new_j)==True or dif < self.threshold):\n",
    "        return\n",
    "      else:\n",
    "        j = new_j\n",
    "        self.atualiza_GUS2(new_g, new_u, new_sigma)\n",
    "\n",
    "class Trainer(Shower, Model):\n",
    "  def __init__(self, num_class, epochs, threshold, model_creator, loss = Gaussian(), m = 1.1, verbose = False, repeat = 1) -> None:\n",
    "    # load the hiperparams\n",
    "    super().__init__(loss=loss)\n",
    "    self.num_class = num_class\n",
    "    self.var_type = np.double\n",
    "    # self.var_type = np.float\n",
    "    self.m = m \n",
    "    self.verbose = verbose      \n",
    "    self.threshold = threshold\n",
    "    self.epochs = epochs \n",
    "    self.repeat = repeat\n",
    "    self.model_creator = model_creator\n",
    "    \n",
    "  def fit(self, X, y):\n",
    "    j = np.inf\n",
    "    \n",
    "    for i in range(self.repeat):\n",
    "      model = self.model_creator(num_class=self.num_class, epochs=self.epochs, threshold=self.threshold, loss=self.loss, m=self.m, verbose=self.verbose)\n",
    "      model._only = False\n",
    "      model.fit(X, y)\n",
    "      new_j = model.funcao_objetivo(X, model.G, model.U, model.sigma)\n",
    "      print(f\"repeation: {i + 1} funcão objetivo: {new_j}\")\n",
    "      print(f\"Modified partition coefficient: {Metrics.mpc(model.U)},  adjusted_rand_score: {Metrics.ars(y, model.U.argmax(1))}\")\n",
    "\n",
    "      if new_j < j:\n",
    "        self.G = model.G\n",
    "        self.U = model.U\n",
    "        self.sigma = model.sigma\n",
    "        j = new_j\n"
   ]
  },
  {
   "cell_type": "markdown",
   "metadata": {},
   "source": [
    "## fit the model with datasets"
   ]
  },
  {
   "cell_type": "markdown",
   "metadata": {},
   "source": [
    "### m = 1.1"
   ]
  },
  {
   "cell_type": "markdown",
   "metadata": {},
   "source": [
    "#### set m expoent fuzzy"
   ]
  },
  {
   "cell_type": "code",
   "execution_count": 5,
   "metadata": {},
   "outputs": [],
   "source": [
    "m = 1.1"
   ]
  },
  {
   "cell_type": "markdown",
   "metadata": {},
   "source": [
    "#### datasets -> mfeat-fac"
   ]
  },
  {
   "cell_type": "code",
   "execution_count": 6,
   "metadata": {},
   "outputs": [
    {
     "name": "stdout",
     "output_type": "stream",
     "text": [
      "repeation: 1 funcão objetivo: 12.71028228273393\n",
      "Modified partition coefficient: 0.9117606852948938,  adjusted_rand_score: 0.4661131247574353\n",
      "repeation: 2 funcão objetivo: 12.670229905007218\n",
      "Modified partition coefficient: 0.9213976360558613,  adjusted_rand_score: 0.4595014909087241\n",
      "repeation: 3 funcão objetivo: 12.966631700747163\n",
      "Modified partition coefficient: 0.922427214477029,  adjusted_rand_score: 0.4327516942554979\n",
      "repeation: 4 funcão objetivo: 12.70658000569979\n",
      "Modified partition coefficient: 0.914551332218581,  adjusted_rand_score: 0.44167813597155775\n",
      "repeation: 5 funcão objetivo: 12.873672637090277\n",
      "Modified partition coefficient: 0.9042124598994308,  adjusted_rand_score: 0.44767321698057005\n",
      "repeation: 6 funcão objetivo: 12.872326348115582\n",
      "Modified partition coefficient: 0.9066583822031826,  adjusted_rand_score: 0.4544076680247264\n",
      "repeation: 7 funcão objetivo: 12.85686586073407\n",
      "Modified partition coefficient: 0.9108696846297841,  adjusted_rand_score: 0.4524767984218396\n",
      "repeation: 8 funcão objetivo: 12.827328079094958\n",
      "Modified partition coefficient: 0.9194836328924584,  adjusted_rand_score: 0.4318707056185531\n",
      "repeation: 9 funcão objetivo: 12.679555814187736\n",
      "Modified partition coefficient: 0.9154561010061064,  adjusted_rand_score: 0.43405793426478634\n",
      "repeation: 10 funcão objetivo: 12.840474558574673\n",
      "Modified partition coefficient: 0.910089066067218,  adjusted_rand_score: 0.4438145511724893\n",
      "repeation: 11 funcão objetivo: 12.714676260273261\n",
      "Modified partition coefficient: 0.908579769806468,  adjusted_rand_score: 0.4353894575860745\n",
      "repeation: 12 funcão objetivo: 12.840475014177432\n",
      "Modified partition coefficient: 0.9101003499386893,  adjusted_rand_score: 0.4437393481990339\n",
      "repeation: 13 funcão objetivo: 12.624323904763404\n",
      "Modified partition coefficient: 0.9160683646648352,  adjusted_rand_score: 0.5083299450786316\n",
      "repeation: 14 funcão objetivo: 12.695133266386938\n",
      "Modified partition coefficient: 0.921545761095902,  adjusted_rand_score: 0.46747683210484875\n",
      "repeation: 15 funcão objetivo: 12.830013727681365\n",
      "Modified partition coefficient: 0.9191656040036343,  adjusted_rand_score: 0.42681779296088523\n",
      "repeation: 16 funcão objetivo: 12.873632413539166\n",
      "Modified partition coefficient: 0.9042478064048467,  adjusted_rand_score: 0.44602548805798087\n",
      "repeation: 17 funcão objetivo: 12.708690085097267\n",
      "Modified partition coefficient: 0.9191060994533119,  adjusted_rand_score: 0.4878948644775748\n",
      "repeation: 18 funcão objetivo: 12.624315050015634\n",
      "Modified partition coefficient: 0.9160769478639581,  adjusted_rand_score: 0.5083299450786316\n",
      "repeation: 19 funcão objetivo: 12.840457323402216\n",
      "Modified partition coefficient: 0.9100736285028653,  adjusted_rand_score: 0.44425305982808194\n",
      "repeation: 20 funcão objetivo: 12.74417413393509\n",
      "Modified partition coefficient: 0.9126650163987428,  adjusted_rand_score: 0.43642401949513354\n",
      "repeation: 21 funcão objetivo: 12.71467014862076\n",
      "Modified partition coefficient: 0.9085809862967151,  adjusted_rand_score: 0.43576732067181734\n",
      "repeation: 22 funcão objetivo: 12.87373216281824\n",
      "Modified partition coefficient: 0.9040645145539622,  adjusted_rand_score: 0.44679547767832645\n",
      "repeation: 23 funcão objetivo: 12.978535779258243\n",
      "Modified partition coefficient: 0.9061912364315566,  adjusted_rand_score: 0.4049268461553453\n",
      "repeation: 24 funcão objetivo: 12.856863732110078\n",
      "Modified partition coefficient: 0.9108729019674005,  adjusted_rand_score: 0.4524767984218396\n",
      "repeation: 25 funcão objetivo: 12.840475600862538\n",
      "Modified partition coefficient: 0.9101012616720819,  adjusted_rand_score: 0.4437393481990339\n",
      "repeation: 26 funcão objetivo: 12.710255110942754\n",
      "Modified partition coefficient: 0.9117864341977068,  adjusted_rand_score: 0.465566280597929\n",
      "repeation: 27 funcão objetivo: 12.624314857898778\n",
      "Modified partition coefficient: 0.9160773342021076,  adjusted_rand_score: 0.5083299450786316\n",
      "repeation: 28 funcão objetivo: 12.670229744860439\n",
      "Modified partition coefficient: 0.9214026530888736,  adjusted_rand_score: 0.4595014909087241\n",
      "repeation: 29 funcão objetivo: 12.845207267965836\n",
      "Modified partition coefficient: 0.9198435322636676,  adjusted_rand_score: 0.4085943695429827\n",
      "repeation: 30 funcão objetivo: 12.88599847350477\n",
      "Modified partition coefficient: 0.9193622607464071,  adjusted_rand_score: 0.4162421826865588\n",
      "repeation: 31 funcão objetivo: 12.741382366807812\n",
      "Modified partition coefficient: 0.9157176647369722,  adjusted_rand_score: 0.46983179173476436\n",
      "repeation: 32 funcão objetivo: 12.741386959869953\n",
      "Modified partition coefficient: 0.9157509452277433,  adjusted_rand_score: 0.46938818087862044\n",
      "repeation: 33 funcão objetivo: 12.691577296172566\n",
      "Modified partition coefficient: 0.9203474584888651,  adjusted_rand_score: 0.5078887094822543\n",
      "repeation: 34 funcão objetivo: 12.733874316359252\n",
      "Modified partition coefficient: 0.9114196884710918,  adjusted_rand_score: 0.4383310362312411\n",
      "repeation: 35 funcão objetivo: 12.874793583671098\n",
      "Modified partition coefficient: 0.9167009709875776,  adjusted_rand_score: 0.48868569939631623\n",
      "repeation: 36 funcão objetivo: 12.741408289685793\n",
      "Modified partition coefficient: 0.9158376323182117,  adjusted_rand_score: 0.47114396386954976\n",
      "repeation: 37 funcão objetivo: 12.63551457620091\n",
      "Modified partition coefficient: 0.9175834237234769,  adjusted_rand_score: 0.48846289250691377\n",
      "repeation: 38 funcão objetivo: 12.733876449316536\n",
      "Modified partition coefficient: 0.9114143762137131,  adjusted_rand_score: 0.4383310362312411\n",
      "repeation: 39 funcão objetivo: 12.877932602890397\n",
      "Modified partition coefficient: 0.9158336830407989,  adjusted_rand_score: 0.4186537967598716\n",
      "repeation: 40 funcão objetivo: 12.733877443034268\n",
      "Modified partition coefficient: 0.9114107519517356,  adjusted_rand_score: 0.4383310362312411\n",
      "repeation: 41 funcão objetivo: 12.73391394914318\n",
      "Modified partition coefficient: 0.9114634432438588,  adjusted_rand_score: 0.4380253584206687\n",
      "repeation: 42 funcão objetivo: 12.691578389850815\n",
      "Modified partition coefficient: 0.9203460903495603,  adjusted_rand_score: 0.5078887094822543\n",
      "repeation: 43 funcão objetivo: 12.840458100398651\n",
      "Modified partition coefficient: 0.9100708425528646,  adjusted_rand_score: 0.44483278348689137\n",
      "repeation: 44 funcão objetivo: 12.639491210359324\n",
      "Modified partition coefficient: 0.9114102773716322,  adjusted_rand_score: 0.5038067819307832\n",
      "repeation: 45 funcão objetivo: 12.873592366311291\n",
      "Modified partition coefficient: 0.9043552647907375,  adjusted_rand_score: 0.4454841295429624\n",
      "repeation: 46 funcão objetivo: 12.864927488562923\n",
      "Modified partition coefficient: 0.908696779740509,  adjusted_rand_score: 0.4757369514817293\n",
      "repeation: 47 funcão objetivo: 12.6702570960458\n",
      "Modified partition coefficient: 0.9213730351876583,  adjusted_rand_score: 0.4591260153015956\n",
      "repeation: 48 funcão objetivo: 12.864908621674754\n",
      "Modified partition coefficient: 0.9087273029053501,  adjusted_rand_score: 0.47593959922716844\n",
      "repeation: 49 funcão objetivo: 12.640065951028078\n",
      "Modified partition coefficient: 0.9112448729924466,  adjusted_rand_score: 0.5020997191582006\n",
      "repeation: 50 funcão objetivo: 12.86490773819188\n",
      "Modified partition coefficient: 0.9087459664416317,  adjusted_rand_score: 0.47593959922716844\n"
     ]
    }
   ],
   "source": [
    "cleaner = Cleaner()\n",
    "X, y = cleaner.read_dataset(\"datasets\\mfeat-fac\")\n",
    "X, y = cleaner.transform(X, y)\n",
    "\n",
    "model = Trainer(num_class = 10, \n",
    "                epochs = 100, \n",
    "                threshold = 1e-6, \n",
    "                model_creator=FuzzyCMeansGaussianS2, \n",
    "                m = m, \n",
    "                verbose = False, \n",
    "                repeat = 50)\n",
    "\n",
    "pipeline = Pipeline([(\"Normalizer\", Normalizer()), \n",
    "                     (\"Transformer\", Transformer()),                      \n",
    "                    (\"Model\", model)])\n",
    "pipeline.fit(X, y)\n",
    "model.save_model(f\"./model/{m}/mfeat-fac/model.json\")\n"
   ]
  },
  {
   "cell_type": "code",
   "execution_count": 7,
   "metadata": {},
   "outputs": [
    {
     "name": "stdout",
     "output_type": "stream",
     "text": [
      "Gs\n"
     ]
    },
    {
     "data": {
      "text/plain": [
       "<Figure size 1440x432 with 0 Axes>"
      ]
     },
     "metadata": {},
     "output_type": "display_data"
    },
    {
     "data": {
      "image/png": "[encoded data removed]",
      "text/plain": [
       "<Figure size 432x288 with 1 Axes>"
      ]
     },
     "metadata": {
      "needs_background": "light"
     },
     "output_type": "display_data"
    },
    {
     "name": "stdout",
     "output_type": "stream",
     "text": [
      "S2s\n"
     ]
    },
    {
     "data": {
      "text/plain": [
       "<Figure size 1440x432 with 0 Axes>"
      ]
     },
     "metadata": {},
     "output_type": "display_data"
    },
    {
     "data": {
      "image/png": "[encoded data removed]",
      "text/plain": [
       "<Figure size 432x288 with 1 Axes>"
      ]
     },
     "metadata": {
      "needs_background": "light"
     },
     "output_type": "display_data"
    }
   ],
   "source": [
    "model.show_G_S(\"./figs/mfeat-fac\")"
   ]
  },
  {
   "cell_type": "code",
   "execution_count": 8,
   "metadata": {},
   "outputs": [
    {
     "name": "stdout",
     "output_type": "stream",
     "text": [
      "Modified partition coefficient:  {0: 0.9728891340224581, 1: 0.857039777387311, 2: 0.9013148675618663, 3: 0.9159804225448858, 4: 0.9224295393690065, 5: 0.89525381378097, 6: 0.9287130662738845, 7: 0.9079974841627532, 8: 0.9279084324215762, 9: 0.9313042952115405}\n",
      "Índice de Rand corrigido: 0.5083299450786316\n"
     ]
    },
    {
     "data": {
      "text/plain": [
       "<sklearn.metrics._plot.confusion_matrix.ConfusionMatrixDisplay at 0x1795bebc048>"
      ]
     },
     "execution_count": 8,
     "metadata": {},
     "output_type": "execute_result"
    },
    {
     "data": {
      "image/png": "[encoded data removed]",
      "text/plain": [
       "<Figure size 432x288 with 2 Axes>"
      ]
     },
     "metadata": {
      "needs_background": "light"
     },
     "output_type": "display_data"
    }
   ],
   "source": [
    "y_predict = pipeline.predict(X) \n",
    "\n",
    "mpcs = {i: Metrics.mpc(model.U[y==i]) for i in range(model.num_class)}\n",
    "\n",
    "print(f\"Modified partition coefficient:  {mpcs}\")# f,\n",
    "print(f\"Índice de Rand corrigido: {Metrics.ars(y, model.U.argmax(1))}\")\n",
    "\n",
    "cm = confusion_matrix(y, y_predict)\n",
    "cmd = ConfusionMatrixDisplay(confusion_matrix=cm, display_labels=np.arange(model.num_class))\n",
    "cmd.plot()"
   ]
  },
  {
   "cell_type": "markdown",
   "metadata": {},
   "source": [
    "#### datasets -> mfeat-fou"
   ]
  },
  {
   "cell_type": "code",
   "execution_count": 9,
   "metadata": {},
   "outputs": [
    {
     "name": "stdout",
     "output_type": "stream",
     "text": [
      "repeation: 1 funcão objetivo: 334.4261547263179\n",
      "Modified partition coefficient: 0.8658478123848963,  adjusted_rand_score: 0.4455003958092822\n",
      "repeation: 2 funcão objetivo: 333.056213488078\n",
      "Modified partition coefficient: 0.858270648932214,  adjusted_rand_score: 0.45674865671036874\n",
      "repeation: 3 funcão objetivo: 380.3331167259837\n",
      "Modified partition coefficient: 0.8518982164622109,  adjusted_rand_score: 0.2791064991773775\n",
      "repeation: 4 funcão objetivo: 333.0572980980178\n",
      "Modified partition coefficient: 0.8580671839466356,  adjusted_rand_score: 0.45711296387908623\n",
      "repeation: 5 funcão objetivo: 384.88073587883144\n",
      "Modified partition coefficient: 0.8359904421322026,  adjusted_rand_score: 0.38276755681567654\n",
      "repeation: 6 funcão objetivo: 366.15033376113104\n",
      "Modified partition coefficient: 0.7877371662389019,  adjusted_rand_score: 0.3618756965484745\n",
      "repeation: 7 funcão objetivo: 340.81454830796474\n",
      "Modified partition coefficient: 0.8288565087737765,  adjusted_rand_score: 0.4078782533546311\n",
      "repeation: 8 funcão objetivo: 374.72841437643814\n",
      "Modified partition coefficient: 0.8077066039776801,  adjusted_rand_score: 0.39153583140422615\n",
      "repeation: 9 funcão objetivo: 376.7794264253298\n",
      "Modified partition coefficient: 0.794666305000765,  adjusted_rand_score: 0.321566017960705\n",
      "repeation: 10 funcão objetivo: 340.1177944517439\n",
      "Modified partition coefficient: 0.8692423912246884,  adjusted_rand_score: 0.46445159614450654\n",
      "repeation: 11 funcão objetivo: 343.02548479635726\n",
      "Modified partition coefficient: 0.8493481241758972,  adjusted_rand_score: 0.39296866995927765\n",
      "repeation: 12 funcão objetivo: 352.2959949126926\n",
      "Modified partition coefficient: 0.8745304242466079,  adjusted_rand_score: 0.4267476720759163\n",
      "repeation: 13 funcão objetivo: 333.311231620767\n",
      "Modified partition coefficient: 0.8537748793076417,  adjusted_rand_score: 0.45861788638530093\n",
      "repeation: 14 funcão objetivo: 355.08812313698456\n",
      "Modified partition coefficient: 0.8611855697153518,  adjusted_rand_score: 0.391663753053245\n",
      "repeation: 15 funcão objetivo: 333.62819097755397\n",
      "Modified partition coefficient: 0.8347877549114386,  adjusted_rand_score: 0.44493871959997233\n",
      "repeation: 16 funcão objetivo: 353.5627027507892\n",
      "Modified partition coefficient: 0.8649091209875459,  adjusted_rand_score: 0.38207274550794473\n",
      "repeation: 17 funcão objetivo: 340.57182780078415\n",
      "Modified partition coefficient: 0.863030268992261,  adjusted_rand_score: 0.4616787817367601\n",
      "repeation: 18 funcão objetivo: 332.7034978454341\n",
      "Modified partition coefficient: 0.8431875189457133,  adjusted_rand_score: 0.4581021198063122\n",
      "repeation: 19 funcão objetivo: 344.761488434209\n",
      "Modified partition coefficient: 0.8690359437558424,  adjusted_rand_score: 0.3995641101702696\n",
      "repeation: 20 funcão objetivo: 341.49836424647225\n",
      "Modified partition coefficient: 0.8641018175997337,  adjusted_rand_score: 0.44214328654801405\n",
      "repeation: 21 funcão objetivo: 353.65525883875364\n",
      "Modified partition coefficient: 0.8725768704676445,  adjusted_rand_score: 0.3844746572309775\n",
      "repeation: 22 funcão objetivo: 333.37314855448557\n",
      "Modified partition coefficient: 0.8391227327936347,  adjusted_rand_score: 0.4463193882204162\n",
      "repeation: 23 funcão objetivo: 332.4127396990623\n",
      "Modified partition coefficient: 0.8483202086727202,  adjusted_rand_score: 0.46343633435703246\n",
      "repeation: 24 funcão objetivo: 372.0080394510896\n",
      "Modified partition coefficient: 0.8510348371989056,  adjusted_rand_score: 0.34184063264843356\n",
      "repeation: 25 funcão objetivo: 334.34410263460273\n",
      "Modified partition coefficient: 0.8661577168511094,  adjusted_rand_score: 0.44498346035005215\n",
      "repeation: 26 funcão objetivo: 375.8383826154067\n",
      "Modified partition coefficient: 0.8105420372483157,  adjusted_rand_score: 0.39088364224200095\n",
      "repeation: 27 funcão objetivo: 334.7195293461457\n",
      "Modified partition coefficient: 0.8612873719739148,  adjusted_rand_score: 0.44353843795155073\n",
      "repeation: 28 funcão objetivo: 334.2395123762631\n",
      "Modified partition coefficient: 0.8670697831322736,  adjusted_rand_score: 0.4417445914777765\n",
      "repeation: 29 funcão objetivo: 335.15469336247367\n",
      "Modified partition coefficient: 0.8582983253723795,  adjusted_rand_score: 0.4518015203186665\n",
      "repeation: 30 funcão objetivo: 334.37204878658014\n",
      "Modified partition coefficient: 0.8660941179827222,  adjusted_rand_score: 0.44548394969882893\n",
      "repeation: 31 funcão objetivo: 379.6327414562319\n",
      "Modified partition coefficient: 0.8673251537635636,  adjusted_rand_score: 0.33877426464071164\n",
      "repeation: 32 funcão objetivo: 351.33899079355774\n",
      "Modified partition coefficient: 0.8432624026884208,  adjusted_rand_score: 0.37216289774740413\n",
      "repeation: 33 funcão objetivo: 334.74137169206915\n",
      "Modified partition coefficient: 0.8734628389424919,  adjusted_rand_score: 0.4149872169345159\n",
      "repeation: 34 funcão objetivo: 329.80664918494944\n",
      "Modified partition coefficient: 0.8567614496253366,  adjusted_rand_score: 0.4593691573080957\n",
      "repeation: 35 funcão objetivo: 342.0995612560255\n",
      "Modified partition coefficient: 0.8606199589696121,  adjusted_rand_score: 0.43958894217058836\n",
      "repeation: 36 funcão objetivo: 371.5513021853682\n",
      "Modified partition coefficient: 0.8060974858849386,  adjusted_rand_score: 0.3349955611060883\n",
      "repeation: 37 funcão objetivo: 332.70350771025977\n",
      "Modified partition coefficient: 0.843187152740487,  adjusted_rand_score: 0.4581021198063122\n",
      "repeation: 38 funcão objetivo: 344.1789596667399\n",
      "Modified partition coefficient: 0.8772586931857776,  adjusted_rand_score: 0.43308759783734385\n",
      "repeation: 39 funcão objetivo: 342.96407887219533\n",
      "Modified partition coefficient: 0.8494306455842389,  adjusted_rand_score: 0.3918663332392636\n",
      "repeation: 40 funcão objetivo: 344.9385869008232\n",
      "Modified partition coefficient: 0.8677695624126078,  adjusted_rand_score: 0.3992326605578813\n",
      "repeation: 41 funcão objetivo: 354.3062104436157\n",
      "Modified partition coefficient: 0.8603882167816952,  adjusted_rand_score: 0.38630442629254363\n",
      "repeation: 42 funcão objetivo: 338.60452063243855\n",
      "Modified partition coefficient: 0.8407514883595725,  adjusted_rand_score: 0.43453260818314443\n",
      "repeation: 43 funcão objetivo: 333.0680963583332\n",
      "Modified partition coefficient: 0.8559057825419734,  adjusted_rand_score: 0.4757534563200812\n",
      "repeation: 44 funcão objetivo: 380.2422204858859\n",
      "Modified partition coefficient: 0.8017808448315775,  adjusted_rand_score: 0.37461476243214625\n",
      "repeation: 45 funcão objetivo: 332.4127211533594\n",
      "Modified partition coefficient: 0.8483215742367809,  adjusted_rand_score: 0.46343633435703246\n",
      "repeation: 46 funcão objetivo: 333.3850125346263\n",
      "Modified partition coefficient: 0.8391654825297673,  adjusted_rand_score: 0.4463193882204162\n",
      "repeation: 47 funcão objetivo: 370.50898511982973\n",
      "Modified partition coefficient: 0.871932796757138,  adjusted_rand_score: 0.3374466806860375\n",
      "repeation: 48 funcão objetivo: 332.7034709676855\n",
      "Modified partition coefficient: 0.843188419063542,  adjusted_rand_score: 0.4581021198063122\n",
      "repeation: 49 funcão objetivo: 332.9465924103245\n",
      "Modified partition coefficient: 0.8367098961404205,  adjusted_rand_score: 0.42959528598026\n",
      "repeation: 50 funcão objetivo: 379.2169409202484\n",
      "Modified partition coefficient: 0.793661114447922,  adjusted_rand_score: 0.3830194477743541\n"
     ]
    }
   ],
   "source": [
    "cleaner = Cleaner()\n",
    "X, y = cleaner.read_dataset(\"datasets\\mfeat-fou\")\n",
    "X, y = cleaner.transform(X, y)\n",
    "\n",
    "model = Trainer(num_class = 10, \n",
    "                epochs = 100, \n",
    "                threshold = 1e-6, \n",
    "                model_creator=FuzzyCMeansGaussianS2, \n",
    "                m = m, \n",
    "                verbose = False, \n",
    "                repeat = 50)\n",
    "\n",
    "pipeline = Pipeline([(\"Normalizer\", Normalizer()), \n",
    "                     (\"Transformer\", Transformer()),                      \n",
    "                    (\"Model\", model)])\n",
    "pipeline.fit(X, y)\n",
    "model.save_model(f\"./model/{m}/mfeat-fou/model.json\")"
   ]
  },
  {
   "cell_type": "code",
   "execution_count": 10,
   "metadata": {},
   "outputs": [
    {
     "name": "stdout",
     "output_type": "stream",
     "text": [
      "Gs\n"
     ]
    },
    {
     "data": {
      "text/plain": [
       "<Figure size 1440x432 with 0 Axes>"
      ]
     },
     "metadata": {},
     "output_type": "display_data"
    },
    {
     "data": {
      "image/png": "[encoded data removed]",
      "text/plain": [
       "<Figure size 432x288 with 1 Axes>"
      ]
     },
     "metadata": {
      "needs_background": "light"
     },
     "output_type": "display_data"
    },
    {
     "name": "stdout",
     "output_type": "stream",
     "text": [
      "S2s\n"
     ]
    },
    {
     "data": {
      "text/plain": [
       "<Figure size 1440x432 with 0 Axes>"
      ]
     },
     "metadata": {},
     "output_type": "display_data"
    },
    {
     "data": {
      "image/png": "[encoded data removed]",
      "text/plain": [
       "<Figure size 432x288 with 1 Axes>"
      ]
     },
     "metadata": {
      "needs_background": "light"
     },
     "output_type": "display_data"
    }
   ],
   "source": [
    "model.show_G_S(\"./figs/mfeat-fou\")"
   ]
  },
  {
   "cell_type": "code",
   "execution_count": 11,
   "metadata": {},
   "outputs": [
    {
     "name": "stdout",
     "output_type": "stream",
     "text": [
      "Modified partition coefficient:  {0: 0.9912090409546107, 1: 0.6845021475771224, 2: 0.9236607903230348, 3: 0.8357442996793674, 4: 0.8277839278185013, 5: 0.7785685184796496, 6: 0.9038073644364366, 7: 0.8909910201549246, 8: 0.8468029324133681, 9: 0.8848303555412317}\n",
      "Índice de Rand corrigido: 0.4593691573080957\n"
     ]
    },
    {
     "data": {
      "text/plain": [
       "<sklearn.metrics._plot.confusion_matrix.ConfusionMatrixDisplay at 0x1795c1b7c18>"
      ]
     },
     "execution_count": 11,
     "metadata": {},
     "output_type": "execute_result"
    },
    {
     "data": {
      "image/png": "[encoded data removed]",
      "text/plain": [
       "<Figure size 432x288 with 2 Axes>"
      ]
     },
     "metadata": {
      "needs_background": "light"
     },
     "output_type": "display_data"
    }
   ],
   "source": [
    "y_predict = pipeline.predict(X)\n",
    "\n",
    "mpcs = {i: Metrics.mpc(model.U[y==i]) for i in range(model.num_class)}\n",
    "\n",
    "print(f\"Modified partition coefficient:  {mpcs}\")# f,\n",
    "print(f\"Índice de Rand corrigido: {Metrics.ars(y, model.U.argmax(1))}\")# f,\n",
    "\n",
    "cm = confusion_matrix(y, y_predict)\n",
    "cmd = ConfusionMatrixDisplay(confusion_matrix=cm, display_labels=np.arange(model.num_class))\n",
    "cmd.plot()"
   ]
  },
  {
   "cell_type": "markdown",
   "metadata": {},
   "source": [
    "#### datasets -> mfeat-kar"
   ]
  },
  {
   "cell_type": "code",
   "execution_count": 12,
   "metadata": {},
   "outputs": [
    {
     "name": "stdout",
     "output_type": "stream",
     "text": [
      "repeation: 1 funcão objetivo: 1817.406844483708\n",
      "Modified partition coefficient: 0.7062106347807877,  adjusted_rand_score: 0.48316300208618757\n",
      "repeation: 2 funcão objetivo: 1799.6234763711338\n",
      "Modified partition coefficient: 0.7211636731583752,  adjusted_rand_score: 0.49616315876723455\n",
      "repeation: 3 funcão objetivo: 1820.5468047272793\n",
      "Modified partition coefficient: 0.713731611429993,  adjusted_rand_score: 0.4552521631023444\n",
      "repeation: 4 funcão objetivo: 1806.251180297651\n",
      "Modified partition coefficient: 0.7103963334053751,  adjusted_rand_score: 0.5762327398932902\n",
      "repeation: 5 funcão objetivo: 1824.2907720028863\n",
      "Modified partition coefficient: 0.7186065023284489,  adjusted_rand_score: 0.5704537377556418\n",
      "repeation: 6 funcão objetivo: 1806.2514962582875\n",
      "Modified partition coefficient: 0.7103964883134739,  adjusted_rand_score: 0.5762327398932902\n",
      "repeation: 7 funcão objetivo: 1806.2501603034827\n",
      "Modified partition coefficient: 0.7103958520237935,  adjusted_rand_score: 0.5762327398932902\n",
      "repeation: 8 funcão objetivo: 1826.0401783265115\n",
      "Modified partition coefficient: 0.7123579660071627,  adjusted_rand_score: 0.4297768359290442\n",
      "repeation: 9 funcão objetivo: 1826.0401927272123\n",
      "Modified partition coefficient: 0.7123579815489314,  adjusted_rand_score: 0.4297768359290442\n",
      "repeation: 10 funcão objetivo: 1806.2505791712729\n",
      "Modified partition coefficient: 0.7103960212606243,  adjusted_rand_score: 0.5762327398932902\n",
      "repeation: 11 funcão objetivo: 1817.4038933303602\n",
      "Modified partition coefficient: 0.7062117747800747,  adjusted_rand_score: 0.48316300208618757\n",
      "repeation: 12 funcão objetivo: 1817.4173123500682\n",
      "Modified partition coefficient: 0.7062034233863739,  adjusted_rand_score: 0.48316300208618757\n",
      "repeation: 13 funcão objetivo: 1861.0322237429873\n",
      "Modified partition coefficient: 0.7190198545925709,  adjusted_rand_score: 0.452422007778883\n",
      "repeation: 14 funcão objetivo: 1835.7926254582922\n",
      "Modified partition coefficient: 0.703626144124795,  adjusted_rand_score: 0.5845361122334449\n",
      "repeation: 15 funcão objetivo: 1799.6234728044235\n",
      "Modified partition coefficient: 0.7211634314348182,  adjusted_rand_score: 0.49616315876723455\n",
      "repeation: 16 funcão objetivo: 1799.6234529507944\n",
      "Modified partition coefficient: 0.7211633430475608,  adjusted_rand_score: 0.49616315876723455\n",
      "repeation: 17 funcão objetivo: 1835.7927902338788\n",
      "Modified partition coefficient: 0.7036258344164249,  adjusted_rand_score: 0.5845361122334449\n",
      "repeation: 18 funcão objetivo: 1819.0038186395284\n",
      "Modified partition coefficient: 0.7038401783217112,  adjusted_rand_score: 0.502473334397098\n",
      "repeation: 19 funcão objetivo: 1829.1497611784891\n",
      "Modified partition coefficient: 0.6963484230972392,  adjusted_rand_score: 0.5102073506798266\n",
      "repeation: 20 funcão objetivo: 1848.8185170631614\n",
      "Modified partition coefficient: 0.6799110668137199,  adjusted_rand_score: 0.5238196244080926\n",
      "repeation: 21 funcão objetivo: 1799.6234795874284\n",
      "Modified partition coefficient: 0.7211651162600525,  adjusted_rand_score: 0.49616315876723455\n",
      "repeation: 22 funcão objetivo: 1848.8713296466346\n",
      "Modified partition coefficient: 0.6907990916910072,  adjusted_rand_score: 0.44417605010544786\n",
      "repeation: 23 funcão objetivo: 1799.6189269023573\n",
      "Modified partition coefficient: 0.7211549183030461,  adjusted_rand_score: 0.49616315876723455\n",
      "repeation: 24 funcão objetivo: 1820.5468351310244\n",
      "Modified partition coefficient: 0.7137316374039494,  adjusted_rand_score: 0.4552521631023444\n",
      "repeation: 25 funcão objetivo: 1817.448440428994\n",
      "Modified partition coefficient: 0.7061951496929633,  adjusted_rand_score: 0.4832283077350155\n",
      "repeation: 26 funcão objetivo: 1806.4401111690797\n",
      "Modified partition coefficient: 0.710480595765524,  adjusted_rand_score: 0.5772816012329709\n",
      "repeation: 27 funcão objetivo: 1829.1362363552355\n",
      "Modified partition coefficient: 0.6963543188213321,  adjusted_rand_score: 0.5102073506798266\n",
      "repeation: 28 funcão objetivo: 1811.045108354837\n",
      "Modified partition coefficient: 0.709095404334926,  adjusted_rand_score: 0.4996331746448997\n",
      "repeation: 29 funcão objetivo: 1799.6234925827391\n",
      "Modified partition coefficient: 0.7211654482617642,  adjusted_rand_score: 0.49616315876723455\n",
      "repeation: 30 funcão objetivo: 1848.8219888641038\n",
      "Modified partition coefficient: 0.6799168516579169,  adjusted_rand_score: 0.5238196244080926\n",
      "repeation: 31 funcão objetivo: 1811.0439725840606\n",
      "Modified partition coefficient: 0.7090999586307731,  adjusted_rand_score: 0.4996331746448997\n",
      "repeation: 32 funcão objetivo: 1830.5596344721264\n",
      "Modified partition coefficient: 0.7148342457585701,  adjusted_rand_score: 0.49459124510245306\n",
      "repeation: 33 funcão objetivo: 1806.2515967099225\n",
      "Modified partition coefficient: 0.7103965419223385,  adjusted_rand_score: 0.5762327398932902\n",
      "repeation: 34 funcão objetivo: 1799.6234940422264\n",
      "Modified partition coefficient: 0.7211652973641464,  adjusted_rand_score: 0.49616315876723455\n",
      "repeation: 35 funcão objetivo: 1867.2398253637025\n",
      "Modified partition coefficient: 0.68043318228677,  adjusted_rand_score: 0.4582363797169643\n",
      "repeation: 36 funcão objetivo: 1826.0401923409977\n",
      "Modified partition coefficient: 0.7123579811311274,  adjusted_rand_score: 0.4297768359290442\n",
      "repeation: 37 funcão objetivo: 1819.0063384126524\n",
      "Modified partition coefficient: 0.7038386405207739,  adjusted_rand_score: 0.502473334397098\n",
      "repeation: 38 funcão objetivo: 1858.4337261360988\n",
      "Modified partition coefficient: 0.6744507519201535,  adjusted_rand_score: 0.5127057906872272\n",
      "repeation: 39 funcão objetivo: 1829.145392944426\n",
      "Modified partition coefficient: 0.6963503454289038,  adjusted_rand_score: 0.5102073506798266\n",
      "repeation: 40 funcão objetivo: 1834.916598595691\n",
      "Modified partition coefficient: 0.7132202979932781,  adjusted_rand_score: 0.4658388966394048\n",
      "repeation: 41 funcão objetivo: 1841.9013502742137\n",
      "Modified partition coefficient: 0.7022401833899673,  adjusted_rand_score: 0.5722257277282541\n",
      "repeation: 42 funcão objetivo: 1834.8973873613625\n",
      "Modified partition coefficient: 0.7133220495623919,  adjusted_rand_score: 0.46803205002284176\n",
      "repeation: 43 funcão objetivo: 1799.6234928726547\n",
      "Modified partition coefficient: 0.7211653878186552,  adjusted_rand_score: 0.49616315876723455\n",
      "repeation: 44 funcão objetivo: 1811.043861661557\n",
      "Modified partition coefficient: 0.7091004062146201,  adjusted_rand_score: 0.4996331746448997\n",
      "repeation: 45 funcão objetivo: 1829.0890143731124\n",
      "Modified partition coefficient: 0.6963834586287132,  adjusted_rand_score: 0.5098893877758847\n",
      "repeation: 46 funcão objetivo: 1861.0367156438258\n",
      "Modified partition coefficient: 0.719026608295701,  adjusted_rand_score: 0.452422007778883\n",
      "repeation: 47 funcão objetivo: 1806.2529037590866\n",
      "Modified partition coefficient: 0.710397192427324,  adjusted_rand_score: 0.5762327398932902\n",
      "repeation: 48 funcão objetivo: 1817.4120493820346\n",
      "Modified partition coefficient: 0.7062086480468408,  adjusted_rand_score: 0.48316300208618757\n",
      "repeation: 49 funcão objetivo: 1811.0441328132326\n",
      "Modified partition coefficient: 0.7090993131945205,  adjusted_rand_score: 0.4996331746448997\n",
      "repeation: 50 funcão objetivo: 1829.1440677689075\n",
      "Modified partition coefficient: 0.6963509009435269,  adjusted_rand_score: 0.5102073506798266\n"
     ]
    }
   ],
   "source": [
    "cleaner = Cleaner()\n",
    "X, y = cleaner.read_dataset(\"datasets\\mfeat-kar\")\n",
    "X, y = cleaner.transform(X, y)\n",
    "X, y = Cleaner().transform(X, y)\n",
    "\n",
    "model = Trainer(num_class = 10, \n",
    "                epochs = 100, \n",
    "                threshold = 1e-6, \n",
    "                model_creator=FuzzyCMeansGaussianS2, \n",
    "                m = m, \n",
    "                verbose = False, \n",
    "                repeat = 50)\n",
    "pipeline = Pipeline([(\"Normalizer\", Normalizer()), \n",
    "                     (\"Transformer\", Transformer()),                      \n",
    "                    (\"Model\", model)])\n",
    "pipeline.fit(X, y)\n",
    "model.save_model(f\"./model/{m}/mfeat-kar/model.json\")\n"
   ]
  },
  {
   "cell_type": "code",
   "execution_count": 13,
   "metadata": {},
   "outputs": [
    {
     "name": "stdout",
     "output_type": "stream",
     "text": [
      "Gs\n"
     ]
    },
    {
     "data": {
      "text/plain": [
       "<Figure size 1440x432 with 0 Axes>"
      ]
     },
     "metadata": {},
     "output_type": "display_data"
    },
    {
     "data": {
      "image/png": "[encoded data removed]",
      "text/plain": [
       "<Figure size 432x288 with 1 Axes>"
      ]
     },
     "metadata": {
      "needs_background": "light"
     },
     "output_type": "display_data"
    },
    {
     "name": "stdout",
     "output_type": "stream",
     "text": [
      "S2s\n"
     ]
    },
    {
     "data": {
      "text/plain": [
       "<Figure size 1440x432 with 0 Axes>"
      ]
     },
     "metadata": {},
     "output_type": "display_data"
    },
    {
     "data": {
      "image/png": "[encoded data removed]",
      "text/plain": [
       "<Figure size 432x288 with 1 Axes>"
      ]
     },
     "metadata": {
      "needs_background": "light"
     },
     "output_type": "display_data"
    }
   ],
   "source": [
    "model.show_G_S(\"./figs/mfeat-kar\")"
   ]
  },
  {
   "cell_type": "code",
   "execution_count": 14,
   "metadata": {},
   "outputs": [
    {
     "name": "stdout",
     "output_type": "stream",
     "text": [
      "Modified partition coefficient:  {0: 0.8478930134522046, 1: 0.7115097208682345, 2: 0.6610287096215148, 3: 0.7347900695031241, 4: 0.8100420022680646, 5: 0.7230896392997364, 6: 0.8010198141629385, 7: 0.7492717927041419, 8: 0.3587970718104032, 9: 0.8155966406433888}\n",
      "Índice de Rand corrigido: 0.49616315876723455\n"
     ]
    },
    {
     "data": {
      "text/plain": [
       "<sklearn.metrics._plot.confusion_matrix.ConfusionMatrixDisplay at 0x1795c1305f8>"
      ]
     },
     "execution_count": 14,
     "metadata": {},
     "output_type": "execute_result"
    },
    {
     "data": {
      "image/png": "[encoded data removed]",
      "text/plain": [
       "<Figure size 432x288 with 2 Axes>"
      ]
     },
     "metadata": {
      "needs_background": "light"
     },
     "output_type": "display_data"
    }
   ],
   "source": [
    "y_predict = pipeline.predict(X)\n",
    "\n",
    "mpcs = {i: Metrics.mpc(model.U[y==i]) for i in range(model.num_class)}\n",
    "\n",
    "print(f\"Modified partition coefficient:  {mpcs}\")# f,\n",
    "print(f\"Índice de Rand corrigido: {Metrics.ars(y, model.U.argmax(1))}\")# f,\n",
    "\n",
    "cm = confusion_matrix(y, y_predict)\n",
    "cmd = ConfusionMatrixDisplay(confusion_matrix=cm, display_labels=np.arange(model.num_class))\n",
    "cmd.plot()"
   ]
  },
  {
   "cell_type": "markdown",
   "metadata": {},
   "source": [
    "#### datasets -> iris"
   ]
  },
  {
   "cell_type": "code",
   "execution_count": 15,
   "metadata": {},
   "outputs": [
    {
     "name": "stdout",
     "output_type": "stream",
     "text": [
      "repeation: 1 funcão objetivo: 0.4057809326062767\n",
      "Modified partition coefficient: 0.9869919974104987,  adjusted_rand_score: 0.9035691663683182\n",
      "repeation: 2 funcão objetivo: 0.405779375486201\n",
      "Modified partition coefficient: 0.9869916601342325,  adjusted_rand_score: 0.9035691663683182\n",
      "repeation: 3 funcão objetivo: 0.5360545073848532\n",
      "Modified partition coefficient: 0.9901787208647157,  adjusted_rand_score: 0.443540461316264\n",
      "repeation: 4 funcão objetivo: 0.5360539849709847\n",
      "Modified partition coefficient: 0.9901808878717024,  adjusted_rand_score: 0.443540461316264\n",
      "repeation: 5 funcão objetivo: 0.5360549691989909\n",
      "Modified partition coefficient: 0.9901765449972113,  adjusted_rand_score: 0.443540461316264\n",
      "repeation: 6 funcão objetivo: 0.40578026574670734\n",
      "Modified partition coefficient: 0.9869918388901359,  adjusted_rand_score: 0.9035691663683182\n",
      "repeation: 7 funcão objetivo: 0.40577974687152385\n",
      "Modified partition coefficient: 0.9869917432990598,  adjusted_rand_score: 0.9035691663683182\n",
      "repeation: 8 funcão objetivo: 0.40577961775068294\n",
      "Modified partition coefficient: 0.9869917186698431,  adjusted_rand_score: 0.9035691663683182\n",
      "repeation: 9 funcão objetivo: 0.4057797853632922\n",
      "Modified partition coefficient: 0.9869917528837245,  adjusted_rand_score: 0.9035691663683182\n",
      "repeation: 10 funcão objetivo: 0.5360545167107372\n",
      "Modified partition coefficient: 0.9901773117522029,  adjusted_rand_score: 0.443540461316264\n",
      "repeation: 11 funcão objetivo: 0.5360542791084234\n",
      "Modified partition coefficient: 0.9901762851596412,  adjusted_rand_score: 0.443540461316264\n",
      "repeation: 12 funcão objetivo: 0.4057796997919757\n",
      "Modified partition coefficient: 0.9869917307082237,  adjusted_rand_score: 0.9035691663683182\n",
      "repeation: 13 funcão objetivo: 0.40577960679968805\n",
      "Modified partition coefficient: 0.9869916838519519,  adjusted_rand_score: 0.9035691663683182\n",
      "repeation: 14 funcão objetivo: 0.5360542226487479\n",
      "Modified partition coefficient: 0.9901783773689178,  adjusted_rand_score: 0.443540461316264\n",
      "repeation: 15 funcão objetivo: 0.4057803739104713\n",
      "Modified partition coefficient: 0.9869918641024553,  adjusted_rand_score: 0.9035691663683182\n",
      "repeation: 16 funcão objetivo: 0.40577933653245324\n",
      "Modified partition coefficient: 0.9869916575666886,  adjusted_rand_score: 0.9035691663683182\n",
      "repeation: 17 funcão objetivo: 0.4057810136181942\n",
      "Modified partition coefficient: 0.9869919866978174,  adjusted_rand_score: 0.9035691663683182\n",
      "repeation: 18 funcão objetivo: 0.40577976136804533\n",
      "Modified partition coefficient: 0.9869917399697441,  adjusted_rand_score: 0.9035691663683182\n",
      "repeation: 19 funcão objetivo: 0.4057809883905292\n",
      "Modified partition coefficient: 0.9869919854592164,  adjusted_rand_score: 0.9035691663683182\n",
      "repeation: 20 funcão objetivo: 0.579858804855193\n",
      "Modified partition coefficient: 0.9999180653951893,  adjusted_rand_score: 0.5511952620159147\n",
      "repeation: 21 funcão objetivo: 0.5360538642003166\n",
      "Modified partition coefficient: 0.9901786269653265,  adjusted_rand_score: 0.443540461316264\n",
      "repeation: 22 funcão objetivo: 0.40577971867988416\n",
      "Modified partition coefficient: 0.9869917353151746,  adjusted_rand_score: 0.9035691663683182\n",
      "repeation: 23 funcão objetivo: 0.4057792973451637\n",
      "Modified partition coefficient: 0.9869916307034876,  adjusted_rand_score: 0.9035691663683182\n",
      "repeation: 24 funcão objetivo: 0.4057797191498851\n",
      "Modified partition coefficient: 0.986991734878407,  adjusted_rand_score: 0.9035691663683182\n",
      "repeation: 25 funcão objetivo: 0.4057802725626212\n",
      "Modified partition coefficient: 0.9869918441444283,  adjusted_rand_score: 0.9035691663683182\n",
      "repeation: 26 funcão objetivo: 0.40577942856002536\n",
      "Modified partition coefficient: 0.9869916713064006,  adjusted_rand_score: 0.9035691663683182\n",
      "repeation: 27 funcão objetivo: 0.5360543169499663\n",
      "Modified partition coefficient: 0.9901782556842138,  adjusted_rand_score: 0.443540461316264\n",
      "repeation: 28 funcão objetivo: 0.536054801748028\n",
      "Modified partition coefficient: 0.9901819319554839,  adjusted_rand_score: 0.443540461316264\n",
      "repeation: 29 funcão objetivo: 0.4057793874186436\n",
      "Modified partition coefficient: 0.986991667608075,  adjusted_rand_score: 0.9035691663683182\n",
      "repeation: 30 funcão objetivo: 0.40578029448901365\n",
      "Modified partition coefficient: 0.986991848602828,  adjusted_rand_score: 0.9035691663683182\n",
      "repeation: 31 funcão objetivo: 0.40578033752025683\n",
      "Modified partition coefficient: 0.9869918841941612,  adjusted_rand_score: 0.9035691663683182\n",
      "repeation: 32 funcão objetivo: 0.405780338617497\n",
      "Modified partition coefficient: 0.9869918571531544,  adjusted_rand_score: 0.9035691663683182\n",
      "repeation: 33 funcão objetivo: 0.5360540604282928\n",
      "Modified partition coefficient: 0.9901783156436466,  adjusted_rand_score: 0.443540461316264\n",
      "repeation: 34 funcão objetivo: 0.40577896042622985\n",
      "Modified partition coefficient: 0.9869916118126525,  adjusted_rand_score: 0.9035691663683182\n",
      "repeation: 35 funcão objetivo: 0.5360546182876382\n",
      "Modified partition coefficient: 0.9901772319245079,  adjusted_rand_score: 0.443540461316264\n",
      "repeation: 36 funcão objetivo: 0.40578063289326016\n",
      "Modified partition coefficient: 0.9869919147759129,  adjusted_rand_score: 0.9035691663683182\n",
      "repeation: 37 funcão objetivo: 0.5360545904851877\n",
      "Modified partition coefficient: 0.9901772717912523,  adjusted_rand_score: 0.443540461316264\n",
      "repeation: 38 funcão objetivo: 0.5360540420416378\n",
      "Modified partition coefficient: 0.9901783035916982,  adjusted_rand_score: 0.443540461316264\n",
      "repeation: 39 funcão objetivo: 0.40578092367410434\n",
      "Modified partition coefficient: 0.9869919725022156,  adjusted_rand_score: 0.9035691663683182\n",
      "repeation: 40 funcão objetivo: 0.4057802576924166\n",
      "Modified partition coefficient: 0.9869918406557499,  adjusted_rand_score: 0.9035691663683182\n",
      "repeation: 41 funcão objetivo: 0.405780586940972\n",
      "Modified partition coefficient: 0.98699190065569,  adjusted_rand_score: 0.9035691663683182\n",
      "repeation: 42 funcão objetivo: 0.40577903615300503\n",
      "Modified partition coefficient: 0.9869916070598561,  adjusted_rand_score: 0.9035691663683182\n",
      "repeation: 43 funcão objetivo: 0.40577912721075216\n",
      "Modified partition coefficient: 0.9869916330537514,  adjusted_rand_score: 0.9035691663683182\n",
      "repeation: 44 funcão objetivo: 0.40578030675744764\n",
      "Modified partition coefficient: 0.9869918509842253,  adjusted_rand_score: 0.9035691663683182\n",
      "repeation: 45 funcão objetivo: 0.4057796259376598\n",
      "Modified partition coefficient: 0.9869917812217095,  adjusted_rand_score: 0.9035691663683182\n",
      "repeation: 46 funcão objetivo: 0.40577930809832097\n",
      "Modified partition coefficient: 0.9869916538451107,  adjusted_rand_score: 0.9035691663683182\n",
      "repeation: 47 funcão objetivo: 0.40578031224813543\n",
      "Modified partition coefficient: 0.9869918519214607,  adjusted_rand_score: 0.9035691663683182\n",
      "repeation: 48 funcão objetivo: 0.40578037850432924\n",
      "Modified partition coefficient: 0.9869918648796457,  adjusted_rand_score: 0.9035691663683182\n",
      "repeation: 49 funcão objetivo: 0.4057807143000738\n",
      "Modified partition coefficient: 0.9869919034623846,  adjusted_rand_score: 0.9035691663683182\n",
      "repeation: 50 funcão objetivo: 0.53605463093222\n",
      "Modified partition coefficient: 0.9901771501813056,  adjusted_rand_score: 0.443540461316264\n"
     ]
    }
   ],
   "source": [
    "iris = datasets.load_iris()\n",
    "X = pd.DataFrame(iris.data)\n",
    "y = pd.DataFrame({len(X.columns.values):iris.target})\n",
    "X, y = Cleaner().transform(X, y)\n",
    "\n",
    "model = Trainer(num_class = 3, \n",
    "                epochs = 100, \n",
    "                threshold = 1e-6, \n",
    "                model_creator=FuzzyCMeansGaussianS2, \n",
    "                m = m, \n",
    "                verbose = False, \n",
    "                repeat = 50)\n",
    " \n",
    "pipeline = Pipeline([(\"Normalizer\", Normalizer()), \n",
    "                     (\"Transformer\", Transformer()),                      \n",
    "                    (\"Model\", model),\n",
    "                    ])\n",
    "\n",
    "pipeline.fit(X, y)\n",
    "model.save_model(f\"./model/{m}/iris/model.json\")\n",
    "y_predict = pipeline.predict(X)\n"
   ]
  },
  {
   "cell_type": "code",
   "execution_count": 16,
   "metadata": {},
   "outputs": [],
   "source": [
    "new_model = Model()\n",
    "new_model.load_model(\"model/iris/model.json\")\n",
    "y_predict = new_model.predict(X, True)#.shape, X.shape\n"
   ]
  },
  {
   "cell_type": "code",
   "execution_count": 17,
   "metadata": {},
   "outputs": [
    {
     "name": "stdout",
     "output_type": "stream",
     "text": [
      "Gs\n"
     ]
    },
    {
     "data": {
      "text/plain": [
       "<Figure size 1440x432 with 0 Axes>"
      ]
     },
     "metadata": {},
     "output_type": "display_data"
    },
    {
     "data": {
      "image/png": "[encoded data removed]",
      "text/plain": [
       "<Figure size 432x288 with 1 Axes>"
      ]
     },
     "metadata": {
      "needs_background": "light"
     },
     "output_type": "display_data"
    },
    {
     "name": "stdout",
     "output_type": "stream",
     "text": [
      "S2s\n"
     ]
    },
    {
     "data": {
      "text/plain": [
       "<Figure size 1440x432 with 0 Axes>"
      ]
     },
     "metadata": {},
     "output_type": "display_data"
    },
    {
     "data": {
      "image/png": "[encoded data removed]",
      "text/plain": [
       "<Figure size 432x288 with 1 Axes>"
      ]
     },
     "metadata": {
      "needs_background": "light"
     },
     "output_type": "display_data"
    }
   ],
   "source": [
    "model.show_G_S(\"figs/iris\")"
   ]
  },
  {
   "cell_type": "code",
   "execution_count": 18,
   "metadata": {},
   "outputs": [
    {
     "name": "stdout",
     "output_type": "stream",
     "text": [
      "Modified partition coefficient:  {0: 0.9999999952007834, 1: 0.9657792230542875, 2: 0.9953630458639118}\n",
      "Índice de Rand corrigido: 0.9035691663683182\n"
     ]
    },
    {
     "data": {
      "text/plain": [
       "<sklearn.metrics._plot.confusion_matrix.ConfusionMatrixDisplay at 0x1795c569438>"
      ]
     },
     "execution_count": 18,
     "metadata": {},
     "output_type": "execute_result"
    },
    {
     "data": {
      "image/png": "[encoded data removed]",
      "text/plain": [
       "<Figure size 432x288 with 2 Axes>"
      ]
     },
     "metadata": {
      "needs_background": "light"
     },
     "output_type": "display_data"
    }
   ],
   "source": [
    "y_predict = pipeline.predict(X) #(2000) <= (2000, 200)\n",
    "\n",
    "mpcs = {i: Metrics.mpc(model.U[y==i]) for i in range(model.num_class)}\n",
    "\n",
    "print(f\"Modified partition coefficient:  {mpcs}\")# f,\n",
    "print(f\"Índice de Rand corrigido: {Metrics.ars(y, model.U.argmax(1))}\")# f,\n",
    "\n",
    "cm = confusion_matrix(y, y_predict)\n",
    "cmd = ConfusionMatrixDisplay(confusion_matrix=cm, display_labels=np.arange(model.num_class))\n",
    "cmd.plot()"
   ]
  },
  {
   "cell_type": "markdown",
   "metadata": {},
   "source": [
    "### m = 1.6"
   ]
  },
  {
   "cell_type": "markdown",
   "metadata": {},
   "source": [
    "#### set m expoent fuzzy"
   ]
  },
  {
   "cell_type": "code",
   "execution_count": 19,
   "metadata": {},
   "outputs": [],
   "source": [
    "m = 1.6"
   ]
  },
  {
   "cell_type": "markdown",
   "metadata": {},
   "source": [
    "#### datasets -> mfeat-fac"
   ]
  },
  {
   "cell_type": "code",
   "execution_count": 20,
   "metadata": {},
   "outputs": [
    {
     "name": "stdout",
     "output_type": "stream",
     "text": [
      "repeation: 1 funcão objetivo: 7.7007406180650575\n",
      "Modified partition coefficient: 0.2584246299283257,  adjusted_rand_score: 0.46074104535486027\n",
      "repeation: 2 funcão objetivo: 7.700981432282145\n",
      "Modified partition coefficient: 0.2564512685987578,  adjusted_rand_score: 0.45973295559819854\n",
      "repeation: 3 funcão objetivo: 7.746722834910382\n",
      "Modified partition coefficient: 0.26692744514961375,  adjusted_rand_score: 0.44196635926852024\n",
      "repeation: 4 funcão objetivo: 7.707789434377369\n",
      "Modified partition coefficient: 0.24694561039971796,  adjusted_rand_score: 0.44236106892683874\n",
      "repeation: 5 funcão objetivo: 7.707796205424037\n",
      "Modified partition coefficient: 0.24709760701766248,  adjusted_rand_score: 0.4373543942902079\n",
      "repeation: 6 funcão objetivo: 7.7530145394678485\n",
      "Modified partition coefficient: 0.2649241395796683,  adjusted_rand_score: 0.4406518779332325\n",
      "repeation: 7 funcão objetivo: 7.70073774189183\n",
      "Modified partition coefficient: 0.2588466422979946,  adjusted_rand_score: 0.45806251246763113\n",
      "repeation: 8 funcão objetivo: 7.707559195510861\n",
      "Modified partition coefficient: 0.24756746613132707,  adjusted_rand_score: 0.4591938198292085\n",
      "repeation: 9 funcão objetivo: 7.701466884722415\n",
      "Modified partition coefficient: 0.25470833203229526,  adjusted_rand_score: 0.4596327510807502\n",
      "repeation: 10 funcão objetivo: 7.706164913822944\n",
      "Modified partition coefficient: 0.24979839857340402,  adjusted_rand_score: 0.4656786173072382\n",
      "repeation: 11 funcão objetivo: 7.700740271041158\n",
      "Modified partition coefficient: 0.2584315043448906,  adjusted_rand_score: 0.46074104535486027\n",
      "repeation: 12 funcão objetivo: 7.707560066325125\n",
      "Modified partition coefficient: 0.24767800002367923,  adjusted_rand_score: 0.43909324136656397\n",
      "repeation: 13 funcão objetivo: 7.707916167306514\n",
      "Modified partition coefficient: 0.24664280302772257,  adjusted_rand_score: 0.46520468614913585\n",
      "repeation: 14 funcão objetivo: 7.700740232681121\n",
      "Modified partition coefficient: 0.25842942221385823,  adjusted_rand_score: 0.46074104535486027\n",
      "repeation: 15 funcão objetivo: 7.701596833432692\n",
      "Modified partition coefficient: 0.2542740354869558,  adjusted_rand_score: 0.4575226445941308\n",
      "repeation: 16 funcão objetivo: 7.700741177613683\n",
      "Modified partition coefficient: 0.25864576048096155,  adjusted_rand_score: 0.45911138203488155\n",
      "repeation: 17 funcão objetivo: 7.7467227230332005\n",
      "Modified partition coefficient: 0.2668929405437961,  adjusted_rand_score: 0.44214349721845037\n",
      "repeation: 18 funcão objetivo: 7.708167430393898\n",
      "Modified partition coefficient: 0.2459548040562073,  adjusted_rand_score: 0.44129379770220395\n",
      "repeation: 19 funcão objetivo: 7.700739551106626\n",
      "Modified partition coefficient: 0.25848959210298006,  adjusted_rand_score: 0.459852870955265\n",
      "repeation: 20 funcão objetivo: 7.7079278467213435\n",
      "Modified partition coefficient: 0.24670613060919122,  adjusted_rand_score: 0.4461200185373316\n",
      "repeation: 21 funcão objetivo: 7.700778608500129\n",
      "Modified partition coefficient: 0.2583934434282795,  adjusted_rand_score: 0.45846991497633094\n",
      "repeation: 22 funcão objetivo: 7.700741091866092\n",
      "Modified partition coefficient: 0.2583804719517049,  adjusted_rand_score: 0.4603681379664985\n",
      "repeation: 23 funcão objetivo: 7.708812496736719\n",
      "Modified partition coefficient: 0.24355821786808218,  adjusted_rand_score: 0.4315981357691395\n",
      "repeation: 24 funcão objetivo: 7.7007355754669415\n",
      "Modified partition coefficient: 0.25858899349957754,  adjusted_rand_score: 0.4590836014255971\n",
      "repeation: 25 funcão objetivo: 7.707934513602337\n",
      "Modified partition coefficient: 0.24652095059886014,  adjusted_rand_score: 0.4360008894118893\n",
      "repeation: 26 funcão objetivo: 7.70074087994829\n",
      "Modified partition coefficient: 0.25904693580455007,  adjusted_rand_score: 0.45995066591612094\n",
      "repeation: 27 funcão objetivo: 7.700738384954626\n",
      "Modified partition coefficient: 0.2589073797643243,  adjusted_rand_score: 0.45806251246763113\n",
      "repeation: 28 funcão objetivo: 7.707520933171877\n",
      "Modified partition coefficient: 0.24762194457208486,  adjusted_rand_score: 0.446054390451491\n",
      "repeation: 29 funcão objetivo: 7.700746170308387\n",
      "Modified partition coefficient: 0.25824269913372444,  adjusted_rand_score: 0.4604027474629712\n",
      "repeation: 30 funcão objetivo: 7.746723894260276\n",
      "Modified partition coefficient: 0.2668809659509561,  adjusted_rand_score: 0.44421646197863207\n",
      "repeation: 31 funcão objetivo: 7.746724499740854\n",
      "Modified partition coefficient: 0.2669162895034247,  adjusted_rand_score: 0.4448769807081915\n",
      "repeation: 32 funcão objetivo: 7.7007362640704295\n",
      "Modified partition coefficient: 0.25845448892333034,  adjusted_rand_score: 0.4594869812672323\n",
      "repeation: 33 funcão objetivo: 7.74672294467499\n",
      "Modified partition coefficient: 0.2669729740927741,  adjusted_rand_score: 0.4433318773535765\n",
      "repeation: 34 funcão objetivo: 7.700741579416008\n",
      "Modified partition coefficient: 0.2583129047560734,  adjusted_rand_score: 0.4594797784950912\n",
      "repeation: 35 funcão objetivo: 7.707971013527925\n",
      "Modified partition coefficient: 0.24657372238185815,  adjusted_rand_score: 0.4363905462540958\n",
      "repeation: 36 funcão objetivo: 7.707998872316821\n",
      "Modified partition coefficient: 0.24651757093589866,  adjusted_rand_score: 0.4415117790249494\n",
      "repeation: 37 funcão objetivo: 7.700740296241985\n",
      "Modified partition coefficient: 0.25846237470412337,  adjusted_rand_score: 0.459852870955265\n",
      "repeation: 38 funcão objetivo: 7.746722559624209\n",
      "Modified partition coefficient: 0.2668973423598878,  adjusted_rand_score: 0.4433318773535765\n",
      "repeation: 39 funcão objetivo: 7.707279394138094\n",
      "Modified partition coefficient: 0.2482271997493516,  adjusted_rand_score: 0.4449685725066907\n",
      "repeation: 40 funcão objetivo: 7.746724866276238\n",
      "Modified partition coefficient: 0.26707929687827137,  adjusted_rand_score: 0.44394050118076117\n",
      "repeation: 41 funcão objetivo: 7.700740672147173\n",
      "Modified partition coefficient: 0.25855007833289023,  adjusted_rand_score: 0.4601360272794605\n",
      "repeation: 42 funcão objetivo: 7.707928987193145\n",
      "Modified partition coefficient: 0.24645266107547104,  adjusted_rand_score: 0.4416756951111391\n",
      "repeation: 43 funcão objetivo: 7.707807545631724\n",
      "Modified partition coefficient: 0.2469067638355683,  adjusted_rand_score: 0.4361313033614712\n",
      "repeation: 44 funcão objetivo: 7.746725309273222\n",
      "Modified partition coefficient: 0.2670823164628784,  adjusted_rand_score: 0.44394050118076117\n",
      "repeation: 45 funcão objetivo: 7.7531561399524485\n",
      "Modified partition coefficient: 0.26366788585164525,  adjusted_rand_score: 0.4370632680628563\n",
      "repeation: 46 funcão objetivo: 7.700738125315962\n",
      "Modified partition coefficient: 0.2583562311650218,  adjusted_rand_score: 0.45962046596002015\n",
      "repeation: 47 funcão objetivo: 7.746722490909808\n",
      "Modified partition coefficient: 0.26693468987217717,  adjusted_rand_score: 0.4433318773535765\n",
      "repeation: 48 funcão objetivo: 7.708060062711933\n",
      "Modified partition coefficient: 0.24614747753248034,  adjusted_rand_score: 0.44269892477926387\n",
      "repeation: 49 funcão objetivo: 7.707615627566616\n",
      "Modified partition coefficient: 0.24753212640304856,  adjusted_rand_score: 0.4480336817058847\n",
      "repeation: 50 funcão objetivo: 7.746722661846155\n",
      "Modified partition coefficient: 0.26690016002166717,  adjusted_rand_score: 0.44268640961053357\n"
     ]
    }
   ],
   "source": [
    "cleaner = Cleaner()\n",
    "X, y = cleaner.read_dataset(\"datasets\\mfeat-fac\")\n",
    "X, y = cleaner.transform(X, y)\n",
    "\n",
    "model = Trainer(num_class = 10, \n",
    "                epochs = 100, \n",
    "                threshold = 1e-6, \n",
    "                model_creator=FuzzyCMeansGaussianS2, \n",
    "                m = m, \n",
    "                verbose = False, \n",
    "                repeat = 50)\n",
    "\n",
    "pipeline = Pipeline([(\"Normalizer\", Normalizer()), \n",
    "                     (\"Transformer\", Transformer()),                      \n",
    "                    (\"Model\", model)])\n",
    "pipeline.fit(X, y)\n",
    "model.save_model(f\"./model/{m}/mfeat-fac/model.json\")\n"
   ]
  },
  {
   "cell_type": "code",
   "execution_count": 21,
   "metadata": {},
   "outputs": [
    {
     "name": "stdout",
     "output_type": "stream",
     "text": [
      "Gs\n"
     ]
    },
    {
     "data": {
      "text/plain": [
       "<Figure size 1440x432 with 0 Axes>"
      ]
     },
     "metadata": {},
     "output_type": "display_data"
    },
    {
     "data": {
      "image/png": "[encoded data removed]",
      "text/plain": [
       "<Figure size 432x288 with 1 Axes>"
      ]
     },
     "metadata": {
      "needs_background": "light"
     },
     "output_type": "display_data"
    },
    {
     "name": "stdout",
     "output_type": "stream",
     "text": [
      "S2s\n"
     ]
    },
    {
     "data": {
      "text/plain": [
       "<Figure size 1440x432 with 0 Axes>"
      ]
     },
     "metadata": {},
     "output_type": "display_data"
    },
    {
     "data": {
      "image/png": "[encoded data removed]",
      "text/plain": [
       "<Figure size 432x288 with 1 Axes>"
      ]
     },
     "metadata": {
      "needs_background": "light"
     },
     "output_type": "display_data"
    }
   ],
   "source": [
    "model.show_G_S(\"./figs/mfeat-fac\")"
   ]
  },
  {
   "cell_type": "code",
   "execution_count": 22,
   "metadata": {},
   "outputs": [
    {
     "name": "stdout",
     "output_type": "stream",
     "text": [
      "Modified partition coefficient:  {0: 0.5171543353642422, 1: 0.24199002364735067, 2: 0.13969467036220984, 3: 0.16634242417313572, 4: 0.24930421635606748, 5: 0.12696941205327572, 6: 0.3559820364258356, 7: 0.231844767305749, 8: 0.3214944852636449, 9: 0.23471507298612748}\n",
      "Índice de Rand corrigido: 0.4590836014255971\n"
     ]
    },
    {
     "data": {
      "text/plain": [
       "<sklearn.metrics._plot.confusion_matrix.ConfusionMatrixDisplay at 0x1795d9f4710>"
      ]
     },
     "execution_count": 22,
     "metadata": {},
     "output_type": "execute_result"
    },
    {
     "data": {
      "image/png": "[encoded data removed]",
      "text/plain": [
       "<Figure size 432x288 with 2 Axes>"
      ]
     },
     "metadata": {
      "needs_background": "light"
     },
     "output_type": "display_data"
    }
   ],
   "source": [
    "y_predict = pipeline.predict(X) \n",
    "\n",
    "mpcs = {i: Metrics.mpc(model.U[y==i]) for i in range(model.num_class)}\n",
    "\n",
    "print(f\"Modified partition coefficient:  {mpcs}\")# f,\n",
    "print(f\"Índice de Rand corrigido: {Metrics.ars(y, model.U.argmax(1))}\")\n",
    "\n",
    "cm = confusion_matrix(y, y_predict)\n",
    "cmd = ConfusionMatrixDisplay(confusion_matrix=cm, display_labels=np.arange(model.num_class))\n",
    "cmd.plot()"
   ]
  },
  {
   "cell_type": "markdown",
   "metadata": {},
   "source": [
    "#### datasets -> mfeat-fou"
   ]
  },
  {
   "cell_type": "code",
   "execution_count": 23,
   "metadata": {},
   "outputs": [
    {
     "name": "stdout",
     "output_type": "stream",
     "text": [
      "repeation: 1 funcão objetivo: 205.58280966429396\n",
      "Modified partition coefficient: 0.11015652868276526,  adjusted_rand_score: 0.3386579186759299\n",
      "repeation: 2 funcão objetivo: 198.19023169310444\n",
      "Modified partition coefficient: 0.12812909835515873,  adjusted_rand_score: 0.38644767441940797\n",
      "repeation: 3 funcão objetivo: 197.9735288418006\n",
      "Modified partition coefficient: 0.1286725690885624,  adjusted_rand_score: 0.3874735950412212\n",
      "repeation: 4 funcão objetivo: 197.97062669264625\n",
      "Modified partition coefficient: 0.1286800657788154,  adjusted_rand_score: 0.3874735950412212\n",
      "repeation: 5 funcão objetivo: 197.971014292801\n",
      "Modified partition coefficient: 0.12867903898706567,  adjusted_rand_score: 0.3874735950412212\n",
      "repeation: 6 funcão objetivo: 197.97164924340422\n",
      "Modified partition coefficient: 0.12867738618741043,  adjusted_rand_score: 0.3874735950412212\n",
      "repeation: 7 funcão objetivo: 197.9723220322176\n",
      "Modified partition coefficient: 0.12867566805870045,  adjusted_rand_score: 0.3874735950412212\n",
      "repeation: 8 funcão objetivo: 197.97377906063357\n",
      "Modified partition coefficient: 0.1286719250962599,  adjusted_rand_score: 0.3874735950412212\n",
      "repeation: 9 funcão objetivo: 197.9706878258683\n",
      "Modified partition coefficient: 0.1286798814573321,  adjusted_rand_score: 0.3874735950412212\n",
      "repeation: 10 funcão objetivo: 197.970522258312\n",
      "Modified partition coefficient: 0.12868033585693417,  adjusted_rand_score: 0.3874735950412212\n",
      "repeation: 11 funcão objetivo: 197.97077402036055\n",
      "Modified partition coefficient: 0.12867966160459654,  adjusted_rand_score: 0.3874735950412212\n",
      "repeation: 12 funcão objetivo: 197.97016427985022\n",
      "Modified partition coefficient: 0.1286819717103035,  adjusted_rand_score: 0.38790943437916126\n",
      "repeation: 13 funcão objetivo: 209.11081771365158\n",
      "Modified partition coefficient: 0.10306334668012551,  adjusted_rand_score: 0.3189722263001158\n",
      "repeation: 14 funcão objetivo: 205.4694954311936\n",
      "Modified partition coefficient: 0.10805268730143502,  adjusted_rand_score: 0.2800597709687564\n",
      "repeation: 15 funcão objetivo: 197.97200364572032\n",
      "Modified partition coefficient: 0.1286765087916707,  adjusted_rand_score: 0.3874735950412212\n",
      "repeation: 16 funcão objetivo: 205.56568483475044\n",
      "Modified partition coefficient: 0.11019356783119993,  adjusted_rand_score: 0.33818329096599936\n",
      "repeation: 17 funcão objetivo: 209.11036079013792\n",
      "Modified partition coefficient: 0.10306496037832524,  adjusted_rand_score: 0.3185021739417296\n",
      "repeation: 18 funcão objetivo: 197.97104833755884\n",
      "Modified partition coefficient: 0.12867893770352867,  adjusted_rand_score: 0.3874735950412212\n",
      "repeation: 19 funcão objetivo: 209.1046572189029\n",
      "Modified partition coefficient: 0.10308422244063331,  adjusted_rand_score: 0.3183164093144239\n",
      "repeation: 20 funcão objetivo: 205.4694957433888\n",
      "Modified partition coefficient: 0.10805268478862373,  adjusted_rand_score: 0.29526546947931226\n",
      "repeation: 21 funcão objetivo: 197.97205614453281\n",
      "Modified partition coefficient: 0.12867641770441296,  adjusted_rand_score: 0.3874735950412212\n",
      "repeation: 22 funcão objetivo: 197.97062805352851\n",
      "Modified partition coefficient: 0.12868006854301384,  adjusted_rand_score: 0.3874735950412212\n",
      "repeation: 23 funcão objetivo: 197.97117810519535\n",
      "Modified partition coefficient: 0.12867859894306422,  adjusted_rand_score: 0.3874735950412212\n",
      "repeation: 24 funcão objetivo: 201.2690404291035\n",
      "Modified partition coefficient: 0.12158968472901932,  adjusted_rand_score: 0.36162365155551923\n",
      "repeation: 25 funcão objetivo: 205.57735806028728\n",
      "Modified partition coefficient: 0.11016830961684543,  adjusted_rand_score: 0.3386579186759299\n",
      "repeation: 26 funcão objetivo: 206.0723887020879\n",
      "Modified partition coefficient: 0.10912764509651574,  adjusted_rand_score: 0.3353506946401466\n",
      "repeation: 27 funcão objetivo: 197.97070533036757\n",
      "Modified partition coefficient: 0.1286798567293177,  adjusted_rand_score: 0.3874735950412212\n",
      "repeation: 28 funcão objetivo: 205.56288084918768\n",
      "Modified partition coefficient: 0.11019964206855937,  adjusted_rand_score: 0.33818329096599936\n",
      "repeation: 29 funcão objetivo: 205.56295971463265\n",
      "Modified partition coefficient: 0.11019947130783969,  adjusted_rand_score: 0.33818329096599936\n",
      "repeation: 30 funcão objetivo: 209.1083392951595\n",
      "Modified partition coefficient: 0.10307210477054574,  adjusted_rand_score: 0.3188794306885085\n",
      "repeation: 31 funcão objetivo: 197.97059767509094\n",
      "Modified partition coefficient: 0.12868010638509253,  adjusted_rand_score: 0.3874735950412212\n",
      "repeation: 32 funcão objetivo: 205.56635785332534\n",
      "Modified partition coefficient: 0.11019211027944165,  adjusted_rand_score: 0.33818329096599936\n",
      "repeation: 33 funcão objetivo: 197.97200744276356\n",
      "Modified partition coefficient: 0.12867661056096258,  adjusted_rand_score: 0.3874735950412212\n",
      "repeation: 34 funcão objetivo: 198.0131133674738\n",
      "Modified partition coefficient: 0.12857195000097899,  adjusted_rand_score: 0.3868589005689996\n",
      "repeation: 35 funcão objetivo: 209.10815391633636\n",
      "Modified partition coefficient: 0.1030727640566721,  adjusted_rand_score: 0.31824729070371943\n",
      "repeation: 36 funcão objetivo: 197.97717483992247\n",
      "Modified partition coefficient: 0.128663244384146,  adjusted_rand_score: 0.3874735950412212\n",
      "repeation: 37 funcão objetivo: 197.97053887479882\n",
      "Modified partition coefficient: 0.12868026084717066,  adjusted_rand_score: 0.3874735950412212\n",
      "repeation: 38 funcão objetivo: 209.12481648829333\n",
      "Modified partition coefficient: 0.10302683061362994,  adjusted_rand_score: 0.319632027325863\n",
      "repeation: 39 funcão objetivo: 197.97001154442134\n",
      "Modified partition coefficient: 0.1286825317239646,  adjusted_rand_score: 0.3883517961828603\n",
      "repeation: 40 funcão objetivo: 205.57369404859034\n",
      "Modified partition coefficient: 0.1101762328699788,  adjusted_rand_score: 0.3386579186759299\n",
      "repeation: 41 funcão objetivo: 213.20863342101597\n",
      "Modified partition coefficient: 0.09178041504875101,  adjusted_rand_score: 0.3443449704547959\n",
      "repeation: 42 funcão objetivo: 209.11094117046625\n",
      "Modified partition coefficient: 0.10306292168989717,  adjusted_rand_score: 0.3189722263001158\n",
      "repeation: 43 funcão objetivo: 197.97095101335128\n",
      "Modified partition coefficient: 0.1286792071155053,  adjusted_rand_score: 0.3874735950412212\n",
      "repeation: 44 funcão objetivo: 200.8802193950387\n",
      "Modified partition coefficient: 0.12216097666939851,  adjusted_rand_score: 0.36669797790694336\n",
      "repeation: 45 funcão objetivo: 197.97085591730954\n",
      "Modified partition coefficient: 0.12867945481434462,  adjusted_rand_score: 0.3874735950412212\n",
      "repeation: 46 funcão objetivo: 197.97223040543042\n",
      "Modified partition coefficient: 0.12867594903798596,  adjusted_rand_score: 0.3874735950412212\n",
      "repeation: 47 funcão objetivo: 205.60069751361863\n",
      "Modified partition coefficient: 0.11011793596607,  adjusted_rand_score: 0.3386579186759299\n",
      "repeation: 48 funcão objetivo: 197.9705597429828\n",
      "Modified partition coefficient: 0.12868044319383032,  adjusted_rand_score: 0.3874735950412212\n",
      "repeation: 49 funcão objetivo: 205.5627539964718\n",
      "Modified partition coefficient: 0.11019991692480702,  adjusted_rand_score: 0.33818329096599936\n",
      "repeation: 50 funcão objetivo: 209.10997581963187\n",
      "Modified partition coefficient: 0.10306634128028025,  adjusted_rand_score: 0.3178943964088271\n"
     ]
    }
   ],
   "source": [
    "cleaner = Cleaner()\n",
    "X, y = cleaner.read_dataset(\"datasets\\mfeat-fou\")\n",
    "X, y = cleaner.transform(X, y)\n",
    "\n",
    "model = Trainer(num_class = 10, \n",
    "                epochs = 100, \n",
    "                threshold = 1e-6, \n",
    "                model_creator=FuzzyCMeansGaussianS2, \n",
    "                m = m, \n",
    "                verbose = False, \n",
    "                repeat = 50)\n",
    "\n",
    "pipeline = Pipeline([(\"Normalizer\", Normalizer()), \n",
    "                     (\"Transformer\", Transformer()),                      \n",
    "                    (\"Model\", model)])\n",
    "pipeline.fit(X, y)\n",
    "model.save_model(f\"./model/{m}/mfeat-fou/model.json\")"
   ]
  },
  {
   "cell_type": "code",
   "execution_count": 24,
   "metadata": {},
   "outputs": [
    {
     "name": "stdout",
     "output_type": "stream",
     "text": [
      "Gs\n"
     ]
    },
    {
     "data": {
      "text/plain": [
       "<Figure size 1440x432 with 0 Axes>"
      ]
     },
     "metadata": {},
     "output_type": "display_data"
    },
    {
     "data": {
      "image/png": "[encoded data removed]",
      "text/plain": [
       "<Figure size 432x288 with 1 Axes>"
      ]
     },
     "metadata": {
      "needs_background": "light"
     },
     "output_type": "display_data"
    },
    {
     "name": "stdout",
     "output_type": "stream",
     "text": [
      "S2s\n"
     ]
    },
    {
     "data": {
      "text/plain": [
       "<Figure size 1440x432 with 0 Axes>"
      ]
     },
     "metadata": {},
     "output_type": "display_data"
    },
    {
     "data": {
      "image/png": "[encoded data removed]",
      "text/plain": [
       "<Figure size 432x288 with 1 Axes>"
      ]
     },
     "metadata": {
      "needs_background": "light"
     },
     "output_type": "display_data"
    }
   ],
   "source": [
    "model.show_G_S(\"./figs/mfeat-fou\")"
   ]
  },
  {
   "cell_type": "code",
   "execution_count": 25,
   "metadata": {},
   "outputs": [
    {
     "name": "stdout",
     "output_type": "stream",
     "text": [
      "Modified partition coefficient:  {0: 0.6247063576395628, 1: 0.031735062460791164, 2: 0.15056611914305562, 3: 0.026835208377586905, 4: 0.046362524570168095, 5: 0.06323272809021585, 6: 0.03844757363322826, 7: 0.12155316896288815, 8: 0.14189014298427027, 9: 0.03927491124587512}\n",
      "Índice de Rand corrigido: 0.3883517961828603\n"
     ]
    },
    {
     "data": {
      "text/plain": [
       "<sklearn.metrics._plot.confusion_matrix.ConfusionMatrixDisplay at 0x1795d720dd8>"
      ]
     },
     "execution_count": 25,
     "metadata": {},
     "output_type": "execute_result"
    },
    {
     "data": {
      "image/png": "[encoded data removed]",
      "text/plain": [
       "<Figure size 432x288 with 2 Axes>"
      ]
     },
     "metadata": {
      "needs_background": "light"
     },
     "output_type": "display_data"
    }
   ],
   "source": [
    "y_predict = pipeline.predict(X)\n",
    "\n",
    "mpcs = {i: Metrics.mpc(model.U[y==i]) for i in range(model.num_class)}\n",
    "\n",
    "print(f\"Modified partition coefficient:  {mpcs}\")# f,\n",
    "print(f\"Índice de Rand corrigido: {Metrics.ars(y, model.U.argmax(1))}\")# f,\n",
    "\n",
    "cm = confusion_matrix(y, y_predict)\n",
    "cmd = ConfusionMatrixDisplay(confusion_matrix=cm, display_labels=np.arange(model.num_class))\n",
    "cmd.plot()"
   ]
  },
  {
   "cell_type": "markdown",
   "metadata": {},
   "source": [
    "#### datasets -> mfeat-kar"
   ]
  },
  {
   "cell_type": "code",
   "execution_count": 26,
   "metadata": {},
   "outputs": [
    {
     "name": "stdout",
     "output_type": "stream",
     "text": [
      "repeation: 1 funcão objetivo: 812.1986598431927\n",
      "Modified partition coefficient: 0.021838863402657283,  adjusted_rand_score: 0.31596475420690184\n",
      "repeation: 2 funcão objetivo: 799.0856672501544\n",
      "Modified partition coefficient: 0.031665420308419456,  adjusted_rand_score: 0.4411685917102599\n",
      "repeation: 3 funcão objetivo: 807.7506426042157\n",
      "Modified partition coefficient: 0.025536333415626444,  adjusted_rand_score: 0.3358900651446454\n",
      "repeation: 4 funcão objetivo: 810.8040391370209\n",
      "Modified partition coefficient: 0.023176568980652124,  adjusted_rand_score: 0.35720720796079697\n",
      "repeation: 5 funcão objetivo: 803.0571794615041\n",
      "Modified partition coefficient: 0.028690270565497444,  adjusted_rand_score: 0.39927478484841494\n",
      "repeation: 6 funcão objetivo: 810.6909810163633\n",
      "Modified partition coefficient: 0.02319912011400649,  adjusted_rand_score: 0.35612497416490174\n",
      "repeation: 7 funcão objetivo: 813.5195425089312\n",
      "Modified partition coefficient: 0.020917432068806585,  adjusted_rand_score: 0.30199084166135354\n",
      "repeation: 8 funcão objetivo: 810.7085392059641\n",
      "Modified partition coefficient: 0.023194860043102783,  adjusted_rand_score: 0.35734052570668484\n",
      "repeation: 9 funcão objetivo: 812.7980478370011\n",
      "Modified partition coefficient: 0.021161772973462,  adjusted_rand_score: 0.292474106649899\n",
      "repeation: 10 funcão objetivo: 801.2438455900756\n",
      "Modified partition coefficient: 0.029107038971255883,  adjusted_rand_score: 0.3820374390445742\n",
      "repeation: 11 funcão objetivo: 798.8571870869451\n",
      "Modified partition coefficient: 0.03190274442778496,  adjusted_rand_score: 0.43884157714396754\n",
      "repeation: 12 funcão objetivo: 813.1056984468651\n",
      "Modified partition coefficient: 0.0220251560257827,  adjusted_rand_score: 0.35417146301542207\n",
      "repeation: 13 funcão objetivo: 812.5913851979417\n",
      "Modified partition coefficient: 0.022589631082740258,  adjusted_rand_score: 0.3785467924206081\n",
      "repeation: 14 funcão objetivo: 799.706348765221\n",
      "Modified partition coefficient: 0.031159513426866292,  adjusted_rand_score: 0.4604562465821029\n",
      "repeation: 15 funcão objetivo: 807.5920529633869\n",
      "Modified partition coefficient: 0.025750260716016937,  adjusted_rand_score: 0.3353410093352431\n",
      "repeation: 16 funcão objetivo: 812.2708183611014\n",
      "Modified partition coefficient: 0.022616272605518573,  adjusted_rand_score: 0.38069114478978267\n",
      "repeation: 17 funcão objetivo: 812.2463717233992\n",
      "Modified partition coefficient: 0.022633958940594168,  adjusted_rand_score: 0.3807483229439872\n",
      "repeation: 18 funcão objetivo: 799.7040437800835\n",
      "Modified partition coefficient: 0.0314845162533699,  adjusted_rand_score: 0.4372777877265981\n",
      "repeation: 19 funcão objetivo: 808.5129783395232\n",
      "Modified partition coefficient: 0.018990737009283998,  adjusted_rand_score: 0.2704933357920389\n",
      "repeation: 20 funcão objetivo: 813.1408321892502\n",
      "Modified partition coefficient: 0.021990458099677368,  adjusted_rand_score: 0.35386648190769937\n",
      "repeation: 21 funcão objetivo: 811.9064547523305\n",
      "Modified partition coefficient: 0.02206765287040713,  adjusted_rand_score: 0.31219440204071436\n",
      "repeation: 22 funcão objetivo: 799.003290037512\n",
      "Modified partition coefficient: 0.03172425467056894,  adjusted_rand_score: 0.4399069877213017\n",
      "repeation: 23 funcão objetivo: 804.7426847843304\n",
      "Modified partition coefficient: 0.027905154534082044,  adjusted_rand_score: 0.385854116949905\n",
      "repeation: 24 funcão objetivo: 804.9419588444101\n",
      "Modified partition coefficient: 0.027720798122955803,  adjusted_rand_score: 0.38458155306153186\n",
      "repeation: 25 funcão objetivo: 812.2917515206259\n",
      "Modified partition coefficient: 0.022622284734147846,  adjusted_rand_score: 0.38220543524842\n",
      "repeation: 26 funcão objetivo: 812.2828908313098\n",
      "Modified partition coefficient: 0.022586342494079648,  adjusted_rand_score: 0.38241603339671637\n",
      "repeation: 27 funcão objetivo: 811.2597047342134\n",
      "Modified partition coefficient: 0.022602061119517236,  adjusted_rand_score: 0.31512695537091306\n",
      "repeation: 28 funcão objetivo: 804.202127927877\n",
      "Modified partition coefficient: 0.028598548338824248,  adjusted_rand_score: 0.4403106680887796\n",
      "repeation: 29 funcão objetivo: 812.3225652172082\n",
      "Modified partition coefficient: 0.022609817113506625,  adjusted_rand_score: 0.3799089274255922\n",
      "repeation: 30 funcão objetivo: 803.8215319702797\n",
      "Modified partition coefficient: 0.028483216036925607,  adjusted_rand_score: 0.4007830022291668\n",
      "repeation: 31 funcão objetivo: 819.2194644410489\n",
      "Modified partition coefficient: 0.016054157359022936,  adjusted_rand_score: 0.36062522538805863\n",
      "repeation: 32 funcão objetivo: 799.4757831302118\n",
      "Modified partition coefficient: 0.03177704853134011,  adjusted_rand_score: 0.43674414950414264\n",
      "repeation: 33 funcão objetivo: 810.5617767779625\n",
      "Modified partition coefficient: 0.023225973908261532,  adjusted_rand_score: 0.3576968304840526\n",
      "repeation: 34 funcão objetivo: 803.3184762151523\n",
      "Modified partition coefficient: 0.028238600963133575,  adjusted_rand_score: 0.3744354460326136\n",
      "repeation: 35 funcão objetivo: 804.3113379265358\n",
      "Modified partition coefficient: 0.028293207888651417,  adjusted_rand_score: 0.3843507809597821\n",
      "repeation: 36 funcão objetivo: 812.119422343384\n",
      "Modified partition coefficient: 0.021925231575438353,  adjusted_rand_score: 0.3071333505236448\n",
      "repeation: 37 funcão objetivo: 813.6490647532046\n",
      "Modified partition coefficient: 0.021740926302894703,  adjusted_rand_score: 0.3366031200409175\n",
      "repeation: 38 funcão objetivo: 811.9236560772325\n",
      "Modified partition coefficient: 0.022918164157735843,  adjusted_rand_score: 0.37678809516341705\n",
      "repeation: 39 funcão objetivo: 805.3613925727017\n",
      "Modified partition coefficient: 0.026457470903081703,  adjusted_rand_score: 0.32385586152971757\n",
      "repeation: 40 funcão objetivo: 803.2809283642612\n",
      "Modified partition coefficient: 0.028276169757031178,  adjusted_rand_score: 0.3743718308974706\n",
      "repeation: 41 funcão objetivo: 804.467620364938\n",
      "Modified partition coefficient: 0.028244557710944918,  adjusted_rand_score: 0.4095284374225064\n",
      "repeation: 42 funcão objetivo: 807.6282222083884\n",
      "Modified partition coefficient: 0.025797924746485346,  adjusted_rand_score: 0.33687718798289334\n",
      "repeation: 43 funcão objetivo: 810.7182237325883\n",
      "Modified partition coefficient: 0.023162388215667518,  adjusted_rand_score: 0.3584818003761828\n",
      "repeation: 44 funcão objetivo: 803.3736074570264\n",
      "Modified partition coefficient: 0.029320175158273676,  adjusted_rand_score: 0.44865167929373556\n",
      "repeation: 45 funcão objetivo: 804.4624436557765\n",
      "Modified partition coefficient: 0.02824608204972967,  adjusted_rand_score: 0.40694873237716234\n",
      "repeation: 46 funcão objetivo: 810.5528740585265\n",
      "Modified partition coefficient: 0.023220726056397134,  adjusted_rand_score: 0.35824292457588325\n",
      "repeation: 47 funcão objetivo: 803.8551215772457\n",
      "Modified partition coefficient: 0.028665949222508758,  adjusted_rand_score: 0.37979077492237073\n",
      "repeation: 48 funcão objetivo: 805.3431623976389\n",
      "Modified partition coefficient: 0.02655324139973181,  adjusted_rand_score: 0.323919345751849\n",
      "repeation: 49 funcão objetivo: 803.5119582630355\n",
      "Modified partition coefficient: 0.02920364833412481,  adjusted_rand_score: 0.44640443350472203\n",
      "repeation: 50 funcão objetivo: 812.2560945983646\n",
      "Modified partition coefficient: 0.02262994521436279,  adjusted_rand_score: 0.38070679163682813\n"
     ]
    }
   ],
   "source": [
    "cleaner = Cleaner()\n",
    "X, y = cleaner.read_dataset(\"datasets\\mfeat-kar\")\n",
    "X, y = cleaner.transform(X, y)\n",
    "X, y = Cleaner().transform(X, y)\n",
    "\n",
    "model = Trainer(num_class = 10, \n",
    "                epochs = 100, \n",
    "                threshold = 1e-6, \n",
    "                model_creator=FuzzyCMeansGaussianS2, \n",
    "                m = m, \n",
    "                verbose = False, \n",
    "                repeat = 50)\n",
    "pipeline = Pipeline([(\"Normalizer\", Normalizer()), \n",
    "                     (\"Transformer\", Transformer()),                      \n",
    "                    (\"Model\", model)])\n",
    "pipeline.fit(X, y)\n",
    "model.save_model(f\"./model/{m}/mfeat-kar/model.json\")\n"
   ]
  },
  {
   "cell_type": "code",
   "execution_count": 27,
   "metadata": {},
   "outputs": [
    {
     "name": "stdout",
     "output_type": "stream",
     "text": [
      "Gs\n"
     ]
    },
    {
     "data": {
      "text/plain": [
       "<Figure size 1440x432 with 0 Axes>"
      ]
     },
     "metadata": {},
     "output_type": "display_data"
    },
    {
     "data": {
      "image/png": "[encoded data removed]",
      "text/plain": [
       "<Figure size 432x288 with 1 Axes>"
      ]
     },
     "metadata": {
      "needs_background": "light"
     },
     "output_type": "display_data"
    },
    {
     "name": "stdout",
     "output_type": "stream",
     "text": [
      "S2s\n"
     ]
    },
    {
     "data": {
      "text/plain": [
       "<Figure size 1440x432 with 0 Axes>"
      ]
     },
     "metadata": {},
     "output_type": "display_data"
    },
    {
     "data": {
      "image/png": "[encoded data removed]",
      "text/plain": [
       "<Figure size 432x288 with 1 Axes>"
      ]
     },
     "metadata": {
      "needs_background": "light"
     },
     "output_type": "display_data"
    }
   ],
   "source": [
    "model.show_G_S(\"./figs/mfeat-kar\")"
   ]
  },
  {
   "cell_type": "code",
   "execution_count": 28,
   "metadata": {},
   "outputs": [
    {
     "name": "stdout",
     "output_type": "stream",
     "text": [
      "Modified partition coefficient:  {0: 0.06071963355759624, 1: 0.057023736109331646, 2: 0.0024900474584519383, 3: 0.0302673774884491, 4: 0.016069368671210893, 5: 0.007972308038399212, 6: 0.02277040637263772, 7: 0.0950611036861777, 8: 0.010665848470181927, 9: 0.016004763921981136}\n",
      "Índice de Rand corrigido: 0.43884157714396754\n"
     ]
    },
    {
     "data": {
      "text/plain": [
       "<sklearn.metrics._plot.confusion_matrix.ConfusionMatrixDisplay at 0x1795c4d84e0>"
      ]
     },
     "execution_count": 28,
     "metadata": {},
     "output_type": "execute_result"
    },
    {
     "data": {
      "image/png": "[encoded data removed]",
      "text/plain": [
       "<Figure size 432x288 with 2 Axes>"
      ]
     },
     "metadata": {
      "needs_background": "light"
     },
     "output_type": "display_data"
    }
   ],
   "source": [
    "y_predict = pipeline.predict(X)\n",
    "\n",
    "mpcs = {i: Metrics.mpc(model.U[y==i]) for i in range(model.num_class)}\n",
    "\n",
    "print(f\"Modified partition coefficient:  {mpcs}\")# f,\n",
    "print(f\"Índice de Rand corrigido: {Metrics.ars(y, model.U.argmax(1))}\")# f,\n",
    "\n",
    "cm = confusion_matrix(y, y_predict)\n",
    "cmd = ConfusionMatrixDisplay(confusion_matrix=cm, display_labels=np.arange(model.num_class))\n",
    "cmd.plot()"
   ]
  },
  {
   "cell_type": "markdown",
   "metadata": {},
   "source": [
    "#### datasets -> iris"
   ]
  },
  {
   "cell_type": "code",
   "execution_count": 29,
   "metadata": {},
   "outputs": [
    {
     "name": "stdout",
     "output_type": "stream",
     "text": [
      "repeation: 1 funcão objetivo: 0.3699561591379164\n",
      "Modified partition coefficient: 0.8442159049248361,  adjusted_rand_score: 0.9035691663683182\n",
      "repeation: 2 funcão objetivo: 0.36995615730447495\n",
      "Modified partition coefficient: 0.8442158104722256,  adjusted_rand_score: 0.9035691663683182\n",
      "repeation: 3 funcão objetivo: 0.5234724341078217\n",
      "Modified partition coefficient: 0.8920311744531215,  adjusted_rand_score: 0.443540461316264\n",
      "repeation: 4 funcão objetivo: 0.5234728190639819\n",
      "Modified partition coefficient: 0.8920192007906387,  adjusted_rand_score: 0.443540461316264\n",
      "repeation: 5 funcão objetivo: 0.5234484703973107\n",
      "Modified partition coefficient: 0.8919155961468139,  adjusted_rand_score: 0.44202390519997947\n",
      "repeation: 6 funcão objetivo: 0.3699558304203053\n",
      "Modified partition coefficient: 0.8442117590270616,  adjusted_rand_score: 0.9035691663683182\n",
      "repeation: 7 funcão objetivo: 0.3699617131724778\n",
      "Modified partition coefficient: 0.8442360148902243,  adjusted_rand_score: 0.9035691663683182\n",
      "repeation: 8 funcão objetivo: 0.36995601675382905\n",
      "Modified partition coefficient: 0.844215547342405,  adjusted_rand_score: 0.9035691663683182\n",
      "repeation: 9 funcão objetivo: 0.369955258197776\n",
      "Modified partition coefficient: 0.8442087729348742,  adjusted_rand_score: 0.9035691663683182\n",
      "repeation: 10 funcão objetivo: 0.5234700454529906\n",
      "Modified partition coefficient: 0.8918871944562241,  adjusted_rand_score: 0.44202390519997947\n",
      "repeation: 11 funcão objetivo: 0.3699561007870147\n",
      "Modified partition coefficient: 0.8442159549369677,  adjusted_rand_score: 0.9035691663683182\n",
      "repeation: 12 funcão objetivo: 0.3699559170488221\n",
      "Modified partition coefficient: 0.8442106302947536,  adjusted_rand_score: 0.9035691663683182\n",
      "repeation: 13 funcão objetivo: 0.36995593517482506\n",
      "Modified partition coefficient: 0.8442150571557041,  adjusted_rand_score: 0.9035691663683182\n",
      "repeation: 14 funcão objetivo: 0.5234730063557455\n",
      "Modified partition coefficient: 0.8920362184062304,  adjusted_rand_score: 0.443540461316264\n",
      "repeation: 15 funcão objetivo: 0.36995483549999547\n",
      "Modified partition coefficient: 0.8442097868436669,  adjusted_rand_score: 0.9035691663683182\n",
      "repeation: 16 funcão objetivo: 0.5236100884712159\n",
      "Modified partition coefficient: 0.8897553907865119,  adjusted_rand_score: 0.4402890779469307\n",
      "repeation: 17 funcão objetivo: 0.3699552942686541\n",
      "Modified partition coefficient: 0.8442109529870667,  adjusted_rand_score: 0.9035691663683182\n",
      "repeation: 18 funcão objetivo: 0.5234720602844373\n",
      "Modified partition coefficient: 0.8920315431934598,  adjusted_rand_score: 0.443540461316264\n",
      "repeation: 19 funcão objetivo: 0.5234727571125194\n",
      "Modified partition coefficient: 0.8920376939641854,  adjusted_rand_score: 0.443540461316264\n",
      "repeation: 20 funcão objetivo: 0.3699536207602352\n",
      "Modified partition coefficient: 0.8442045163178031,  adjusted_rand_score: 0.9035691663683182\n",
      "repeation: 21 funcão objetivo: 0.5234730459470857\n",
      "Modified partition coefficient: 0.8920411392441265,  adjusted_rand_score: 0.443540461316264\n",
      "repeation: 22 funcão objetivo: 0.36995590720722255\n",
      "Modified partition coefficient: 0.8442104279680915,  adjusted_rand_score: 0.9035691663683182\n",
      "repeation: 23 funcão objetivo: 0.5234689405776151\n",
      "Modified partition coefficient: 0.8918809866108546,  adjusted_rand_score: 0.44202390519997947\n",
      "repeation: 24 funcão objetivo: 0.3699549954677555\n",
      "Modified partition coefficient: 0.8442099274305592,  adjusted_rand_score: 0.9035691663683182\n",
      "repeation: 25 funcão objetivo: 0.3699555564181838\n",
      "Modified partition coefficient: 0.8442112857333781,  adjusted_rand_score: 0.9035691663683182\n",
      "repeation: 26 funcão objetivo: 0.36995563579293445\n",
      "Modified partition coefficient: 0.8442105118941134,  adjusted_rand_score: 0.9035691663683182\n",
      "repeation: 27 funcão objetivo: 0.36995560558989454\n",
      "Modified partition coefficient: 0.8442121545859598,  adjusted_rand_score: 0.9035691663683182\n",
      "repeation: 28 funcão objetivo: 0.5234727220137405\n",
      "Modified partition coefficient: 0.8920395035166353,  adjusted_rand_score: 0.443540461316264\n",
      "repeation: 29 funcão objetivo: 0.5234663734801923\n",
      "Modified partition coefficient: 0.8916423274161014,  adjusted_rand_score: 0.44202390519997947\n",
      "repeation: 30 funcão objetivo: 0.523472013092064\n",
      "Modified partition coefficient: 0.8920404338258765,  adjusted_rand_score: 0.443540461316264\n",
      "repeation: 31 funcão objetivo: 0.523472061708423\n",
      "Modified partition coefficient: 0.8920410626271607,  adjusted_rand_score: 0.443540461316264\n",
      "repeation: 32 funcão objetivo: 0.5234694642808936\n",
      "Modified partition coefficient: 0.8919263131454647,  adjusted_rand_score: 0.44202390519997947\n",
      "repeation: 33 funcão objetivo: 0.5234730614194375\n",
      "Modified partition coefficient: 0.8920394320304434,  adjusted_rand_score: 0.443540461316264\n",
      "repeation: 34 funcão objetivo: 0.369955713597252\n",
      "Modified partition coefficient: 0.8442142144731741,  adjusted_rand_score: 0.9035691663683182\n",
      "repeation: 35 funcão objetivo: 0.36995541914625824\n",
      "Modified partition coefficient: 0.8442086665643302,  adjusted_rand_score: 0.9035691663683182\n",
      "repeation: 36 funcão objetivo: 0.36995568974020576\n",
      "Modified partition coefficient: 0.8442139334136151,  adjusted_rand_score: 0.9035691663683182\n",
      "repeation: 37 funcão objetivo: 0.36995374550972826\n",
      "Modified partition coefficient: 0.8442045798955211,  adjusted_rand_score: 0.9035691663683182\n",
      "repeation: 38 funcão objetivo: 0.3699568982208592\n",
      "Modified partition coefficient: 0.844218774098077,  adjusted_rand_score: 0.9035691663683182\n",
      "repeation: 39 funcão objetivo: 0.5234727337823835\n",
      "Modified partition coefficient: 0.8920311434330814,  adjusted_rand_score: 0.443540461316264\n",
      "repeation: 40 funcão objetivo: 0.5234726123704241\n",
      "Modified partition coefficient: 0.8920496791692263,  adjusted_rand_score: 0.443540461316264\n",
      "repeation: 41 funcão objetivo: 0.523469571222145\n",
      "Modified partition coefficient: 0.8919065256366514,  adjusted_rand_score: 0.44202390519997947\n",
      "repeation: 42 funcão objetivo: 0.5234753888875047\n",
      "Modified partition coefficient: 0.8921384705505355,  adjusted_rand_score: 0.443540461316264\n",
      "repeation: 43 funcão objetivo: 0.5234692154682998\n",
      "Modified partition coefficient: 0.8917896148713506,  adjusted_rand_score: 0.44202390519997947\n",
      "repeation: 44 funcão objetivo: 0.36995577905344346\n",
      "Modified partition coefficient: 0.8442144837370491,  adjusted_rand_score: 0.9035691663683182\n",
      "repeation: 45 funcão objetivo: 0.3699553102907346\n",
      "Modified partition coefficient: 0.8442118799284872,  adjusted_rand_score: 0.9035691663683182\n",
      "repeation: 46 funcão objetivo: 0.3699548113371838\n",
      "Modified partition coefficient: 0.8442039727800192,  adjusted_rand_score: 0.9035691663683182\n",
      "repeation: 47 funcão objetivo: 0.5234717849583322\n",
      "Modified partition coefficient: 0.8920093938062372,  adjusted_rand_score: 0.443540461316264\n",
      "repeation: 48 funcão objetivo: 0.36995579146962365\n",
      "Modified partition coefficient: 0.8442117076369824,  adjusted_rand_score: 0.9035691663683182\n",
      "repeation: 49 funcão objetivo: 0.36995612119598525\n",
      "Modified partition coefficient: 0.8442131544664973,  adjusted_rand_score: 0.9035691663683182\n",
      "repeation: 50 funcão objetivo: 0.36995570703288105\n",
      "Modified partition coefficient: 0.8442098011266338,  adjusted_rand_score: 0.9035691663683182\n"
     ]
    }
   ],
   "source": [
    "iris = datasets.load_iris()\n",
    "X = pd.DataFrame(iris.data)\n",
    "y = pd.DataFrame({len(X.columns.values):iris.target})\n",
    "X, y = Cleaner().transform(X, y)\n",
    "\n",
    "model = Trainer(num_class = 3, \n",
    "                epochs = 100, \n",
    "                threshold = 1e-6, \n",
    "                model_creator=FuzzyCMeansGaussianS2, \n",
    "                m = m, \n",
    "                verbose = False, \n",
    "                repeat = 50)\n",
    " \n",
    "pipeline = Pipeline([(\"Normalizer\", Normalizer()), \n",
    "                     (\"Transformer\", Transformer()),                      \n",
    "                    (\"Model\", model),\n",
    "                    ])\n",
    "\n",
    "pipeline.fit(X, y)\n",
    "model.save_model(f\"./model/{m}/iris/model.json\")\n",
    "y_predict = pipeline.predict(X)\n"
   ]
  },
  {
   "cell_type": "code",
   "execution_count": 30,
   "metadata": {},
   "outputs": [],
   "source": [
    "new_model = Model()\n",
    "new_model.load_model(\"model/iris/model.json\")\n",
    "y_predict = new_model.predict(X, True)#.shape, X.shape\n"
   ]
  },
  {
   "cell_type": "code",
   "execution_count": 31,
   "metadata": {},
   "outputs": [
    {
     "name": "stdout",
     "output_type": "stream",
     "text": [
      "Gs\n"
     ]
    },
    {
     "data": {
      "text/plain": [
       "<Figure size 1440x432 with 0 Axes>"
      ]
     },
     "metadata": {},
     "output_type": "display_data"
    },
    {
     "data": {
      "image/png": "[encoded data removed]",
      "text/plain": [
       "<Figure size 432x288 with 1 Axes>"
      ]
     },
     "metadata": {
      "needs_background": "light"
     },
     "output_type": "display_data"
    },
    {
     "name": "stdout",
     "output_type": "stream",
     "text": [
      "S2s\n"
     ]
    },
    {
     "data": {
      "text/plain": [
       "<Figure size 1440x432 with 0 Axes>"
      ]
     },
     "metadata": {},
     "output_type": "display_data"
    },
    {
     "data": {
      "image/png": "[encoded data removed]",
      "text/plain": [
       "<Figure size 432x288 with 1 Axes>"
      ]
     },
     "metadata": {
      "needs_background": "light"
     },
     "output_type": "display_data"
    }
   ],
   "source": [
    "model.show_G_S(\"figs/iris\")"
   ]
  },
  {
   "cell_type": "code",
   "execution_count": 32,
   "metadata": {},
   "outputs": [
    {
     "name": "stdout",
     "output_type": "stream",
     "text": [
      "Modified partition coefficient:  {0: 0.987827636245511, 1: 0.7805118186916702, 2: 0.7626428609080327}\n",
      "Índice de Rand corrigido: 0.9035691663683182\n"
     ]
    },
    {
     "data": {
      "text/plain": [
       "<sklearn.metrics._plot.confusion_matrix.ConfusionMatrixDisplay at 0x1795dc99a58>"
      ]
     },
     "execution_count": 32,
     "metadata": {},
     "output_type": "execute_result"
    },
    {
     "data": {
      "image/png": "[encoded data removed]",
      "text/plain": [
       "<Figure size 432x288 with 2 Axes>"
      ]
     },
     "metadata": {
      "needs_background": "light"
     },
     "output_type": "display_data"
    }
   ],
   "source": [
    "y_predict = pipeline.predict(X) #(2000) <= (2000, 200)\n",
    "\n",
    "mpcs = {i: Metrics.mpc(model.U[y==i]) for i in range(model.num_class)}\n",
    "\n",
    "print(f\"Modified partition coefficient:  {mpcs}\")# f,\n",
    "print(f\"Índice de Rand corrigido: {Metrics.ars(y, model.U.argmax(1))}\")# f,\n",
    "\n",
    "cm = confusion_matrix(y, y_predict)\n",
    "cmd = ConfusionMatrixDisplay(confusion_matrix=cm, display_labels=np.arange(model.num_class))\n",
    "cmd.plot()"
   ]
  }
 ],
 "metadata": {
  "kernelspec": {
   "display_name": "seg",
   "language": "python",
   "name": "python3"
  },
  "language_info": {
   "codemirror_mode": {
    "name": "ipython",
    "version": 3
   },
   "file_extension": ".py",
   "mimetype": "text/x-python",
   "name": "python",
   "nbconvert_exporter": "python",
   "pygments_lexer": "ipython3",
   "version": "3.6.13"
  },
  "orig_nbformat": 4
 },
 "nbformat": 4,
 "nbformat_minor": 2
}
